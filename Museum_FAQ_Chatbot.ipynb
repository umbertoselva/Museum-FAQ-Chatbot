{
  "nbformat": 4,
  "nbformat_minor": 0,
  "metadata": {
    "colab": {
      "name": "Museum-FAQ-Chatbot.ipynb",
      "provenance": [],
      "collapsed_sections": [],
      "toc_visible": true,
      "authorship_tag": "ABX9TyOWv2KfQ57UenvdIN/KsDjt",
      "include_colab_link": true
    },
    "kernelspec": {
      "name": "python3",
      "display_name": "Python 3"
    },
    "language_info": {
      "name": "python"
    },
    "widgets": {
      "application/vnd.jupyter.widget-state+json": {
        "304043eb5f3c4ff4b00899534ad12639": {
          "model_module": "@jupyter-widgets/controls",
          "model_name": "HBoxModel",
          "model_module_version": "1.5.0",
          "state": {
            "_dom_classes": [],
            "_model_module": "@jupyter-widgets/controls",
            "_model_module_version": "1.5.0",
            "_model_name": "HBoxModel",
            "_view_count": null,
            "_view_module": "@jupyter-widgets/controls",
            "_view_module_version": "1.5.0",
            "_view_name": "HBoxView",
            "box_style": "",
            "children": [
              "IPY_MODEL_f8fecf5155f244beb4e355dcebebaa57",
              "IPY_MODEL_111a096b5e764af7a579dbde6ad54a1d",
              "IPY_MODEL_75c0cbda0e524a78b19c253225cd5914"
            ],
            "layout": "IPY_MODEL_a766f5dd57064680b3099da859d47396"
          }
        },
        "f8fecf5155f244beb4e355dcebebaa57": {
          "model_module": "@jupyter-widgets/controls",
          "model_name": "HTMLModel",
          "model_module_version": "1.5.0",
          "state": {
            "_dom_classes": [],
            "_model_module": "@jupyter-widgets/controls",
            "_model_module_version": "1.5.0",
            "_model_name": "HTMLModel",
            "_view_count": null,
            "_view_module": "@jupyter-widgets/controls",
            "_view_module_version": "1.5.0",
            "_view_name": "HTMLView",
            "description": "",
            "description_tooltip": null,
            "layout": "IPY_MODEL_e3b4bc17e55944848c199d8d35acfa5e",
            "placeholder": "​",
            "style": "IPY_MODEL_a4294e90a27e4e4b884982ed04eec757",
            "value": "Downloading: 100%"
          }
        },
        "111a096b5e764af7a579dbde6ad54a1d": {
          "model_module": "@jupyter-widgets/controls",
          "model_name": "FloatProgressModel",
          "model_module_version": "1.5.0",
          "state": {
            "_dom_classes": [],
            "_model_module": "@jupyter-widgets/controls",
            "_model_module_version": "1.5.0",
            "_model_name": "FloatProgressModel",
            "_view_count": null,
            "_view_module": "@jupyter-widgets/controls",
            "_view_module_version": "1.5.0",
            "_view_name": "ProgressView",
            "bar_style": "success",
            "description": "",
            "description_tooltip": null,
            "layout": "IPY_MODEL_36f437afe87a4f9eb7d6e70e79a7c19c",
            "max": 1175,
            "min": 0,
            "orientation": "horizontal",
            "style": "IPY_MODEL_6c3e027da0b447dea573683bd50cf2ba",
            "value": 1175
          }
        },
        "75c0cbda0e524a78b19c253225cd5914": {
          "model_module": "@jupyter-widgets/controls",
          "model_name": "HTMLModel",
          "model_module_version": "1.5.0",
          "state": {
            "_dom_classes": [],
            "_model_module": "@jupyter-widgets/controls",
            "_model_module_version": "1.5.0",
            "_model_name": "HTMLModel",
            "_view_count": null,
            "_view_module": "@jupyter-widgets/controls",
            "_view_module_version": "1.5.0",
            "_view_name": "HTMLView",
            "description": "",
            "description_tooltip": null,
            "layout": "IPY_MODEL_0c14ff1d394e4459b786f1a55589a3b4",
            "placeholder": "​",
            "style": "IPY_MODEL_5344dac3bcc4449a829a7abe7038afe2",
            "value": " 1.18k/1.18k [00:00&lt;00:00, 10.1kB/s]"
          }
        },
        "a766f5dd57064680b3099da859d47396": {
          "model_module": "@jupyter-widgets/base",
          "model_name": "LayoutModel",
          "model_module_version": "1.2.0",
          "state": {
            "_model_module": "@jupyter-widgets/base",
            "_model_module_version": "1.2.0",
            "_model_name": "LayoutModel",
            "_view_count": null,
            "_view_module": "@jupyter-widgets/base",
            "_view_module_version": "1.2.0",
            "_view_name": "LayoutView",
            "align_content": null,
            "align_items": null,
            "align_self": null,
            "border": null,
            "bottom": null,
            "display": null,
            "flex": null,
            "flex_flow": null,
            "grid_area": null,
            "grid_auto_columns": null,
            "grid_auto_flow": null,
            "grid_auto_rows": null,
            "grid_column": null,
            "grid_gap": null,
            "grid_row": null,
            "grid_template_areas": null,
            "grid_template_columns": null,
            "grid_template_rows": null,
            "height": null,
            "justify_content": null,
            "justify_items": null,
            "left": null,
            "margin": null,
            "max_height": null,
            "max_width": null,
            "min_height": null,
            "min_width": null,
            "object_fit": null,
            "object_position": null,
            "order": null,
            "overflow": null,
            "overflow_x": null,
            "overflow_y": null,
            "padding": null,
            "right": null,
            "top": null,
            "visibility": null,
            "width": null
          }
        },
        "e3b4bc17e55944848c199d8d35acfa5e": {
          "model_module": "@jupyter-widgets/base",
          "model_name": "LayoutModel",
          "model_module_version": "1.2.0",
          "state": {
            "_model_module": "@jupyter-widgets/base",
            "_model_module_version": "1.2.0",
            "_model_name": "LayoutModel",
            "_view_count": null,
            "_view_module": "@jupyter-widgets/base",
            "_view_module_version": "1.2.0",
            "_view_name": "LayoutView",
            "align_content": null,
            "align_items": null,
            "align_self": null,
            "border": null,
            "bottom": null,
            "display": null,
            "flex": null,
            "flex_flow": null,
            "grid_area": null,
            "grid_auto_columns": null,
            "grid_auto_flow": null,
            "grid_auto_rows": null,
            "grid_column": null,
            "grid_gap": null,
            "grid_row": null,
            "grid_template_areas": null,
            "grid_template_columns": null,
            "grid_template_rows": null,
            "height": null,
            "justify_content": null,
            "justify_items": null,
            "left": null,
            "margin": null,
            "max_height": null,
            "max_width": null,
            "min_height": null,
            "min_width": null,
            "object_fit": null,
            "object_position": null,
            "order": null,
            "overflow": null,
            "overflow_x": null,
            "overflow_y": null,
            "padding": null,
            "right": null,
            "top": null,
            "visibility": null,
            "width": null
          }
        },
        "a4294e90a27e4e4b884982ed04eec757": {
          "model_module": "@jupyter-widgets/controls",
          "model_name": "DescriptionStyleModel",
          "model_module_version": "1.5.0",
          "state": {
            "_model_module": "@jupyter-widgets/controls",
            "_model_module_version": "1.5.0",
            "_model_name": "DescriptionStyleModel",
            "_view_count": null,
            "_view_module": "@jupyter-widgets/base",
            "_view_module_version": "1.2.0",
            "_view_name": "StyleView",
            "description_width": ""
          }
        },
        "36f437afe87a4f9eb7d6e70e79a7c19c": {
          "model_module": "@jupyter-widgets/base",
          "model_name": "LayoutModel",
          "model_module_version": "1.2.0",
          "state": {
            "_model_module": "@jupyter-widgets/base",
            "_model_module_version": "1.2.0",
            "_model_name": "LayoutModel",
            "_view_count": null,
            "_view_module": "@jupyter-widgets/base",
            "_view_module_version": "1.2.0",
            "_view_name": "LayoutView",
            "align_content": null,
            "align_items": null,
            "align_self": null,
            "border": null,
            "bottom": null,
            "display": null,
            "flex": null,
            "flex_flow": null,
            "grid_area": null,
            "grid_auto_columns": null,
            "grid_auto_flow": null,
            "grid_auto_rows": null,
            "grid_column": null,
            "grid_gap": null,
            "grid_row": null,
            "grid_template_areas": null,
            "grid_template_columns": null,
            "grid_template_rows": null,
            "height": null,
            "justify_content": null,
            "justify_items": null,
            "left": null,
            "margin": null,
            "max_height": null,
            "max_width": null,
            "min_height": null,
            "min_width": null,
            "object_fit": null,
            "object_position": null,
            "order": null,
            "overflow": null,
            "overflow_x": null,
            "overflow_y": null,
            "padding": null,
            "right": null,
            "top": null,
            "visibility": null,
            "width": null
          }
        },
        "6c3e027da0b447dea573683bd50cf2ba": {
          "model_module": "@jupyter-widgets/controls",
          "model_name": "ProgressStyleModel",
          "model_module_version": "1.5.0",
          "state": {
            "_model_module": "@jupyter-widgets/controls",
            "_model_module_version": "1.5.0",
            "_model_name": "ProgressStyleModel",
            "_view_count": null,
            "_view_module": "@jupyter-widgets/base",
            "_view_module_version": "1.2.0",
            "_view_name": "StyleView",
            "bar_color": null,
            "description_width": ""
          }
        },
        "0c14ff1d394e4459b786f1a55589a3b4": {
          "model_module": "@jupyter-widgets/base",
          "model_name": "LayoutModel",
          "model_module_version": "1.2.0",
          "state": {
            "_model_module": "@jupyter-widgets/base",
            "_model_module_version": "1.2.0",
            "_model_name": "LayoutModel",
            "_view_count": null,
            "_view_module": "@jupyter-widgets/base",
            "_view_module_version": "1.2.0",
            "_view_name": "LayoutView",
            "align_content": null,
            "align_items": null,
            "align_self": null,
            "border": null,
            "bottom": null,
            "display": null,
            "flex": null,
            "flex_flow": null,
            "grid_area": null,
            "grid_auto_columns": null,
            "grid_auto_flow": null,
            "grid_auto_rows": null,
            "grid_column": null,
            "grid_gap": null,
            "grid_row": null,
            "grid_template_areas": null,
            "grid_template_columns": null,
            "grid_template_rows": null,
            "height": null,
            "justify_content": null,
            "justify_items": null,
            "left": null,
            "margin": null,
            "max_height": null,
            "max_width": null,
            "min_height": null,
            "min_width": null,
            "object_fit": null,
            "object_position": null,
            "order": null,
            "overflow": null,
            "overflow_x": null,
            "overflow_y": null,
            "padding": null,
            "right": null,
            "top": null,
            "visibility": null,
            "width": null
          }
        },
        "5344dac3bcc4449a829a7abe7038afe2": {
          "model_module": "@jupyter-widgets/controls",
          "model_name": "DescriptionStyleModel",
          "model_module_version": "1.5.0",
          "state": {
            "_model_module": "@jupyter-widgets/controls",
            "_model_module_version": "1.5.0",
            "_model_name": "DescriptionStyleModel",
            "_view_count": null,
            "_view_module": "@jupyter-widgets/base",
            "_view_module_version": "1.2.0",
            "_view_name": "StyleView",
            "description_width": ""
          }
        },
        "69804ddf1817442294706a5ce5425249": {
          "model_module": "@jupyter-widgets/controls",
          "model_name": "HBoxModel",
          "model_module_version": "1.5.0",
          "state": {
            "_dom_classes": [],
            "_model_module": "@jupyter-widgets/controls",
            "_model_module_version": "1.5.0",
            "_model_name": "HBoxModel",
            "_view_count": null,
            "_view_module": "@jupyter-widgets/controls",
            "_view_module_version": "1.5.0",
            "_view_name": "HBoxView",
            "box_style": "",
            "children": [
              "IPY_MODEL_7855ec787e8142d88d275d117a77586d",
              "IPY_MODEL_19673c0bb0e84daeaed49f6582f6c87f",
              "IPY_MODEL_bfd97979a1974871b867371e509c0676"
            ],
            "layout": "IPY_MODEL_174bdccbf7d6401c9a86a7128c0ae9c8"
          }
        },
        "7855ec787e8142d88d275d117a77586d": {
          "model_module": "@jupyter-widgets/controls",
          "model_name": "HTMLModel",
          "model_module_version": "1.5.0",
          "state": {
            "_dom_classes": [],
            "_model_module": "@jupyter-widgets/controls",
            "_model_module_version": "1.5.0",
            "_model_name": "HTMLModel",
            "_view_count": null,
            "_view_module": "@jupyter-widgets/controls",
            "_view_module_version": "1.5.0",
            "_view_name": "HTMLView",
            "description": "",
            "description_tooltip": null,
            "layout": "IPY_MODEL_c22f382acc804f548e0809bd12097d19",
            "placeholder": "​",
            "style": "IPY_MODEL_8c6154d6e8604eddbdeb8b8beaf0bd7c",
            "value": "Downloading: 100%"
          }
        },
        "19673c0bb0e84daeaed49f6582f6c87f": {
          "model_module": "@jupyter-widgets/controls",
          "model_name": "FloatProgressModel",
          "model_module_version": "1.5.0",
          "state": {
            "_dom_classes": [],
            "_model_module": "@jupyter-widgets/controls",
            "_model_module_version": "1.5.0",
            "_model_name": "FloatProgressModel",
            "_view_count": null,
            "_view_module": "@jupyter-widgets/controls",
            "_view_module_version": "1.5.0",
            "_view_name": "ProgressView",
            "bar_style": "success",
            "description": "",
            "description_tooltip": null,
            "layout": "IPY_MODEL_36c0748cdcb248bc997abb18598b3fa1",
            "max": 190,
            "min": 0,
            "orientation": "horizontal",
            "style": "IPY_MODEL_06c4a92daf0d4c81979df4b6874ce487",
            "value": 190
          }
        },
        "bfd97979a1974871b867371e509c0676": {
          "model_module": "@jupyter-widgets/controls",
          "model_name": "HTMLModel",
          "model_module_version": "1.5.0",
          "state": {
            "_dom_classes": [],
            "_model_module": "@jupyter-widgets/controls",
            "_model_module_version": "1.5.0",
            "_model_name": "HTMLModel",
            "_view_count": null,
            "_view_module": "@jupyter-widgets/controls",
            "_view_module_version": "1.5.0",
            "_view_name": "HTMLView",
            "description": "",
            "description_tooltip": null,
            "layout": "IPY_MODEL_41ba75d43e6346279a9a70feb6d2a853",
            "placeholder": "​",
            "style": "IPY_MODEL_607f2fc03a2f4a4dab4f4c21b2b5fb4c",
            "value": " 190/190 [00:00&lt;00:00, 2.85kB/s]"
          }
        },
        "174bdccbf7d6401c9a86a7128c0ae9c8": {
          "model_module": "@jupyter-widgets/base",
          "model_name": "LayoutModel",
          "model_module_version": "1.2.0",
          "state": {
            "_model_module": "@jupyter-widgets/base",
            "_model_module_version": "1.2.0",
            "_model_name": "LayoutModel",
            "_view_count": null,
            "_view_module": "@jupyter-widgets/base",
            "_view_module_version": "1.2.0",
            "_view_name": "LayoutView",
            "align_content": null,
            "align_items": null,
            "align_self": null,
            "border": null,
            "bottom": null,
            "display": null,
            "flex": null,
            "flex_flow": null,
            "grid_area": null,
            "grid_auto_columns": null,
            "grid_auto_flow": null,
            "grid_auto_rows": null,
            "grid_column": null,
            "grid_gap": null,
            "grid_row": null,
            "grid_template_areas": null,
            "grid_template_columns": null,
            "grid_template_rows": null,
            "height": null,
            "justify_content": null,
            "justify_items": null,
            "left": null,
            "margin": null,
            "max_height": null,
            "max_width": null,
            "min_height": null,
            "min_width": null,
            "object_fit": null,
            "object_position": null,
            "order": null,
            "overflow": null,
            "overflow_x": null,
            "overflow_y": null,
            "padding": null,
            "right": null,
            "top": null,
            "visibility": null,
            "width": null
          }
        },
        "c22f382acc804f548e0809bd12097d19": {
          "model_module": "@jupyter-widgets/base",
          "model_name": "LayoutModel",
          "model_module_version": "1.2.0",
          "state": {
            "_model_module": "@jupyter-widgets/base",
            "_model_module_version": "1.2.0",
            "_model_name": "LayoutModel",
            "_view_count": null,
            "_view_module": "@jupyter-widgets/base",
            "_view_module_version": "1.2.0",
            "_view_name": "LayoutView",
            "align_content": null,
            "align_items": null,
            "align_self": null,
            "border": null,
            "bottom": null,
            "display": null,
            "flex": null,
            "flex_flow": null,
            "grid_area": null,
            "grid_auto_columns": null,
            "grid_auto_flow": null,
            "grid_auto_rows": null,
            "grid_column": null,
            "grid_gap": null,
            "grid_row": null,
            "grid_template_areas": null,
            "grid_template_columns": null,
            "grid_template_rows": null,
            "height": null,
            "justify_content": null,
            "justify_items": null,
            "left": null,
            "margin": null,
            "max_height": null,
            "max_width": null,
            "min_height": null,
            "min_width": null,
            "object_fit": null,
            "object_position": null,
            "order": null,
            "overflow": null,
            "overflow_x": null,
            "overflow_y": null,
            "padding": null,
            "right": null,
            "top": null,
            "visibility": null,
            "width": null
          }
        },
        "8c6154d6e8604eddbdeb8b8beaf0bd7c": {
          "model_module": "@jupyter-widgets/controls",
          "model_name": "DescriptionStyleModel",
          "model_module_version": "1.5.0",
          "state": {
            "_model_module": "@jupyter-widgets/controls",
            "_model_module_version": "1.5.0",
            "_model_name": "DescriptionStyleModel",
            "_view_count": null,
            "_view_module": "@jupyter-widgets/base",
            "_view_module_version": "1.2.0",
            "_view_name": "StyleView",
            "description_width": ""
          }
        },
        "36c0748cdcb248bc997abb18598b3fa1": {
          "model_module": "@jupyter-widgets/base",
          "model_name": "LayoutModel",
          "model_module_version": "1.2.0",
          "state": {
            "_model_module": "@jupyter-widgets/base",
            "_model_module_version": "1.2.0",
            "_model_name": "LayoutModel",
            "_view_count": null,
            "_view_module": "@jupyter-widgets/base",
            "_view_module_version": "1.2.0",
            "_view_name": "LayoutView",
            "align_content": null,
            "align_items": null,
            "align_self": null,
            "border": null,
            "bottom": null,
            "display": null,
            "flex": null,
            "flex_flow": null,
            "grid_area": null,
            "grid_auto_columns": null,
            "grid_auto_flow": null,
            "grid_auto_rows": null,
            "grid_column": null,
            "grid_gap": null,
            "grid_row": null,
            "grid_template_areas": null,
            "grid_template_columns": null,
            "grid_template_rows": null,
            "height": null,
            "justify_content": null,
            "justify_items": null,
            "left": null,
            "margin": null,
            "max_height": null,
            "max_width": null,
            "min_height": null,
            "min_width": null,
            "object_fit": null,
            "object_position": null,
            "order": null,
            "overflow": null,
            "overflow_x": null,
            "overflow_y": null,
            "padding": null,
            "right": null,
            "top": null,
            "visibility": null,
            "width": null
          }
        },
        "06c4a92daf0d4c81979df4b6874ce487": {
          "model_module": "@jupyter-widgets/controls",
          "model_name": "ProgressStyleModel",
          "model_module_version": "1.5.0",
          "state": {
            "_model_module": "@jupyter-widgets/controls",
            "_model_module_version": "1.5.0",
            "_model_name": "ProgressStyleModel",
            "_view_count": null,
            "_view_module": "@jupyter-widgets/base",
            "_view_module_version": "1.2.0",
            "_view_name": "StyleView",
            "bar_color": null,
            "description_width": ""
          }
        },
        "41ba75d43e6346279a9a70feb6d2a853": {
          "model_module": "@jupyter-widgets/base",
          "model_name": "LayoutModel",
          "model_module_version": "1.2.0",
          "state": {
            "_model_module": "@jupyter-widgets/base",
            "_model_module_version": "1.2.0",
            "_model_name": "LayoutModel",
            "_view_count": null,
            "_view_module": "@jupyter-widgets/base",
            "_view_module_version": "1.2.0",
            "_view_name": "LayoutView",
            "align_content": null,
            "align_items": null,
            "align_self": null,
            "border": null,
            "bottom": null,
            "display": null,
            "flex": null,
            "flex_flow": null,
            "grid_area": null,
            "grid_auto_columns": null,
            "grid_auto_flow": null,
            "grid_auto_rows": null,
            "grid_column": null,
            "grid_gap": null,
            "grid_row": null,
            "grid_template_areas": null,
            "grid_template_columns": null,
            "grid_template_rows": null,
            "height": null,
            "justify_content": null,
            "justify_items": null,
            "left": null,
            "margin": null,
            "max_height": null,
            "max_width": null,
            "min_height": null,
            "min_width": null,
            "object_fit": null,
            "object_position": null,
            "order": null,
            "overflow": null,
            "overflow_x": null,
            "overflow_y": null,
            "padding": null,
            "right": null,
            "top": null,
            "visibility": null,
            "width": null
          }
        },
        "607f2fc03a2f4a4dab4f4c21b2b5fb4c": {
          "model_module": "@jupyter-widgets/controls",
          "model_name": "DescriptionStyleModel",
          "model_module_version": "1.5.0",
          "state": {
            "_model_module": "@jupyter-widgets/controls",
            "_model_module_version": "1.5.0",
            "_model_name": "DescriptionStyleModel",
            "_view_count": null,
            "_view_module": "@jupyter-widgets/base",
            "_view_module_version": "1.2.0",
            "_view_name": "StyleView",
            "description_width": ""
          }
        },
        "ce27ae3610014ff6b4e3a86b8198f3d1": {
          "model_module": "@jupyter-widgets/controls",
          "model_name": "HBoxModel",
          "model_module_version": "1.5.0",
          "state": {
            "_dom_classes": [],
            "_model_module": "@jupyter-widgets/controls",
            "_model_module_version": "1.5.0",
            "_model_name": "HBoxModel",
            "_view_count": null,
            "_view_module": "@jupyter-widgets/controls",
            "_view_module_version": "1.5.0",
            "_view_name": "HBoxView",
            "box_style": "",
            "children": [
              "IPY_MODEL_9fcf2376426140a8a51d755debfa492a",
              "IPY_MODEL_5c7c80650a39414ca2b3515237695421",
              "IPY_MODEL_4c91f747ff6b44caa86873e9d35f5b51"
            ],
            "layout": "IPY_MODEL_6a67b7f4591b4c6db56bfbccf6157c60"
          }
        },
        "9fcf2376426140a8a51d755debfa492a": {
          "model_module": "@jupyter-widgets/controls",
          "model_name": "HTMLModel",
          "model_module_version": "1.5.0",
          "state": {
            "_dom_classes": [],
            "_model_module": "@jupyter-widgets/controls",
            "_model_module_version": "1.5.0",
            "_model_name": "HTMLModel",
            "_view_count": null,
            "_view_module": "@jupyter-widgets/controls",
            "_view_module_version": "1.5.0",
            "_view_name": "HTMLView",
            "description": "",
            "description_tooltip": null,
            "layout": "IPY_MODEL_3cf3174698464672941774681d40c2e1",
            "placeholder": "​",
            "style": "IPY_MODEL_9b009dfb9a3145f483ef74e76280aef9",
            "value": "Downloading: 100%"
          }
        },
        "5c7c80650a39414ca2b3515237695421": {
          "model_module": "@jupyter-widgets/controls",
          "model_name": "FloatProgressModel",
          "model_module_version": "1.5.0",
          "state": {
            "_dom_classes": [],
            "_model_module": "@jupyter-widgets/controls",
            "_model_module_version": "1.5.0",
            "_model_name": "FloatProgressModel",
            "_view_count": null,
            "_view_module": "@jupyter-widgets/controls",
            "_view_module_version": "1.5.0",
            "_view_name": "ProgressView",
            "bar_style": "success",
            "description": "",
            "description_tooltip": null,
            "layout": "IPY_MODEL_0cd8a47fa4f649288c5cb0af0cbf9a49",
            "max": 10138,
            "min": 0,
            "orientation": "horizontal",
            "style": "IPY_MODEL_80fab768b9e0457fbff13037d1e90314",
            "value": 10138
          }
        },
        "4c91f747ff6b44caa86873e9d35f5b51": {
          "model_module": "@jupyter-widgets/controls",
          "model_name": "HTMLModel",
          "model_module_version": "1.5.0",
          "state": {
            "_dom_classes": [],
            "_model_module": "@jupyter-widgets/controls",
            "_model_module_version": "1.5.0",
            "_model_name": "HTMLModel",
            "_view_count": null,
            "_view_module": "@jupyter-widgets/controls",
            "_view_module_version": "1.5.0",
            "_view_name": "HTMLView",
            "description": "",
            "description_tooltip": null,
            "layout": "IPY_MODEL_ee5eed44378343fe9a3f5d277544982b",
            "placeholder": "​",
            "style": "IPY_MODEL_07f19d2e8c214b22b8f6719d8c593c0c",
            "value": " 10.1k/10.1k [00:00&lt;00:00, 176kB/s]"
          }
        },
        "6a67b7f4591b4c6db56bfbccf6157c60": {
          "model_module": "@jupyter-widgets/base",
          "model_name": "LayoutModel",
          "model_module_version": "1.2.0",
          "state": {
            "_model_module": "@jupyter-widgets/base",
            "_model_module_version": "1.2.0",
            "_model_name": "LayoutModel",
            "_view_count": null,
            "_view_module": "@jupyter-widgets/base",
            "_view_module_version": "1.2.0",
            "_view_name": "LayoutView",
            "align_content": null,
            "align_items": null,
            "align_self": null,
            "border": null,
            "bottom": null,
            "display": null,
            "flex": null,
            "flex_flow": null,
            "grid_area": null,
            "grid_auto_columns": null,
            "grid_auto_flow": null,
            "grid_auto_rows": null,
            "grid_column": null,
            "grid_gap": null,
            "grid_row": null,
            "grid_template_areas": null,
            "grid_template_columns": null,
            "grid_template_rows": null,
            "height": null,
            "justify_content": null,
            "justify_items": null,
            "left": null,
            "margin": null,
            "max_height": null,
            "max_width": null,
            "min_height": null,
            "min_width": null,
            "object_fit": null,
            "object_position": null,
            "order": null,
            "overflow": null,
            "overflow_x": null,
            "overflow_y": null,
            "padding": null,
            "right": null,
            "top": null,
            "visibility": null,
            "width": null
          }
        },
        "3cf3174698464672941774681d40c2e1": {
          "model_module": "@jupyter-widgets/base",
          "model_name": "LayoutModel",
          "model_module_version": "1.2.0",
          "state": {
            "_model_module": "@jupyter-widgets/base",
            "_model_module_version": "1.2.0",
            "_model_name": "LayoutModel",
            "_view_count": null,
            "_view_module": "@jupyter-widgets/base",
            "_view_module_version": "1.2.0",
            "_view_name": "LayoutView",
            "align_content": null,
            "align_items": null,
            "align_self": null,
            "border": null,
            "bottom": null,
            "display": null,
            "flex": null,
            "flex_flow": null,
            "grid_area": null,
            "grid_auto_columns": null,
            "grid_auto_flow": null,
            "grid_auto_rows": null,
            "grid_column": null,
            "grid_gap": null,
            "grid_row": null,
            "grid_template_areas": null,
            "grid_template_columns": null,
            "grid_template_rows": null,
            "height": null,
            "justify_content": null,
            "justify_items": null,
            "left": null,
            "margin": null,
            "max_height": null,
            "max_width": null,
            "min_height": null,
            "min_width": null,
            "object_fit": null,
            "object_position": null,
            "order": null,
            "overflow": null,
            "overflow_x": null,
            "overflow_y": null,
            "padding": null,
            "right": null,
            "top": null,
            "visibility": null,
            "width": null
          }
        },
        "9b009dfb9a3145f483ef74e76280aef9": {
          "model_module": "@jupyter-widgets/controls",
          "model_name": "DescriptionStyleModel",
          "model_module_version": "1.5.0",
          "state": {
            "_model_module": "@jupyter-widgets/controls",
            "_model_module_version": "1.5.0",
            "_model_name": "DescriptionStyleModel",
            "_view_count": null,
            "_view_module": "@jupyter-widgets/base",
            "_view_module_version": "1.2.0",
            "_view_name": "StyleView",
            "description_width": ""
          }
        },
        "0cd8a47fa4f649288c5cb0af0cbf9a49": {
          "model_module": "@jupyter-widgets/base",
          "model_name": "LayoutModel",
          "model_module_version": "1.2.0",
          "state": {
            "_model_module": "@jupyter-widgets/base",
            "_model_module_version": "1.2.0",
            "_model_name": "LayoutModel",
            "_view_count": null,
            "_view_module": "@jupyter-widgets/base",
            "_view_module_version": "1.2.0",
            "_view_name": "LayoutView",
            "align_content": null,
            "align_items": null,
            "align_self": null,
            "border": null,
            "bottom": null,
            "display": null,
            "flex": null,
            "flex_flow": null,
            "grid_area": null,
            "grid_auto_columns": null,
            "grid_auto_flow": null,
            "grid_auto_rows": null,
            "grid_column": null,
            "grid_gap": null,
            "grid_row": null,
            "grid_template_areas": null,
            "grid_template_columns": null,
            "grid_template_rows": null,
            "height": null,
            "justify_content": null,
            "justify_items": null,
            "left": null,
            "margin": null,
            "max_height": null,
            "max_width": null,
            "min_height": null,
            "min_width": null,
            "object_fit": null,
            "object_position": null,
            "order": null,
            "overflow": null,
            "overflow_x": null,
            "overflow_y": null,
            "padding": null,
            "right": null,
            "top": null,
            "visibility": null,
            "width": null
          }
        },
        "80fab768b9e0457fbff13037d1e90314": {
          "model_module": "@jupyter-widgets/controls",
          "model_name": "ProgressStyleModel",
          "model_module_version": "1.5.0",
          "state": {
            "_model_module": "@jupyter-widgets/controls",
            "_model_module_version": "1.5.0",
            "_model_name": "ProgressStyleModel",
            "_view_count": null,
            "_view_module": "@jupyter-widgets/base",
            "_view_module_version": "1.2.0",
            "_view_name": "StyleView",
            "bar_color": null,
            "description_width": ""
          }
        },
        "ee5eed44378343fe9a3f5d277544982b": {
          "model_module": "@jupyter-widgets/base",
          "model_name": "LayoutModel",
          "model_module_version": "1.2.0",
          "state": {
            "_model_module": "@jupyter-widgets/base",
            "_model_module_version": "1.2.0",
            "_model_name": "LayoutModel",
            "_view_count": null,
            "_view_module": "@jupyter-widgets/base",
            "_view_module_version": "1.2.0",
            "_view_name": "LayoutView",
            "align_content": null,
            "align_items": null,
            "align_self": null,
            "border": null,
            "bottom": null,
            "display": null,
            "flex": null,
            "flex_flow": null,
            "grid_area": null,
            "grid_auto_columns": null,
            "grid_auto_flow": null,
            "grid_auto_rows": null,
            "grid_column": null,
            "grid_gap": null,
            "grid_row": null,
            "grid_template_areas": null,
            "grid_template_columns": null,
            "grid_template_rows": null,
            "height": null,
            "justify_content": null,
            "justify_items": null,
            "left": null,
            "margin": null,
            "max_height": null,
            "max_width": null,
            "min_height": null,
            "min_width": null,
            "object_fit": null,
            "object_position": null,
            "order": null,
            "overflow": null,
            "overflow_x": null,
            "overflow_y": null,
            "padding": null,
            "right": null,
            "top": null,
            "visibility": null,
            "width": null
          }
        },
        "07f19d2e8c214b22b8f6719d8c593c0c": {
          "model_module": "@jupyter-widgets/controls",
          "model_name": "DescriptionStyleModel",
          "model_module_version": "1.5.0",
          "state": {
            "_model_module": "@jupyter-widgets/controls",
            "_model_module_version": "1.5.0",
            "_model_name": "DescriptionStyleModel",
            "_view_count": null,
            "_view_module": "@jupyter-widgets/base",
            "_view_module_version": "1.2.0",
            "_view_name": "StyleView",
            "description_width": ""
          }
        },
        "210c35a96d904a319aa5c9c21b311ddd": {
          "model_module": "@jupyter-widgets/controls",
          "model_name": "HBoxModel",
          "model_module_version": "1.5.0",
          "state": {
            "_dom_classes": [],
            "_model_module": "@jupyter-widgets/controls",
            "_model_module_version": "1.5.0",
            "_model_name": "HBoxModel",
            "_view_count": null,
            "_view_module": "@jupyter-widgets/controls",
            "_view_module_version": "1.5.0",
            "_view_name": "HBoxView",
            "box_style": "",
            "children": [
              "IPY_MODEL_7872e9de26e146b48260277766616c08",
              "IPY_MODEL_13ccd7ef08db43a3be130eb068608488",
              "IPY_MODEL_9eabcbeeecba40a08a436dc8bb48e148"
            ],
            "layout": "IPY_MODEL_c09d0c1b897f421ca41b08d4b1fed71e"
          }
        },
        "7872e9de26e146b48260277766616c08": {
          "model_module": "@jupyter-widgets/controls",
          "model_name": "HTMLModel",
          "model_module_version": "1.5.0",
          "state": {
            "_dom_classes": [],
            "_model_module": "@jupyter-widgets/controls",
            "_model_module_version": "1.5.0",
            "_model_name": "HTMLModel",
            "_view_count": null,
            "_view_module": "@jupyter-widgets/controls",
            "_view_module_version": "1.5.0",
            "_view_name": "HTMLView",
            "description": "",
            "description_tooltip": null,
            "layout": "IPY_MODEL_deb7d5ce1fc7415b8d0c6d72a3bdf1f0",
            "placeholder": "​",
            "style": "IPY_MODEL_207ecba948fe42c688480dbe8b405f88",
            "value": "Downloading: 100%"
          }
        },
        "13ccd7ef08db43a3be130eb068608488": {
          "model_module": "@jupyter-widgets/controls",
          "model_name": "FloatProgressModel",
          "model_module_version": "1.5.0",
          "state": {
            "_dom_classes": [],
            "_model_module": "@jupyter-widgets/controls",
            "_model_module_version": "1.5.0",
            "_model_name": "FloatProgressModel",
            "_view_count": null,
            "_view_module": "@jupyter-widgets/controls",
            "_view_module_version": "1.5.0",
            "_view_name": "ProgressView",
            "bar_style": "success",
            "description": "",
            "description_tooltip": null,
            "layout": "IPY_MODEL_7f8f8590fba94ab1968de052a82689c8",
            "max": 571,
            "min": 0,
            "orientation": "horizontal",
            "style": "IPY_MODEL_45ed9e590ec748c19c76205214a54604",
            "value": 571
          }
        },
        "9eabcbeeecba40a08a436dc8bb48e148": {
          "model_module": "@jupyter-widgets/controls",
          "model_name": "HTMLModel",
          "model_module_version": "1.5.0",
          "state": {
            "_dom_classes": [],
            "_model_module": "@jupyter-widgets/controls",
            "_model_module_version": "1.5.0",
            "_model_name": "HTMLModel",
            "_view_count": null,
            "_view_module": "@jupyter-widgets/controls",
            "_view_module_version": "1.5.0",
            "_view_name": "HTMLView",
            "description": "",
            "description_tooltip": null,
            "layout": "IPY_MODEL_9c919db2b26840f8a7ab9d16385e83e4",
            "placeholder": "​",
            "style": "IPY_MODEL_fdf2487d333b44fbbbd927bfd8db21fb",
            "value": " 571/571 [00:00&lt;00:00, 13.5kB/s]"
          }
        },
        "c09d0c1b897f421ca41b08d4b1fed71e": {
          "model_module": "@jupyter-widgets/base",
          "model_name": "LayoutModel",
          "model_module_version": "1.2.0",
          "state": {
            "_model_module": "@jupyter-widgets/base",
            "_model_module_version": "1.2.0",
            "_model_name": "LayoutModel",
            "_view_count": null,
            "_view_module": "@jupyter-widgets/base",
            "_view_module_version": "1.2.0",
            "_view_name": "LayoutView",
            "align_content": null,
            "align_items": null,
            "align_self": null,
            "border": null,
            "bottom": null,
            "display": null,
            "flex": null,
            "flex_flow": null,
            "grid_area": null,
            "grid_auto_columns": null,
            "grid_auto_flow": null,
            "grid_auto_rows": null,
            "grid_column": null,
            "grid_gap": null,
            "grid_row": null,
            "grid_template_areas": null,
            "grid_template_columns": null,
            "grid_template_rows": null,
            "height": null,
            "justify_content": null,
            "justify_items": null,
            "left": null,
            "margin": null,
            "max_height": null,
            "max_width": null,
            "min_height": null,
            "min_width": null,
            "object_fit": null,
            "object_position": null,
            "order": null,
            "overflow": null,
            "overflow_x": null,
            "overflow_y": null,
            "padding": null,
            "right": null,
            "top": null,
            "visibility": null,
            "width": null
          }
        },
        "deb7d5ce1fc7415b8d0c6d72a3bdf1f0": {
          "model_module": "@jupyter-widgets/base",
          "model_name": "LayoutModel",
          "model_module_version": "1.2.0",
          "state": {
            "_model_module": "@jupyter-widgets/base",
            "_model_module_version": "1.2.0",
            "_model_name": "LayoutModel",
            "_view_count": null,
            "_view_module": "@jupyter-widgets/base",
            "_view_module_version": "1.2.0",
            "_view_name": "LayoutView",
            "align_content": null,
            "align_items": null,
            "align_self": null,
            "border": null,
            "bottom": null,
            "display": null,
            "flex": null,
            "flex_flow": null,
            "grid_area": null,
            "grid_auto_columns": null,
            "grid_auto_flow": null,
            "grid_auto_rows": null,
            "grid_column": null,
            "grid_gap": null,
            "grid_row": null,
            "grid_template_areas": null,
            "grid_template_columns": null,
            "grid_template_rows": null,
            "height": null,
            "justify_content": null,
            "justify_items": null,
            "left": null,
            "margin": null,
            "max_height": null,
            "max_width": null,
            "min_height": null,
            "min_width": null,
            "object_fit": null,
            "object_position": null,
            "order": null,
            "overflow": null,
            "overflow_x": null,
            "overflow_y": null,
            "padding": null,
            "right": null,
            "top": null,
            "visibility": null,
            "width": null
          }
        },
        "207ecba948fe42c688480dbe8b405f88": {
          "model_module": "@jupyter-widgets/controls",
          "model_name": "DescriptionStyleModel",
          "model_module_version": "1.5.0",
          "state": {
            "_model_module": "@jupyter-widgets/controls",
            "_model_module_version": "1.5.0",
            "_model_name": "DescriptionStyleModel",
            "_view_count": null,
            "_view_module": "@jupyter-widgets/base",
            "_view_module_version": "1.2.0",
            "_view_name": "StyleView",
            "description_width": ""
          }
        },
        "7f8f8590fba94ab1968de052a82689c8": {
          "model_module": "@jupyter-widgets/base",
          "model_name": "LayoutModel",
          "model_module_version": "1.2.0",
          "state": {
            "_model_module": "@jupyter-widgets/base",
            "_model_module_version": "1.2.0",
            "_model_name": "LayoutModel",
            "_view_count": null,
            "_view_module": "@jupyter-widgets/base",
            "_view_module_version": "1.2.0",
            "_view_name": "LayoutView",
            "align_content": null,
            "align_items": null,
            "align_self": null,
            "border": null,
            "bottom": null,
            "display": null,
            "flex": null,
            "flex_flow": null,
            "grid_area": null,
            "grid_auto_columns": null,
            "grid_auto_flow": null,
            "grid_auto_rows": null,
            "grid_column": null,
            "grid_gap": null,
            "grid_row": null,
            "grid_template_areas": null,
            "grid_template_columns": null,
            "grid_template_rows": null,
            "height": null,
            "justify_content": null,
            "justify_items": null,
            "left": null,
            "margin": null,
            "max_height": null,
            "max_width": null,
            "min_height": null,
            "min_width": null,
            "object_fit": null,
            "object_position": null,
            "order": null,
            "overflow": null,
            "overflow_x": null,
            "overflow_y": null,
            "padding": null,
            "right": null,
            "top": null,
            "visibility": null,
            "width": null
          }
        },
        "45ed9e590ec748c19c76205214a54604": {
          "model_module": "@jupyter-widgets/controls",
          "model_name": "ProgressStyleModel",
          "model_module_version": "1.5.0",
          "state": {
            "_model_module": "@jupyter-widgets/controls",
            "_model_module_version": "1.5.0",
            "_model_name": "ProgressStyleModel",
            "_view_count": null,
            "_view_module": "@jupyter-widgets/base",
            "_view_module_version": "1.2.0",
            "_view_name": "StyleView",
            "bar_color": null,
            "description_width": ""
          }
        },
        "9c919db2b26840f8a7ab9d16385e83e4": {
          "model_module": "@jupyter-widgets/base",
          "model_name": "LayoutModel",
          "model_module_version": "1.2.0",
          "state": {
            "_model_module": "@jupyter-widgets/base",
            "_model_module_version": "1.2.0",
            "_model_name": "LayoutModel",
            "_view_count": null,
            "_view_module": "@jupyter-widgets/base",
            "_view_module_version": "1.2.0",
            "_view_name": "LayoutView",
            "align_content": null,
            "align_items": null,
            "align_self": null,
            "border": null,
            "bottom": null,
            "display": null,
            "flex": null,
            "flex_flow": null,
            "grid_area": null,
            "grid_auto_columns": null,
            "grid_auto_flow": null,
            "grid_auto_rows": null,
            "grid_column": null,
            "grid_gap": null,
            "grid_row": null,
            "grid_template_areas": null,
            "grid_template_columns": null,
            "grid_template_rows": null,
            "height": null,
            "justify_content": null,
            "justify_items": null,
            "left": null,
            "margin": null,
            "max_height": null,
            "max_width": null,
            "min_height": null,
            "min_width": null,
            "object_fit": null,
            "object_position": null,
            "order": null,
            "overflow": null,
            "overflow_x": null,
            "overflow_y": null,
            "padding": null,
            "right": null,
            "top": null,
            "visibility": null,
            "width": null
          }
        },
        "fdf2487d333b44fbbbd927bfd8db21fb": {
          "model_module": "@jupyter-widgets/controls",
          "model_name": "DescriptionStyleModel",
          "model_module_version": "1.5.0",
          "state": {
            "_model_module": "@jupyter-widgets/controls",
            "_model_module_version": "1.5.0",
            "_model_name": "DescriptionStyleModel",
            "_view_count": null,
            "_view_module": "@jupyter-widgets/base",
            "_view_module_version": "1.2.0",
            "_view_name": "StyleView",
            "description_width": ""
          }
        },
        "7cc04d21b0364d98b0095cf2eee104f5": {
          "model_module": "@jupyter-widgets/controls",
          "model_name": "HBoxModel",
          "model_module_version": "1.5.0",
          "state": {
            "_dom_classes": [],
            "_model_module": "@jupyter-widgets/controls",
            "_model_module_version": "1.5.0",
            "_model_name": "HBoxModel",
            "_view_count": null,
            "_view_module": "@jupyter-widgets/controls",
            "_view_module_version": "1.5.0",
            "_view_name": "HBoxView",
            "box_style": "",
            "children": [
              "IPY_MODEL_6202368f56184338b712698dc2e20c25",
              "IPY_MODEL_38122d5135c8477aa82bda7f43d74fb4",
              "IPY_MODEL_c6699c84703647b884e9c4b6363bb5e6"
            ],
            "layout": "IPY_MODEL_3f2f2e8f66ea4cfb9d47c7a4ab7c2901"
          }
        },
        "6202368f56184338b712698dc2e20c25": {
          "model_module": "@jupyter-widgets/controls",
          "model_name": "HTMLModel",
          "model_module_version": "1.5.0",
          "state": {
            "_dom_classes": [],
            "_model_module": "@jupyter-widgets/controls",
            "_model_module_version": "1.5.0",
            "_model_name": "HTMLModel",
            "_view_count": null,
            "_view_module": "@jupyter-widgets/controls",
            "_view_module_version": "1.5.0",
            "_view_name": "HTMLView",
            "description": "",
            "description_tooltip": null,
            "layout": "IPY_MODEL_ac7f8f815cf84f7cb4f85e38b35b25be",
            "placeholder": "​",
            "style": "IPY_MODEL_c20fe1434a7d40f58548ecc2e217910b",
            "value": "Downloading: 100%"
          }
        },
        "38122d5135c8477aa82bda7f43d74fb4": {
          "model_module": "@jupyter-widgets/controls",
          "model_name": "FloatProgressModel",
          "model_module_version": "1.5.0",
          "state": {
            "_dom_classes": [],
            "_model_module": "@jupyter-widgets/controls",
            "_model_module_version": "1.5.0",
            "_model_name": "FloatProgressModel",
            "_view_count": null,
            "_view_module": "@jupyter-widgets/controls",
            "_view_module_version": "1.5.0",
            "_view_name": "ProgressView",
            "bar_style": "success",
            "description": "",
            "description_tooltip": null,
            "layout": "IPY_MODEL_5444bdc11ac947eb8281fa52170b114b",
            "max": 116,
            "min": 0,
            "orientation": "horizontal",
            "style": "IPY_MODEL_9c394ae735dd4085b3770feb179b53b7",
            "value": 116
          }
        },
        "c6699c84703647b884e9c4b6363bb5e6": {
          "model_module": "@jupyter-widgets/controls",
          "model_name": "HTMLModel",
          "model_module_version": "1.5.0",
          "state": {
            "_dom_classes": [],
            "_model_module": "@jupyter-widgets/controls",
            "_model_module_version": "1.5.0",
            "_model_name": "HTMLModel",
            "_view_count": null,
            "_view_module": "@jupyter-widgets/controls",
            "_view_module_version": "1.5.0",
            "_view_name": "HTMLView",
            "description": "",
            "description_tooltip": null,
            "layout": "IPY_MODEL_3e0d547cd1cb49809c410c62dc7d93c4",
            "placeholder": "​",
            "style": "IPY_MODEL_86fe0f44b0d14ecb97cdce5936c7ccf4",
            "value": " 116/116 [00:00&lt;00:00, 2.75kB/s]"
          }
        },
        "3f2f2e8f66ea4cfb9d47c7a4ab7c2901": {
          "model_module": "@jupyter-widgets/base",
          "model_name": "LayoutModel",
          "model_module_version": "1.2.0",
          "state": {
            "_model_module": "@jupyter-widgets/base",
            "_model_module_version": "1.2.0",
            "_model_name": "LayoutModel",
            "_view_count": null,
            "_view_module": "@jupyter-widgets/base",
            "_view_module_version": "1.2.0",
            "_view_name": "LayoutView",
            "align_content": null,
            "align_items": null,
            "align_self": null,
            "border": null,
            "bottom": null,
            "display": null,
            "flex": null,
            "flex_flow": null,
            "grid_area": null,
            "grid_auto_columns": null,
            "grid_auto_flow": null,
            "grid_auto_rows": null,
            "grid_column": null,
            "grid_gap": null,
            "grid_row": null,
            "grid_template_areas": null,
            "grid_template_columns": null,
            "grid_template_rows": null,
            "height": null,
            "justify_content": null,
            "justify_items": null,
            "left": null,
            "margin": null,
            "max_height": null,
            "max_width": null,
            "min_height": null,
            "min_width": null,
            "object_fit": null,
            "object_position": null,
            "order": null,
            "overflow": null,
            "overflow_x": null,
            "overflow_y": null,
            "padding": null,
            "right": null,
            "top": null,
            "visibility": null,
            "width": null
          }
        },
        "ac7f8f815cf84f7cb4f85e38b35b25be": {
          "model_module": "@jupyter-widgets/base",
          "model_name": "LayoutModel",
          "model_module_version": "1.2.0",
          "state": {
            "_model_module": "@jupyter-widgets/base",
            "_model_module_version": "1.2.0",
            "_model_name": "LayoutModel",
            "_view_count": null,
            "_view_module": "@jupyter-widgets/base",
            "_view_module_version": "1.2.0",
            "_view_name": "LayoutView",
            "align_content": null,
            "align_items": null,
            "align_self": null,
            "border": null,
            "bottom": null,
            "display": null,
            "flex": null,
            "flex_flow": null,
            "grid_area": null,
            "grid_auto_columns": null,
            "grid_auto_flow": null,
            "grid_auto_rows": null,
            "grid_column": null,
            "grid_gap": null,
            "grid_row": null,
            "grid_template_areas": null,
            "grid_template_columns": null,
            "grid_template_rows": null,
            "height": null,
            "justify_content": null,
            "justify_items": null,
            "left": null,
            "margin": null,
            "max_height": null,
            "max_width": null,
            "min_height": null,
            "min_width": null,
            "object_fit": null,
            "object_position": null,
            "order": null,
            "overflow": null,
            "overflow_x": null,
            "overflow_y": null,
            "padding": null,
            "right": null,
            "top": null,
            "visibility": null,
            "width": null
          }
        },
        "c20fe1434a7d40f58548ecc2e217910b": {
          "model_module": "@jupyter-widgets/controls",
          "model_name": "DescriptionStyleModel",
          "model_module_version": "1.5.0",
          "state": {
            "_model_module": "@jupyter-widgets/controls",
            "_model_module_version": "1.5.0",
            "_model_name": "DescriptionStyleModel",
            "_view_count": null,
            "_view_module": "@jupyter-widgets/base",
            "_view_module_version": "1.2.0",
            "_view_name": "StyleView",
            "description_width": ""
          }
        },
        "5444bdc11ac947eb8281fa52170b114b": {
          "model_module": "@jupyter-widgets/base",
          "model_name": "LayoutModel",
          "model_module_version": "1.2.0",
          "state": {
            "_model_module": "@jupyter-widgets/base",
            "_model_module_version": "1.2.0",
            "_model_name": "LayoutModel",
            "_view_count": null,
            "_view_module": "@jupyter-widgets/base",
            "_view_module_version": "1.2.0",
            "_view_name": "LayoutView",
            "align_content": null,
            "align_items": null,
            "align_self": null,
            "border": null,
            "bottom": null,
            "display": null,
            "flex": null,
            "flex_flow": null,
            "grid_area": null,
            "grid_auto_columns": null,
            "grid_auto_flow": null,
            "grid_auto_rows": null,
            "grid_column": null,
            "grid_gap": null,
            "grid_row": null,
            "grid_template_areas": null,
            "grid_template_columns": null,
            "grid_template_rows": null,
            "height": null,
            "justify_content": null,
            "justify_items": null,
            "left": null,
            "margin": null,
            "max_height": null,
            "max_width": null,
            "min_height": null,
            "min_width": null,
            "object_fit": null,
            "object_position": null,
            "order": null,
            "overflow": null,
            "overflow_x": null,
            "overflow_y": null,
            "padding": null,
            "right": null,
            "top": null,
            "visibility": null,
            "width": null
          }
        },
        "9c394ae735dd4085b3770feb179b53b7": {
          "model_module": "@jupyter-widgets/controls",
          "model_name": "ProgressStyleModel",
          "model_module_version": "1.5.0",
          "state": {
            "_model_module": "@jupyter-widgets/controls",
            "_model_module_version": "1.5.0",
            "_model_name": "ProgressStyleModel",
            "_view_count": null,
            "_view_module": "@jupyter-widgets/base",
            "_view_module_version": "1.2.0",
            "_view_name": "StyleView",
            "bar_color": null,
            "description_width": ""
          }
        },
        "3e0d547cd1cb49809c410c62dc7d93c4": {
          "model_module": "@jupyter-widgets/base",
          "model_name": "LayoutModel",
          "model_module_version": "1.2.0",
          "state": {
            "_model_module": "@jupyter-widgets/base",
            "_model_module_version": "1.2.0",
            "_model_name": "LayoutModel",
            "_view_count": null,
            "_view_module": "@jupyter-widgets/base",
            "_view_module_version": "1.2.0",
            "_view_name": "LayoutView",
            "align_content": null,
            "align_items": null,
            "align_self": null,
            "border": null,
            "bottom": null,
            "display": null,
            "flex": null,
            "flex_flow": null,
            "grid_area": null,
            "grid_auto_columns": null,
            "grid_auto_flow": null,
            "grid_auto_rows": null,
            "grid_column": null,
            "grid_gap": null,
            "grid_row": null,
            "grid_template_areas": null,
            "grid_template_columns": null,
            "grid_template_rows": null,
            "height": null,
            "justify_content": null,
            "justify_items": null,
            "left": null,
            "margin": null,
            "max_height": null,
            "max_width": null,
            "min_height": null,
            "min_width": null,
            "object_fit": null,
            "object_position": null,
            "order": null,
            "overflow": null,
            "overflow_x": null,
            "overflow_y": null,
            "padding": null,
            "right": null,
            "top": null,
            "visibility": null,
            "width": null
          }
        },
        "86fe0f44b0d14ecb97cdce5936c7ccf4": {
          "model_module": "@jupyter-widgets/controls",
          "model_name": "DescriptionStyleModel",
          "model_module_version": "1.5.0",
          "state": {
            "_model_module": "@jupyter-widgets/controls",
            "_model_module_version": "1.5.0",
            "_model_name": "DescriptionStyleModel",
            "_view_count": null,
            "_view_module": "@jupyter-widgets/base",
            "_view_module_version": "1.2.0",
            "_view_name": "StyleView",
            "description_width": ""
          }
        },
        "00eaeebe70a14644b62cb13a9876c909": {
          "model_module": "@jupyter-widgets/controls",
          "model_name": "HBoxModel",
          "model_module_version": "1.5.0",
          "state": {
            "_dom_classes": [],
            "_model_module": "@jupyter-widgets/controls",
            "_model_module_version": "1.5.0",
            "_model_name": "HBoxModel",
            "_view_count": null,
            "_view_module": "@jupyter-widgets/controls",
            "_view_module_version": "1.5.0",
            "_view_name": "HBoxView",
            "box_style": "",
            "children": [
              "IPY_MODEL_6812ba0e4e6d47a1b44c51b44b5f218d",
              "IPY_MODEL_08f584b120cc404b9d0a9ccfac209ed9",
              "IPY_MODEL_6c8bc3481df84ab698d1da5491020683"
            ],
            "layout": "IPY_MODEL_c4c5b0f3656a48808e54192d254edbc4"
          }
        },
        "6812ba0e4e6d47a1b44c51b44b5f218d": {
          "model_module": "@jupyter-widgets/controls",
          "model_name": "HTMLModel",
          "model_module_version": "1.5.0",
          "state": {
            "_dom_classes": [],
            "_model_module": "@jupyter-widgets/controls",
            "_model_module_version": "1.5.0",
            "_model_name": "HTMLModel",
            "_view_count": null,
            "_view_module": "@jupyter-widgets/controls",
            "_view_module_version": "1.5.0",
            "_view_name": "HTMLView",
            "description": "",
            "description_tooltip": null,
            "layout": "IPY_MODEL_7327d966f3e543778b0b4326ab273e44",
            "placeholder": "​",
            "style": "IPY_MODEL_0fe99a0a20dd48cd9e978ec52dc0ec45",
            "value": "Downloading: 100%"
          }
        },
        "08f584b120cc404b9d0a9ccfac209ed9": {
          "model_module": "@jupyter-widgets/controls",
          "model_name": "FloatProgressModel",
          "model_module_version": "1.5.0",
          "state": {
            "_dom_classes": [],
            "_model_module": "@jupyter-widgets/controls",
            "_model_module_version": "1.5.0",
            "_model_name": "FloatProgressModel",
            "_view_count": null,
            "_view_module": "@jupyter-widgets/controls",
            "_view_module_version": "1.5.0",
            "_view_name": "ProgressView",
            "bar_style": "success",
            "description": "",
            "description_tooltip": null,
            "layout": "IPY_MODEL_550cd1ab3cb54d3ab17f3b8c6a1597d3",
            "max": 39265,
            "min": 0,
            "orientation": "horizontal",
            "style": "IPY_MODEL_f6668ad5997147b898121e7e2a95fa02",
            "value": 39265
          }
        },
        "6c8bc3481df84ab698d1da5491020683": {
          "model_module": "@jupyter-widgets/controls",
          "model_name": "HTMLModel",
          "model_module_version": "1.5.0",
          "state": {
            "_dom_classes": [],
            "_model_module": "@jupyter-widgets/controls",
            "_model_module_version": "1.5.0",
            "_model_name": "HTMLModel",
            "_view_count": null,
            "_view_module": "@jupyter-widgets/controls",
            "_view_module_version": "1.5.0",
            "_view_name": "HTMLView",
            "description": "",
            "description_tooltip": null,
            "layout": "IPY_MODEL_e28f690bf2744b7592c568b3c43cdac8",
            "placeholder": "​",
            "style": "IPY_MODEL_30ff88e0ec724b8b9a617fe510bd5a9e",
            "value": " 39.3k/39.3k [00:00&lt;00:00, 435kB/s]"
          }
        },
        "c4c5b0f3656a48808e54192d254edbc4": {
          "model_module": "@jupyter-widgets/base",
          "model_name": "LayoutModel",
          "model_module_version": "1.2.0",
          "state": {
            "_model_module": "@jupyter-widgets/base",
            "_model_module_version": "1.2.0",
            "_model_name": "LayoutModel",
            "_view_count": null,
            "_view_module": "@jupyter-widgets/base",
            "_view_module_version": "1.2.0",
            "_view_name": "LayoutView",
            "align_content": null,
            "align_items": null,
            "align_self": null,
            "border": null,
            "bottom": null,
            "display": null,
            "flex": null,
            "flex_flow": null,
            "grid_area": null,
            "grid_auto_columns": null,
            "grid_auto_flow": null,
            "grid_auto_rows": null,
            "grid_column": null,
            "grid_gap": null,
            "grid_row": null,
            "grid_template_areas": null,
            "grid_template_columns": null,
            "grid_template_rows": null,
            "height": null,
            "justify_content": null,
            "justify_items": null,
            "left": null,
            "margin": null,
            "max_height": null,
            "max_width": null,
            "min_height": null,
            "min_width": null,
            "object_fit": null,
            "object_position": null,
            "order": null,
            "overflow": null,
            "overflow_x": null,
            "overflow_y": null,
            "padding": null,
            "right": null,
            "top": null,
            "visibility": null,
            "width": null
          }
        },
        "7327d966f3e543778b0b4326ab273e44": {
          "model_module": "@jupyter-widgets/base",
          "model_name": "LayoutModel",
          "model_module_version": "1.2.0",
          "state": {
            "_model_module": "@jupyter-widgets/base",
            "_model_module_version": "1.2.0",
            "_model_name": "LayoutModel",
            "_view_count": null,
            "_view_module": "@jupyter-widgets/base",
            "_view_module_version": "1.2.0",
            "_view_name": "LayoutView",
            "align_content": null,
            "align_items": null,
            "align_self": null,
            "border": null,
            "bottom": null,
            "display": null,
            "flex": null,
            "flex_flow": null,
            "grid_area": null,
            "grid_auto_columns": null,
            "grid_auto_flow": null,
            "grid_auto_rows": null,
            "grid_column": null,
            "grid_gap": null,
            "grid_row": null,
            "grid_template_areas": null,
            "grid_template_columns": null,
            "grid_template_rows": null,
            "height": null,
            "justify_content": null,
            "justify_items": null,
            "left": null,
            "margin": null,
            "max_height": null,
            "max_width": null,
            "min_height": null,
            "min_width": null,
            "object_fit": null,
            "object_position": null,
            "order": null,
            "overflow": null,
            "overflow_x": null,
            "overflow_y": null,
            "padding": null,
            "right": null,
            "top": null,
            "visibility": null,
            "width": null
          }
        },
        "0fe99a0a20dd48cd9e978ec52dc0ec45": {
          "model_module": "@jupyter-widgets/controls",
          "model_name": "DescriptionStyleModel",
          "model_module_version": "1.5.0",
          "state": {
            "_model_module": "@jupyter-widgets/controls",
            "_model_module_version": "1.5.0",
            "_model_name": "DescriptionStyleModel",
            "_view_count": null,
            "_view_module": "@jupyter-widgets/base",
            "_view_module_version": "1.2.0",
            "_view_name": "StyleView",
            "description_width": ""
          }
        },
        "550cd1ab3cb54d3ab17f3b8c6a1597d3": {
          "model_module": "@jupyter-widgets/base",
          "model_name": "LayoutModel",
          "model_module_version": "1.2.0",
          "state": {
            "_model_module": "@jupyter-widgets/base",
            "_model_module_version": "1.2.0",
            "_model_name": "LayoutModel",
            "_view_count": null,
            "_view_module": "@jupyter-widgets/base",
            "_view_module_version": "1.2.0",
            "_view_name": "LayoutView",
            "align_content": null,
            "align_items": null,
            "align_self": null,
            "border": null,
            "bottom": null,
            "display": null,
            "flex": null,
            "flex_flow": null,
            "grid_area": null,
            "grid_auto_columns": null,
            "grid_auto_flow": null,
            "grid_auto_rows": null,
            "grid_column": null,
            "grid_gap": null,
            "grid_row": null,
            "grid_template_areas": null,
            "grid_template_columns": null,
            "grid_template_rows": null,
            "height": null,
            "justify_content": null,
            "justify_items": null,
            "left": null,
            "margin": null,
            "max_height": null,
            "max_width": null,
            "min_height": null,
            "min_width": null,
            "object_fit": null,
            "object_position": null,
            "order": null,
            "overflow": null,
            "overflow_x": null,
            "overflow_y": null,
            "padding": null,
            "right": null,
            "top": null,
            "visibility": null,
            "width": null
          }
        },
        "f6668ad5997147b898121e7e2a95fa02": {
          "model_module": "@jupyter-widgets/controls",
          "model_name": "ProgressStyleModel",
          "model_module_version": "1.5.0",
          "state": {
            "_model_module": "@jupyter-widgets/controls",
            "_model_module_version": "1.5.0",
            "_model_name": "ProgressStyleModel",
            "_view_count": null,
            "_view_module": "@jupyter-widgets/base",
            "_view_module_version": "1.2.0",
            "_view_name": "StyleView",
            "bar_color": null,
            "description_width": ""
          }
        },
        "e28f690bf2744b7592c568b3c43cdac8": {
          "model_module": "@jupyter-widgets/base",
          "model_name": "LayoutModel",
          "model_module_version": "1.2.0",
          "state": {
            "_model_module": "@jupyter-widgets/base",
            "_model_module_version": "1.2.0",
            "_model_name": "LayoutModel",
            "_view_count": null,
            "_view_module": "@jupyter-widgets/base",
            "_view_module_version": "1.2.0",
            "_view_name": "LayoutView",
            "align_content": null,
            "align_items": null,
            "align_self": null,
            "border": null,
            "bottom": null,
            "display": null,
            "flex": null,
            "flex_flow": null,
            "grid_area": null,
            "grid_auto_columns": null,
            "grid_auto_flow": null,
            "grid_auto_rows": null,
            "grid_column": null,
            "grid_gap": null,
            "grid_row": null,
            "grid_template_areas": null,
            "grid_template_columns": null,
            "grid_template_rows": null,
            "height": null,
            "justify_content": null,
            "justify_items": null,
            "left": null,
            "margin": null,
            "max_height": null,
            "max_width": null,
            "min_height": null,
            "min_width": null,
            "object_fit": null,
            "object_position": null,
            "order": null,
            "overflow": null,
            "overflow_x": null,
            "overflow_y": null,
            "padding": null,
            "right": null,
            "top": null,
            "visibility": null,
            "width": null
          }
        },
        "30ff88e0ec724b8b9a617fe510bd5a9e": {
          "model_module": "@jupyter-widgets/controls",
          "model_name": "DescriptionStyleModel",
          "model_module_version": "1.5.0",
          "state": {
            "_model_module": "@jupyter-widgets/controls",
            "_model_module_version": "1.5.0",
            "_model_name": "DescriptionStyleModel",
            "_view_count": null,
            "_view_module": "@jupyter-widgets/base",
            "_view_module_version": "1.2.0",
            "_view_name": "StyleView",
            "description_width": ""
          }
        },
        "8d8d61b7300a4a97bfae5d00a276e611": {
          "model_module": "@jupyter-widgets/controls",
          "model_name": "HBoxModel",
          "model_module_version": "1.5.0",
          "state": {
            "_dom_classes": [],
            "_model_module": "@jupyter-widgets/controls",
            "_model_module_version": "1.5.0",
            "_model_name": "HBoxModel",
            "_view_count": null,
            "_view_module": "@jupyter-widgets/controls",
            "_view_module_version": "1.5.0",
            "_view_name": "HBoxView",
            "box_style": "",
            "children": [
              "IPY_MODEL_1ac4335161f04ab4b9bf264081b3672b",
              "IPY_MODEL_b84193d25de04c8b9c00588db8b212f3",
              "IPY_MODEL_26fcf99665644346aa9f39317f75f8a0"
            ],
            "layout": "IPY_MODEL_82e214188a66493e8013bac5eb332a1d"
          }
        },
        "1ac4335161f04ab4b9bf264081b3672b": {
          "model_module": "@jupyter-widgets/controls",
          "model_name": "HTMLModel",
          "model_module_version": "1.5.0",
          "state": {
            "_dom_classes": [],
            "_model_module": "@jupyter-widgets/controls",
            "_model_module_version": "1.5.0",
            "_model_name": "HTMLModel",
            "_view_count": null,
            "_view_module": "@jupyter-widgets/controls",
            "_view_module_version": "1.5.0",
            "_view_name": "HTMLView",
            "description": "",
            "description_tooltip": null,
            "layout": "IPY_MODEL_6f4e3d6e7d5444719964aa4dfe728141",
            "placeholder": "​",
            "style": "IPY_MODEL_7b5e3aa4bcd54289806461e3e231b845",
            "value": "Downloading: 100%"
          }
        },
        "b84193d25de04c8b9c00588db8b212f3": {
          "model_module": "@jupyter-widgets/controls",
          "model_name": "FloatProgressModel",
          "model_module_version": "1.5.0",
          "state": {
            "_dom_classes": [],
            "_model_module": "@jupyter-widgets/controls",
            "_model_module_version": "1.5.0",
            "_model_name": "FloatProgressModel",
            "_view_count": null,
            "_view_module": "@jupyter-widgets/controls",
            "_view_module_version": "1.5.0",
            "_view_name": "ProgressView",
            "bar_style": "success",
            "description": "",
            "description_tooltip": null,
            "layout": "IPY_MODEL_9b997dbfec7c4ea69a6f34ae58007096",
            "max": 438011953,
            "min": 0,
            "orientation": "horizontal",
            "style": "IPY_MODEL_eb24400f46cf47b2be53cee936f0af6b",
            "value": 438011953
          }
        },
        "26fcf99665644346aa9f39317f75f8a0": {
          "model_module": "@jupyter-widgets/controls",
          "model_name": "HTMLModel",
          "model_module_version": "1.5.0",
          "state": {
            "_dom_classes": [],
            "_model_module": "@jupyter-widgets/controls",
            "_model_module_version": "1.5.0",
            "_model_name": "HTMLModel",
            "_view_count": null,
            "_view_module": "@jupyter-widgets/controls",
            "_view_module_version": "1.5.0",
            "_view_name": "HTMLView",
            "description": "",
            "description_tooltip": null,
            "layout": "IPY_MODEL_9dc595d2fa384a55939343ac72744866",
            "placeholder": "​",
            "style": "IPY_MODEL_38c2d55040d74031803ac3e584028537",
            "value": " 438M/438M [00:21&lt;00:00, 18.1MB/s]"
          }
        },
        "82e214188a66493e8013bac5eb332a1d": {
          "model_module": "@jupyter-widgets/base",
          "model_name": "LayoutModel",
          "model_module_version": "1.2.0",
          "state": {
            "_model_module": "@jupyter-widgets/base",
            "_model_module_version": "1.2.0",
            "_model_name": "LayoutModel",
            "_view_count": null,
            "_view_module": "@jupyter-widgets/base",
            "_view_module_version": "1.2.0",
            "_view_name": "LayoutView",
            "align_content": null,
            "align_items": null,
            "align_self": null,
            "border": null,
            "bottom": null,
            "display": null,
            "flex": null,
            "flex_flow": null,
            "grid_area": null,
            "grid_auto_columns": null,
            "grid_auto_flow": null,
            "grid_auto_rows": null,
            "grid_column": null,
            "grid_gap": null,
            "grid_row": null,
            "grid_template_areas": null,
            "grid_template_columns": null,
            "grid_template_rows": null,
            "height": null,
            "justify_content": null,
            "justify_items": null,
            "left": null,
            "margin": null,
            "max_height": null,
            "max_width": null,
            "min_height": null,
            "min_width": null,
            "object_fit": null,
            "object_position": null,
            "order": null,
            "overflow": null,
            "overflow_x": null,
            "overflow_y": null,
            "padding": null,
            "right": null,
            "top": null,
            "visibility": null,
            "width": null
          }
        },
        "6f4e3d6e7d5444719964aa4dfe728141": {
          "model_module": "@jupyter-widgets/base",
          "model_name": "LayoutModel",
          "model_module_version": "1.2.0",
          "state": {
            "_model_module": "@jupyter-widgets/base",
            "_model_module_version": "1.2.0",
            "_model_name": "LayoutModel",
            "_view_count": null,
            "_view_module": "@jupyter-widgets/base",
            "_view_module_version": "1.2.0",
            "_view_name": "LayoutView",
            "align_content": null,
            "align_items": null,
            "align_self": null,
            "border": null,
            "bottom": null,
            "display": null,
            "flex": null,
            "flex_flow": null,
            "grid_area": null,
            "grid_auto_columns": null,
            "grid_auto_flow": null,
            "grid_auto_rows": null,
            "grid_column": null,
            "grid_gap": null,
            "grid_row": null,
            "grid_template_areas": null,
            "grid_template_columns": null,
            "grid_template_rows": null,
            "height": null,
            "justify_content": null,
            "justify_items": null,
            "left": null,
            "margin": null,
            "max_height": null,
            "max_width": null,
            "min_height": null,
            "min_width": null,
            "object_fit": null,
            "object_position": null,
            "order": null,
            "overflow": null,
            "overflow_x": null,
            "overflow_y": null,
            "padding": null,
            "right": null,
            "top": null,
            "visibility": null,
            "width": null
          }
        },
        "7b5e3aa4bcd54289806461e3e231b845": {
          "model_module": "@jupyter-widgets/controls",
          "model_name": "DescriptionStyleModel",
          "model_module_version": "1.5.0",
          "state": {
            "_model_module": "@jupyter-widgets/controls",
            "_model_module_version": "1.5.0",
            "_model_name": "DescriptionStyleModel",
            "_view_count": null,
            "_view_module": "@jupyter-widgets/base",
            "_view_module_version": "1.2.0",
            "_view_name": "StyleView",
            "description_width": ""
          }
        },
        "9b997dbfec7c4ea69a6f34ae58007096": {
          "model_module": "@jupyter-widgets/base",
          "model_name": "LayoutModel",
          "model_module_version": "1.2.0",
          "state": {
            "_model_module": "@jupyter-widgets/base",
            "_model_module_version": "1.2.0",
            "_model_name": "LayoutModel",
            "_view_count": null,
            "_view_module": "@jupyter-widgets/base",
            "_view_module_version": "1.2.0",
            "_view_name": "LayoutView",
            "align_content": null,
            "align_items": null,
            "align_self": null,
            "border": null,
            "bottom": null,
            "display": null,
            "flex": null,
            "flex_flow": null,
            "grid_area": null,
            "grid_auto_columns": null,
            "grid_auto_flow": null,
            "grid_auto_rows": null,
            "grid_column": null,
            "grid_gap": null,
            "grid_row": null,
            "grid_template_areas": null,
            "grid_template_columns": null,
            "grid_template_rows": null,
            "height": null,
            "justify_content": null,
            "justify_items": null,
            "left": null,
            "margin": null,
            "max_height": null,
            "max_width": null,
            "min_height": null,
            "min_width": null,
            "object_fit": null,
            "object_position": null,
            "order": null,
            "overflow": null,
            "overflow_x": null,
            "overflow_y": null,
            "padding": null,
            "right": null,
            "top": null,
            "visibility": null,
            "width": null
          }
        },
        "eb24400f46cf47b2be53cee936f0af6b": {
          "model_module": "@jupyter-widgets/controls",
          "model_name": "ProgressStyleModel",
          "model_module_version": "1.5.0",
          "state": {
            "_model_module": "@jupyter-widgets/controls",
            "_model_module_version": "1.5.0",
            "_model_name": "ProgressStyleModel",
            "_view_count": null,
            "_view_module": "@jupyter-widgets/base",
            "_view_module_version": "1.2.0",
            "_view_name": "StyleView",
            "bar_color": null,
            "description_width": ""
          }
        },
        "9dc595d2fa384a55939343ac72744866": {
          "model_module": "@jupyter-widgets/base",
          "model_name": "LayoutModel",
          "model_module_version": "1.2.0",
          "state": {
            "_model_module": "@jupyter-widgets/base",
            "_model_module_version": "1.2.0",
            "_model_name": "LayoutModel",
            "_view_count": null,
            "_view_module": "@jupyter-widgets/base",
            "_view_module_version": "1.2.0",
            "_view_name": "LayoutView",
            "align_content": null,
            "align_items": null,
            "align_self": null,
            "border": null,
            "bottom": null,
            "display": null,
            "flex": null,
            "flex_flow": null,
            "grid_area": null,
            "grid_auto_columns": null,
            "grid_auto_flow": null,
            "grid_auto_rows": null,
            "grid_column": null,
            "grid_gap": null,
            "grid_row": null,
            "grid_template_areas": null,
            "grid_template_columns": null,
            "grid_template_rows": null,
            "height": null,
            "justify_content": null,
            "justify_items": null,
            "left": null,
            "margin": null,
            "max_height": null,
            "max_width": null,
            "min_height": null,
            "min_width": null,
            "object_fit": null,
            "object_position": null,
            "order": null,
            "overflow": null,
            "overflow_x": null,
            "overflow_y": null,
            "padding": null,
            "right": null,
            "top": null,
            "visibility": null,
            "width": null
          }
        },
        "38c2d55040d74031803ac3e584028537": {
          "model_module": "@jupyter-widgets/controls",
          "model_name": "DescriptionStyleModel",
          "model_module_version": "1.5.0",
          "state": {
            "_model_module": "@jupyter-widgets/controls",
            "_model_module_version": "1.5.0",
            "_model_name": "DescriptionStyleModel",
            "_view_count": null,
            "_view_module": "@jupyter-widgets/base",
            "_view_module_version": "1.2.0",
            "_view_name": "StyleView",
            "description_width": ""
          }
        },
        "cdc8e917edcc49559ad69b024f48eaa7": {
          "model_module": "@jupyter-widgets/controls",
          "model_name": "HBoxModel",
          "model_module_version": "1.5.0",
          "state": {
            "_dom_classes": [],
            "_model_module": "@jupyter-widgets/controls",
            "_model_module_version": "1.5.0",
            "_model_name": "HBoxModel",
            "_view_count": null,
            "_view_module": "@jupyter-widgets/controls",
            "_view_module_version": "1.5.0",
            "_view_name": "HBoxView",
            "box_style": "",
            "children": [
              "IPY_MODEL_fb014a18e4194480a062f5491ea133bb",
              "IPY_MODEL_4dd25db73364465fa7621b0c21fb803a",
              "IPY_MODEL_4327885d0c5b4b4eae4dcb4d4d9eea9f"
            ],
            "layout": "IPY_MODEL_8e1323bed2154a6d81058853de4a7608"
          }
        },
        "fb014a18e4194480a062f5491ea133bb": {
          "model_module": "@jupyter-widgets/controls",
          "model_name": "HTMLModel",
          "model_module_version": "1.5.0",
          "state": {
            "_dom_classes": [],
            "_model_module": "@jupyter-widgets/controls",
            "_model_module_version": "1.5.0",
            "_model_name": "HTMLModel",
            "_view_count": null,
            "_view_module": "@jupyter-widgets/controls",
            "_view_module_version": "1.5.0",
            "_view_name": "HTMLView",
            "description": "",
            "description_tooltip": null,
            "layout": "IPY_MODEL_73c03a99ac8e4707b0f91996a90a5c9d",
            "placeholder": "​",
            "style": "IPY_MODEL_229bd47a6d68443385dc7a7f17187222",
            "value": "Downloading: 100%"
          }
        },
        "4dd25db73364465fa7621b0c21fb803a": {
          "model_module": "@jupyter-widgets/controls",
          "model_name": "FloatProgressModel",
          "model_module_version": "1.5.0",
          "state": {
            "_dom_classes": [],
            "_model_module": "@jupyter-widgets/controls",
            "_model_module_version": "1.5.0",
            "_model_name": "FloatProgressModel",
            "_view_count": null,
            "_view_module": "@jupyter-widgets/controls",
            "_view_module_version": "1.5.0",
            "_view_name": "ProgressView",
            "bar_style": "success",
            "description": "",
            "description_tooltip": null,
            "layout": "IPY_MODEL_801f04017a48409ea6868c3a2eeecbdd",
            "max": 53,
            "min": 0,
            "orientation": "horizontal",
            "style": "IPY_MODEL_0b6b7f73976d4a29991f0e7d7587095c",
            "value": 53
          }
        },
        "4327885d0c5b4b4eae4dcb4d4d9eea9f": {
          "model_module": "@jupyter-widgets/controls",
          "model_name": "HTMLModel",
          "model_module_version": "1.5.0",
          "state": {
            "_dom_classes": [],
            "_model_module": "@jupyter-widgets/controls",
            "_model_module_version": "1.5.0",
            "_model_name": "HTMLModel",
            "_view_count": null,
            "_view_module": "@jupyter-widgets/controls",
            "_view_module_version": "1.5.0",
            "_view_name": "HTMLView",
            "description": "",
            "description_tooltip": null,
            "layout": "IPY_MODEL_4b64e87475fd4b6597523e987be0993b",
            "placeholder": "​",
            "style": "IPY_MODEL_c3c6ab848d2b4cd993ba731b6f5591fd",
            "value": " 53.0/53.0 [00:00&lt;00:00, 465B/s]"
          }
        },
        "8e1323bed2154a6d81058853de4a7608": {
          "model_module": "@jupyter-widgets/base",
          "model_name": "LayoutModel",
          "model_module_version": "1.2.0",
          "state": {
            "_model_module": "@jupyter-widgets/base",
            "_model_module_version": "1.2.0",
            "_model_name": "LayoutModel",
            "_view_count": null,
            "_view_module": "@jupyter-widgets/base",
            "_view_module_version": "1.2.0",
            "_view_name": "LayoutView",
            "align_content": null,
            "align_items": null,
            "align_self": null,
            "border": null,
            "bottom": null,
            "display": null,
            "flex": null,
            "flex_flow": null,
            "grid_area": null,
            "grid_auto_columns": null,
            "grid_auto_flow": null,
            "grid_auto_rows": null,
            "grid_column": null,
            "grid_gap": null,
            "grid_row": null,
            "grid_template_areas": null,
            "grid_template_columns": null,
            "grid_template_rows": null,
            "height": null,
            "justify_content": null,
            "justify_items": null,
            "left": null,
            "margin": null,
            "max_height": null,
            "max_width": null,
            "min_height": null,
            "min_width": null,
            "object_fit": null,
            "object_position": null,
            "order": null,
            "overflow": null,
            "overflow_x": null,
            "overflow_y": null,
            "padding": null,
            "right": null,
            "top": null,
            "visibility": null,
            "width": null
          }
        },
        "73c03a99ac8e4707b0f91996a90a5c9d": {
          "model_module": "@jupyter-widgets/base",
          "model_name": "LayoutModel",
          "model_module_version": "1.2.0",
          "state": {
            "_model_module": "@jupyter-widgets/base",
            "_model_module_version": "1.2.0",
            "_model_name": "LayoutModel",
            "_view_count": null,
            "_view_module": "@jupyter-widgets/base",
            "_view_module_version": "1.2.0",
            "_view_name": "LayoutView",
            "align_content": null,
            "align_items": null,
            "align_self": null,
            "border": null,
            "bottom": null,
            "display": null,
            "flex": null,
            "flex_flow": null,
            "grid_area": null,
            "grid_auto_columns": null,
            "grid_auto_flow": null,
            "grid_auto_rows": null,
            "grid_column": null,
            "grid_gap": null,
            "grid_row": null,
            "grid_template_areas": null,
            "grid_template_columns": null,
            "grid_template_rows": null,
            "height": null,
            "justify_content": null,
            "justify_items": null,
            "left": null,
            "margin": null,
            "max_height": null,
            "max_width": null,
            "min_height": null,
            "min_width": null,
            "object_fit": null,
            "object_position": null,
            "order": null,
            "overflow": null,
            "overflow_x": null,
            "overflow_y": null,
            "padding": null,
            "right": null,
            "top": null,
            "visibility": null,
            "width": null
          }
        },
        "229bd47a6d68443385dc7a7f17187222": {
          "model_module": "@jupyter-widgets/controls",
          "model_name": "DescriptionStyleModel",
          "model_module_version": "1.5.0",
          "state": {
            "_model_module": "@jupyter-widgets/controls",
            "_model_module_version": "1.5.0",
            "_model_name": "DescriptionStyleModel",
            "_view_count": null,
            "_view_module": "@jupyter-widgets/base",
            "_view_module_version": "1.2.0",
            "_view_name": "StyleView",
            "description_width": ""
          }
        },
        "801f04017a48409ea6868c3a2eeecbdd": {
          "model_module": "@jupyter-widgets/base",
          "model_name": "LayoutModel",
          "model_module_version": "1.2.0",
          "state": {
            "_model_module": "@jupyter-widgets/base",
            "_model_module_version": "1.2.0",
            "_model_name": "LayoutModel",
            "_view_count": null,
            "_view_module": "@jupyter-widgets/base",
            "_view_module_version": "1.2.0",
            "_view_name": "LayoutView",
            "align_content": null,
            "align_items": null,
            "align_self": null,
            "border": null,
            "bottom": null,
            "display": null,
            "flex": null,
            "flex_flow": null,
            "grid_area": null,
            "grid_auto_columns": null,
            "grid_auto_flow": null,
            "grid_auto_rows": null,
            "grid_column": null,
            "grid_gap": null,
            "grid_row": null,
            "grid_template_areas": null,
            "grid_template_columns": null,
            "grid_template_rows": null,
            "height": null,
            "justify_content": null,
            "justify_items": null,
            "left": null,
            "margin": null,
            "max_height": null,
            "max_width": null,
            "min_height": null,
            "min_width": null,
            "object_fit": null,
            "object_position": null,
            "order": null,
            "overflow": null,
            "overflow_x": null,
            "overflow_y": null,
            "padding": null,
            "right": null,
            "top": null,
            "visibility": null,
            "width": null
          }
        },
        "0b6b7f73976d4a29991f0e7d7587095c": {
          "model_module": "@jupyter-widgets/controls",
          "model_name": "ProgressStyleModel",
          "model_module_version": "1.5.0",
          "state": {
            "_model_module": "@jupyter-widgets/controls",
            "_model_module_version": "1.5.0",
            "_model_name": "ProgressStyleModel",
            "_view_count": null,
            "_view_module": "@jupyter-widgets/base",
            "_view_module_version": "1.2.0",
            "_view_name": "StyleView",
            "bar_color": null,
            "description_width": ""
          }
        },
        "4b64e87475fd4b6597523e987be0993b": {
          "model_module": "@jupyter-widgets/base",
          "model_name": "LayoutModel",
          "model_module_version": "1.2.0",
          "state": {
            "_model_module": "@jupyter-widgets/base",
            "_model_module_version": "1.2.0",
            "_model_name": "LayoutModel",
            "_view_count": null,
            "_view_module": "@jupyter-widgets/base",
            "_view_module_version": "1.2.0",
            "_view_name": "LayoutView",
            "align_content": null,
            "align_items": null,
            "align_self": null,
            "border": null,
            "bottom": null,
            "display": null,
            "flex": null,
            "flex_flow": null,
            "grid_area": null,
            "grid_auto_columns": null,
            "grid_auto_flow": null,
            "grid_auto_rows": null,
            "grid_column": null,
            "grid_gap": null,
            "grid_row": null,
            "grid_template_areas": null,
            "grid_template_columns": null,
            "grid_template_rows": null,
            "height": null,
            "justify_content": null,
            "justify_items": null,
            "left": null,
            "margin": null,
            "max_height": null,
            "max_width": null,
            "min_height": null,
            "min_width": null,
            "object_fit": null,
            "object_position": null,
            "order": null,
            "overflow": null,
            "overflow_x": null,
            "overflow_y": null,
            "padding": null,
            "right": null,
            "top": null,
            "visibility": null,
            "width": null
          }
        },
        "c3c6ab848d2b4cd993ba731b6f5591fd": {
          "model_module": "@jupyter-widgets/controls",
          "model_name": "DescriptionStyleModel",
          "model_module_version": "1.5.0",
          "state": {
            "_model_module": "@jupyter-widgets/controls",
            "_model_module_version": "1.5.0",
            "_model_name": "DescriptionStyleModel",
            "_view_count": null,
            "_view_module": "@jupyter-widgets/base",
            "_view_module_version": "1.2.0",
            "_view_name": "StyleView",
            "description_width": ""
          }
        },
        "d95c80eb180c40f6b9f4569cc5d31322": {
          "model_module": "@jupyter-widgets/controls",
          "model_name": "HBoxModel",
          "model_module_version": "1.5.0",
          "state": {
            "_dom_classes": [],
            "_model_module": "@jupyter-widgets/controls",
            "_model_module_version": "1.5.0",
            "_model_name": "HBoxModel",
            "_view_count": null,
            "_view_module": "@jupyter-widgets/controls",
            "_view_module_version": "1.5.0",
            "_view_name": "HBoxView",
            "box_style": "",
            "children": [
              "IPY_MODEL_a4e5c7fbe68246729987179e71516f94",
              "IPY_MODEL_5b12d04c14d6493aacabeb0e80617fc2",
              "IPY_MODEL_71b15071fd83459ca6398f90cf9080f6"
            ],
            "layout": "IPY_MODEL_74cd44d945924dd2b1ece1ca5608437d"
          }
        },
        "a4e5c7fbe68246729987179e71516f94": {
          "model_module": "@jupyter-widgets/controls",
          "model_name": "HTMLModel",
          "model_module_version": "1.5.0",
          "state": {
            "_dom_classes": [],
            "_model_module": "@jupyter-widgets/controls",
            "_model_module_version": "1.5.0",
            "_model_name": "HTMLModel",
            "_view_count": null,
            "_view_module": "@jupyter-widgets/controls",
            "_view_module_version": "1.5.0",
            "_view_name": "HTMLView",
            "description": "",
            "description_tooltip": null,
            "layout": "IPY_MODEL_001ce62480df4e0987ee505cdcfcdccf",
            "placeholder": "​",
            "style": "IPY_MODEL_c133d306653d4547a4199c18b4d58979",
            "value": "Downloading: 100%"
          }
        },
        "5b12d04c14d6493aacabeb0e80617fc2": {
          "model_module": "@jupyter-widgets/controls",
          "model_name": "FloatProgressModel",
          "model_module_version": "1.5.0",
          "state": {
            "_dom_classes": [],
            "_model_module": "@jupyter-widgets/controls",
            "_model_module_version": "1.5.0",
            "_model_name": "FloatProgressModel",
            "_view_count": null,
            "_view_module": "@jupyter-widgets/controls",
            "_view_module_version": "1.5.0",
            "_view_name": "ProgressView",
            "bar_style": "success",
            "description": "",
            "description_tooltip": null,
            "layout": "IPY_MODEL_7f71b3ad1af54d8089493fbb7770c6d1",
            "max": 239,
            "min": 0,
            "orientation": "horizontal",
            "style": "IPY_MODEL_72561a8057714bebad51a61b02ca5d6d",
            "value": 239
          }
        },
        "71b15071fd83459ca6398f90cf9080f6": {
          "model_module": "@jupyter-widgets/controls",
          "model_name": "HTMLModel",
          "model_module_version": "1.5.0",
          "state": {
            "_dom_classes": [],
            "_model_module": "@jupyter-widgets/controls",
            "_model_module_version": "1.5.0",
            "_model_name": "HTMLModel",
            "_view_count": null,
            "_view_module": "@jupyter-widgets/controls",
            "_view_module_version": "1.5.0",
            "_view_name": "HTMLView",
            "description": "",
            "description_tooltip": null,
            "layout": "IPY_MODEL_d79876a884ad4b659a525b75de22c729",
            "placeholder": "​",
            "style": "IPY_MODEL_c96239d2dae74b8f857a2f8560564587",
            "value": " 239/239 [00:00&lt;00:00, 2.28kB/s]"
          }
        },
        "74cd44d945924dd2b1ece1ca5608437d": {
          "model_module": "@jupyter-widgets/base",
          "model_name": "LayoutModel",
          "model_module_version": "1.2.0",
          "state": {
            "_model_module": "@jupyter-widgets/base",
            "_model_module_version": "1.2.0",
            "_model_name": "LayoutModel",
            "_view_count": null,
            "_view_module": "@jupyter-widgets/base",
            "_view_module_version": "1.2.0",
            "_view_name": "LayoutView",
            "align_content": null,
            "align_items": null,
            "align_self": null,
            "border": null,
            "bottom": null,
            "display": null,
            "flex": null,
            "flex_flow": null,
            "grid_area": null,
            "grid_auto_columns": null,
            "grid_auto_flow": null,
            "grid_auto_rows": null,
            "grid_column": null,
            "grid_gap": null,
            "grid_row": null,
            "grid_template_areas": null,
            "grid_template_columns": null,
            "grid_template_rows": null,
            "height": null,
            "justify_content": null,
            "justify_items": null,
            "left": null,
            "margin": null,
            "max_height": null,
            "max_width": null,
            "min_height": null,
            "min_width": null,
            "object_fit": null,
            "object_position": null,
            "order": null,
            "overflow": null,
            "overflow_x": null,
            "overflow_y": null,
            "padding": null,
            "right": null,
            "top": null,
            "visibility": null,
            "width": null
          }
        },
        "001ce62480df4e0987ee505cdcfcdccf": {
          "model_module": "@jupyter-widgets/base",
          "model_name": "LayoutModel",
          "model_module_version": "1.2.0",
          "state": {
            "_model_module": "@jupyter-widgets/base",
            "_model_module_version": "1.2.0",
            "_model_name": "LayoutModel",
            "_view_count": null,
            "_view_module": "@jupyter-widgets/base",
            "_view_module_version": "1.2.0",
            "_view_name": "LayoutView",
            "align_content": null,
            "align_items": null,
            "align_self": null,
            "border": null,
            "bottom": null,
            "display": null,
            "flex": null,
            "flex_flow": null,
            "grid_area": null,
            "grid_auto_columns": null,
            "grid_auto_flow": null,
            "grid_auto_rows": null,
            "grid_column": null,
            "grid_gap": null,
            "grid_row": null,
            "grid_template_areas": null,
            "grid_template_columns": null,
            "grid_template_rows": null,
            "height": null,
            "justify_content": null,
            "justify_items": null,
            "left": null,
            "margin": null,
            "max_height": null,
            "max_width": null,
            "min_height": null,
            "min_width": null,
            "object_fit": null,
            "object_position": null,
            "order": null,
            "overflow": null,
            "overflow_x": null,
            "overflow_y": null,
            "padding": null,
            "right": null,
            "top": null,
            "visibility": null,
            "width": null
          }
        },
        "c133d306653d4547a4199c18b4d58979": {
          "model_module": "@jupyter-widgets/controls",
          "model_name": "DescriptionStyleModel",
          "model_module_version": "1.5.0",
          "state": {
            "_model_module": "@jupyter-widgets/controls",
            "_model_module_version": "1.5.0",
            "_model_name": "DescriptionStyleModel",
            "_view_count": null,
            "_view_module": "@jupyter-widgets/base",
            "_view_module_version": "1.2.0",
            "_view_name": "StyleView",
            "description_width": ""
          }
        },
        "7f71b3ad1af54d8089493fbb7770c6d1": {
          "model_module": "@jupyter-widgets/base",
          "model_name": "LayoutModel",
          "model_module_version": "1.2.0",
          "state": {
            "_model_module": "@jupyter-widgets/base",
            "_model_module_version": "1.2.0",
            "_model_name": "LayoutModel",
            "_view_count": null,
            "_view_module": "@jupyter-widgets/base",
            "_view_module_version": "1.2.0",
            "_view_name": "LayoutView",
            "align_content": null,
            "align_items": null,
            "align_self": null,
            "border": null,
            "bottom": null,
            "display": null,
            "flex": null,
            "flex_flow": null,
            "grid_area": null,
            "grid_auto_columns": null,
            "grid_auto_flow": null,
            "grid_auto_rows": null,
            "grid_column": null,
            "grid_gap": null,
            "grid_row": null,
            "grid_template_areas": null,
            "grid_template_columns": null,
            "grid_template_rows": null,
            "height": null,
            "justify_content": null,
            "justify_items": null,
            "left": null,
            "margin": null,
            "max_height": null,
            "max_width": null,
            "min_height": null,
            "min_width": null,
            "object_fit": null,
            "object_position": null,
            "order": null,
            "overflow": null,
            "overflow_x": null,
            "overflow_y": null,
            "padding": null,
            "right": null,
            "top": null,
            "visibility": null,
            "width": null
          }
        },
        "72561a8057714bebad51a61b02ca5d6d": {
          "model_module": "@jupyter-widgets/controls",
          "model_name": "ProgressStyleModel",
          "model_module_version": "1.5.0",
          "state": {
            "_model_module": "@jupyter-widgets/controls",
            "_model_module_version": "1.5.0",
            "_model_name": "ProgressStyleModel",
            "_view_count": null,
            "_view_module": "@jupyter-widgets/base",
            "_view_module_version": "1.2.0",
            "_view_name": "StyleView",
            "bar_color": null,
            "description_width": ""
          }
        },
        "d79876a884ad4b659a525b75de22c729": {
          "model_module": "@jupyter-widgets/base",
          "model_name": "LayoutModel",
          "model_module_version": "1.2.0",
          "state": {
            "_model_module": "@jupyter-widgets/base",
            "_model_module_version": "1.2.0",
            "_model_name": "LayoutModel",
            "_view_count": null,
            "_view_module": "@jupyter-widgets/base",
            "_view_module_version": "1.2.0",
            "_view_name": "LayoutView",
            "align_content": null,
            "align_items": null,
            "align_self": null,
            "border": null,
            "bottom": null,
            "display": null,
            "flex": null,
            "flex_flow": null,
            "grid_area": null,
            "grid_auto_columns": null,
            "grid_auto_flow": null,
            "grid_auto_rows": null,
            "grid_column": null,
            "grid_gap": null,
            "grid_row": null,
            "grid_template_areas": null,
            "grid_template_columns": null,
            "grid_template_rows": null,
            "height": null,
            "justify_content": null,
            "justify_items": null,
            "left": null,
            "margin": null,
            "max_height": null,
            "max_width": null,
            "min_height": null,
            "min_width": null,
            "object_fit": null,
            "object_position": null,
            "order": null,
            "overflow": null,
            "overflow_x": null,
            "overflow_y": null,
            "padding": null,
            "right": null,
            "top": null,
            "visibility": null,
            "width": null
          }
        },
        "c96239d2dae74b8f857a2f8560564587": {
          "model_module": "@jupyter-widgets/controls",
          "model_name": "DescriptionStyleModel",
          "model_module_version": "1.5.0",
          "state": {
            "_model_module": "@jupyter-widgets/controls",
            "_model_module_version": "1.5.0",
            "_model_name": "DescriptionStyleModel",
            "_view_count": null,
            "_view_module": "@jupyter-widgets/base",
            "_view_module_version": "1.2.0",
            "_view_name": "StyleView",
            "description_width": ""
          }
        },
        "7013d81b13034e7ebc29da43d7b3c92b": {
          "model_module": "@jupyter-widgets/controls",
          "model_name": "HBoxModel",
          "model_module_version": "1.5.0",
          "state": {
            "_dom_classes": [],
            "_model_module": "@jupyter-widgets/controls",
            "_model_module_version": "1.5.0",
            "_model_name": "HBoxModel",
            "_view_count": null,
            "_view_module": "@jupyter-widgets/controls",
            "_view_module_version": "1.5.0",
            "_view_name": "HBoxView",
            "box_style": "",
            "children": [
              "IPY_MODEL_9c6882fd8b824d03a046b5810fba93fd",
              "IPY_MODEL_93b0328aaa5e42c0ae73e2567cb927e9",
              "IPY_MODEL_311a8a32073e4ebc8deab521527a219e"
            ],
            "layout": "IPY_MODEL_9dc7497bd86d448b993d70d6d0f9fdc5"
          }
        },
        "9c6882fd8b824d03a046b5810fba93fd": {
          "model_module": "@jupyter-widgets/controls",
          "model_name": "HTMLModel",
          "model_module_version": "1.5.0",
          "state": {
            "_dom_classes": [],
            "_model_module": "@jupyter-widgets/controls",
            "_model_module_version": "1.5.0",
            "_model_name": "HTMLModel",
            "_view_count": null,
            "_view_module": "@jupyter-widgets/controls",
            "_view_module_version": "1.5.0",
            "_view_name": "HTMLView",
            "description": "",
            "description_tooltip": null,
            "layout": "IPY_MODEL_eeab400ba7834f168e4bf383bd5d26c9",
            "placeholder": "​",
            "style": "IPY_MODEL_0d42c6493da048f796f012039e4cb0ff",
            "value": "Downloading: 100%"
          }
        },
        "93b0328aaa5e42c0ae73e2567cb927e9": {
          "model_module": "@jupyter-widgets/controls",
          "model_name": "FloatProgressModel",
          "model_module_version": "1.5.0",
          "state": {
            "_dom_classes": [],
            "_model_module": "@jupyter-widgets/controls",
            "_model_module_version": "1.5.0",
            "_model_name": "FloatProgressModel",
            "_view_count": null,
            "_view_module": "@jupyter-widgets/controls",
            "_view_module_version": "1.5.0",
            "_view_name": "ProgressView",
            "bar_style": "success",
            "description": "",
            "description_tooltip": null,
            "layout": "IPY_MODEL_9e35234f889a406291bc13c990bc4435",
            "max": 466021,
            "min": 0,
            "orientation": "horizontal",
            "style": "IPY_MODEL_14d90e4002004cf0bc859f92a47866b7",
            "value": 466021
          }
        },
        "311a8a32073e4ebc8deab521527a219e": {
          "model_module": "@jupyter-widgets/controls",
          "model_name": "HTMLModel",
          "model_module_version": "1.5.0",
          "state": {
            "_dom_classes": [],
            "_model_module": "@jupyter-widgets/controls",
            "_model_module_version": "1.5.0",
            "_model_name": "HTMLModel",
            "_view_count": null,
            "_view_module": "@jupyter-widgets/controls",
            "_view_module_version": "1.5.0",
            "_view_name": "HTMLView",
            "description": "",
            "description_tooltip": null,
            "layout": "IPY_MODEL_2a18469c2777401c9158c0903b43c88c",
            "placeholder": "​",
            "style": "IPY_MODEL_32369f0618a64d78be831f67a6ff48cc",
            "value": " 466k/466k [00:00&lt;00:00, 2.32MB/s]"
          }
        },
        "9dc7497bd86d448b993d70d6d0f9fdc5": {
          "model_module": "@jupyter-widgets/base",
          "model_name": "LayoutModel",
          "model_module_version": "1.2.0",
          "state": {
            "_model_module": "@jupyter-widgets/base",
            "_model_module_version": "1.2.0",
            "_model_name": "LayoutModel",
            "_view_count": null,
            "_view_module": "@jupyter-widgets/base",
            "_view_module_version": "1.2.0",
            "_view_name": "LayoutView",
            "align_content": null,
            "align_items": null,
            "align_self": null,
            "border": null,
            "bottom": null,
            "display": null,
            "flex": null,
            "flex_flow": null,
            "grid_area": null,
            "grid_auto_columns": null,
            "grid_auto_flow": null,
            "grid_auto_rows": null,
            "grid_column": null,
            "grid_gap": null,
            "grid_row": null,
            "grid_template_areas": null,
            "grid_template_columns": null,
            "grid_template_rows": null,
            "height": null,
            "justify_content": null,
            "justify_items": null,
            "left": null,
            "margin": null,
            "max_height": null,
            "max_width": null,
            "min_height": null,
            "min_width": null,
            "object_fit": null,
            "object_position": null,
            "order": null,
            "overflow": null,
            "overflow_x": null,
            "overflow_y": null,
            "padding": null,
            "right": null,
            "top": null,
            "visibility": null,
            "width": null
          }
        },
        "eeab400ba7834f168e4bf383bd5d26c9": {
          "model_module": "@jupyter-widgets/base",
          "model_name": "LayoutModel",
          "model_module_version": "1.2.0",
          "state": {
            "_model_module": "@jupyter-widgets/base",
            "_model_module_version": "1.2.0",
            "_model_name": "LayoutModel",
            "_view_count": null,
            "_view_module": "@jupyter-widgets/base",
            "_view_module_version": "1.2.0",
            "_view_name": "LayoutView",
            "align_content": null,
            "align_items": null,
            "align_self": null,
            "border": null,
            "bottom": null,
            "display": null,
            "flex": null,
            "flex_flow": null,
            "grid_area": null,
            "grid_auto_columns": null,
            "grid_auto_flow": null,
            "grid_auto_rows": null,
            "grid_column": null,
            "grid_gap": null,
            "grid_row": null,
            "grid_template_areas": null,
            "grid_template_columns": null,
            "grid_template_rows": null,
            "height": null,
            "justify_content": null,
            "justify_items": null,
            "left": null,
            "margin": null,
            "max_height": null,
            "max_width": null,
            "min_height": null,
            "min_width": null,
            "object_fit": null,
            "object_position": null,
            "order": null,
            "overflow": null,
            "overflow_x": null,
            "overflow_y": null,
            "padding": null,
            "right": null,
            "top": null,
            "visibility": null,
            "width": null
          }
        },
        "0d42c6493da048f796f012039e4cb0ff": {
          "model_module": "@jupyter-widgets/controls",
          "model_name": "DescriptionStyleModel",
          "model_module_version": "1.5.0",
          "state": {
            "_model_module": "@jupyter-widgets/controls",
            "_model_module_version": "1.5.0",
            "_model_name": "DescriptionStyleModel",
            "_view_count": null,
            "_view_module": "@jupyter-widgets/base",
            "_view_module_version": "1.2.0",
            "_view_name": "StyleView",
            "description_width": ""
          }
        },
        "9e35234f889a406291bc13c990bc4435": {
          "model_module": "@jupyter-widgets/base",
          "model_name": "LayoutModel",
          "model_module_version": "1.2.0",
          "state": {
            "_model_module": "@jupyter-widgets/base",
            "_model_module_version": "1.2.0",
            "_model_name": "LayoutModel",
            "_view_count": null,
            "_view_module": "@jupyter-widgets/base",
            "_view_module_version": "1.2.0",
            "_view_name": "LayoutView",
            "align_content": null,
            "align_items": null,
            "align_self": null,
            "border": null,
            "bottom": null,
            "display": null,
            "flex": null,
            "flex_flow": null,
            "grid_area": null,
            "grid_auto_columns": null,
            "grid_auto_flow": null,
            "grid_auto_rows": null,
            "grid_column": null,
            "grid_gap": null,
            "grid_row": null,
            "grid_template_areas": null,
            "grid_template_columns": null,
            "grid_template_rows": null,
            "height": null,
            "justify_content": null,
            "justify_items": null,
            "left": null,
            "margin": null,
            "max_height": null,
            "max_width": null,
            "min_height": null,
            "min_width": null,
            "object_fit": null,
            "object_position": null,
            "order": null,
            "overflow": null,
            "overflow_x": null,
            "overflow_y": null,
            "padding": null,
            "right": null,
            "top": null,
            "visibility": null,
            "width": null
          }
        },
        "14d90e4002004cf0bc859f92a47866b7": {
          "model_module": "@jupyter-widgets/controls",
          "model_name": "ProgressStyleModel",
          "model_module_version": "1.5.0",
          "state": {
            "_model_module": "@jupyter-widgets/controls",
            "_model_module_version": "1.5.0",
            "_model_name": "ProgressStyleModel",
            "_view_count": null,
            "_view_module": "@jupyter-widgets/base",
            "_view_module_version": "1.2.0",
            "_view_name": "StyleView",
            "bar_color": null,
            "description_width": ""
          }
        },
        "2a18469c2777401c9158c0903b43c88c": {
          "model_module": "@jupyter-widgets/base",
          "model_name": "LayoutModel",
          "model_module_version": "1.2.0",
          "state": {
            "_model_module": "@jupyter-widgets/base",
            "_model_module_version": "1.2.0",
            "_model_name": "LayoutModel",
            "_view_count": null,
            "_view_module": "@jupyter-widgets/base",
            "_view_module_version": "1.2.0",
            "_view_name": "LayoutView",
            "align_content": null,
            "align_items": null,
            "align_self": null,
            "border": null,
            "bottom": null,
            "display": null,
            "flex": null,
            "flex_flow": null,
            "grid_area": null,
            "grid_auto_columns": null,
            "grid_auto_flow": null,
            "grid_auto_rows": null,
            "grid_column": null,
            "grid_gap": null,
            "grid_row": null,
            "grid_template_areas": null,
            "grid_template_columns": null,
            "grid_template_rows": null,
            "height": null,
            "justify_content": null,
            "justify_items": null,
            "left": null,
            "margin": null,
            "max_height": null,
            "max_width": null,
            "min_height": null,
            "min_width": null,
            "object_fit": null,
            "object_position": null,
            "order": null,
            "overflow": null,
            "overflow_x": null,
            "overflow_y": null,
            "padding": null,
            "right": null,
            "top": null,
            "visibility": null,
            "width": null
          }
        },
        "32369f0618a64d78be831f67a6ff48cc": {
          "model_module": "@jupyter-widgets/controls",
          "model_name": "DescriptionStyleModel",
          "model_module_version": "1.5.0",
          "state": {
            "_model_module": "@jupyter-widgets/controls",
            "_model_module_version": "1.5.0",
            "_model_name": "DescriptionStyleModel",
            "_view_count": null,
            "_view_module": "@jupyter-widgets/base",
            "_view_module_version": "1.2.0",
            "_view_name": "StyleView",
            "description_width": ""
          }
        },
        "b46e055dd9b14a13bdd1945162c172c9": {
          "model_module": "@jupyter-widgets/controls",
          "model_name": "HBoxModel",
          "model_module_version": "1.5.0",
          "state": {
            "_dom_classes": [],
            "_model_module": "@jupyter-widgets/controls",
            "_model_module_version": "1.5.0",
            "_model_name": "HBoxModel",
            "_view_count": null,
            "_view_module": "@jupyter-widgets/controls",
            "_view_module_version": "1.5.0",
            "_view_name": "HBoxView",
            "box_style": "",
            "children": [
              "IPY_MODEL_f38682701e604697af62984c68400917",
              "IPY_MODEL_7c196b5204754b41ae7e5af1f803673c",
              "IPY_MODEL_422b70d83d5c4400afeb1853f4f7f80e"
            ],
            "layout": "IPY_MODEL_ad556de4b34d4d719317cb97a8912687"
          }
        },
        "f38682701e604697af62984c68400917": {
          "model_module": "@jupyter-widgets/controls",
          "model_name": "HTMLModel",
          "model_module_version": "1.5.0",
          "state": {
            "_dom_classes": [],
            "_model_module": "@jupyter-widgets/controls",
            "_model_module_version": "1.5.0",
            "_model_name": "HTMLModel",
            "_view_count": null,
            "_view_module": "@jupyter-widgets/controls",
            "_view_module_version": "1.5.0",
            "_view_name": "HTMLView",
            "description": "",
            "description_tooltip": null,
            "layout": "IPY_MODEL_089d7c47483d43d9b4d241b5c9ab26cf",
            "placeholder": "​",
            "style": "IPY_MODEL_3fee3176caa1439e84c8716d495df782",
            "value": "Downloading: 100%"
          }
        },
        "7c196b5204754b41ae7e5af1f803673c": {
          "model_module": "@jupyter-widgets/controls",
          "model_name": "FloatProgressModel",
          "model_module_version": "1.5.0",
          "state": {
            "_dom_classes": [],
            "_model_module": "@jupyter-widgets/controls",
            "_model_module_version": "1.5.0",
            "_model_name": "FloatProgressModel",
            "_view_count": null,
            "_view_module": "@jupyter-widgets/controls",
            "_view_module_version": "1.5.0",
            "_view_name": "ProgressView",
            "bar_style": "success",
            "description": "",
            "description_tooltip": null,
            "layout": "IPY_MODEL_e59ee13d3ff94d6eaa343fb619f74c0c",
            "max": 363,
            "min": 0,
            "orientation": "horizontal",
            "style": "IPY_MODEL_37e524ed76484a71ac5feeb5d0e1bf81",
            "value": 363
          }
        },
        "422b70d83d5c4400afeb1853f4f7f80e": {
          "model_module": "@jupyter-widgets/controls",
          "model_name": "HTMLModel",
          "model_module_version": "1.5.0",
          "state": {
            "_dom_classes": [],
            "_model_module": "@jupyter-widgets/controls",
            "_model_module_version": "1.5.0",
            "_model_name": "HTMLModel",
            "_view_count": null,
            "_view_module": "@jupyter-widgets/controls",
            "_view_module_version": "1.5.0",
            "_view_name": "HTMLView",
            "description": "",
            "description_tooltip": null,
            "layout": "IPY_MODEL_246d621d7b6e45789052df4e6469cf5d",
            "placeholder": "​",
            "style": "IPY_MODEL_a11a9d919e124dcaa71f396b07205657",
            "value": " 363/363 [00:00&lt;00:00, 1.56kB/s]"
          }
        },
        "ad556de4b34d4d719317cb97a8912687": {
          "model_module": "@jupyter-widgets/base",
          "model_name": "LayoutModel",
          "model_module_version": "1.2.0",
          "state": {
            "_model_module": "@jupyter-widgets/base",
            "_model_module_version": "1.2.0",
            "_model_name": "LayoutModel",
            "_view_count": null,
            "_view_module": "@jupyter-widgets/base",
            "_view_module_version": "1.2.0",
            "_view_name": "LayoutView",
            "align_content": null,
            "align_items": null,
            "align_self": null,
            "border": null,
            "bottom": null,
            "display": null,
            "flex": null,
            "flex_flow": null,
            "grid_area": null,
            "grid_auto_columns": null,
            "grid_auto_flow": null,
            "grid_auto_rows": null,
            "grid_column": null,
            "grid_gap": null,
            "grid_row": null,
            "grid_template_areas": null,
            "grid_template_columns": null,
            "grid_template_rows": null,
            "height": null,
            "justify_content": null,
            "justify_items": null,
            "left": null,
            "margin": null,
            "max_height": null,
            "max_width": null,
            "min_height": null,
            "min_width": null,
            "object_fit": null,
            "object_position": null,
            "order": null,
            "overflow": null,
            "overflow_x": null,
            "overflow_y": null,
            "padding": null,
            "right": null,
            "top": null,
            "visibility": null,
            "width": null
          }
        },
        "089d7c47483d43d9b4d241b5c9ab26cf": {
          "model_module": "@jupyter-widgets/base",
          "model_name": "LayoutModel",
          "model_module_version": "1.2.0",
          "state": {
            "_model_module": "@jupyter-widgets/base",
            "_model_module_version": "1.2.0",
            "_model_name": "LayoutModel",
            "_view_count": null,
            "_view_module": "@jupyter-widgets/base",
            "_view_module_version": "1.2.0",
            "_view_name": "LayoutView",
            "align_content": null,
            "align_items": null,
            "align_self": null,
            "border": null,
            "bottom": null,
            "display": null,
            "flex": null,
            "flex_flow": null,
            "grid_area": null,
            "grid_auto_columns": null,
            "grid_auto_flow": null,
            "grid_auto_rows": null,
            "grid_column": null,
            "grid_gap": null,
            "grid_row": null,
            "grid_template_areas": null,
            "grid_template_columns": null,
            "grid_template_rows": null,
            "height": null,
            "justify_content": null,
            "justify_items": null,
            "left": null,
            "margin": null,
            "max_height": null,
            "max_width": null,
            "min_height": null,
            "min_width": null,
            "object_fit": null,
            "object_position": null,
            "order": null,
            "overflow": null,
            "overflow_x": null,
            "overflow_y": null,
            "padding": null,
            "right": null,
            "top": null,
            "visibility": null,
            "width": null
          }
        },
        "3fee3176caa1439e84c8716d495df782": {
          "model_module": "@jupyter-widgets/controls",
          "model_name": "DescriptionStyleModel",
          "model_module_version": "1.5.0",
          "state": {
            "_model_module": "@jupyter-widgets/controls",
            "_model_module_version": "1.5.0",
            "_model_name": "DescriptionStyleModel",
            "_view_count": null,
            "_view_module": "@jupyter-widgets/base",
            "_view_module_version": "1.2.0",
            "_view_name": "StyleView",
            "description_width": ""
          }
        },
        "e59ee13d3ff94d6eaa343fb619f74c0c": {
          "model_module": "@jupyter-widgets/base",
          "model_name": "LayoutModel",
          "model_module_version": "1.2.0",
          "state": {
            "_model_module": "@jupyter-widgets/base",
            "_model_module_version": "1.2.0",
            "_model_name": "LayoutModel",
            "_view_count": null,
            "_view_module": "@jupyter-widgets/base",
            "_view_module_version": "1.2.0",
            "_view_name": "LayoutView",
            "align_content": null,
            "align_items": null,
            "align_self": null,
            "border": null,
            "bottom": null,
            "display": null,
            "flex": null,
            "flex_flow": null,
            "grid_area": null,
            "grid_auto_columns": null,
            "grid_auto_flow": null,
            "grid_auto_rows": null,
            "grid_column": null,
            "grid_gap": null,
            "grid_row": null,
            "grid_template_areas": null,
            "grid_template_columns": null,
            "grid_template_rows": null,
            "height": null,
            "justify_content": null,
            "justify_items": null,
            "left": null,
            "margin": null,
            "max_height": null,
            "max_width": null,
            "min_height": null,
            "min_width": null,
            "object_fit": null,
            "object_position": null,
            "order": null,
            "overflow": null,
            "overflow_x": null,
            "overflow_y": null,
            "padding": null,
            "right": null,
            "top": null,
            "visibility": null,
            "width": null
          }
        },
        "37e524ed76484a71ac5feeb5d0e1bf81": {
          "model_module": "@jupyter-widgets/controls",
          "model_name": "ProgressStyleModel",
          "model_module_version": "1.5.0",
          "state": {
            "_model_module": "@jupyter-widgets/controls",
            "_model_module_version": "1.5.0",
            "_model_name": "ProgressStyleModel",
            "_view_count": null,
            "_view_module": "@jupyter-widgets/base",
            "_view_module_version": "1.2.0",
            "_view_name": "StyleView",
            "bar_color": null,
            "description_width": ""
          }
        },
        "246d621d7b6e45789052df4e6469cf5d": {
          "model_module": "@jupyter-widgets/base",
          "model_name": "LayoutModel",
          "model_module_version": "1.2.0",
          "state": {
            "_model_module": "@jupyter-widgets/base",
            "_model_module_version": "1.2.0",
            "_model_name": "LayoutModel",
            "_view_count": null,
            "_view_module": "@jupyter-widgets/base",
            "_view_module_version": "1.2.0",
            "_view_name": "LayoutView",
            "align_content": null,
            "align_items": null,
            "align_self": null,
            "border": null,
            "bottom": null,
            "display": null,
            "flex": null,
            "flex_flow": null,
            "grid_area": null,
            "grid_auto_columns": null,
            "grid_auto_flow": null,
            "grid_auto_rows": null,
            "grid_column": null,
            "grid_gap": null,
            "grid_row": null,
            "grid_template_areas": null,
            "grid_template_columns": null,
            "grid_template_rows": null,
            "height": null,
            "justify_content": null,
            "justify_items": null,
            "left": null,
            "margin": null,
            "max_height": null,
            "max_width": null,
            "min_height": null,
            "min_width": null,
            "object_fit": null,
            "object_position": null,
            "order": null,
            "overflow": null,
            "overflow_x": null,
            "overflow_y": null,
            "padding": null,
            "right": null,
            "top": null,
            "visibility": null,
            "width": null
          }
        },
        "a11a9d919e124dcaa71f396b07205657": {
          "model_module": "@jupyter-widgets/controls",
          "model_name": "DescriptionStyleModel",
          "model_module_version": "1.5.0",
          "state": {
            "_model_module": "@jupyter-widgets/controls",
            "_model_module_version": "1.5.0",
            "_model_name": "DescriptionStyleModel",
            "_view_count": null,
            "_view_module": "@jupyter-widgets/base",
            "_view_module_version": "1.2.0",
            "_view_name": "StyleView",
            "description_width": ""
          }
        },
        "ef3bd49507de4ba2b7f6a75cbc2c45f4": {
          "model_module": "@jupyter-widgets/controls",
          "model_name": "HBoxModel",
          "model_module_version": "1.5.0",
          "state": {
            "_dom_classes": [],
            "_model_module": "@jupyter-widgets/controls",
            "_model_module_version": "1.5.0",
            "_model_name": "HBoxModel",
            "_view_count": null,
            "_view_module": "@jupyter-widgets/controls",
            "_view_module_version": "1.5.0",
            "_view_name": "HBoxView",
            "box_style": "",
            "children": [
              "IPY_MODEL_392559b494ab4fd5b3d4b0ca00fb3de8",
              "IPY_MODEL_eacc12294f7549ea96be70d1193ac271",
              "IPY_MODEL_f2e45f0c3f0b45c8ba556c757d670e26"
            ],
            "layout": "IPY_MODEL_9bdc0f7fc13c4eebadb479a17fda34ec"
          }
        },
        "392559b494ab4fd5b3d4b0ca00fb3de8": {
          "model_module": "@jupyter-widgets/controls",
          "model_name": "HTMLModel",
          "model_module_version": "1.5.0",
          "state": {
            "_dom_classes": [],
            "_model_module": "@jupyter-widgets/controls",
            "_model_module_version": "1.5.0",
            "_model_name": "HTMLModel",
            "_view_count": null,
            "_view_module": "@jupyter-widgets/controls",
            "_view_module_version": "1.5.0",
            "_view_name": "HTMLView",
            "description": "",
            "description_tooltip": null,
            "layout": "IPY_MODEL_849cb91f392a46199cdbd2c44ca2afb0",
            "placeholder": "​",
            "style": "IPY_MODEL_c7df6d55995549ec8c9e45e92c9a9add",
            "value": "Downloading: 100%"
          }
        },
        "eacc12294f7549ea96be70d1193ac271": {
          "model_module": "@jupyter-widgets/controls",
          "model_name": "FloatProgressModel",
          "model_module_version": "1.5.0",
          "state": {
            "_dom_classes": [],
            "_model_module": "@jupyter-widgets/controls",
            "_model_module_version": "1.5.0",
            "_model_name": "FloatProgressModel",
            "_view_count": null,
            "_view_module": "@jupyter-widgets/controls",
            "_view_module_version": "1.5.0",
            "_view_name": "ProgressView",
            "bar_style": "success",
            "description": "",
            "description_tooltip": null,
            "layout": "IPY_MODEL_22f9f2857b734fbc9633a57cd2b43da7",
            "max": 13123,
            "min": 0,
            "orientation": "horizontal",
            "style": "IPY_MODEL_00bde6b165dc45bfa5e2e40ed2a0dc84",
            "value": 13123
          }
        },
        "f2e45f0c3f0b45c8ba556c757d670e26": {
          "model_module": "@jupyter-widgets/controls",
          "model_name": "HTMLModel",
          "model_module_version": "1.5.0",
          "state": {
            "_dom_classes": [],
            "_model_module": "@jupyter-widgets/controls",
            "_model_module_version": "1.5.0",
            "_model_name": "HTMLModel",
            "_view_count": null,
            "_view_module": "@jupyter-widgets/controls",
            "_view_module_version": "1.5.0",
            "_view_name": "HTMLView",
            "description": "",
            "description_tooltip": null,
            "layout": "IPY_MODEL_692f4c539cec4d84a2a8ed03cc4a378a",
            "placeholder": "​",
            "style": "IPY_MODEL_1a8d4fe977cc4831b33fb05123c08fc2",
            "value": " 13.1k/13.1k [00:00&lt;00:00, 5.96kB/s]"
          }
        },
        "9bdc0f7fc13c4eebadb479a17fda34ec": {
          "model_module": "@jupyter-widgets/base",
          "model_name": "LayoutModel",
          "model_module_version": "1.2.0",
          "state": {
            "_model_module": "@jupyter-widgets/base",
            "_model_module_version": "1.2.0",
            "_model_name": "LayoutModel",
            "_view_count": null,
            "_view_module": "@jupyter-widgets/base",
            "_view_module_version": "1.2.0",
            "_view_name": "LayoutView",
            "align_content": null,
            "align_items": null,
            "align_self": null,
            "border": null,
            "bottom": null,
            "display": null,
            "flex": null,
            "flex_flow": null,
            "grid_area": null,
            "grid_auto_columns": null,
            "grid_auto_flow": null,
            "grid_auto_rows": null,
            "grid_column": null,
            "grid_gap": null,
            "grid_row": null,
            "grid_template_areas": null,
            "grid_template_columns": null,
            "grid_template_rows": null,
            "height": null,
            "justify_content": null,
            "justify_items": null,
            "left": null,
            "margin": null,
            "max_height": null,
            "max_width": null,
            "min_height": null,
            "min_width": null,
            "object_fit": null,
            "object_position": null,
            "order": null,
            "overflow": null,
            "overflow_x": null,
            "overflow_y": null,
            "padding": null,
            "right": null,
            "top": null,
            "visibility": null,
            "width": null
          }
        },
        "849cb91f392a46199cdbd2c44ca2afb0": {
          "model_module": "@jupyter-widgets/base",
          "model_name": "LayoutModel",
          "model_module_version": "1.2.0",
          "state": {
            "_model_module": "@jupyter-widgets/base",
            "_model_module_version": "1.2.0",
            "_model_name": "LayoutModel",
            "_view_count": null,
            "_view_module": "@jupyter-widgets/base",
            "_view_module_version": "1.2.0",
            "_view_name": "LayoutView",
            "align_content": null,
            "align_items": null,
            "align_self": null,
            "border": null,
            "bottom": null,
            "display": null,
            "flex": null,
            "flex_flow": null,
            "grid_area": null,
            "grid_auto_columns": null,
            "grid_auto_flow": null,
            "grid_auto_rows": null,
            "grid_column": null,
            "grid_gap": null,
            "grid_row": null,
            "grid_template_areas": null,
            "grid_template_columns": null,
            "grid_template_rows": null,
            "height": null,
            "justify_content": null,
            "justify_items": null,
            "left": null,
            "margin": null,
            "max_height": null,
            "max_width": null,
            "min_height": null,
            "min_width": null,
            "object_fit": null,
            "object_position": null,
            "order": null,
            "overflow": null,
            "overflow_x": null,
            "overflow_y": null,
            "padding": null,
            "right": null,
            "top": null,
            "visibility": null,
            "width": null
          }
        },
        "c7df6d55995549ec8c9e45e92c9a9add": {
          "model_module": "@jupyter-widgets/controls",
          "model_name": "DescriptionStyleModel",
          "model_module_version": "1.5.0",
          "state": {
            "_model_module": "@jupyter-widgets/controls",
            "_model_module_version": "1.5.0",
            "_model_name": "DescriptionStyleModel",
            "_view_count": null,
            "_view_module": "@jupyter-widgets/base",
            "_view_module_version": "1.2.0",
            "_view_name": "StyleView",
            "description_width": ""
          }
        },
        "22f9f2857b734fbc9633a57cd2b43da7": {
          "model_module": "@jupyter-widgets/base",
          "model_name": "LayoutModel",
          "model_module_version": "1.2.0",
          "state": {
            "_model_module": "@jupyter-widgets/base",
            "_model_module_version": "1.2.0",
            "_model_name": "LayoutModel",
            "_view_count": null,
            "_view_module": "@jupyter-widgets/base",
            "_view_module_version": "1.2.0",
            "_view_name": "LayoutView",
            "align_content": null,
            "align_items": null,
            "align_self": null,
            "border": null,
            "bottom": null,
            "display": null,
            "flex": null,
            "flex_flow": null,
            "grid_area": null,
            "grid_auto_columns": null,
            "grid_auto_flow": null,
            "grid_auto_rows": null,
            "grid_column": null,
            "grid_gap": null,
            "grid_row": null,
            "grid_template_areas": null,
            "grid_template_columns": null,
            "grid_template_rows": null,
            "height": null,
            "justify_content": null,
            "justify_items": null,
            "left": null,
            "margin": null,
            "max_height": null,
            "max_width": null,
            "min_height": null,
            "min_width": null,
            "object_fit": null,
            "object_position": null,
            "order": null,
            "overflow": null,
            "overflow_x": null,
            "overflow_y": null,
            "padding": null,
            "right": null,
            "top": null,
            "visibility": null,
            "width": null
          }
        },
        "00bde6b165dc45bfa5e2e40ed2a0dc84": {
          "model_module": "@jupyter-widgets/controls",
          "model_name": "ProgressStyleModel",
          "model_module_version": "1.5.0",
          "state": {
            "_model_module": "@jupyter-widgets/controls",
            "_model_module_version": "1.5.0",
            "_model_name": "ProgressStyleModel",
            "_view_count": null,
            "_view_module": "@jupyter-widgets/base",
            "_view_module_version": "1.2.0",
            "_view_name": "StyleView",
            "bar_color": null,
            "description_width": ""
          }
        },
        "692f4c539cec4d84a2a8ed03cc4a378a": {
          "model_module": "@jupyter-widgets/base",
          "model_name": "LayoutModel",
          "model_module_version": "1.2.0",
          "state": {
            "_model_module": "@jupyter-widgets/base",
            "_model_module_version": "1.2.0",
            "_model_name": "LayoutModel",
            "_view_count": null,
            "_view_module": "@jupyter-widgets/base",
            "_view_module_version": "1.2.0",
            "_view_name": "LayoutView",
            "align_content": null,
            "align_items": null,
            "align_self": null,
            "border": null,
            "bottom": null,
            "display": null,
            "flex": null,
            "flex_flow": null,
            "grid_area": null,
            "grid_auto_columns": null,
            "grid_auto_flow": null,
            "grid_auto_rows": null,
            "grid_column": null,
            "grid_gap": null,
            "grid_row": null,
            "grid_template_areas": null,
            "grid_template_columns": null,
            "grid_template_rows": null,
            "height": null,
            "justify_content": null,
            "justify_items": null,
            "left": null,
            "margin": null,
            "max_height": null,
            "max_width": null,
            "min_height": null,
            "min_width": null,
            "object_fit": null,
            "object_position": null,
            "order": null,
            "overflow": null,
            "overflow_x": null,
            "overflow_y": null,
            "padding": null,
            "right": null,
            "top": null,
            "visibility": null,
            "width": null
          }
        },
        "1a8d4fe977cc4831b33fb05123c08fc2": {
          "model_module": "@jupyter-widgets/controls",
          "model_name": "DescriptionStyleModel",
          "model_module_version": "1.5.0",
          "state": {
            "_model_module": "@jupyter-widgets/controls",
            "_model_module_version": "1.5.0",
            "_model_name": "DescriptionStyleModel",
            "_view_count": null,
            "_view_module": "@jupyter-widgets/base",
            "_view_module_version": "1.2.0",
            "_view_name": "StyleView",
            "description_width": ""
          }
        },
        "0bad7104c71f4eb5b5e27dda2665cd1b": {
          "model_module": "@jupyter-widgets/controls",
          "model_name": "HBoxModel",
          "model_module_version": "1.5.0",
          "state": {
            "_dom_classes": [],
            "_model_module": "@jupyter-widgets/controls",
            "_model_module_version": "1.5.0",
            "_model_name": "HBoxModel",
            "_view_count": null,
            "_view_module": "@jupyter-widgets/controls",
            "_view_module_version": "1.5.0",
            "_view_name": "HBoxView",
            "box_style": "",
            "children": [
              "IPY_MODEL_ce8c5585811d45f4a044c19936d8d33a",
              "IPY_MODEL_4590cdb73a684b9d9654830eb1d23f69",
              "IPY_MODEL_3f25ba5f7c984ce6b5d7747dc6f94ff1"
            ],
            "layout": "IPY_MODEL_369192c3f55642f2bc3325628787f588"
          }
        },
        "ce8c5585811d45f4a044c19936d8d33a": {
          "model_module": "@jupyter-widgets/controls",
          "model_name": "HTMLModel",
          "model_module_version": "1.5.0",
          "state": {
            "_dom_classes": [],
            "_model_module": "@jupyter-widgets/controls",
            "_model_module_version": "1.5.0",
            "_model_name": "HTMLModel",
            "_view_count": null,
            "_view_module": "@jupyter-widgets/controls",
            "_view_module_version": "1.5.0",
            "_view_name": "HTMLView",
            "description": "",
            "description_tooltip": null,
            "layout": "IPY_MODEL_582913c5cce24c7ab41e81b1183e2821",
            "placeholder": "​",
            "style": "IPY_MODEL_38e514d211c64a5cb835fec3fbbbd61e",
            "value": "Downloading: 100%"
          }
        },
        "4590cdb73a684b9d9654830eb1d23f69": {
          "model_module": "@jupyter-widgets/controls",
          "model_name": "FloatProgressModel",
          "model_module_version": "1.5.0",
          "state": {
            "_dom_classes": [],
            "_model_module": "@jupyter-widgets/controls",
            "_model_module_version": "1.5.0",
            "_model_name": "FloatProgressModel",
            "_view_count": null,
            "_view_module": "@jupyter-widgets/controls",
            "_view_module_version": "1.5.0",
            "_view_name": "ProgressView",
            "bar_style": "success",
            "description": "",
            "description_tooltip": null,
            "layout": "IPY_MODEL_d20ae33421774efeba24811c28d023c1",
            "max": 231536,
            "min": 0,
            "orientation": "horizontal",
            "style": "IPY_MODEL_6c34f12dc128483d8777986d7d6c0c64",
            "value": 231536
          }
        },
        "3f25ba5f7c984ce6b5d7747dc6f94ff1": {
          "model_module": "@jupyter-widgets/controls",
          "model_name": "HTMLModel",
          "model_module_version": "1.5.0",
          "state": {
            "_dom_classes": [],
            "_model_module": "@jupyter-widgets/controls",
            "_model_module_version": "1.5.0",
            "_model_name": "HTMLModel",
            "_view_count": null,
            "_view_module": "@jupyter-widgets/controls",
            "_view_module_version": "1.5.0",
            "_view_name": "HTMLView",
            "description": "",
            "description_tooltip": null,
            "layout": "IPY_MODEL_adec680c8c5c40f9bd081fcb54fafc9d",
            "placeholder": "​",
            "style": "IPY_MODEL_047ed8e1763b4557bec6316d5a7ea990",
            "value": " 232k/232k [00:00&lt;00:00, 1.68MB/s]"
          }
        },
        "369192c3f55642f2bc3325628787f588": {
          "model_module": "@jupyter-widgets/base",
          "model_name": "LayoutModel",
          "model_module_version": "1.2.0",
          "state": {
            "_model_module": "@jupyter-widgets/base",
            "_model_module_version": "1.2.0",
            "_model_name": "LayoutModel",
            "_view_count": null,
            "_view_module": "@jupyter-widgets/base",
            "_view_module_version": "1.2.0",
            "_view_name": "LayoutView",
            "align_content": null,
            "align_items": null,
            "align_self": null,
            "border": null,
            "bottom": null,
            "display": null,
            "flex": null,
            "flex_flow": null,
            "grid_area": null,
            "grid_auto_columns": null,
            "grid_auto_flow": null,
            "grid_auto_rows": null,
            "grid_column": null,
            "grid_gap": null,
            "grid_row": null,
            "grid_template_areas": null,
            "grid_template_columns": null,
            "grid_template_rows": null,
            "height": null,
            "justify_content": null,
            "justify_items": null,
            "left": null,
            "margin": null,
            "max_height": null,
            "max_width": null,
            "min_height": null,
            "min_width": null,
            "object_fit": null,
            "object_position": null,
            "order": null,
            "overflow": null,
            "overflow_x": null,
            "overflow_y": null,
            "padding": null,
            "right": null,
            "top": null,
            "visibility": null,
            "width": null
          }
        },
        "582913c5cce24c7ab41e81b1183e2821": {
          "model_module": "@jupyter-widgets/base",
          "model_name": "LayoutModel",
          "model_module_version": "1.2.0",
          "state": {
            "_model_module": "@jupyter-widgets/base",
            "_model_module_version": "1.2.0",
            "_model_name": "LayoutModel",
            "_view_count": null,
            "_view_module": "@jupyter-widgets/base",
            "_view_module_version": "1.2.0",
            "_view_name": "LayoutView",
            "align_content": null,
            "align_items": null,
            "align_self": null,
            "border": null,
            "bottom": null,
            "display": null,
            "flex": null,
            "flex_flow": null,
            "grid_area": null,
            "grid_auto_columns": null,
            "grid_auto_flow": null,
            "grid_auto_rows": null,
            "grid_column": null,
            "grid_gap": null,
            "grid_row": null,
            "grid_template_areas": null,
            "grid_template_columns": null,
            "grid_template_rows": null,
            "height": null,
            "justify_content": null,
            "justify_items": null,
            "left": null,
            "margin": null,
            "max_height": null,
            "max_width": null,
            "min_height": null,
            "min_width": null,
            "object_fit": null,
            "object_position": null,
            "order": null,
            "overflow": null,
            "overflow_x": null,
            "overflow_y": null,
            "padding": null,
            "right": null,
            "top": null,
            "visibility": null,
            "width": null
          }
        },
        "38e514d211c64a5cb835fec3fbbbd61e": {
          "model_module": "@jupyter-widgets/controls",
          "model_name": "DescriptionStyleModel",
          "model_module_version": "1.5.0",
          "state": {
            "_model_module": "@jupyter-widgets/controls",
            "_model_module_version": "1.5.0",
            "_model_name": "DescriptionStyleModel",
            "_view_count": null,
            "_view_module": "@jupyter-widgets/base",
            "_view_module_version": "1.2.0",
            "_view_name": "StyleView",
            "description_width": ""
          }
        },
        "d20ae33421774efeba24811c28d023c1": {
          "model_module": "@jupyter-widgets/base",
          "model_name": "LayoutModel",
          "model_module_version": "1.2.0",
          "state": {
            "_model_module": "@jupyter-widgets/base",
            "_model_module_version": "1.2.0",
            "_model_name": "LayoutModel",
            "_view_count": null,
            "_view_module": "@jupyter-widgets/base",
            "_view_module_version": "1.2.0",
            "_view_name": "LayoutView",
            "align_content": null,
            "align_items": null,
            "align_self": null,
            "border": null,
            "bottom": null,
            "display": null,
            "flex": null,
            "flex_flow": null,
            "grid_area": null,
            "grid_auto_columns": null,
            "grid_auto_flow": null,
            "grid_auto_rows": null,
            "grid_column": null,
            "grid_gap": null,
            "grid_row": null,
            "grid_template_areas": null,
            "grid_template_columns": null,
            "grid_template_rows": null,
            "height": null,
            "justify_content": null,
            "justify_items": null,
            "left": null,
            "margin": null,
            "max_height": null,
            "max_width": null,
            "min_height": null,
            "min_width": null,
            "object_fit": null,
            "object_position": null,
            "order": null,
            "overflow": null,
            "overflow_x": null,
            "overflow_y": null,
            "padding": null,
            "right": null,
            "top": null,
            "visibility": null,
            "width": null
          }
        },
        "6c34f12dc128483d8777986d7d6c0c64": {
          "model_module": "@jupyter-widgets/controls",
          "model_name": "ProgressStyleModel",
          "model_module_version": "1.5.0",
          "state": {
            "_model_module": "@jupyter-widgets/controls",
            "_model_module_version": "1.5.0",
            "_model_name": "ProgressStyleModel",
            "_view_count": null,
            "_view_module": "@jupyter-widgets/base",
            "_view_module_version": "1.2.0",
            "_view_name": "StyleView",
            "bar_color": null,
            "description_width": ""
          }
        },
        "adec680c8c5c40f9bd081fcb54fafc9d": {
          "model_module": "@jupyter-widgets/base",
          "model_name": "LayoutModel",
          "model_module_version": "1.2.0",
          "state": {
            "_model_module": "@jupyter-widgets/base",
            "_model_module_version": "1.2.0",
            "_model_name": "LayoutModel",
            "_view_count": null,
            "_view_module": "@jupyter-widgets/base",
            "_view_module_version": "1.2.0",
            "_view_name": "LayoutView",
            "align_content": null,
            "align_items": null,
            "align_self": null,
            "border": null,
            "bottom": null,
            "display": null,
            "flex": null,
            "flex_flow": null,
            "grid_area": null,
            "grid_auto_columns": null,
            "grid_auto_flow": null,
            "grid_auto_rows": null,
            "grid_column": null,
            "grid_gap": null,
            "grid_row": null,
            "grid_template_areas": null,
            "grid_template_columns": null,
            "grid_template_rows": null,
            "height": null,
            "justify_content": null,
            "justify_items": null,
            "left": null,
            "margin": null,
            "max_height": null,
            "max_width": null,
            "min_height": null,
            "min_width": null,
            "object_fit": null,
            "object_position": null,
            "order": null,
            "overflow": null,
            "overflow_x": null,
            "overflow_y": null,
            "padding": null,
            "right": null,
            "top": null,
            "visibility": null,
            "width": null
          }
        },
        "047ed8e1763b4557bec6316d5a7ea990": {
          "model_module": "@jupyter-widgets/controls",
          "model_name": "DescriptionStyleModel",
          "model_module_version": "1.5.0",
          "state": {
            "_model_module": "@jupyter-widgets/controls",
            "_model_module_version": "1.5.0",
            "_model_name": "DescriptionStyleModel",
            "_view_count": null,
            "_view_module": "@jupyter-widgets/base",
            "_view_module_version": "1.2.0",
            "_view_name": "StyleView",
            "description_width": ""
          }
        },
        "ea2f0762f3004afc9b82f78c373d64aa": {
          "model_module": "@jupyter-widgets/controls",
          "model_name": "HBoxModel",
          "model_module_version": "1.5.0",
          "state": {
            "_dom_classes": [],
            "_model_module": "@jupyter-widgets/controls",
            "_model_module_version": "1.5.0",
            "_model_name": "HBoxModel",
            "_view_count": null,
            "_view_module": "@jupyter-widgets/controls",
            "_view_module_version": "1.5.0",
            "_view_name": "HBoxView",
            "box_style": "",
            "children": [
              "IPY_MODEL_e8eaa38c9efb43d2afd2dcbfa1b925f0",
              "IPY_MODEL_e84134804c3d413b9e7f50e1ceb139a5",
              "IPY_MODEL_b7c5b8712cd0405cb473937c7e1127b1"
            ],
            "layout": "IPY_MODEL_bfc0750061cf4ddcbb9016e7a7961a43"
          }
        },
        "e8eaa38c9efb43d2afd2dcbfa1b925f0": {
          "model_module": "@jupyter-widgets/controls",
          "model_name": "HTMLModel",
          "model_module_version": "1.5.0",
          "state": {
            "_dom_classes": [],
            "_model_module": "@jupyter-widgets/controls",
            "_model_module_version": "1.5.0",
            "_model_name": "HTMLModel",
            "_view_count": null,
            "_view_module": "@jupyter-widgets/controls",
            "_view_module_version": "1.5.0",
            "_view_name": "HTMLView",
            "description": "",
            "description_tooltip": null,
            "layout": "IPY_MODEL_cfca6d00578245898d1deeb536267ed6",
            "placeholder": "​",
            "style": "IPY_MODEL_74a9f07205a049e6b0d46df429b07a37",
            "value": "Downloading: 100%"
          }
        },
        "e84134804c3d413b9e7f50e1ceb139a5": {
          "model_module": "@jupyter-widgets/controls",
          "model_name": "FloatProgressModel",
          "model_module_version": "1.5.0",
          "state": {
            "_dom_classes": [],
            "_model_module": "@jupyter-widgets/controls",
            "_model_module_version": "1.5.0",
            "_model_name": "FloatProgressModel",
            "_view_count": null,
            "_view_module": "@jupyter-widgets/controls",
            "_view_module_version": "1.5.0",
            "_view_name": "ProgressView",
            "bar_style": "success",
            "description": "",
            "description_tooltip": null,
            "layout": "IPY_MODEL_249d3b650d3f4e6a8a0966704064e7ee",
            "max": 349,
            "min": 0,
            "orientation": "horizontal",
            "style": "IPY_MODEL_3749688543634bd680d96378ba27a8d7",
            "value": 349
          }
        },
        "b7c5b8712cd0405cb473937c7e1127b1": {
          "model_module": "@jupyter-widgets/controls",
          "model_name": "HTMLModel",
          "model_module_version": "1.5.0",
          "state": {
            "_dom_classes": [],
            "_model_module": "@jupyter-widgets/controls",
            "_model_module_version": "1.5.0",
            "_model_name": "HTMLModel",
            "_view_count": null,
            "_view_module": "@jupyter-widgets/controls",
            "_view_module_version": "1.5.0",
            "_view_name": "HTMLView",
            "description": "",
            "description_tooltip": null,
            "layout": "IPY_MODEL_b0ccfb57f53a486db5b15f88b994ed9d",
            "placeholder": "​",
            "style": "IPY_MODEL_95e77d994caa4dbeb8c61e78d4e5f626",
            "value": " 349/349 [00:00&lt;00:00, 7.04kB/s]"
          }
        },
        "bfc0750061cf4ddcbb9016e7a7961a43": {
          "model_module": "@jupyter-widgets/base",
          "model_name": "LayoutModel",
          "model_module_version": "1.2.0",
          "state": {
            "_model_module": "@jupyter-widgets/base",
            "_model_module_version": "1.2.0",
            "_model_name": "LayoutModel",
            "_view_count": null,
            "_view_module": "@jupyter-widgets/base",
            "_view_module_version": "1.2.0",
            "_view_name": "LayoutView",
            "align_content": null,
            "align_items": null,
            "align_self": null,
            "border": null,
            "bottom": null,
            "display": null,
            "flex": null,
            "flex_flow": null,
            "grid_area": null,
            "grid_auto_columns": null,
            "grid_auto_flow": null,
            "grid_auto_rows": null,
            "grid_column": null,
            "grid_gap": null,
            "grid_row": null,
            "grid_template_areas": null,
            "grid_template_columns": null,
            "grid_template_rows": null,
            "height": null,
            "justify_content": null,
            "justify_items": null,
            "left": null,
            "margin": null,
            "max_height": null,
            "max_width": null,
            "min_height": null,
            "min_width": null,
            "object_fit": null,
            "object_position": null,
            "order": null,
            "overflow": null,
            "overflow_x": null,
            "overflow_y": null,
            "padding": null,
            "right": null,
            "top": null,
            "visibility": null,
            "width": null
          }
        },
        "cfca6d00578245898d1deeb536267ed6": {
          "model_module": "@jupyter-widgets/base",
          "model_name": "LayoutModel",
          "model_module_version": "1.2.0",
          "state": {
            "_model_module": "@jupyter-widgets/base",
            "_model_module_version": "1.2.0",
            "_model_name": "LayoutModel",
            "_view_count": null,
            "_view_module": "@jupyter-widgets/base",
            "_view_module_version": "1.2.0",
            "_view_name": "LayoutView",
            "align_content": null,
            "align_items": null,
            "align_self": null,
            "border": null,
            "bottom": null,
            "display": null,
            "flex": null,
            "flex_flow": null,
            "grid_area": null,
            "grid_auto_columns": null,
            "grid_auto_flow": null,
            "grid_auto_rows": null,
            "grid_column": null,
            "grid_gap": null,
            "grid_row": null,
            "grid_template_areas": null,
            "grid_template_columns": null,
            "grid_template_rows": null,
            "height": null,
            "justify_content": null,
            "justify_items": null,
            "left": null,
            "margin": null,
            "max_height": null,
            "max_width": null,
            "min_height": null,
            "min_width": null,
            "object_fit": null,
            "object_position": null,
            "order": null,
            "overflow": null,
            "overflow_x": null,
            "overflow_y": null,
            "padding": null,
            "right": null,
            "top": null,
            "visibility": null,
            "width": null
          }
        },
        "74a9f07205a049e6b0d46df429b07a37": {
          "model_module": "@jupyter-widgets/controls",
          "model_name": "DescriptionStyleModel",
          "model_module_version": "1.5.0",
          "state": {
            "_model_module": "@jupyter-widgets/controls",
            "_model_module_version": "1.5.0",
            "_model_name": "DescriptionStyleModel",
            "_view_count": null,
            "_view_module": "@jupyter-widgets/base",
            "_view_module_version": "1.2.0",
            "_view_name": "StyleView",
            "description_width": ""
          }
        },
        "249d3b650d3f4e6a8a0966704064e7ee": {
          "model_module": "@jupyter-widgets/base",
          "model_name": "LayoutModel",
          "model_module_version": "1.2.0",
          "state": {
            "_model_module": "@jupyter-widgets/base",
            "_model_module_version": "1.2.0",
            "_model_name": "LayoutModel",
            "_view_count": null,
            "_view_module": "@jupyter-widgets/base",
            "_view_module_version": "1.2.0",
            "_view_name": "LayoutView",
            "align_content": null,
            "align_items": null,
            "align_self": null,
            "border": null,
            "bottom": null,
            "display": null,
            "flex": null,
            "flex_flow": null,
            "grid_area": null,
            "grid_auto_columns": null,
            "grid_auto_flow": null,
            "grid_auto_rows": null,
            "grid_column": null,
            "grid_gap": null,
            "grid_row": null,
            "grid_template_areas": null,
            "grid_template_columns": null,
            "grid_template_rows": null,
            "height": null,
            "justify_content": null,
            "justify_items": null,
            "left": null,
            "margin": null,
            "max_height": null,
            "max_width": null,
            "min_height": null,
            "min_width": null,
            "object_fit": null,
            "object_position": null,
            "order": null,
            "overflow": null,
            "overflow_x": null,
            "overflow_y": null,
            "padding": null,
            "right": null,
            "top": null,
            "visibility": null,
            "width": null
          }
        },
        "3749688543634bd680d96378ba27a8d7": {
          "model_module": "@jupyter-widgets/controls",
          "model_name": "ProgressStyleModel",
          "model_module_version": "1.5.0",
          "state": {
            "_model_module": "@jupyter-widgets/controls",
            "_model_module_version": "1.5.0",
            "_model_name": "ProgressStyleModel",
            "_view_count": null,
            "_view_module": "@jupyter-widgets/base",
            "_view_module_version": "1.2.0",
            "_view_name": "StyleView",
            "bar_color": null,
            "description_width": ""
          }
        },
        "b0ccfb57f53a486db5b15f88b994ed9d": {
          "model_module": "@jupyter-widgets/base",
          "model_name": "LayoutModel",
          "model_module_version": "1.2.0",
          "state": {
            "_model_module": "@jupyter-widgets/base",
            "_model_module_version": "1.2.0",
            "_model_name": "LayoutModel",
            "_view_count": null,
            "_view_module": "@jupyter-widgets/base",
            "_view_module_version": "1.2.0",
            "_view_name": "LayoutView",
            "align_content": null,
            "align_items": null,
            "align_self": null,
            "border": null,
            "bottom": null,
            "display": null,
            "flex": null,
            "flex_flow": null,
            "grid_area": null,
            "grid_auto_columns": null,
            "grid_auto_flow": null,
            "grid_auto_rows": null,
            "grid_column": null,
            "grid_gap": null,
            "grid_row": null,
            "grid_template_areas": null,
            "grid_template_columns": null,
            "grid_template_rows": null,
            "height": null,
            "justify_content": null,
            "justify_items": null,
            "left": null,
            "margin": null,
            "max_height": null,
            "max_width": null,
            "min_height": null,
            "min_width": null,
            "object_fit": null,
            "object_position": null,
            "order": null,
            "overflow": null,
            "overflow_x": null,
            "overflow_y": null,
            "padding": null,
            "right": null,
            "top": null,
            "visibility": null,
            "width": null
          }
        },
        "95e77d994caa4dbeb8c61e78d4e5f626": {
          "model_module": "@jupyter-widgets/controls",
          "model_name": "DescriptionStyleModel",
          "model_module_version": "1.5.0",
          "state": {
            "_model_module": "@jupyter-widgets/controls",
            "_model_module_version": "1.5.0",
            "_model_name": "DescriptionStyleModel",
            "_view_count": null,
            "_view_module": "@jupyter-widgets/base",
            "_view_module_version": "1.2.0",
            "_view_name": "StyleView",
            "description_width": ""
          }
        }
      }
    }
  },
  "cells": [
    {
      "cell_type": "markdown",
      "metadata": {
        "id": "view-in-github",
        "colab_type": "text"
      },
      "source": [
        "<a href=\"https://colab.research.google.com/github/umbertoselva/Museum-FAQ-Chatbot/blob/main/Museum_FAQ_Chatbot.ipynb\" target=\"_parent\"><img src=\"https://colab.research.google.com/assets/colab-badge.svg\" alt=\"Open In Colab\"/></a>"
      ]
    },
    {
      "cell_type": "markdown",
      "source": [
        "# MUSEUM FAQ CHATBOT"
      ],
      "metadata": {
        "id": "Bi0A-OiUBM4x"
      }
    },
    {
      "cell_type": "markdown",
      "source": [
        "In this small Google Colab project I am going to build a chatbot that is able to answer questions based on a museum FAQ list."
      ],
      "metadata": {
        "id": "d4EiJBSVBN0l"
      }
    },
    {
      "cell_type": "markdown",
      "source": [
        "I am going to use the following tools:\n",
        "* ```sentence-transformers```\n",
        "* ```elasticsearch``` \n",
        "* and a ```gradio``` user interface\n",
        "\n",
        "\n"
      ],
      "metadata": {
        "id": "2QsrZrZfBN1_"
      }
    },
    {
      "cell_type": "markdown",
      "source": [
        "The basic idea is the following:\n",
        "\n",
        "I will use a sentence transformer to encode all of the FAQ questions beforehand. \n",
        "\n",
        "I will then store each FAQ question's encoded embeddings next to their corresponding answer in an Elasticsearch index.\n",
        "\n",
        "I will then build a function that will similarly encode the user question as soon as the user inputs it via a user interface.\n",
        "\n",
        "Finally, the same function will query the Elasticsearch index in order to retrieve the FAQ question embeddings that are more similar to the user question embeddings, and will then return the corresponding answer.\n",
        "\n",
        "\n"
      ],
      "metadata": {
        "id": "xd_EVYjSBOJZ"
      }
    },
    {
      "cell_type": "markdown",
      "source": [
        "## TABLE OF CONTENTS\n",
        "\n",
        "1. [Collecting the dataset](#s01)\n",
        "\n",
        "2. [Saving the dataset in a CSV file](#s02)\n",
        "\n",
        "3. [Getting the saved dataset from Google Drive](#s03)\n",
        "\n",
        "4. [Setting up Elasticsearch](#s04)\n",
        "\n",
        "5. [Setting up the Sentence Transformer](#s05)\n",
        "\n",
        "6. [Encoding the FAQ questions](#s06)\n",
        "\n",
        "7. [Populating the Elasticsearch index](#s07)\n",
        "\n",
        "8. [The *encode_and_query* function](#s08)\n",
        "\n",
        "9. [The Gradio user interface](#s09)"
      ],
      "metadata": {
        "id": "sat9ubBNuves"
      }
    },
    {
      "cell_type": "markdown",
      "source": [
        "N.B. If you would like try out the chatbot yourself in Google Colab, you don't need to run the whole notebook from the beginning (i.e. you don't need to scrape the museum website again: the FAQ list might have changed by the time I have finished this project!), so you can skip straight to [point 3](#s03) and run the cells below from there."
      ],
      "metadata": {
        "id": "HkS9mmX01WKm"
      }
    },
    {
      "cell_type": "markdown",
      "source": [
        "Ok, let's start!"
      ],
      "metadata": {
        "id": "VIazE82M0FHO"
      }
    },
    {
      "cell_type": "markdown",
      "source": [
        "<a name=\"s01\"></a>\n",
        "## 1. COLLECTING THE DATASET"
      ],
      "metadata": {
        "id": "mb5QKOJLBG_0"
      }
    },
    {
      "cell_type": "markdown",
      "source": [
        "For this project we shall use the FAQ of the Stedelijk Museum of Amsterdam in the Netherlands.\n",
        "\n",
        "As per June 30, 2020, they are available at https://www.stedelijk.nl/en/visit/faq and consist in a set of 68 questions, which seems like a reasonable dataset for our small project.\n",
        "\n",
        "Let us first of all scrape the FAQ items from the website."
      ],
      "metadata": {
        "id": "FEYaof8Xvr_k"
      }
    },
    {
      "cell_type": "code",
      "execution_count": null,
      "metadata": {
        "id": "pPK_HZgwR1G8"
      },
      "outputs": [],
      "source": [
        "import requests"
      ]
    },
    {
      "cell_type": "code",
      "source": [
        "URL = \"https://www.stedelijk.nl/en/visit/faq\"\n",
        "page = requests.get(URL)"
      ],
      "metadata": {
        "id": "RqrkaYofJUJN"
      },
      "execution_count": null,
      "outputs": []
    },
    {
      "cell_type": "code",
      "source": [
        "from bs4 import BeautifulSoup"
      ],
      "metadata": {
        "id": "GEz1Y6UQJeFb"
      },
      "execution_count": null,
      "outputs": []
    },
    {
      "cell_type": "code",
      "source": [
        "soup = BeautifulSoup(page.content, \"html.parser\")"
      ],
      "metadata": {
        "id": "J-qfF6_aJfXK"
      },
      "execution_count": null,
      "outputs": []
    },
    {
      "cell_type": "code",
      "source": [
        "type(soup)"
      ],
      "metadata": {
        "colab": {
          "base_uri": "https://localhost:8080/"
        },
        "id": "qek2UOlKScQT",
        "outputId": "1c2674c5-fabe-4c5a-960f-44b82f8c75f2"
      },
      "execution_count": null,
      "outputs": [
        {
          "output_type": "execute_result",
          "data": {
            "text/plain": [
              "bs4.BeautifulSoup"
            ]
          },
          "metadata": {},
          "execution_count": 5
        }
      ]
    },
    {
      "cell_type": "markdown",
      "source": [
        "This BeautifulSoup object contains the full HTML text of the webpage."
      ],
      "metadata": {
        "id": "-VzNWzyHwdnN"
      }
    },
    {
      "cell_type": "markdown",
      "source": [
        "The portion containing the text of the FAQ questions and their corresponding answers is a series of blocks like the following:\n",
        "\n",
        "```\n",
        "<h3 class=\"faq__title\">\n",
        "<a aria-expanded=\"false\" class=\"faq__button\" data-handler=\"accessibleCollapser\" data-target=\"#when-museum-open\" data-target-class=\"js-is-expanded\" href=\"https://www.stedelijk.nl/en/faq/when-museum-open\">\n",
        "                    What are the opening hours?\n",
        "                </a>\n",
        "</h3>\n",
        "<div class=\"faq__answer\">\n",
        "<p>The Stedelijk is open daily from 10 am to 6 pm, 365 days a year, also during the holidays. </p>\n",
        "</div>\n",
        "```\n",
        "\n"
      ],
      "metadata": {
        "id": "FHj6chtEa4c4"
      }
    },
    {
      "cell_type": "markdown",
      "source": [
        "Thus, the FAQ questions are contained in the HTML elements identified by the ```<h3 class=\"faq__title\">``` tag.\n",
        "\n",
        "We can use the BeautifulSourp ```.find_all()``` method to retrieve them."
      ],
      "metadata": {
        "id": "YRtDQxrrw3GW"
      }
    },
    {
      "cell_type": "code",
      "source": [
        "html_questions = soup.find_all(\"h3\", {\"class\": \"faq__title\"})"
      ],
      "metadata": {
        "id": "xnF5ecBSSmuG"
      },
      "execution_count": null,
      "outputs": []
    },
    {
      "cell_type": "code",
      "source": [
        "type(html_questions)"
      ],
      "metadata": {
        "colab": {
          "base_uri": "https://localhost:8080/"
        },
        "id": "XeEpNaq-TFgG",
        "outputId": "04965d30-4353-4ca2-d913-32b3840cb9b3"
      },
      "execution_count": null,
      "outputs": [
        {
          "output_type": "execute_result",
          "data": {
            "text/plain": [
              "bs4.element.ResultSet"
            ]
          },
          "metadata": {},
          "execution_count": 7
        }
      ]
    },
    {
      "cell_type": "code",
      "source": [
        "html_questions[:2]"
      ],
      "metadata": {
        "colab": {
          "base_uri": "https://localhost:8080/"
        },
        "id": "nzax0T75TIee",
        "outputId": "6861a06d-31f3-453c-b46b-c88ec56c511c"
      },
      "execution_count": null,
      "outputs": [
        {
          "output_type": "execute_result",
          "data": {
            "text/plain": [
              "[<h3 class=\"faq__title\">\n",
              " <a aria-expanded=\"false\" class=\"faq__button\" data-handler=\"accessibleCollapser\" data-target=\"#when-museum-open\" data-target-class=\"js-is-expanded\" href=\"https://www.stedelijk.nl/en/faq/when-museum-open\">\n",
              "                     What are the opening hours?\n",
              "                 </a>\n",
              " </h3>, <h3 class=\"faq__title\">\n",
              " <a aria-expanded=\"false\" class=\"faq__button\" data-handler=\"accessibleCollapser\" data-target=\"#does-museum-have-priority-lane\" data-target-class=\"js-is-expanded\" href=\"https://www.stedelijk.nl/en/faq/does-museum-have-priority-lane\">\n",
              "                     Does the museum have a Priority Lane?\n",
              "                 </a>\n",
              " </h3>]"
            ]
          },
          "metadata": {},
          "execution_count": 8
        }
      ]
    },
    {
      "cell_type": "markdown",
      "source": [
        "We can access the raw text as follows:"
      ],
      "metadata": {
        "id": "3c-kLNhqx9pm"
      }
    },
    {
      "cell_type": "code",
      "source": [
        "html_questions[0].text"
      ],
      "metadata": {
        "colab": {
          "base_uri": "https://localhost:8080/",
          "height": 35
        },
        "id": "BZtSD6vfTmmp",
        "outputId": "0aa1471f-5429-4ed8-8a78-a5710bf49714"
      },
      "execution_count": null,
      "outputs": [
        {
          "output_type": "execute_result",
          "data": {
            "text/plain": [
              "'\\n\\n                    What are the opening hours?\\n                \\n'"
            ],
            "application/vnd.google.colaboratory.intrinsic+json": {
              "type": "string"
            }
          },
          "metadata": {},
          "execution_count": 9
        }
      ]
    },
    {
      "cell_type": "markdown",
      "source": [
        "We need to do some cleaning:"
      ],
      "metadata": {
        "id": "AsbpSuT9yGoi"
      }
    },
    {
      "cell_type": "code",
      "source": [
        "html_questions[0].text.strip()"
      ],
      "metadata": {
        "colab": {
          "base_uri": "https://localhost:8080/",
          "height": 35
        },
        "id": "-hK7WYkhTmpX",
        "outputId": "be978e42-c5c2-458a-a17a-d44f044977c9"
      },
      "execution_count": null,
      "outputs": [
        {
          "output_type": "execute_result",
          "data": {
            "text/plain": [
              "'What are the opening hours?'"
            ],
            "application/vnd.google.colaboratory.intrinsic+json": {
              "type": "string"
            }
          },
          "metadata": {},
          "execution_count": 10
        }
      ]
    },
    {
      "cell_type": "code",
      "source": [
        "html_questions[1].text.strip()"
      ],
      "metadata": {
        "colab": {
          "base_uri": "https://localhost:8080/",
          "height": 35
        },
        "id": "fLrzcKEgUbCV",
        "outputId": "c5e7cdb9-0d9e-4e2f-ecea-e47ac2530ab7"
      },
      "execution_count": null,
      "outputs": [
        {
          "output_type": "execute_result",
          "data": {
            "text/plain": [
              "'Does the museum have a Priority Lane?'"
            ],
            "application/vnd.google.colaboratory.intrinsic+json": {
              "type": "string"
            }
          },
          "metadata": {},
          "execution_count": 11
        }
      ]
    },
    {
      "cell_type": "markdown",
      "source": [
        "Perfect. Let's make a list with the text of all the questions."
      ],
      "metadata": {
        "id": "uVg7fbuPyN-c"
      }
    },
    {
      "cell_type": "code",
      "source": [
        "question_list = [q.get_text().strip() for q in html_questions]"
      ],
      "metadata": {
        "id": "TIxSZiTcUqFO"
      },
      "execution_count": null,
      "outputs": []
    },
    {
      "cell_type": "code",
      "source": [
        "question_list"
      ],
      "metadata": {
        "colab": {
          "base_uri": "https://localhost:8080/"
        },
        "id": "uGBTSHIHWpv5",
        "outputId": "b440211f-6a67-4551-cc27-04491b1ab9f7"
      },
      "execution_count": null,
      "outputs": [
        {
          "output_type": "execute_result",
          "data": {
            "text/plain": [
              "['What are the opening hours?',\n",
              " 'Does the museum have a Priority Lane?',\n",
              " 'Is it possible to make a reservation?',\n",
              " 'Do I need to book a ticket online before my visit to the museum?',\n",
              " 'I have a Museum card (Museumkaart) or other valid admission ticket. Do I also need to buy an online ticket?',\n",
              " 'Do I need to print out my ticket(s)?',\n",
              " 'Can I purchase a Museum Card at the Stedelijk Museum?',\n",
              " 'How much are tickets for students and children?',\n",
              " 'I won’t be able to visit the museum. Can I give my ticket to someone else?',\n",
              " 'I am a Member of the museum. Do I also need to buy an online ticket?',\n",
              " 'Can I cancel the ticket I bought?',\n",
              " 'I haven’t received my ticket. What should I do?',\n",
              " 'I still have a question about my ticket',\n",
              " \"I don't have access to internet and/or a smartphone. How can I reserve a ticket?\",\n",
              " 'Is the restaurant and/or the Zadelhoff café open?',\n",
              " 'Does the museum have lockers, as well as a Cloakroom?',\n",
              " 'When do the guided tours run, and how long are they?',\n",
              " 'Can I leave my suitcase or trolley?',\n",
              " 'Can I visit the museum with a group?',\n",
              " 'How long can I stay at the museum?',\n",
              " 'Is there a fixed route through the museum?',\n",
              " 'What hygiene methods is the museum taking?',\n",
              " 'Is the museum shop open?',\n",
              " 'I have a cold or flu symptoms. What should I do?',\n",
              " 'Are the toilets open?',\n",
              " 'Is the library open?',\n",
              " 'Do I need a covid certificate (QR code) or negative test result to visit the museum?',\n",
              " 'I haven’t been vaccinated but I want to visit the museum. Is that possible?',\n",
              " 'Are face masks mandatory in the museum?',\n",
              " 'I only want to visit the shop. Do I need a ticket?',\n",
              " 'I want to visit with my students/pupils? What are the current safety measures?',\n",
              " 'Can I take photographs in the museum?',\n",
              " 'Will I be confronted with explicit imagery?',\n",
              " 'Are audio tours available?',\n",
              " 'May I bring food and/or beverages into the museum?',\n",
              " 'Can I use the toilet when I am not visiting the museum?',\n",
              " 'Can I reserve a wheelchair?',\n",
              " 'May I bring my dog?',\n",
              " 'Are there facilities for people with physical disabilities?',\n",
              " 'Is there somewhere where I can breastfeed or express milk in private?',\n",
              " 'Are there any events in the museum?',\n",
              " 'How many artworks are featured in the permanent collection presentation?',\n",
              " 'Can I be sure that my favorite artworks are on show?',\n",
              " 'Are there children’s activities at the museum?',\n",
              " 'When can I book a class or group tour?',\n",
              " 'Which times can I book?',\n",
              " 'Where can I book?',\n",
              " 'Can I book at times at times other than the specified time slots?',\n",
              " 'How far in advance do I need to book a tour?',\n",
              " 'What do the education programs cost?',\n",
              " 'How can I pay?',\n",
              " 'How long before our time slot do we need to arrive?',\n",
              " 'How many pupils or groups can I include in one visit?',\n",
              " 'How many group leaders do you expect per group?',\n",
              " 'Do I need a coronavirus entry pass or QR code?',\n",
              " 'Do we have to keep a 1.5 M distance from each other as a class?',\n",
              " 'Is a face mask mandatory?',\n",
              " 'I want to visit the museum with my class or group but I would rather not book a tour. Is that possible?',\n",
              " 'Until when can I book an independent group visit?',\n",
              " 'Can I change the duration of the tour?',\n",
              " 'Can I cancel or reschedule a planned tour?',\n",
              " 'Do I have to apply for an independent group visit if it’s for a small group of students?',\n",
              " 'Is it possible to adjust the content of a tour?',\n",
              " 'Can we come by Museumpleinbus?',\n",
              " 'How long in advance do we need to be present?',\n",
              " 'Is there a place where we can meet as a self-guided group visit?',\n",
              " 'Can we have lunch in the Stedelijk?',\n",
              " 'What to do with delay or not being on time?']"
            ]
          },
          "metadata": {},
          "execution_count": 13
        }
      ]
    },
    {
      "cell_type": "markdown",
      "source": [
        "Let's do the same for the answers, which are contained in the HTML elements identified by the ```<div class=\"faq__answer\">``` tag."
      ],
      "metadata": {
        "id": "sXJaFismyc54"
      }
    },
    {
      "cell_type": "code",
      "source": [
        "html_answers = soup.find_all(\"div\", {\"class\": \"faq__answer\"})"
      ],
      "metadata": {
        "id": "2vZcKOO1XxnO"
      },
      "execution_count": null,
      "outputs": []
    },
    {
      "cell_type": "code",
      "source": [
        "html_answers[:5]"
      ],
      "metadata": {
        "colab": {
          "base_uri": "https://localhost:8080/"
        },
        "id": "vCkNjbyhX4g_",
        "outputId": "d2e185e9-c5c3-494e-8d53-3a4aae3d8d88"
      },
      "execution_count": null,
      "outputs": [
        {
          "output_type": "execute_result",
          "data": {
            "text/plain": [
              "[<div class=\"faq__answer\">\n",
              " <p>The Stedelijk is open daily from 10 am to 6 pm, 365 days a year, also during the holidays. </p>\n",
              " </div>, <div class=\"faq__answer\">\n",
              " <p>Yes, the Priority Lane is available for Stedelijk Friends, Stedelijk VIP-card holders, and Stedelijk Annual Card holders. We are doing all that we can to regulate the flow of visitors and ensure their safety.</p>\n",
              " </div>, <div class=\"faq__answer\">\n",
              " <p>It is possible to <a href=\"https://tickets.stedelijk.nl/Exhibitions/Register?id=b29ca5ad-709a-ea11-940c-005056b93cb9&amp;refresh=y\">book</a> an online dayticket before you visit the museum. You can also buy a ticket directly at the register desk in the museum.</p>\n",
              " <p>Please read our info about your<a href=\"https://www.stedelijk.nl/en/visit/museumprotocol\"> visit &amp; safety</a> before you visit. </p>\n",
              " </div>, <div class=\"faq__answer\">\n",
              " <p>It is possible to book an <a href=\"https://tickets.stedelijk.nl/Exhibitions/Register?id=b29ca5ad-709a-ea11-940c-005056b93cb9&amp;refresh=y&amp;language=EN\" rel=\"noopener noreferrer\" target=\"_blank\">online dayticket(s)</a> before you visit the museum. You can also buy your ticket directly at the register desk in the museum.</p>\n",
              " </div>, <div class=\"faq__answer\">\n",
              " <p>It is possible to <a href=\"https://tickets.stedelijk.nl/Products/overview?language=EN\" rel=\"noopener noreferrer\" target=\"_blank\">book</a> an online day ticket before you visit the museum. This also goes for visitors with a Museum card, another discount card, or valid entrance ticket*. If you already have a valid entrance ticket, select the option 'Entrance Museumkaart' or 'I already have an entrance ticket/card/voucher'. Be sure that you also bring your Museum card with you when you visit the museum. </p>\n",
              " <p>*Museumkaart, Friends of the Stedelijk Museum, Young Stedelijk Members, Rembrandtkaart, ICOM, Stadspas, Iamsterdam City Card, Amsterdam Pass, Holland Pass, Stedelijk Lerarenpas, VriendenLoterij VIP-KAART. Children and young people up to the age of 18 have free access if accompanied by an adult with a valid entrance ticket.</p>\n",
              " </div>]"
            ]
          },
          "metadata": {},
          "execution_count": 15
        }
      ]
    },
    {
      "cell_type": "code",
      "source": [
        "answer_list = [q.get_text().strip() for q in html_answers]"
      ],
      "metadata": {
        "id": "n8wDEbYPYKgv"
      },
      "execution_count": null,
      "outputs": []
    },
    {
      "cell_type": "code",
      "source": [
        "answer_list"
      ],
      "metadata": {
        "colab": {
          "base_uri": "https://localhost:8080/"
        },
        "id": "sIxZR_TOYQn2",
        "outputId": "67d5c0f3-3ada-4948-ef1e-a6a20803a627"
      },
      "execution_count": null,
      "outputs": [
        {
          "output_type": "execute_result",
          "data": {
            "text/plain": [
              "['The Stedelijk is open daily from 10 am to 6 pm, 365 days a year, also during the holidays.',\n",
              " 'Yes, the Priority Lane is available for Stedelijk Friends, Stedelijk VIP-card holders, and Stedelijk Annual Card holders. We are doing all that we can to regulate the flow of visitors and ensure their safety.',\n",
              " 'It is possible to book an online dayticket before you visit the museum. You can also buy a ticket directly at the register desk in the museum.\\nPlease read our info about your\\xa0visit & safety before you visit.',\n",
              " 'It is possible to book an online dayticket(s) before you visit the museum. You can also buy your ticket directly at the register desk in the museum.',\n",
              " \"It is possible to book an online day ticket before you visit the museum. This also goes for visitors with a Museum card, another discount card, or valid entrance ticket*. If you already have a valid entrance ticket, select the option 'Entrance Museumkaart' or 'I already have an entrance ticket/card/voucher'. Be sure that you also bring your Museum card with you when you visit the museum.\\xa0\\n*Museumkaart, Friends of the Stedelijk Museum, Young Stedelijk Members, Rembrandtkaart, ICOM, Stadspas, Iamsterdam City Card, Amsterdam Pass, Holland Pass, Stedelijk Lerarenpas, VriendenLoterij VIP-KAART. Children and young people up to the age of 18 have free access if accompanied by an adult with a valid entrance ticket.\",\n",
              " 'It is enough to show your ticket on your smartphone. Enhance the brightness on your mobile phone if necessary.',\n",
              " 'It is possible to buy a Museumkaart at the Stedelijk Museum. You can use your Museumkaart immediately. Cards can also be ordered through the website of Museumkaart. Please bring your Museum Card when you visit the museum.',\n",
              " 'Students receive a discount of 50% on the admission price. Entrance to the Stedelijk is free for children and young people up to the age of 18. We recommend booking a (free) ticket online before you visit to skip any queues at the counter. When booking your tickets online, choose one of the options CJP/Student/18- in our ticketshop. Children under the age of 18 can only enter the museum if they are accompanied by an adult(s) who has a valid entrance ticket.',\n",
              " 'Yes, you can give your ticket to another person. But this only applies to regular tickets, not to discounted tickets or tickets bought by Museumkaart holders.',\n",
              " 'For Members it is not necessary to book an online ticket in advance. This applies to all types of Memberships (Vriend, Familievriend, Donateur, Young Stedelijk and Stedelijk Circle). Make sure to bring your personal membership card.',\n",
              " 'We don’t refund money for purchased tickets. Tickets are valid for twelve months after the date of purchase. If you can’t use your ticket on the date you reserved, you can easily book a new ticket on the date of your preference through our ticketshop. Choose the date and then the option \"I already have a valid entrance ticket\".',\n",
              " 'Check your spam folder. If the ticket isn’t there, mail us at reserveringen@stedelijk.nl.',\n",
              " 'If you have questions about your ticket(s) that are not answered in this FAQ, email us at reserveringen@stedelijk.nl or call us during office hours: 020-5732911,\\nIf you have other questions, go to www.stedelijk.nl/bezoeken or email us at info@stedelijk.nl',\n",
              " 'It is also possible to buy a ticket at the counter for a spontaneous visit.',\n",
              " 'TEN Restaurant and The Zadelhoff café are open as well. Restaurant TEN is open daily from 10 am - 6 pm. The Zadelhoff Café (inside the museum) daily from 11 am - 3 pm.',\n",
              " 'A supervised cloakroom is available for coats and small items of luggage. The museum does not provide the use of lockers because of the safety measures. Handbags are permitted in the museum galleries (max. size A3). You may not bring backpacks and/or weekend cases into the museum. Lockerpoint at the Museumplein provides storage space for luggage.',\n",
              " 'We offer free short introduction lectures with exhibitions. Check out our offer of guided tours here.',\n",
              " 'Unfortunately, we can not take any large-sized luggage because of safety reasons. On the Museumsquare lockers for large-sized luggage are available. You can find them in the parking garage of Q-Park. Find more info on the website of Lockerpoint.',\n",
              " 'You are welcome to visit the museum with a group. Groups up to 15 people max. can visit all exhibitions. Are you with a group of 15 people or more? Then we kindly ask you to let us know beforehand and book a self-guided group visit. We would also like to know it if you visit with a smaller group. Let us know through educatie@stedelijk.nl',\n",
              " 'There is no limit on the length of your stay. Once you have entered the museum, you may stay until it closes.',\n",
              " 'Sometimes a specific exhibition has a fixed route, apart from that, you can wander freely the museum.',\n",
              " 'The museum is cleaned frequently and thoroughly in line with the RIVM guidelines. The washrooms and objects that visitors come into frequent contact with such as handrails and lift buttons are regularly sanitized. Hand sanitizers are available in dispensers in the entrance area so you can sanitize your hands before entering the museum.',\n",
              " 'The shop is open and has the same opening hours as the museum (10 am - 6 pm). You do not need a ticket to visit the museum shop.',\n",
              " 'Sorry to hear that! I you have a cold or symptoms of the flu, you have to stay home according to the rules of the National Health Institute (RIVM). You are welcome again when you and the other members of your household are without symptoms for at least 24 hours. You can easily set your ticket to another date through our ticketshop. Choose the option \"I already have a valid entrance ticket\". Get well soon!',\n",
              " 'Yes, our toilets are open to visitors of the museum. All of our toilets are gender-neutral.',\n",
              " 'The library of the Stedelijk Museum Amsterdam is open by appointment only, from Tuesday to Thursday 11 am - 4 pm. Please note, at the moment there is only room for researchers and students who want to use the collection of the library, unfortunately, we can’t accommodate those who just want to sit and work on their own research.\\nBook your appointment by sending an email to: bibliotheek@stedelijk.nl, tel. 020 – 573 26 50.',\n",
              " 'You do not need a QR-code or covid-certificate to visit the museum. This also applies to school groups, teachers and/or their guides.',\n",
              " 'You don’t need to be vaccinated to visit the museum.',\n",
              " 'Wearing a face mask is not compulsory in the museum and in the Museum Shop. However, you are allowed to wear one if you would like to do so.',\n",
              " 'You do not need a ticket to visit the museum shop.',\n",
              " 'You are more than welcome to visit the museum again with your group. There are no additional measures for school groups at the museum at the moment.',\n",
              " 'Yes. But only if the photographs are for personal use (please share them on social media :).\\nFlash photography is not permitted. If you require images for professional use, please email us at: repro@stedelijk.nl.\\nFor professional and/or press photography or video recordings, please contact our Press Office: pressoffice@stedelijk.nl.',\n",
              " 'Some works of art at the Stedelijk Museum contain explicit or graphic imagery that could be experienced as offensive. Although a certain amount of provocation is inherent to modern and contemporary art, the museum will make visitors aware of possible explicit imagery when relevant.',\n",
              " 'Yes. The museum provides free audio tours for the main and temporary exhibitions.\\nThe audio tours\\xa0are available in two languages (NL, EN).\\nYou can collect the audio tour device from a number of prominent places in the museum. Do not forget to return the device to the same place after your visit.\\nYou can also listen to the audio tours on your own mobile phone. Find a QR-code with a link and instructions on the cabinet where you can collect the audio tour or download the app in advance.',\n",
              " 'Food and beverages are not allowed in the museum.',\n",
              " 'Due to the current safety and health measures, it is only possible to use the toilet if you have an entrance ticket to the museum.',\n",
              " 'Yes. Please phone: +31 (0)20 5732 911 or email us at reserveringen@stedelijk.nl. The museum has four wheelchairs available for visitors, and several Alinkers (a stylish new kind of non-motorized mobility vehicle), which are specially designed mobility vehicles that look a little like a bicycle. The wheelchairs are thoroughly sanitized after each use. For more information about our facilities for disabled visitors, please visit our Accessibility page.',\n",
              " 'With the exception of registered service dogs, animals are not permitted in the museum.',\n",
              " 'The museum has lifts that are suitable for wheelchairs and also has toilets for people with physical disabilities. We also have plenty of staff in the entrance area who are ready to help visitors in wheelchairs who might need help to access the galleries. If you need assistance when leaving the museum, you only have to ask; our staff is happy to help.\\nFor more information about our facilities for disabled visitors, please visit our Accessibility page. A special toilet route is available for visitors with a physical disability.',\n",
              " 'Yes, the museum has a safe space where you can breastfeed your baby. The museum’s general additional hygiene measures also apply here.',\n",
              " \"Yes, the museum hosts events regularly. Check out what's on here. To keep up with the latest news, you can sign up for our newsletter here.\\nWould you like to hire a venue at the museum to host an event. Get in touch and we’ll see what we can do for you. Click here for more information on hiring venues.\",\n",
              " 'There are a total of around 500 art and design objects dating from 1870 to the present day.',\n",
              " 'Yes. Around 400 highlights from the collection are on permanent display in STEDELIJK BASE. And in Tomorrow is a Different Day around 125. Some works in our collection, photographs, textiles, and works on paper, cannot be exhibited for longer than 3 consecutive months because they are too fragile. But the display always includes internationally famous artists and designers. The Stedelijk collection is large, and if a work is on loan to another institute, we can replace it with one of equal caliber.',\n",
              " 'Please check our Family page for the latest info about our family program.',\n",
              " 'We are currently able to offer tours on Tuesdays and Thursdays. Starting in February 2022, you’ll also be able to book guided tours on Mondays.',\n",
              " 'At present, we offer set timed tickets on Mondays, Tuesdays and Thursdays. You can choose from the following time slots:\\n10.15 -11.45 am\\n12.00 - 1.30 pm\\n2.15 - 3.45 pm\\n4.00 - 5.30 pm\\nWhen you make a reservation, you will be shown the time slots that are available. If not enough slots are free, you can divide your group over different time slots.\\nYou can arrive at the group entrance at the Paulus Potterstraat about 10 minutes before the start of your visit and use the group cloakroom (if there is enough room).',\n",
              " 'You book the program you’ve chosen through our website. On top the page of the individual program there are several buttons for you to click through to the ticket system. Choose the button relevant to your school or student group and/or the Cultuurkaart. All our activities are grouped into two programs: In the museum, and Online. This applies to primary education, vocational, and higher education.',\n",
              " 'All school visits must be pre-booked for a specific time slot. The available time slots are shown in our ticket system. You cannot book tours for any other times.',\n",
              " 'A tour can be booked until the first day of the month prior to the month of the visit. For example, if you’re planning a guided tour in April, you have until March 1 to make the reservation.',\n",
              " 'The rate for a group tour of 1.5 hours is € 82.50 (including entrance fee). For an independent tour, each person pays the entrance fee. Admission to the Stedelijk Museum is free for visitors below the age of 18. Students pay 10 euros. Admission is free for Teachers/Group leaders. We do not offer a group discount.',\n",
              " 'We offer the following payment methods:\\n\\niDeal\\nCredit card\\nCultuurkaart (VO/MBO)\\nVoucher (PO)\\n\\nUnfortunately there is no option to pay by invoice.',\n",
              " 'You can arrive at the group entrance on Paulus Potterstraat about 10 minutes before the start of your visit. You can use the group cloakroom there (if there is enough room).',\n",
              " 'You can book a guided tour for up to 4 groups per time slot of 1.5 hours. The maximum group size is 15 (11 pupils for groups 1 to 3). Each group should be accompanied by a maximum of 2 teachers / group leaders from the school.',\n",
              " 'Each group should be accompanied by a maximum of 2 teachers / group leaders from the school.',\n",
              " 'No, school classes with pupils below the age of 18 years are exempt from the corona check. This also applies to their group leaders and teachers. Group leaders and teachers are not required to show a QR code.',\n",
              " \"No, from the 18th of February this won't be necessary anymore.\",\n",
              " \"No, from 18 February onwards this won't be necessary anymore. However, you are allowed to wear one if you would like to.\",\n",
              " 'Yes, you can book an independent group visit. Independent group visits are possible on Tuesdays and Thursdays and on the time slots that we do not offer to other groups. The time slots appear automatically as available in the booking system when we close the bookings for the education programs. This always happens on the first day of the month. So, starting from the first of October, you can book an independent group visit on Tuesdays and Thursdays in November for the available time slots. You can book independent group visits – providing there’s availability – 24 hours before your visit.',\n",
              " 'Independent group visits can be booked – providing there’s availability – up until 24 hours before your visit.',\n",
              " 'An abbreviated tour is possible, but you always pay for 1,5 hours. In case you want to book an abbreviated tour, you always go through the booking process first. Send an email after that to educatie@stedelijk.nl to tell your preferred start- and end time.',\n",
              " 'You can cancel or reschedule a tour from the first day of the previous month of the booking. For example, when you’ve booked your tour for the 14th of June, you can cancel or reschedule this until the first of May.',\n",
              " 'Yes, you have to apply for independent group visit if you are with 5 or more people. You can do so here. For adults the maximum group size is 5 persons at the moment.',\n",
              " 'No, this is not possible.',\n",
              " 'The Museumpleinbus brings groups of schools from Primary Schools for free, safe and fast to the Stedelijk Museum. The Museumpleinbus is meant for pupils from group 6, 7 and 8 that booked the program De Stijl and for primary schools that are located in a radius of 60 kilometers starting from the ring A10.',\n",
              " 'You can sign in your group approximately 10 minutes before the start of your visit, at the groupsentree at the Paulus Potterstraat. You can make use of the groups wardrobe there (if there’s enough space).',\n",
              " 'You can meet up with your group at the following meeting points in the museum:\\xa0\\nUnder the stairs in Stedelijk Base (ground floor / -1)\\xa0\\nAt the artwork Woven Into The Fabric by Petra Blaisse and Desso, located in the entrance hall\\xa0\\nAt the Tajiri artwork (the sculpture with the big ‘knot’ next to the museum shop)\\xa0\\nAt the Barbara Kruger artwork (1st floor)\\xa0\\nAt the Paulus Potter entrance (tbc)',\n",
              " 'Food and drinks are only allowed in the Zadelhoff cafe and the TEN Good Food cafe. It is not possible to bring your own lunch in these places.',\n",
              " 'In case of a delay, we kindly ask you to contact us directly. In this way, we can update all involved parties. The Stedelijk Museum is available during office hours through the phone number: 020-5732911. Unfortunately, the tour cannot be extended in case of a delay.']"
            ]
          },
          "metadata": {},
          "execution_count": 17
        }
      ]
    },
    {
      "cell_type": "markdown",
      "source": [
        "Let's make sure that the number of questions and answers is the same."
      ],
      "metadata": {
        "id": "JaX5ZPoizGza"
      }
    },
    {
      "cell_type": "code",
      "source": [
        "print(len(question_list))\n",
        "print(len(answer_list))"
      ],
      "metadata": {
        "colab": {
          "base_uri": "https://localhost:8080/"
        },
        "id": "5y_389zHYqTd",
        "outputId": "fcfc8e7d-98c5-40c0-e7c5-3b127e8cd00e"
      },
      "execution_count": null,
      "outputs": [
        {
          "output_type": "stream",
          "name": "stdout",
          "text": [
            "68\n",
            "68\n"
          ]
        }
      ]
    },
    {
      "cell_type": "markdown",
      "source": [
        "Let's confirm that questions and answer match correctly."
      ],
      "metadata": {
        "id": "zX5dVDWAzNGs"
      }
    },
    {
      "cell_type": "code",
      "source": [
        "print(question_list[12])\n",
        "print(answer_list[12])"
      ],
      "metadata": {
        "colab": {
          "base_uri": "https://localhost:8080/"
        },
        "id": "_o32ggOAYvjH",
        "outputId": "ac3738d7-a2ec-4253-b0a0-1986904711a4"
      },
      "execution_count": null,
      "outputs": [
        {
          "output_type": "stream",
          "name": "stdout",
          "text": [
            "I still have a question about my ticket\n",
            "If you have questions about your ticket(s) that are not answered in this FAQ, email us at reserveringen@stedelijk.nl or call us during office hours: 020-5732911,\n",
            "If you have other questions, go to www.stedelijk.nl/bezoeken or email us at info@stedelijk.nl\n"
          ]
        }
      ]
    },
    {
      "cell_type": "code",
      "source": [
        "print(question_list[50])\n",
        "print(answer_list[50])"
      ],
      "metadata": {
        "colab": {
          "base_uri": "https://localhost:8080/"
        },
        "id": "YDuopcSycGfr",
        "outputId": "f1915560-7e5e-491a-d256-94d198b8c6a5"
      },
      "execution_count": null,
      "outputs": [
        {
          "output_type": "stream",
          "name": "stdout",
          "text": [
            "How can I pay?\n",
            "We offer the following payment methods:\n",
            "\n",
            "iDeal\n",
            "Credit card\n",
            "Cultuurkaart (VO/MBO)\n",
            "Voucher (PO)\n",
            "\n",
            "Unfortunately there is no option to pay by invoice.\n"
          ]
        }
      ]
    },
    {
      "cell_type": "markdown",
      "source": [
        "Perfect!"
      ],
      "metadata": {
        "id": "VXRI-EX80fwT"
      }
    },
    {
      "cell_type": "markdown",
      "source": [
        "<a name=\"s02\"></a>\n",
        "## 2. SAVING THE DATASET IN A CSV FILE\n",
        "\n",
        "As the Stedelijk Museums's website might be updated any time, let us save the FAQ dataset that we have scraped, so that we are sure that we are always working with the same set of questions."
      ],
      "metadata": {
        "id": "1174ne0yzV8W"
      }
    },
    {
      "cell_type": "code",
      "source": [
        "# import pandas as pd\n",
        "import pandas as pd"
      ],
      "metadata": {
        "id": "0AN0Rtq8c2ta"
      },
      "execution_count": null,
      "outputs": []
    },
    {
      "cell_type": "code",
      "source": [
        "df_faq = pd.DataFrame(list(zip(question_list, answer_list)), columns =['questions', 'answers'])\n",
        "df_faq"
      ],
      "metadata": {
        "colab": {
          "base_uri": "https://localhost:8080/",
          "height": 424
        },
        "id": "NnlAH5GWdPRt",
        "outputId": "243422cd-bb5b-4d19-f7cf-d76076d6c2b1"
      },
      "execution_count": null,
      "outputs": [
        {
          "output_type": "execute_result",
          "data": {
            "text/plain": [
              "                                            questions  \\\n",
              "0                         What are the opening hours?   \n",
              "1               Does the museum have a Priority Lane?   \n",
              "2               Is it possible to make a reservation?   \n",
              "3   Do I need to book a ticket online before my vi...   \n",
              "4   I have a Museum card (Museumkaart) or other va...   \n",
              "..                                                ...   \n",
              "63                     Can we come by Museumpleinbus?   \n",
              "64      How long in advance do we need to be present?   \n",
              "65  Is there a place where we can meet as a self-g...   \n",
              "66                Can we have lunch in the Stedelijk?   \n",
              "67        What to do with delay or not being on time?   \n",
              "\n",
              "                                              answers  \n",
              "0   The Stedelijk is open daily from 10 am to 6 pm...  \n",
              "1   Yes, the Priority Lane is available for Stedel...  \n",
              "2   It is possible to book an online dayticket bef...  \n",
              "3   It is possible to book an online dayticket(s) ...  \n",
              "4   It is possible to book an online day ticket be...  \n",
              "..                                                ...  \n",
              "63  The Museumpleinbus brings groups of schools fr...  \n",
              "64  You can sign in your group approximately 10 mi...  \n",
              "65  You can meet up with your group at the followi...  \n",
              "66  Food and drinks are only allowed in the Zadelh...  \n",
              "67  In case of a delay, we kindly ask you to conta...  \n",
              "\n",
              "[68 rows x 2 columns]"
            ],
            "text/html": [
              "\n",
              "  <div id=\"df-b82ac757-6763-4d80-ade3-788007f744d2\">\n",
              "    <div class=\"colab-df-container\">\n",
              "      <div>\n",
              "<style scoped>\n",
              "    .dataframe tbody tr th:only-of-type {\n",
              "        vertical-align: middle;\n",
              "    }\n",
              "\n",
              "    .dataframe tbody tr th {\n",
              "        vertical-align: top;\n",
              "    }\n",
              "\n",
              "    .dataframe thead th {\n",
              "        text-align: right;\n",
              "    }\n",
              "</style>\n",
              "<table border=\"1\" class=\"dataframe\">\n",
              "  <thead>\n",
              "    <tr style=\"text-align: right;\">\n",
              "      <th></th>\n",
              "      <th>questions</th>\n",
              "      <th>answers</th>\n",
              "    </tr>\n",
              "  </thead>\n",
              "  <tbody>\n",
              "    <tr>\n",
              "      <th>0</th>\n",
              "      <td>What are the opening hours?</td>\n",
              "      <td>The Stedelijk is open daily from 10 am to 6 pm...</td>\n",
              "    </tr>\n",
              "    <tr>\n",
              "      <th>1</th>\n",
              "      <td>Does the museum have a Priority Lane?</td>\n",
              "      <td>Yes, the Priority Lane is available for Stedel...</td>\n",
              "    </tr>\n",
              "    <tr>\n",
              "      <th>2</th>\n",
              "      <td>Is it possible to make a reservation?</td>\n",
              "      <td>It is possible to book an online dayticket bef...</td>\n",
              "    </tr>\n",
              "    <tr>\n",
              "      <th>3</th>\n",
              "      <td>Do I need to book a ticket online before my vi...</td>\n",
              "      <td>It is possible to book an online dayticket(s) ...</td>\n",
              "    </tr>\n",
              "    <tr>\n",
              "      <th>4</th>\n",
              "      <td>I have a Museum card (Museumkaart) or other va...</td>\n",
              "      <td>It is possible to book an online day ticket be...</td>\n",
              "    </tr>\n",
              "    <tr>\n",
              "      <th>...</th>\n",
              "      <td>...</td>\n",
              "      <td>...</td>\n",
              "    </tr>\n",
              "    <tr>\n",
              "      <th>63</th>\n",
              "      <td>Can we come by Museumpleinbus?</td>\n",
              "      <td>The Museumpleinbus brings groups of schools fr...</td>\n",
              "    </tr>\n",
              "    <tr>\n",
              "      <th>64</th>\n",
              "      <td>How long in advance do we need to be present?</td>\n",
              "      <td>You can sign in your group approximately 10 mi...</td>\n",
              "    </tr>\n",
              "    <tr>\n",
              "      <th>65</th>\n",
              "      <td>Is there a place where we can meet as a self-g...</td>\n",
              "      <td>You can meet up with your group at the followi...</td>\n",
              "    </tr>\n",
              "    <tr>\n",
              "      <th>66</th>\n",
              "      <td>Can we have lunch in the Stedelijk?</td>\n",
              "      <td>Food and drinks are only allowed in the Zadelh...</td>\n",
              "    </tr>\n",
              "    <tr>\n",
              "      <th>67</th>\n",
              "      <td>What to do with delay or not being on time?</td>\n",
              "      <td>In case of a delay, we kindly ask you to conta...</td>\n",
              "    </tr>\n",
              "  </tbody>\n",
              "</table>\n",
              "<p>68 rows × 2 columns</p>\n",
              "</div>\n",
              "      <button class=\"colab-df-convert\" onclick=\"convertToInteractive('df-b82ac757-6763-4d80-ade3-788007f744d2')\"\n",
              "              title=\"Convert this dataframe to an interactive table.\"\n",
              "              style=\"display:none;\">\n",
              "        \n",
              "  <svg xmlns=\"http://www.w3.org/2000/svg\" height=\"24px\"viewBox=\"0 0 24 24\"\n",
              "       width=\"24px\">\n",
              "    <path d=\"M0 0h24v24H0V0z\" fill=\"none\"/>\n",
              "    <path d=\"M18.56 5.44l.94 2.06.94-2.06 2.06-.94-2.06-.94-.94-2.06-.94 2.06-2.06.94zm-11 1L8.5 8.5l.94-2.06 2.06-.94-2.06-.94L8.5 2.5l-.94 2.06-2.06.94zm10 10l.94 2.06.94-2.06 2.06-.94-2.06-.94-.94-2.06-.94 2.06-2.06.94z\"/><path d=\"M17.41 7.96l-1.37-1.37c-.4-.4-.92-.59-1.43-.59-.52 0-1.04.2-1.43.59L10.3 9.45l-7.72 7.72c-.78.78-.78 2.05 0 2.83L4 21.41c.39.39.9.59 1.41.59.51 0 1.02-.2 1.41-.59l7.78-7.78 2.81-2.81c.8-.78.8-2.07 0-2.86zM5.41 20L4 18.59l7.72-7.72 1.47 1.35L5.41 20z\"/>\n",
              "  </svg>\n",
              "      </button>\n",
              "      \n",
              "  <style>\n",
              "    .colab-df-container {\n",
              "      display:flex;\n",
              "      flex-wrap:wrap;\n",
              "      gap: 12px;\n",
              "    }\n",
              "\n",
              "    .colab-df-convert {\n",
              "      background-color: #E8F0FE;\n",
              "      border: none;\n",
              "      border-radius: 50%;\n",
              "      cursor: pointer;\n",
              "      display: none;\n",
              "      fill: #1967D2;\n",
              "      height: 32px;\n",
              "      padding: 0 0 0 0;\n",
              "      width: 32px;\n",
              "    }\n",
              "\n",
              "    .colab-df-convert:hover {\n",
              "      background-color: #E2EBFA;\n",
              "      box-shadow: 0px 1px 2px rgba(60, 64, 67, 0.3), 0px 1px 3px 1px rgba(60, 64, 67, 0.15);\n",
              "      fill: #174EA6;\n",
              "    }\n",
              "\n",
              "    [theme=dark] .colab-df-convert {\n",
              "      background-color: #3B4455;\n",
              "      fill: #D2E3FC;\n",
              "    }\n",
              "\n",
              "    [theme=dark] .colab-df-convert:hover {\n",
              "      background-color: #434B5C;\n",
              "      box-shadow: 0px 1px 3px 1px rgba(0, 0, 0, 0.15);\n",
              "      filter: drop-shadow(0px 1px 2px rgba(0, 0, 0, 0.3));\n",
              "      fill: #FFFFFF;\n",
              "    }\n",
              "  </style>\n",
              "\n",
              "      <script>\n",
              "        const buttonEl =\n",
              "          document.querySelector('#df-b82ac757-6763-4d80-ade3-788007f744d2 button.colab-df-convert');\n",
              "        buttonEl.style.display =\n",
              "          google.colab.kernel.accessAllowed ? 'block' : 'none';\n",
              "\n",
              "        async function convertToInteractive(key) {\n",
              "          const element = document.querySelector('#df-b82ac757-6763-4d80-ade3-788007f744d2');\n",
              "          const dataTable =\n",
              "            await google.colab.kernel.invokeFunction('convertToInteractive',\n",
              "                                                     [key], {});\n",
              "          if (!dataTable) return;\n",
              "\n",
              "          const docLinkHtml = 'Like what you see? Visit the ' +\n",
              "            '<a target=\"_blank\" href=https://colab.research.google.com/notebooks/data_table.ipynb>data table notebook</a>'\n",
              "            + ' to learn more about interactive tables.';\n",
              "          element.innerHTML = '';\n",
              "          dataTable['output_type'] = 'display_data';\n",
              "          await google.colab.output.renderOutput(dataTable, element);\n",
              "          const docLink = document.createElement('div');\n",
              "          docLink.innerHTML = docLinkHtml;\n",
              "          element.appendChild(docLink);\n",
              "        }\n",
              "      </script>\n",
              "    </div>\n",
              "  </div>\n",
              "  "
            ]
          },
          "metadata": {},
          "execution_count": 22
        }
      ]
    },
    {
      "cell_type": "code",
      "source": [
        "df_faq.to_csv(\"stedelijkmuseum_faq_list.csv\", sep='\\t', encoding='utf-8')"
      ],
      "metadata": {
        "id": "_jSXi2n4fEO8"
      },
      "execution_count": null,
      "outputs": []
    },
    {
      "cell_type": "markdown",
      "source": [
        "Now the a csv file has been saved in our ```/content``` folder.\n",
        "\n"
      ],
      "metadata": {
        "id": "ac333KXr08qY"
      }
    },
    {
      "cell_type": "code",
      "source": [
        "!pwd"
      ],
      "metadata": {
        "colab": {
          "base_uri": "https://localhost:8080/"
        },
        "id": "MMINixOG06Ta",
        "outputId": "7ec9447e-174d-4477-97e5-235954484788"
      },
      "execution_count": null,
      "outputs": [
        {
          "output_type": "stream",
          "name": "stdout",
          "text": [
            "/content\n"
          ]
        }
      ]
    },
    {
      "cell_type": "code",
      "source": [
        "!ls"
      ],
      "metadata": {
        "id": "MrZLd7e85x2i",
        "colab": {
          "base_uri": "https://localhost:8080/"
        },
        "outputId": "7e913b56-1759-48e9-a3ad-61d78b68532f"
      },
      "execution_count": null,
      "outputs": [
        {
          "output_type": "stream",
          "name": "stdout",
          "text": [
            "sample_data  stedelijkmuseum_faq_list.csv\n"
          ]
        }
      ]
    },
    {
      "cell_type": "markdown",
      "source": [
        "<a name=\"s03\"></a>\n",
        "## 3. GETTING THE CSV FILE FROM GOOGLE DRIVE\n",
        "\n",
        "Above we saved our dataset in a csv file.\n",
        "\n",
        "After some tinkering with the chatbot, I realized that a few small changes to the dataset would have improved the chatbot's performance. Therefore I merged, erased, added and rephrased a bunch of questions.\n",
        "\n",
        "I then saved the modified dataset on Google Drive.\n",
        "\n",
        "Let us access that file and use this modified dataset from here on."
      ],
      "metadata": {
        "id": "WMD9lYFm5y84"
      }
    },
    {
      "cell_type": "code",
      "source": [
        "# run this if you are starting to use this notebook from here\n",
        "# otherwise you have already imported pandas above\n",
        "import pandas as pd"
      ],
      "metadata": {
        "id": "K_nUrcpfYOIA"
      },
      "execution_count": null,
      "outputs": []
    },
    {
      "cell_type": "code",
      "source": [
        "url = \"https://drive.google.com/file/d/12BQXCL6ilv0s7i7Uzf0KrmqdP9ObASs3/view?usp=sharing\"\n",
        "file_id = url.split('/')[-2]\n",
        "dwn_url = 'https://drive.google.com/uc?export=download&id=' + file_id\n",
        "df = pd.read_csv(dwn_url, sep='\\t', encoding='utf-8', index_col=[0])\n",
        "df"
      ],
      "metadata": {
        "colab": {
          "base_uri": "https://localhost:8080/",
          "height": 424
        },
        "id": "L6SWcI6w5x7h",
        "outputId": "65a85a0a-9574-4ed6-d24d-5500f64e4a70"
      },
      "execution_count": null,
      "outputs": [
        {
          "output_type": "execute_result",
          "data": {
            "text/plain": [
              "                                            questions  \\\n",
              "0   What are the opening hours? When is the museum...   \n",
              "1               Does the museum have a Priority Lane?   \n",
              "2   How can I buy a ticket? Can I buy my tickets o...   \n",
              "3   I have a Museum card (Museumkaart) or other va...   \n",
              "4                Do I need to print out my ticket(s)?   \n",
              "..                                                ...   \n",
              "64  Is there a place where we can meet as a self-g...   \n",
              "65                    Can I have lunch in the museum?   \n",
              "66        What to do with delay or not being on time?   \n",
              "67                          How much are the tickets?   \n",
              "68                       What is the current exhibit?   \n",
              "\n",
              "                                              answers  \n",
              "0   The Stedelijk is open daily from 10 am to 6 pm...  \n",
              "1   Yes, the Priority Lane is available for Stedel...  \n",
              "2   It is possible to book an online dayticket bef...  \n",
              "3   It is possible to book an online day ticket be...  \n",
              "4   It is enough to show your ticket on your smart...  \n",
              "..                                                ...  \n",
              "64  You can meet up with your group at the followi...  \n",
              "65  Food and drinks are only allowed in the Zadelh...  \n",
              "66  In case of a delay, we kindly ask you to conta...  \n",
              "67  Please visit our website to view our current a...  \n",
              "68  Please visit the museum website to find out wh...  \n",
              "\n",
              "[69 rows x 2 columns]"
            ],
            "text/html": [
              "\n",
              "  <div id=\"df-f68a8e1a-6ff9-4bd7-b024-ed4e876cd95d\">\n",
              "    <div class=\"colab-df-container\">\n",
              "      <div>\n",
              "<style scoped>\n",
              "    .dataframe tbody tr th:only-of-type {\n",
              "        vertical-align: middle;\n",
              "    }\n",
              "\n",
              "    .dataframe tbody tr th {\n",
              "        vertical-align: top;\n",
              "    }\n",
              "\n",
              "    .dataframe thead th {\n",
              "        text-align: right;\n",
              "    }\n",
              "</style>\n",
              "<table border=\"1\" class=\"dataframe\">\n",
              "  <thead>\n",
              "    <tr style=\"text-align: right;\">\n",
              "      <th></th>\n",
              "      <th>questions</th>\n",
              "      <th>answers</th>\n",
              "    </tr>\n",
              "  </thead>\n",
              "  <tbody>\n",
              "    <tr>\n",
              "      <th>0</th>\n",
              "      <td>What are the opening hours? When is the museum...</td>\n",
              "      <td>The Stedelijk is open daily from 10 am to 6 pm...</td>\n",
              "    </tr>\n",
              "    <tr>\n",
              "      <th>1</th>\n",
              "      <td>Does the museum have a Priority Lane?</td>\n",
              "      <td>Yes, the Priority Lane is available for Stedel...</td>\n",
              "    </tr>\n",
              "    <tr>\n",
              "      <th>2</th>\n",
              "      <td>How can I buy a ticket? Can I buy my tickets o...</td>\n",
              "      <td>It is possible to book an online dayticket bef...</td>\n",
              "    </tr>\n",
              "    <tr>\n",
              "      <th>3</th>\n",
              "      <td>I have a Museum card (Museumkaart) or other va...</td>\n",
              "      <td>It is possible to book an online day ticket be...</td>\n",
              "    </tr>\n",
              "    <tr>\n",
              "      <th>4</th>\n",
              "      <td>Do I need to print out my ticket(s)?</td>\n",
              "      <td>It is enough to show your ticket on your smart...</td>\n",
              "    </tr>\n",
              "    <tr>\n",
              "      <th>...</th>\n",
              "      <td>...</td>\n",
              "      <td>...</td>\n",
              "    </tr>\n",
              "    <tr>\n",
              "      <th>64</th>\n",
              "      <td>Is there a place where we can meet as a self-g...</td>\n",
              "      <td>You can meet up with your group at the followi...</td>\n",
              "    </tr>\n",
              "    <tr>\n",
              "      <th>65</th>\n",
              "      <td>Can I have lunch in the museum?</td>\n",
              "      <td>Food and drinks are only allowed in the Zadelh...</td>\n",
              "    </tr>\n",
              "    <tr>\n",
              "      <th>66</th>\n",
              "      <td>What to do with delay or not being on time?</td>\n",
              "      <td>In case of a delay, we kindly ask you to conta...</td>\n",
              "    </tr>\n",
              "    <tr>\n",
              "      <th>67</th>\n",
              "      <td>How much are the tickets?</td>\n",
              "      <td>Please visit our website to view our current a...</td>\n",
              "    </tr>\n",
              "    <tr>\n",
              "      <th>68</th>\n",
              "      <td>What is the current exhibit?</td>\n",
              "      <td>Please visit the museum website to find out wh...</td>\n",
              "    </tr>\n",
              "  </tbody>\n",
              "</table>\n",
              "<p>69 rows × 2 columns</p>\n",
              "</div>\n",
              "      <button class=\"colab-df-convert\" onclick=\"convertToInteractive('df-f68a8e1a-6ff9-4bd7-b024-ed4e876cd95d')\"\n",
              "              title=\"Convert this dataframe to an interactive table.\"\n",
              "              style=\"display:none;\">\n",
              "        \n",
              "  <svg xmlns=\"http://www.w3.org/2000/svg\" height=\"24px\"viewBox=\"0 0 24 24\"\n",
              "       width=\"24px\">\n",
              "    <path d=\"M0 0h24v24H0V0z\" fill=\"none\"/>\n",
              "    <path d=\"M18.56 5.44l.94 2.06.94-2.06 2.06-.94-2.06-.94-.94-2.06-.94 2.06-2.06.94zm-11 1L8.5 8.5l.94-2.06 2.06-.94-2.06-.94L8.5 2.5l-.94 2.06-2.06.94zm10 10l.94 2.06.94-2.06 2.06-.94-2.06-.94-.94-2.06-.94 2.06-2.06.94z\"/><path d=\"M17.41 7.96l-1.37-1.37c-.4-.4-.92-.59-1.43-.59-.52 0-1.04.2-1.43.59L10.3 9.45l-7.72 7.72c-.78.78-.78 2.05 0 2.83L4 21.41c.39.39.9.59 1.41.59.51 0 1.02-.2 1.41-.59l7.78-7.78 2.81-2.81c.8-.78.8-2.07 0-2.86zM5.41 20L4 18.59l7.72-7.72 1.47 1.35L5.41 20z\"/>\n",
              "  </svg>\n",
              "      </button>\n",
              "      \n",
              "  <style>\n",
              "    .colab-df-container {\n",
              "      display:flex;\n",
              "      flex-wrap:wrap;\n",
              "      gap: 12px;\n",
              "    }\n",
              "\n",
              "    .colab-df-convert {\n",
              "      background-color: #E8F0FE;\n",
              "      border: none;\n",
              "      border-radius: 50%;\n",
              "      cursor: pointer;\n",
              "      display: none;\n",
              "      fill: #1967D2;\n",
              "      height: 32px;\n",
              "      padding: 0 0 0 0;\n",
              "      width: 32px;\n",
              "    }\n",
              "\n",
              "    .colab-df-convert:hover {\n",
              "      background-color: #E2EBFA;\n",
              "      box-shadow: 0px 1px 2px rgba(60, 64, 67, 0.3), 0px 1px 3px 1px rgba(60, 64, 67, 0.15);\n",
              "      fill: #174EA6;\n",
              "    }\n",
              "\n",
              "    [theme=dark] .colab-df-convert {\n",
              "      background-color: #3B4455;\n",
              "      fill: #D2E3FC;\n",
              "    }\n",
              "\n",
              "    [theme=dark] .colab-df-convert:hover {\n",
              "      background-color: #434B5C;\n",
              "      box-shadow: 0px 1px 3px 1px rgba(0, 0, 0, 0.15);\n",
              "      filter: drop-shadow(0px 1px 2px rgba(0, 0, 0, 0.3));\n",
              "      fill: #FFFFFF;\n",
              "    }\n",
              "  </style>\n",
              "\n",
              "      <script>\n",
              "        const buttonEl =\n",
              "          document.querySelector('#df-f68a8e1a-6ff9-4bd7-b024-ed4e876cd95d button.colab-df-convert');\n",
              "        buttonEl.style.display =\n",
              "          google.colab.kernel.accessAllowed ? 'block' : 'none';\n",
              "\n",
              "        async function convertToInteractive(key) {\n",
              "          const element = document.querySelector('#df-f68a8e1a-6ff9-4bd7-b024-ed4e876cd95d');\n",
              "          const dataTable =\n",
              "            await google.colab.kernel.invokeFunction('convertToInteractive',\n",
              "                                                     [key], {});\n",
              "          if (!dataTable) return;\n",
              "\n",
              "          const docLinkHtml = 'Like what you see? Visit the ' +\n",
              "            '<a target=\"_blank\" href=https://colab.research.google.com/notebooks/data_table.ipynb>data table notebook</a>'\n",
              "            + ' to learn more about interactive tables.';\n",
              "          element.innerHTML = '';\n",
              "          dataTable['output_type'] = 'display_data';\n",
              "          await google.colab.output.renderOutput(dataTable, element);\n",
              "          const docLink = document.createElement('div');\n",
              "          docLink.innerHTML = docLinkHtml;\n",
              "          element.appendChild(docLink);\n",
              "        }\n",
              "      </script>\n",
              "    </div>\n",
              "  </div>\n",
              "  "
            ]
          },
          "metadata": {},
          "execution_count": 27
        }
      ]
    },
    {
      "cell_type": "markdown",
      "source": [
        "Thus the modified dataset contains 69 Q&A pairs.\n",
        "\n",
        "We now need to extract the texts of each question and answer from the Pandas dataframe and store them in two lists, which we will then use to populate the Elasticsearch index that we shall build in a moment."
      ],
      "metadata": {
        "id": "MklzRuCW3CeP"
      }
    },
    {
      "cell_type": "code",
      "source": [
        "questions = df['questions'].to_list()\n",
        "questions"
      ],
      "metadata": {
        "colab": {
          "base_uri": "https://localhost:8080/"
        },
        "id": "70V4AZiq5x8X",
        "outputId": "4e305044-71ff-43a4-8f88-f4dc9538381b"
      },
      "execution_count": null,
      "outputs": [
        {
          "output_type": "execute_result",
          "data": {
            "text/plain": [
              "['What are the opening hours? When is the museum open?',\n",
              " 'Does the museum have a Priority Lane?',\n",
              " 'How can I buy a ticket? Can I buy my tickets online?',\n",
              " 'I have a Museum card (Museumkaart) or other valid admission ticket. Do I also need to buy an online ticket?',\n",
              " 'Do I need to print out my ticket(s)?',\n",
              " 'Can I purchase a Museum Card at the Stedelijk Museum?',\n",
              " 'How much are tickets for students and children?',\n",
              " 'I won’t be able to visit the museum. Can I give my ticket to someone else?',\n",
              " 'I am a Member of the museum. Do I also need to buy an online ticket?',\n",
              " 'Can I cancel the ticket I bought?',\n",
              " 'I haven’t received my ticket. What should I do?',\n",
              " 'I still have a question about my ticket',\n",
              " \"I don't have access to internet and/or a smartphone. How can I reserve a ticket?\",\n",
              " 'Is there a restaurant or a café? When are the restaurant and café open?',\n",
              " 'Does the museum have lockers, as well as a Cloakroom?',\n",
              " 'Can I leave my suitcase or trolley?',\n",
              " 'Can I visit the museum with a group?',\n",
              " 'How long can I stay at the museum?',\n",
              " 'Is there a fixed route through the museum?',\n",
              " 'What hygiene measures is the museum taking?',\n",
              " 'Does the museum have a shop? Are there shops in the museum? Is the museum shop open?',\n",
              " 'I have a cold or flu symptoms. What should I do?',\n",
              " 'Does the museum have toilets? Are there toilets in the museum? Is there a toilet? Are the toilets open?',\n",
              " 'Is there a library? When is the library open? What are the library opening hours?',\n",
              " 'Do I need a covid certificate (QR code) or negative test result to visit the museum?',\n",
              " 'I haven’t been vaccinated but I want to visit the museum. Is that possible?',\n",
              " 'Are face masks mandatory in the museum?',\n",
              " 'I only want to visit the shop. Do I need a ticket?',\n",
              " 'I want to visit with my students/pupils? What are the current safety measures for group visits?',\n",
              " 'Can I take photographs in the museum?',\n",
              " 'Will I be confronted with explicit imagery?',\n",
              " 'Are audio tours available?',\n",
              " 'May I bring food and/or beverages into the museum?',\n",
              " 'Can I use the toilet without a ticket?',\n",
              " 'Can I reserve a wheelchair?',\n",
              " 'May I bring my dog? Are animals allowed?',\n",
              " 'Are there facilities for people with physical disabilities?',\n",
              " 'Is there somewhere where I can breastfeed or express milk in private?',\n",
              " 'Does the museum hold events?',\n",
              " 'How many artworks are featured in the permanent collection presentation?',\n",
              " 'Can I be sure that my favorite artworks are on show?',\n",
              " 'Are there children’s activities at the museum?',\n",
              " 'What time can I book a guided tour, a class tour, a school tour, a student tour or a group tour? How long is a tour? What is the duration of a tour?',\n",
              " 'Where and how can I book a guided tour, a class tour, a school tour, a student tour or a group tour?',\n",
              " 'Can I book a guided tour, a class tour, a school tour, a student tour or a group tour at times other than the specified time slots?',\n",
              " 'How far in advance do I need to book a tour?',\n",
              " 'What do tours cost? How much is a tour? How much for a school visit tour?',\n",
              " 'How can I pay? What are the payment methods?',\n",
              " 'How long before our time slot do we need to arrive?',\n",
              " 'How many people / pupils or groups can I include in one visit?',\n",
              " 'How many group leaders do you expect per group?',\n",
              " 'Do I need a coronavirus entry pass or QR code?',\n",
              " 'Do we have to keep a 1.5 M distance from each other as a class?',\n",
              " 'Is a face mask mandatory?',\n",
              " 'I want to visit the museum with my class or group but I would rather not book a tour. Can I book an independent group visit that is not a guided tour? Can I organize a self-guided tour?',\n",
              " 'Can I change the duration of the tour?',\n",
              " 'Hello',\n",
              " 'How are you?',\n",
              " 'Thank you, thanks, thanks for your help, goodbye, bye bye',\n",
              " 'Can I cancel or reschedule a planned tour?',\n",
              " 'Do I have to apply for an independent group visit if it’s for a small group of students?',\n",
              " 'Is it possible to adjust the content of a tour?',\n",
              " 'Can my school class come by bus?',\n",
              " 'How long in advance does a class, school class, group need to be present?',\n",
              " 'Is there a place where we can meet as a self-guided independent group visit?',\n",
              " 'Can I have lunch in the museum?',\n",
              " 'What to do with delay or not being on time?',\n",
              " 'How much are the tickets?',\n",
              " 'What is the current exhibit?']"
            ]
          },
          "metadata": {},
          "execution_count": 28
        }
      ]
    },
    {
      "cell_type": "code",
      "source": [
        "answers = df['answers'].to_list()\n",
        "answers"
      ],
      "metadata": {
        "colab": {
          "base_uri": "https://localhost:8080/"
        },
        "id": "dAEEHeDN-q4U",
        "outputId": "03135c8e-db67-412d-ee93-ef5d5603d0e7"
      },
      "execution_count": null,
      "outputs": [
        {
          "output_type": "execute_result",
          "data": {
            "text/plain": [
              "['The Stedelijk is open daily from 10 am to 6 pm, 365 days a year, also during the holidays.',\n",
              " 'Yes, the Priority Lane is available for Stedelijk Friends, Stedelijk VIP-card holders, and Stedelijk Annual Card holders. We are doing all that we can to regulate the flow of visitors and ensure their safety.',\n",
              " 'It is possible to book an online dayticket before you visit the museum. You can also buy a ticket directly at the register desk in the museum.\\nPlease read our info about your\\xa0visit & safety before you visit.',\n",
              " \"It is possible to book an online day ticket before you visit the museum. This also goes for visitors with a Museum card, another discount card, or valid entrance ticket*. If you already have a valid entrance ticket, select the option 'Entrance Museumkaart' or 'I already have an entrance ticket/card/voucher'. Be sure that you also bring your Museum card with you when you visit the museum.\\xa0\\n*Museumkaart, Friends of the Stedelijk Museum, Young Stedelijk Members, Rembrandtkaart, ICOM, Stadspas, Iamsterdam City Card, Amsterdam Pass, Holland Pass, Stedelijk Lerarenpas, VriendenLoterij VIP-KAART. Children and young people up to the age of 18 have free access if accompanied by an adult with a valid entrance ticket.\",\n",
              " 'It is enough to show your ticket on your smartphone. Enhance the brightness on your mobile phone if necessary.',\n",
              " 'It is possible to buy a Museumkaart at the Stedelijk Museum. You can use your Museumkaart immediately. Cards can also be ordered through the website of Museumkaart. Please bring your Museum Card when you visit the museum.',\n",
              " 'Students receive a discount of 50% on the admission price. Entrance to the Stedelijk is free for children and young people up to the age of 18. We recommend booking a (free) ticket online before you visit to skip any queues at the counter. When booking your tickets online, choose one of the options CJP/Student/18- in our ticketshop. Children under the age of 18 can only enter the museum if they are accompanied by an adult(s) who has a valid entrance ticket.',\n",
              " 'Yes, you can give your ticket to another person. But this only applies to regular tickets, not to discounted tickets or tickets bought by Museumkaart holders.',\n",
              " 'For Members it is not necessary to book an online ticket in advance. This applies to all types of Memberships (Vriend, Familievriend, Donateur, Young Stedelijk and Stedelijk Circle). Make sure to bring your personal membership card.',\n",
              " 'We don’t refund money for purchased tickets. Tickets are valid for twelve months after the date of purchase. If you can’t use your ticket on the date you reserved, you can easily book a new ticket on the date of your preference through our ticketshop. Choose the date and then the option \"I already have a valid entrance ticket\".',\n",
              " 'Check your spam folder. If the ticket isn’t there, mail us at reserveringen@stedelijk.nl.',\n",
              " 'If you have questions about your ticket(s) that are not answered in this FAQ, email us at reserveringen@stedelijk.nl or call us during office hours: 020-5732911,\\nIf you have other questions, go to www.stedelijk.nl/bezoeken or email us at info@stedelijk.nl',\n",
              " 'It is also possible to buy a ticket at the counter for a spontaneous visit.',\n",
              " 'Restaurant TEN is open daily from 10 am - 6 pm. The Zadelhoff Café (inside the museum) daily from 11 am - 3 pm.',\n",
              " 'A supervised cloakroom is available for coats and small items of luggage. The museum does not provide the use of lockers because of the safety measures. Handbags are permitted in the museum galleries (max. size A3). You may not bring backpacks and/or weekend cases into the museum. Lockerpoint at the Museumplein provides storage space for luggage.',\n",
              " 'Unfortunately, we can not take any large-sized luggage because of safety reasons. On the Museumsquare lockers for large-sized luggage are available. You can find them in the parking garage of Q-Park. Find more info on the website of Lockerpoint.',\n",
              " 'You are welcome to visit the museum with a group. Groups up to 15 people max. can visit all exhibitions. Are you with a group of 15 people or more? Then we kindly ask you to let us know beforehand and book a self-guided group visit. We would also like to know it if you visit with a smaller group. Let us know through educatie@stedelijk.nl',\n",
              " 'There is no limit on the length of your stay. Once you have entered the museum, you may stay until it closes.',\n",
              " 'Sometimes a specific exhibition has a fixed route, apart from that, you can wander freely the museum.',\n",
              " 'The museum is cleaned frequently and thoroughly in line with the RIVM guidelines. The washrooms and objects that visitors come into frequent contact with such as handrails and lift buttons are regularly sanitized. Hand sanitizers are available in dispensers in the entrance area so you can sanitize your hands before entering the museum.',\n",
              " 'The shop is open and has the same opening hours as the museum (10 am - 6 pm). You do not need a ticket to visit the museum shop.',\n",
              " 'Sorry to hear that! I you have a cold or symptoms of the flu, you have to stay home according to the rules of the National Health Institute (RIVM). You are welcome again when you and the other members of your household are without symptoms for at least 24 hours. You can easily set your ticket to another date through our ticketshop. Choose the option \"I already have a valid entrance ticket\". Get well soon!',\n",
              " 'Yes, our toilets are open to visitors of the museum. All of our toilets are gender-neutral.',\n",
              " 'The library of the Stedelijk Museum Amsterdam is open by appointment only, from Tuesday to Thursday 11 am - 4 pm. Please note, at the moment there is only room for researchers and students who want to use the collection of the library, unfortunately, we can’t accommodate those who just want to sit and work on their own research.\\nBook your appointment by sending an email to: bibliotheek@stedelijk.nl, tel. 020 – 573 26 50.',\n",
              " 'You do not need a QR-code or covid-certificate to visit the museum. This also applies to school groups, teachers and/or their guides.',\n",
              " 'You don’t need to be vaccinated to visit the museum.',\n",
              " 'Wearing a face mask is not compulsory in the museum and in the Museum Shop. However, you are allowed to wear one if you would like to do so.',\n",
              " 'You do not need a ticket to visit the museum shop.',\n",
              " 'You are more than welcome to visit the museum again with your group. There are no additional measures for school groups at the museum at the moment.',\n",
              " 'Yes. But only if the photographs are for personal use (please share them on social media :).\\nFlash photography is not permitted. If you require images for professional use, please email us at: repro@stedelijk.nl.\\nFor professional and/or press photography or video recordings, please contact our Press Office: pressoffice@stedelijk.nl.',\n",
              " 'Some works of art at the Stedelijk Museum contain explicit or graphic imagery that could be experienced as offensive. Although a certain amount of provocation is inherent to modern and contemporary art, the museum will make visitors aware of possible explicit imagery when relevant.',\n",
              " 'Yes. The museum provides free audio tours for the main and temporary exhibitions.\\nThe audio tours\\xa0are available in two languages (NL, EN).\\nYou can collect the audio tour device from a number of prominent places in the museum. Do not forget to return the device to the same place after your visit.\\nYou can also listen to the audio tours on your own mobile phone. Find a QR-code with a link and instructions on the cabinet where you can collect the audio tour or download the app in advance.',\n",
              " 'Food and beverages are not allowed in the museum.',\n",
              " 'Due to the current safety and health measures, it is only possible to use the toilet if you have an entrance ticket to the museum.',\n",
              " 'Yes. Please phone: +31 (0)20 5732 911 or email us at reserveringen@stedelijk.nl. The museum has four wheelchairs available for visitors, and several Alinkers (a stylish new kind of non-motorized mobility vehicle), which are specially designed mobility vehicles that look a little like a bicycle. The wheelchairs are thoroughly sanitized after each use. For more information about our facilities for disabled visitors, please visit our Accessibility page.',\n",
              " 'With the exception of registered service dogs, animals are not permitted in the museum.',\n",
              " 'The museum has lifts that are suitable for wheelchairs and also has toilets for people with physical disabilities. We also have plenty of staff in the entrance area who are ready to help visitors in wheelchairs who might need help to access the galleries. If you need assistance when leaving the museum, you only have to ask; our staff is happy to help.\\nFor more information about our facilities for disabled visitors, please visit our Accessibility page. A special toilet route is available for visitors with a physical disability.',\n",
              " 'Yes, the museum has a safe space where you can breastfeed your baby. The museum’s general additional hygiene measures also apply here.',\n",
              " \"Yes, the museum hosts events regularly. Check out what's on here. To keep up with the latest news, you can sign up for our newsletter here.\\nWould you like to hire a venue at the museum to host an event. Get in touch and we’ll see what we can do for you. Click here for more information on hiring venues.\",\n",
              " 'There are a total of around 500 art and design objects dating from 1870 to the present day.',\n",
              " 'Yes. Around 400 highlights from the collection are on permanent display in STEDELIJK BASE. And in Tomorrow is a Different Day around 125. Some works in our collection, photographs, textiles, and works on paper, cannot be exhibited for longer than 3 consecutive months because they are too fragile. But the display always includes internationally famous artists and designers. The Stedelijk collection is large, and if a work is on loan to another institute, we can replace it with one of equal caliber.',\n",
              " 'Please check our Family page for the latest info about our family program.',\n",
              " 'At present, we offer set timed tickets on Mondays, Tuesdays and Thursdays. You can choose from the following time slots:\\n10.15 -11.45 am\\n12.00 - 1.30 pm\\n2.15 - 3.45 pm\\n4.00 - 5.30 pm\\nWhen you make a reservation, you will be shown the time slots that are available. If not enough slots are free, you can divide your group over different time slots.\\nYou can arrive at the group entrance at the Paulus Potterstraat about 10 minutes before the start of your visit and use the group cloakroom (if there is enough room).',\n",
              " 'You book the program you’ve chosen through our website. On top the page of the individual program there are several buttons for you to click through to the ticket system. Choose the button relevant to your school or student group and/or the Cultuurkaart. All our activities are grouped into two programs: In the museum, and Online. This applies to primary education, vocational, and higher education.',\n",
              " 'All school visits must be pre-booked for a specific time slot. The available time slots are shown in our ticket system. You cannot book tours for any other times.',\n",
              " 'A tour can be booked until the first day of the month prior to the month of the visit. For example, if you’re planning a guided tour in April, you have until March 1 to make the reservation.',\n",
              " 'The rate for a group tour of 1.5 hours is € 82.50 (including entrance fee). For an independent tour, each person pays the entrance fee. Admission to the Stedelijk Museum is free for visitors below the age of 18. Students pay 10 euros. Admission is free for Teachers/Group leaders. We do not offer a group discount.',\n",
              " 'We offer the following payment methods:\\n\\niDeal\\nCredit card\\nCultuurkaart (VO/MBO)\\nVoucher (PO)\\n\\nUnfortunately there is no option to pay by invoice.',\n",
              " 'You can arrive at the group entrance on Paulus Potterstraat about 10 minutes before the start of your visit. You can use the group cloakroom there (if there is enough room).',\n",
              " 'You can book a guided tour for up to 4 groups per time slot of 1.5 hours. The maximum group size is 15 (11 pupils for groups 1 to 3). Each group should be accompanied by a maximum of 2 teachers / group leaders from the school.',\n",
              " 'Each group should be accompanied by a maximum of 2 teachers / group leaders from the school.',\n",
              " 'No, school classes with pupils below the age of 18 years are exempt from the corona check. This also applies to their group leaders and teachers. Group leaders and teachers are not required to show a QR code.',\n",
              " \"No, from the 18th of February this won't be necessary anymore.\",\n",
              " \"No, from 18 February onwards this won't be necessary anymore. However, you are allowed to wear one if you would like to.\",\n",
              " 'Yes, you can book an independent group visit. Independent group visits are possible on Tuesdays and Thursdays and on the time slots that we do not offer to other groups. The time slots appear automatically as available in the booking system when we close the bookings for the education programs. This always happens on the first day of the month. So, starting from the first of October, you can book an independent group visit on Tuesdays and Thursdays in November for the available time slots. You can book independent group visits – providing there’s availability – 24 hours before your visit.',\n",
              " 'An abbreviated tour is possible, but you always pay for 1,5 hours. In case you want to book an abbreviated tour, you always go through the booking process first. Send an email after that to educatie@stedelijk.nl to tell your preferred start- and end time.',\n",
              " 'Hello, what can I do for you?',\n",
              " 'I’m doing great, what can I do for you?',\n",
              " 'Thank you. Have a nice day!',\n",
              " 'You can cancel or reschedule a tour from the first day of the previous month of the booking. For example, when you’ve booked your tour for the 14th of June, you can cancel or reschedule this until the first of May.',\n",
              " 'Yes, you have to apply for independent group visit if you are with 5 or more people. You can do so here. For adults the maximum group size is 5 persons at the moment.',\n",
              " 'No, this is not possible.',\n",
              " 'The Museumpleinbus brings groups of schools from Primary Schools for free, safe and fast to the Stedelijk Museum. The Museumpleinbus is meant for pupils from group 6, 7 and 8 that booked the program De Stijl and for primary schools that are located in a radius of 60 kilometers starting from the ring A10.',\n",
              " 'You can sign in your group approximately 10 minutes before the start of your visit, at the groupsentree at the Paulus Potterstraat. You can make use of the groups wardrobe there (if there’s enough space).',\n",
              " 'You can meet up with your group at the following meeting points in the museum:\\xa0\\nUnder the stairs in Stedelijk Base (ground floor / -1)\\xa0\\nAt the artwork Woven Into The Fabric by Petra Blaisse and Desso, located in the entrance hall\\xa0\\nAt the Tajiri artwork (the sculpture with the big ‘knot’ next to the museum shop)\\xa0\\nAt the Barbara Kruger artwork (1st floor)\\xa0\\nAt the Paulus Potter entrance (tbc)',\n",
              " 'Food and drinks are only allowed in the Zadelhoff cafe and the TEN Good Food cafe. It is not possible to bring your own lunch in these places.',\n",
              " 'In case of a delay, we kindly ask you to contact us directly. In this way, we can update all involved parties. The Stedelijk Museum is available during office hours through the phone number: 020-5732911. Unfortunately, the tour cannot be extended in case of a delay.',\n",
              " 'Please visit our website to view our current admission prices.',\n",
              " 'Please visit the museum website to find out what the current exhibit is.']"
            ]
          },
          "metadata": {},
          "execution_count": 29
        }
      ]
    },
    {
      "cell_type": "markdown",
      "source": [
        "<a name=\"s04\"></a>\n",
        "## 4. SETTING UP ELASTICSEARCH"
      ],
      "metadata": {
        "id": "Bp24Ih5Q-7gT"
      }
    },
    {
      "cell_type": "code",
      "source": [
        "!pip install 'elasticsearch<7.14.0'"
      ],
      "metadata": {
        "colab": {
          "base_uri": "https://localhost:8080/"
        },
        "id": "2-zF5kAM-1E4",
        "outputId": "aa4d8627-98f4-4feb-c998-7965d4109e4d"
      },
      "execution_count": null,
      "outputs": [
        {
          "output_type": "stream",
          "name": "stdout",
          "text": [
            "Looking in indexes: https://pypi.org/simple, https://us-python.pkg.dev/colab-wheels/public/simple/\n",
            "Collecting elasticsearch<7.14.0\n",
            "  Downloading elasticsearch-7.13.4-py2.py3-none-any.whl (356 kB)\n",
            "\u001b[K     |████████████████████████████████| 356 kB 5.3 MB/s \n",
            "\u001b[?25hRequirement already satisfied: certifi in /usr/local/lib/python3.7/dist-packages (from elasticsearch<7.14.0) (2022.6.15)\n",
            "Requirement already satisfied: urllib3<2,>=1.21.1 in /usr/local/lib/python3.7/dist-packages (from elasticsearch<7.14.0) (1.24.3)\n",
            "Installing collected packages: elasticsearch\n",
            "Successfully installed elasticsearch-7.13.4\n"
          ]
        }
      ]
    },
    {
      "cell_type": "code",
      "source": [
        "! wget https://artifacts.elastic.co/downloads/elasticsearch/elasticsearch-7.9.2-linux-x86_64.tar.gz -q\n",
        "! tar -xzf elasticsearch-7.9.2-linux-x86_64.tar.gz\n",
        "! chown -R daemon:daemon elasticsearch-7.9.2\n",
        "\n",
        "import os\n",
        "from subprocess import Popen, PIPE, STDOUT\n",
        "\n",
        "es_server = Popen(\n",
        "    [\"elasticsearch-7.9.2/bin/elasticsearch\"], \n",
        "    stdout=PIPE, stderr=STDOUT, preexec_fn=lambda: os.setuid(1)  # as daemon\n",
        ")\n",
        "# wait until ES has started\n",
        "! sleep 30"
      ],
      "metadata": {
        "id": "ujLBT3kC-1F9"
      },
      "execution_count": null,
      "outputs": []
    },
    {
      "cell_type": "markdown",
      "source": [
        "Let's test that the Elasticsearch server is running by querying the base endpoint (at localhost:9200)."
      ],
      "metadata": {
        "id": "hJSZfPSa4EHW"
      }
    },
    {
      "cell_type": "code",
      "source": [
        "!curl -X GET \"localhost:9200/\""
      ],
      "metadata": {
        "colab": {
          "base_uri": "https://localhost:8080/"
        },
        "id": "fjEvyw2V-1P6",
        "outputId": "f2ccbbb1-24b5-4067-b874-4d7f8a598619"
      },
      "execution_count": null,
      "outputs": [
        {
          "output_type": "stream",
          "name": "stdout",
          "text": [
            "{\n",
            "  \"name\" : \"992ba46d3aec\",\n",
            "  \"cluster_name\" : \"elasticsearch\",\n",
            "  \"cluster_uuid\" : \"RE7Mc9P1QKKHWwqXcKJ8lA\",\n",
            "  \"version\" : {\n",
            "    \"number\" : \"7.9.2\",\n",
            "    \"build_flavor\" : \"default\",\n",
            "    \"build_type\" : \"tar\",\n",
            "    \"build_hash\" : \"d34da0ea4a966c4e49417f2da2f244e3e97b4e6e\",\n",
            "    \"build_date\" : \"2020-09-23T00:45:33.626720Z\",\n",
            "    \"build_snapshot\" : false,\n",
            "    \"lucene_version\" : \"8.6.2\",\n",
            "    \"minimum_wire_compatibility_version\" : \"6.8.0\",\n",
            "    \"minimum_index_compatibility_version\" : \"6.0.0-beta1\"\n",
            "  },\n",
            "  \"tagline\" : \"You Know, for Search\"\n",
            "}\n"
          ]
        }
      ]
    },
    {
      "cell_type": "markdown",
      "source": [
        "Let's check that the correct processes are running."
      ],
      "metadata": {
        "id": "fJ0A_74s4LEx"
      }
    },
    {
      "cell_type": "code",
      "source": [
        "!ps -ef | grep elasticsearch"
      ],
      "metadata": {
        "colab": {
          "base_uri": "https://localhost:8080/"
        },
        "id": "IZgz8sfY-1eO",
        "outputId": "c8a55d11-651a-4cc3-fd86-5d63327c2078"
      },
      "execution_count": null,
      "outputs": [
        {
          "output_type": "stream",
          "name": "stdout",
          "text": [
            "daemon       146      60 99 13:31 ?        00:00:39 /content/elasticsearch-7.9.2/jdk/bin/java -Xshare:auto -Des.networkaddress.cache.ttl=60 -Des.networkaddress.cache.negative.ttl=10 -XX:+AlwaysPreTouch -Xss1m -Djava.awt.headless=true -Dfile.encoding=UTF-8 -Djna.nosys=true -XX:-OmitStackTraceInFastThrow -XX:+ShowCodeDetailsInExceptionMessages -Dio.netty.noUnsafe=true -Dio.netty.noKeySetOptimization=true -Dio.netty.recycler.maxCapacityPerThread=0 -Dio.netty.allocator.numDirectArenas=0 -Dlog4j.shutdownHookEnabled=false -Dlog4j2.disable.jmx=true -Djava.locale.providers=SPI,COMPAT -Xms1g -Xmx1g -XX:+UseG1GC -XX:G1ReservePercent=25 -XX:InitiatingHeapOccupancyPercent=30 -Djava.io.tmpdir=/tmp/elasticsearch-15758344404987449848 -XX:+HeapDumpOnOutOfMemoryError -XX:HeapDumpPath=data -XX:ErrorFile=logs/hs_err_pid%p.log -Xlog:gc*,gc+age=trace,safepoint:file=logs/gc.log:utctime,pid,tags:filecount=32,filesize=64m -XX:MaxDirectMemorySize=536870912 -Des.path.home=/content/elasticsearch-7.9.2 -Des.path.conf=/content/elasticsearch-7.9.2/config -Des.distribution.flavor=default -Des.distribution.type=tar -Des.bundled_jdk=true -cp /content/elasticsearch-7.9.2/lib/* org.elasticsearch.bootstrap.Elasticsearch\n",
            "daemon       356     146  0 13:32 ?        00:00:00 /content/elasticsearch-7.9.2/modules/x-pack-ml/platform/linux-x86_64/bin/controller\n",
            "root         400      60  0 13:32 ?        00:00:00 /bin/bash -c ps -ef | grep elasticsearch\n",
            "root         402     400  0 13:32 ?        00:00:00 grep elasticsearch\n"
          ]
        }
      ]
    },
    {
      "cell_type": "code",
      "source": [
        "# this import is only necessary if you have run the notebook from point 3\n",
        "import requests"
      ],
      "metadata": {
        "id": "Z92NwjwEATjx"
      },
      "execution_count": null,
      "outputs": []
    },
    {
      "cell_type": "markdown",
      "source": [
        "Let's check the server's health. (N.B. This check frequently fails. If so happens, please try again)"
      ],
      "metadata": {
        "id": "M5HODCvh4VY2"
      }
    },
    {
      "cell_type": "code",
      "source": [
        "# Make sure that the status is \"green\"\n",
        "requests.get(\"http://localhost:9200/_cluster/health\").json()"
      ],
      "metadata": {
        "colab": {
          "base_uri": "https://localhost:8080/"
        },
        "id": "W6bhNSokATk3",
        "outputId": "31831a98-bd8b-4eed-f753-c7373a62fb60"
      },
      "execution_count": null,
      "outputs": [
        {
          "output_type": "execute_result",
          "data": {
            "text/plain": [
              "{'active_primary_shards': 0,\n",
              " 'active_shards': 0,\n",
              " 'active_shards_percent_as_number': 100.0,\n",
              " 'cluster_name': 'elasticsearch',\n",
              " 'delayed_unassigned_shards': 0,\n",
              " 'initializing_shards': 0,\n",
              " 'number_of_data_nodes': 1,\n",
              " 'number_of_in_flight_fetch': 0,\n",
              " 'number_of_nodes': 1,\n",
              " 'number_of_pending_tasks': 0,\n",
              " 'relocating_shards': 0,\n",
              " 'status': 'green',\n",
              " 'task_max_waiting_in_queue_millis': 0,\n",
              " 'timed_out': False,\n",
              " 'unassigned_shards': 0}"
            ]
          },
          "metadata": {},
          "execution_count": 35
        }
      ]
    },
    {
      "cell_type": "code",
      "source": [
        "# Check that no indexes exist at this stage\n",
        "requests.get(\"http://localhost:9200/_cat/indices\").text"
      ],
      "metadata": {
        "colab": {
          "base_uri": "https://localhost:8080/",
          "height": 35
        },
        "id": "FzxkgVQoATmp",
        "outputId": "77214e6a-cae7-4cf5-a345-eb8e3b2e876e"
      },
      "execution_count": null,
      "outputs": [
        {
          "output_type": "execute_result",
          "data": {
            "text/plain": [
              "''"
            ],
            "application/vnd.google.colaboratory.intrinsic+json": {
              "type": "string"
            }
          },
          "metadata": {},
          "execution_count": 36
        }
      ]
    },
    {
      "cell_type": "markdown",
      "source": [
        "Now we can instantiate an Elasticsearch client."
      ],
      "metadata": {
        "id": "1tRlisti4gF0"
      }
    },
    {
      "cell_type": "code",
      "source": [
        "from elasticsearch import Elasticsearch"
      ],
      "metadata": {
        "id": "PoTJwH6lATp2"
      },
      "execution_count": null,
      "outputs": []
    },
    {
      "cell_type": "code",
      "source": [
        "es = Elasticsearch('http://localhost:9200')"
      ],
      "metadata": {
        "id": "ZJrPi0J3ATse"
      },
      "execution_count": null,
      "outputs": []
    },
    {
      "cell_type": "markdown",
      "source": [
        "Now we can create an index. Let's call it ```faq_index```.\n",
        "\n",
        "During index creation we can define the \"mapping\", which is equivalent to defining a table schema at the moment of a database table creation.\n",
        "\n",
        "We shall define three fields:\n",
        "\n",
        "* **embedding**: a dense vector field to store the question embeddings. The model that we shall use below generates 768-dimensional embeddings, so let's set that here too.\n",
        "* **question**: a text field to store the text of the FAQ question from which the embeddings were produced.\n",
        "* **answer**: a text field to store the text of the corresponsing answer. "
      ],
      "metadata": {
        "id": "QqCpr05p4u5d"
      }
    },
    {
      "cell_type": "code",
      "source": [
        "es.indices.create('faq_index', \n",
        "                  ignore=404, \n",
        "                  body={\n",
        "                      \"mappings\": {\n",
        "                          \"properties\": {\n",
        "                              \"embedding\": {\n",
        "                                  \"type\": \"dense_vector\",\n",
        "                                  \"dims\": 768,\n",
        "                                  },\n",
        "                              \"question\": {\n",
        "                                  \"type\": \"text\",},\n",
        "                              \"answer\": {\n",
        "                                  \"type\": \"text\",\n",
        "                                  }\n",
        "                            }\n",
        "                      }\n",
        "                  }\n",
        ")"
      ],
      "metadata": {
        "colab": {
          "base_uri": "https://localhost:8080/"
        },
        "id": "sUeGBd90Alql",
        "outputId": "e7d1dd66-f508-4cc7-ff42-7199362f054a"
      },
      "execution_count": null,
      "outputs": [
        {
          "output_type": "execute_result",
          "data": {
            "text/plain": [
              "{'acknowledged': True, 'index': 'faq_index', 'shards_acknowledged': True}"
            ]
          },
          "metadata": {},
          "execution_count": 39
        }
      ]
    },
    {
      "cell_type": "markdown",
      "source": [
        "Let us make sure that the index has been created."
      ],
      "metadata": {
        "id": "hQcH7KUT6IsP"
      }
    },
    {
      "cell_type": "code",
      "source": [
        "requests.get(\"http://localhost:9200/_cat/indices\").text"
      ],
      "metadata": {
        "colab": {
          "base_uri": "https://localhost:8080/",
          "height": 35
        },
        "id": "NqtJgRRjAlog",
        "outputId": "6c7cb894-6cb2-4810-8ca4-9168a177c626"
      },
      "execution_count": null,
      "outputs": [
        {
          "output_type": "execute_result",
          "data": {
            "text/plain": [
              "'yellow open faq_index YIR92wIcSJ-huMR0SQcQiQ 1 1 0 0 208b 208b\\n'"
            ],
            "application/vnd.google.colaboratory.intrinsic+json": {
              "type": "string"
            }
          },
          "metadata": {},
          "execution_count": 40
        }
      ]
    },
    {
      "cell_type": "markdown",
      "source": [
        "<a name=\"s05\"></a>\n",
        "## 5. SETTING UP THE SENTENCE TRANSFORMER"
      ],
      "metadata": {
        "id": "AMfi2uQz-2Fh"
      }
    },
    {
      "cell_type": "markdown",
      "source": [
        "We are going to use the ```sentence-transformers``` library to leverage a pretrained model to encode our FAQ questions and the user question.\n",
        "\n",
        "We shall use the ```all-mpnet-base-v2``` model. This  is one of the newer models available with the ```sentence-transformers``` library. The latter was originally developed around SBERT, an improved, faster, more scalable version of BERT based on a siamese architecture that can produce sentence-level embeddings, rather than just token-level embeddings.\n",
        "\n",
        "According to https://www.sbert.net/docs/pretrained_models.html\n",
        "the ```all-mpnet-base-v2``` model features a max sequence length of\t384, and embeddings with a dimension of 768."
      ],
      "metadata": {
        "id": "Z6EDw4SKn0yh"
      }
    },
    {
      "cell_type": "code",
      "source": [
        "pip install -U sentence-transformers"
      ],
      "metadata": {
        "colab": {
          "base_uri": "https://localhost:8080/"
        },
        "id": "s48JV9LXhVs9",
        "outputId": "90b9f4ff-4963-49e1-c8b6-952fcf0052e8"
      },
      "execution_count": null,
      "outputs": [
        {
          "output_type": "stream",
          "name": "stdout",
          "text": [
            "Looking in indexes: https://pypi.org/simple, https://us-python.pkg.dev/colab-wheels/public/simple/\n",
            "Collecting sentence-transformers\n",
            "  Downloading sentence-transformers-2.2.2.tar.gz (85 kB)\n",
            "\u001b[K     |████████████████████████████████| 85 kB 2.5 MB/s \n",
            "\u001b[?25hCollecting transformers<5.0.0,>=4.6.0\n",
            "  Downloading transformers-4.20.1-py3-none-any.whl (4.4 MB)\n",
            "\u001b[K     |████████████████████████████████| 4.4 MB 28.8 MB/s \n",
            "\u001b[?25hRequirement already satisfied: tqdm in /usr/local/lib/python3.7/dist-packages (from sentence-transformers) (4.64.0)\n",
            "Requirement already satisfied: torch>=1.6.0 in /usr/local/lib/python3.7/dist-packages (from sentence-transformers) (1.11.0+cu113)\n",
            "Requirement already satisfied: torchvision in /usr/local/lib/python3.7/dist-packages (from sentence-transformers) (0.12.0+cu113)\n",
            "Requirement already satisfied: numpy in /usr/local/lib/python3.7/dist-packages (from sentence-transformers) (1.21.6)\n",
            "Requirement already satisfied: scikit-learn in /usr/local/lib/python3.7/dist-packages (from sentence-transformers) (1.0.2)\n",
            "Requirement already satisfied: scipy in /usr/local/lib/python3.7/dist-packages (from sentence-transformers) (1.4.1)\n",
            "Requirement already satisfied: nltk in /usr/local/lib/python3.7/dist-packages (from sentence-transformers) (3.7)\n",
            "Collecting sentencepiece\n",
            "  Downloading sentencepiece-0.1.96-cp37-cp37m-manylinux_2_17_x86_64.manylinux2014_x86_64.whl (1.2 MB)\n",
            "\u001b[K     |████████████████████████████████| 1.2 MB 43.2 MB/s \n",
            "\u001b[?25hCollecting huggingface-hub>=0.4.0\n",
            "  Downloading huggingface_hub-0.8.1-py3-none-any.whl (101 kB)\n",
            "\u001b[K     |████████████████████████████████| 101 kB 10.7 MB/s \n",
            "\u001b[?25hRequirement already satisfied: importlib-metadata in /usr/local/lib/python3.7/dist-packages (from huggingface-hub>=0.4.0->sentence-transformers) (4.11.4)\n",
            "Requirement already satisfied: requests in /usr/local/lib/python3.7/dist-packages (from huggingface-hub>=0.4.0->sentence-transformers) (2.23.0)\n",
            "Collecting pyyaml>=5.1\n",
            "  Downloading PyYAML-6.0-cp37-cp37m-manylinux_2_5_x86_64.manylinux1_x86_64.manylinux_2_12_x86_64.manylinux2010_x86_64.whl (596 kB)\n",
            "\u001b[K     |████████████████████████████████| 596 kB 49.3 MB/s \n",
            "\u001b[?25hRequirement already satisfied: typing-extensions>=3.7.4.3 in /usr/local/lib/python3.7/dist-packages (from huggingface-hub>=0.4.0->sentence-transformers) (4.1.1)\n",
            "Requirement already satisfied: packaging>=20.9 in /usr/local/lib/python3.7/dist-packages (from huggingface-hub>=0.4.0->sentence-transformers) (21.3)\n",
            "Requirement already satisfied: filelock in /usr/local/lib/python3.7/dist-packages (from huggingface-hub>=0.4.0->sentence-transformers) (3.7.1)\n",
            "Requirement already satisfied: pyparsing!=3.0.5,>=2.0.2 in /usr/local/lib/python3.7/dist-packages (from packaging>=20.9->huggingface-hub>=0.4.0->sentence-transformers) (3.0.9)\n",
            "Requirement already satisfied: regex!=2019.12.17 in /usr/local/lib/python3.7/dist-packages (from transformers<5.0.0,>=4.6.0->sentence-transformers) (2022.6.2)\n",
            "Collecting tokenizers!=0.11.3,<0.13,>=0.11.1\n",
            "  Downloading tokenizers-0.12.1-cp37-cp37m-manylinux_2_12_x86_64.manylinux2010_x86_64.whl (6.6 MB)\n",
            "\u001b[K     |████████████████████████████████| 6.6 MB 40.7 MB/s \n",
            "\u001b[?25hRequirement already satisfied: zipp>=0.5 in /usr/local/lib/python3.7/dist-packages (from importlib-metadata->huggingface-hub>=0.4.0->sentence-transformers) (3.8.0)\n",
            "Requirement already satisfied: click in /usr/local/lib/python3.7/dist-packages (from nltk->sentence-transformers) (7.1.2)\n",
            "Requirement already satisfied: joblib in /usr/local/lib/python3.7/dist-packages (from nltk->sentence-transformers) (1.1.0)\n",
            "Requirement already satisfied: certifi>=2017.4.17 in /usr/local/lib/python3.7/dist-packages (from requests->huggingface-hub>=0.4.0->sentence-transformers) (2022.6.15)\n",
            "Requirement already satisfied: urllib3!=1.25.0,!=1.25.1,<1.26,>=1.21.1 in /usr/local/lib/python3.7/dist-packages (from requests->huggingface-hub>=0.4.0->sentence-transformers) (1.24.3)\n",
            "Requirement already satisfied: idna<3,>=2.5 in /usr/local/lib/python3.7/dist-packages (from requests->huggingface-hub>=0.4.0->sentence-transformers) (2.10)\n",
            "Requirement already satisfied: chardet<4,>=3.0.2 in /usr/local/lib/python3.7/dist-packages (from requests->huggingface-hub>=0.4.0->sentence-transformers) (3.0.4)\n",
            "Requirement already satisfied: threadpoolctl>=2.0.0 in /usr/local/lib/python3.7/dist-packages (from scikit-learn->sentence-transformers) (3.1.0)\n",
            "Requirement already satisfied: pillow!=8.3.*,>=5.3.0 in /usr/local/lib/python3.7/dist-packages (from torchvision->sentence-transformers) (7.1.2)\n",
            "Building wheels for collected packages: sentence-transformers\n",
            "  Building wheel for sentence-transformers (setup.py) ... \u001b[?25l\u001b[?25hdone\n",
            "  Created wheel for sentence-transformers: filename=sentence_transformers-2.2.2-py3-none-any.whl size=125938 sha256=1b71bd4fbc0856026f5cb5ddda0a972223d2fddbcc4e939da4881553bdc38def\n",
            "  Stored in directory: /root/.cache/pip/wheels/bf/06/fb/d59c1e5bd1dac7f6cf61ec0036cc3a10ab8fecaa6b2c3d3ee9\n",
            "Successfully built sentence-transformers\n",
            "Installing collected packages: pyyaml, tokenizers, huggingface-hub, transformers, sentencepiece, sentence-transformers\n",
            "  Attempting uninstall: pyyaml\n",
            "    Found existing installation: PyYAML 3.13\n",
            "    Uninstalling PyYAML-3.13:\n",
            "      Successfully uninstalled PyYAML-3.13\n",
            "Successfully installed huggingface-hub-0.8.1 pyyaml-6.0 sentence-transformers-2.2.2 sentencepiece-0.1.96 tokenizers-0.12.1 transformers-4.20.1\n"
          ]
        }
      ]
    },
    {
      "cell_type": "code",
      "source": [
        "from sentence_transformers import SentenceTransformer"
      ],
      "metadata": {
        "id": "nmnskKauhYBY"
      },
      "execution_count": null,
      "outputs": []
    },
    {
      "cell_type": "code",
      "source": [
        "sentence_transformer = SentenceTransformer(\"all-mpnet-base-v2\")"
      ],
      "metadata": {
        "colab": {
          "base_uri": "https://localhost:8080/",
          "height": 465,
          "referenced_widgets": [
            "304043eb5f3c4ff4b00899534ad12639",
            "f8fecf5155f244beb4e355dcebebaa57",
            "111a096b5e764af7a579dbde6ad54a1d",
            "75c0cbda0e524a78b19c253225cd5914",
            "a766f5dd57064680b3099da859d47396",
            "e3b4bc17e55944848c199d8d35acfa5e",
            "a4294e90a27e4e4b884982ed04eec757",
            "36f437afe87a4f9eb7d6e70e79a7c19c",
            "6c3e027da0b447dea573683bd50cf2ba",
            "0c14ff1d394e4459b786f1a55589a3b4",
            "5344dac3bcc4449a829a7abe7038afe2",
            "69804ddf1817442294706a5ce5425249",
            "7855ec787e8142d88d275d117a77586d",
            "19673c0bb0e84daeaed49f6582f6c87f",
            "bfd97979a1974871b867371e509c0676",
            "174bdccbf7d6401c9a86a7128c0ae9c8",
            "c22f382acc804f548e0809bd12097d19",
            "8c6154d6e8604eddbdeb8b8beaf0bd7c",
            "36c0748cdcb248bc997abb18598b3fa1",
            "06c4a92daf0d4c81979df4b6874ce487",
            "41ba75d43e6346279a9a70feb6d2a853",
            "607f2fc03a2f4a4dab4f4c21b2b5fb4c",
            "ce27ae3610014ff6b4e3a86b8198f3d1",
            "9fcf2376426140a8a51d755debfa492a",
            "5c7c80650a39414ca2b3515237695421",
            "4c91f747ff6b44caa86873e9d35f5b51",
            "6a67b7f4591b4c6db56bfbccf6157c60",
            "3cf3174698464672941774681d40c2e1",
            "9b009dfb9a3145f483ef74e76280aef9",
            "0cd8a47fa4f649288c5cb0af0cbf9a49",
            "80fab768b9e0457fbff13037d1e90314",
            "ee5eed44378343fe9a3f5d277544982b",
            "07f19d2e8c214b22b8f6719d8c593c0c",
            "210c35a96d904a319aa5c9c21b311ddd",
            "7872e9de26e146b48260277766616c08",
            "13ccd7ef08db43a3be130eb068608488",
            "9eabcbeeecba40a08a436dc8bb48e148",
            "c09d0c1b897f421ca41b08d4b1fed71e",
            "deb7d5ce1fc7415b8d0c6d72a3bdf1f0",
            "207ecba948fe42c688480dbe8b405f88",
            "7f8f8590fba94ab1968de052a82689c8",
            "45ed9e590ec748c19c76205214a54604",
            "9c919db2b26840f8a7ab9d16385e83e4",
            "fdf2487d333b44fbbbd927bfd8db21fb",
            "7cc04d21b0364d98b0095cf2eee104f5",
            "6202368f56184338b712698dc2e20c25",
            "38122d5135c8477aa82bda7f43d74fb4",
            "c6699c84703647b884e9c4b6363bb5e6",
            "3f2f2e8f66ea4cfb9d47c7a4ab7c2901",
            "ac7f8f815cf84f7cb4f85e38b35b25be",
            "c20fe1434a7d40f58548ecc2e217910b",
            "5444bdc11ac947eb8281fa52170b114b",
            "9c394ae735dd4085b3770feb179b53b7",
            "3e0d547cd1cb49809c410c62dc7d93c4",
            "86fe0f44b0d14ecb97cdce5936c7ccf4",
            "00eaeebe70a14644b62cb13a9876c909",
            "6812ba0e4e6d47a1b44c51b44b5f218d",
            "08f584b120cc404b9d0a9ccfac209ed9",
            "6c8bc3481df84ab698d1da5491020683",
            "c4c5b0f3656a48808e54192d254edbc4",
            "7327d966f3e543778b0b4326ab273e44",
            "0fe99a0a20dd48cd9e978ec52dc0ec45",
            "550cd1ab3cb54d3ab17f3b8c6a1597d3",
            "f6668ad5997147b898121e7e2a95fa02",
            "e28f690bf2744b7592c568b3c43cdac8",
            "30ff88e0ec724b8b9a617fe510bd5a9e",
            "8d8d61b7300a4a97bfae5d00a276e611",
            "1ac4335161f04ab4b9bf264081b3672b",
            "b84193d25de04c8b9c00588db8b212f3",
            "26fcf99665644346aa9f39317f75f8a0",
            "82e214188a66493e8013bac5eb332a1d",
            "6f4e3d6e7d5444719964aa4dfe728141",
            "7b5e3aa4bcd54289806461e3e231b845",
            "9b997dbfec7c4ea69a6f34ae58007096",
            "eb24400f46cf47b2be53cee936f0af6b",
            "9dc595d2fa384a55939343ac72744866",
            "38c2d55040d74031803ac3e584028537",
            "cdc8e917edcc49559ad69b024f48eaa7",
            "fb014a18e4194480a062f5491ea133bb",
            "4dd25db73364465fa7621b0c21fb803a",
            "4327885d0c5b4b4eae4dcb4d4d9eea9f",
            "8e1323bed2154a6d81058853de4a7608",
            "73c03a99ac8e4707b0f91996a90a5c9d",
            "229bd47a6d68443385dc7a7f17187222",
            "801f04017a48409ea6868c3a2eeecbdd",
            "0b6b7f73976d4a29991f0e7d7587095c",
            "4b64e87475fd4b6597523e987be0993b",
            "c3c6ab848d2b4cd993ba731b6f5591fd",
            "d95c80eb180c40f6b9f4569cc5d31322",
            "a4e5c7fbe68246729987179e71516f94",
            "5b12d04c14d6493aacabeb0e80617fc2",
            "71b15071fd83459ca6398f90cf9080f6",
            "74cd44d945924dd2b1ece1ca5608437d",
            "001ce62480df4e0987ee505cdcfcdccf",
            "c133d306653d4547a4199c18b4d58979",
            "7f71b3ad1af54d8089493fbb7770c6d1",
            "72561a8057714bebad51a61b02ca5d6d",
            "d79876a884ad4b659a525b75de22c729",
            "c96239d2dae74b8f857a2f8560564587",
            "7013d81b13034e7ebc29da43d7b3c92b",
            "9c6882fd8b824d03a046b5810fba93fd",
            "93b0328aaa5e42c0ae73e2567cb927e9",
            "311a8a32073e4ebc8deab521527a219e",
            "9dc7497bd86d448b993d70d6d0f9fdc5",
            "eeab400ba7834f168e4bf383bd5d26c9",
            "0d42c6493da048f796f012039e4cb0ff",
            "9e35234f889a406291bc13c990bc4435",
            "14d90e4002004cf0bc859f92a47866b7",
            "2a18469c2777401c9158c0903b43c88c",
            "32369f0618a64d78be831f67a6ff48cc",
            "b46e055dd9b14a13bdd1945162c172c9",
            "f38682701e604697af62984c68400917",
            "7c196b5204754b41ae7e5af1f803673c",
            "422b70d83d5c4400afeb1853f4f7f80e",
            "ad556de4b34d4d719317cb97a8912687",
            "089d7c47483d43d9b4d241b5c9ab26cf",
            "3fee3176caa1439e84c8716d495df782",
            "e59ee13d3ff94d6eaa343fb619f74c0c",
            "37e524ed76484a71ac5feeb5d0e1bf81",
            "246d621d7b6e45789052df4e6469cf5d",
            "a11a9d919e124dcaa71f396b07205657",
            "ef3bd49507de4ba2b7f6a75cbc2c45f4",
            "392559b494ab4fd5b3d4b0ca00fb3de8",
            "eacc12294f7549ea96be70d1193ac271",
            "f2e45f0c3f0b45c8ba556c757d670e26",
            "9bdc0f7fc13c4eebadb479a17fda34ec",
            "849cb91f392a46199cdbd2c44ca2afb0",
            "c7df6d55995549ec8c9e45e92c9a9add",
            "22f9f2857b734fbc9633a57cd2b43da7",
            "00bde6b165dc45bfa5e2e40ed2a0dc84",
            "692f4c539cec4d84a2a8ed03cc4a378a",
            "1a8d4fe977cc4831b33fb05123c08fc2",
            "0bad7104c71f4eb5b5e27dda2665cd1b",
            "ce8c5585811d45f4a044c19936d8d33a",
            "4590cdb73a684b9d9654830eb1d23f69",
            "3f25ba5f7c984ce6b5d7747dc6f94ff1",
            "369192c3f55642f2bc3325628787f588",
            "582913c5cce24c7ab41e81b1183e2821",
            "38e514d211c64a5cb835fec3fbbbd61e",
            "d20ae33421774efeba24811c28d023c1",
            "6c34f12dc128483d8777986d7d6c0c64",
            "adec680c8c5c40f9bd081fcb54fafc9d",
            "047ed8e1763b4557bec6316d5a7ea990",
            "ea2f0762f3004afc9b82f78c373d64aa",
            "e8eaa38c9efb43d2afd2dcbfa1b925f0",
            "e84134804c3d413b9e7f50e1ceb139a5",
            "b7c5b8712cd0405cb473937c7e1127b1",
            "bfc0750061cf4ddcbb9016e7a7961a43",
            "cfca6d00578245898d1deeb536267ed6",
            "74a9f07205a049e6b0d46df429b07a37",
            "249d3b650d3f4e6a8a0966704064e7ee",
            "3749688543634bd680d96378ba27a8d7",
            "b0ccfb57f53a486db5b15f88b994ed9d",
            "95e77d994caa4dbeb8c61e78d4e5f626"
          ]
        },
        "id": "IBTtRBuuhyoA",
        "outputId": "9a4a96a9-f060-4115-ecc4-85ddc0aa19b4"
      },
      "execution_count": null,
      "outputs": [
        {
          "output_type": "display_data",
          "data": {
            "text/plain": [
              "Downloading:   0%|          | 0.00/1.18k [00:00<?, ?B/s]"
            ],
            "application/vnd.jupyter.widget-view+json": {
              "version_major": 2,
              "version_minor": 0,
              "model_id": "304043eb5f3c4ff4b00899534ad12639"
            }
          },
          "metadata": {}
        },
        {
          "output_type": "display_data",
          "data": {
            "text/plain": [
              "Downloading:   0%|          | 0.00/190 [00:00<?, ?B/s]"
            ],
            "application/vnd.jupyter.widget-view+json": {
              "version_major": 2,
              "version_minor": 0,
              "model_id": "69804ddf1817442294706a5ce5425249"
            }
          },
          "metadata": {}
        },
        {
          "output_type": "display_data",
          "data": {
            "text/plain": [
              "Downloading:   0%|          | 0.00/10.1k [00:00<?, ?B/s]"
            ],
            "application/vnd.jupyter.widget-view+json": {
              "version_major": 2,
              "version_minor": 0,
              "model_id": "ce27ae3610014ff6b4e3a86b8198f3d1"
            }
          },
          "metadata": {}
        },
        {
          "output_type": "display_data",
          "data": {
            "text/plain": [
              "Downloading:   0%|          | 0.00/571 [00:00<?, ?B/s]"
            ],
            "application/vnd.jupyter.widget-view+json": {
              "version_major": 2,
              "version_minor": 0,
              "model_id": "210c35a96d904a319aa5c9c21b311ddd"
            }
          },
          "metadata": {}
        },
        {
          "output_type": "display_data",
          "data": {
            "text/plain": [
              "Downloading:   0%|          | 0.00/116 [00:00<?, ?B/s]"
            ],
            "application/vnd.jupyter.widget-view+json": {
              "version_major": 2,
              "version_minor": 0,
              "model_id": "7cc04d21b0364d98b0095cf2eee104f5"
            }
          },
          "metadata": {}
        },
        {
          "output_type": "display_data",
          "data": {
            "text/plain": [
              "Downloading:   0%|          | 0.00/39.3k [00:00<?, ?B/s]"
            ],
            "application/vnd.jupyter.widget-view+json": {
              "version_major": 2,
              "version_minor": 0,
              "model_id": "00eaeebe70a14644b62cb13a9876c909"
            }
          },
          "metadata": {}
        },
        {
          "output_type": "display_data",
          "data": {
            "text/plain": [
              "Downloading:   0%|          | 0.00/438M [00:00<?, ?B/s]"
            ],
            "application/vnd.jupyter.widget-view+json": {
              "version_major": 2,
              "version_minor": 0,
              "model_id": "8d8d61b7300a4a97bfae5d00a276e611"
            }
          },
          "metadata": {}
        },
        {
          "output_type": "display_data",
          "data": {
            "text/plain": [
              "Downloading:   0%|          | 0.00/53.0 [00:00<?, ?B/s]"
            ],
            "application/vnd.jupyter.widget-view+json": {
              "version_major": 2,
              "version_minor": 0,
              "model_id": "cdc8e917edcc49559ad69b024f48eaa7"
            }
          },
          "metadata": {}
        },
        {
          "output_type": "display_data",
          "data": {
            "text/plain": [
              "Downloading:   0%|          | 0.00/239 [00:00<?, ?B/s]"
            ],
            "application/vnd.jupyter.widget-view+json": {
              "version_major": 2,
              "version_minor": 0,
              "model_id": "d95c80eb180c40f6b9f4569cc5d31322"
            }
          },
          "metadata": {}
        },
        {
          "output_type": "display_data",
          "data": {
            "text/plain": [
              "Downloading:   0%|          | 0.00/466k [00:00<?, ?B/s]"
            ],
            "application/vnd.jupyter.widget-view+json": {
              "version_major": 2,
              "version_minor": 0,
              "model_id": "7013d81b13034e7ebc29da43d7b3c92b"
            }
          },
          "metadata": {}
        },
        {
          "output_type": "display_data",
          "data": {
            "text/plain": [
              "Downloading:   0%|          | 0.00/363 [00:00<?, ?B/s]"
            ],
            "application/vnd.jupyter.widget-view+json": {
              "version_major": 2,
              "version_minor": 0,
              "model_id": "b46e055dd9b14a13bdd1945162c172c9"
            }
          },
          "metadata": {}
        },
        {
          "output_type": "display_data",
          "data": {
            "text/plain": [
              "Downloading:   0%|          | 0.00/13.1k [00:00<?, ?B/s]"
            ],
            "application/vnd.jupyter.widget-view+json": {
              "version_major": 2,
              "version_minor": 0,
              "model_id": "ef3bd49507de4ba2b7f6a75cbc2c45f4"
            }
          },
          "metadata": {}
        },
        {
          "output_type": "display_data",
          "data": {
            "text/plain": [
              "Downloading:   0%|          | 0.00/232k [00:00<?, ?B/s]"
            ],
            "application/vnd.jupyter.widget-view+json": {
              "version_major": 2,
              "version_minor": 0,
              "model_id": "0bad7104c71f4eb5b5e27dda2665cd1b"
            }
          },
          "metadata": {}
        },
        {
          "output_type": "display_data",
          "data": {
            "text/plain": [
              "Downloading:   0%|          | 0.00/349 [00:00<?, ?B/s]"
            ],
            "application/vnd.jupyter.widget-view+json": {
              "version_major": 2,
              "version_minor": 0,
              "model_id": "ea2f0762f3004afc9b82f78c373d64aa"
            }
          },
          "metadata": {}
        }
      ]
    },
    {
      "cell_type": "markdown",
      "source": [
        "<a name=\"s06\"></a>\n",
        "## 6. ENCODING THE FAQ QUESTIONS"
      ],
      "metadata": {
        "id": "mcEK9QLkYOFP"
      }
    },
    {
      "cell_type": "markdown",
      "source": [
        "Now we can proceed to encode our FAQ questions.\n",
        "\n",
        "The ```.encode()``` method will return a matrix of shape (69, 768), i.e. an array of 69 arrays (the embeddings) each consisting of 768 floats."
      ],
      "metadata": {
        "id": "iwxJEzopQrKS"
      }
    },
    {
      "cell_type": "code",
      "source": [
        "q_emb = sentence_transformer.encode(questions)"
      ],
      "metadata": {
        "id": "9pF76x_ch2rP"
      },
      "execution_count": null,
      "outputs": []
    },
    {
      "cell_type": "code",
      "source": [
        "q_emb.shape"
      ],
      "metadata": {
        "colab": {
          "base_uri": "https://localhost:8080/"
        },
        "id": "vrLfhxNT6_Me",
        "outputId": "1b996ee6-f130-40b6-ad13-7172c8b9a8f2"
      },
      "execution_count": null,
      "outputs": [
        {
          "output_type": "execute_result",
          "data": {
            "text/plain": [
              "(69, 768)"
            ]
          },
          "metadata": {},
          "execution_count": 45
        }
      ]
    },
    {
      "cell_type": "code",
      "source": [
        "type(q_emb)"
      ],
      "metadata": {
        "colab": {
          "base_uri": "https://localhost:8080/"
        },
        "id": "XzXORrF9h_IW",
        "outputId": "74e5224e-9dbd-41eb-87e0-4c612cbe6549"
      },
      "execution_count": null,
      "outputs": [
        {
          "output_type": "execute_result",
          "data": {
            "text/plain": [
              "numpy.ndarray"
            ]
          },
          "metadata": {},
          "execution_count": 46
        }
      ]
    },
    {
      "cell_type": "code",
      "source": [
        "q_emb"
      ],
      "metadata": {
        "colab": {
          "base_uri": "https://localhost:8080/"
        },
        "id": "mZDGTPhtiDsW",
        "outputId": "196bc201-ee67-4548-bbc8-9311bd7210b6"
      },
      "execution_count": null,
      "outputs": [
        {
          "output_type": "execute_result",
          "data": {
            "text/plain": [
              "array([[-0.01773045,  0.01513828, -0.03280092, ..., -0.02755269,\n",
              "        -0.05604987,  0.00660459],\n",
              "       [ 0.00509801,  0.0513333 , -0.03815203, ..., -0.06402185,\n",
              "        -0.00664513, -0.01568183],\n",
              "       [-0.01749739,  0.03756651, -0.0278425 , ..., -0.00137984,\n",
              "        -0.01713154, -0.01403491],\n",
              "       ...,\n",
              "       [ 0.00790073, -0.01039814, -0.02201495, ...,  0.0119863 ,\n",
              "         0.05366091, -0.03144356],\n",
              "       [-0.01190495, -0.05455469, -0.0094575 , ..., -0.01135369,\n",
              "        -0.04598646,  0.0144234 ],\n",
              "       [ 0.02014207,  0.01429683, -0.02203955, ..., -0.02006016,\n",
              "        -0.00936383, -0.02161353]], dtype=float32)"
            ]
          },
          "metadata": {},
          "execution_count": 47
        }
      ]
    },
    {
      "cell_type": "code",
      "source": [
        "type(q_emb[0])"
      ],
      "metadata": {
        "colab": {
          "base_uri": "https://localhost:8080/"
        },
        "id": "-z0xKdCcT90W",
        "outputId": "4ef8e618-ccca-4286-ead6-7c91bc32056f"
      },
      "execution_count": null,
      "outputs": [
        {
          "output_type": "execute_result",
          "data": {
            "text/plain": [
              "numpy.ndarray"
            ]
          },
          "metadata": {},
          "execution_count": 48
        }
      ]
    },
    {
      "cell_type": "code",
      "source": [
        "q_emb[0]"
      ],
      "metadata": {
        "colab": {
          "base_uri": "https://localhost:8080/"
        },
        "id": "zLj8hkYeUFeI",
        "outputId": "cd2ca4ca-abb6-4cdf-da64-4b7d43cda5ad"
      },
      "execution_count": null,
      "outputs": [
        {
          "output_type": "execute_result",
          "data": {
            "text/plain": [
              "array([-1.77304503e-02,  1.51382824e-02, -3.28009166e-02,  7.06112757e-02,\n",
              "       -8.74032527e-02,  6.92547532e-04,  2.02003568e-02,  2.54637115e-02,\n",
              "       -2.88220588e-02, -2.07929383e-03, -2.97217946e-02, -3.74775827e-02,\n",
              "        1.95506625e-02, -7.19693378e-02, -1.27671724e-02,  5.53101301e-03,\n",
              "        1.79819446e-02, -5.21014212e-03, -5.45990132e-02, -3.97999771e-02,\n",
              "       -8.05584639e-02,  8.37062299e-03, -7.01295286e-02, -8.85832869e-03,\n",
              "        3.23801190e-02, -3.42475884e-02, -3.16322371e-02,  6.09318912e-03,\n",
              "        4.27878946e-02, -8.95835087e-03, -4.48268466e-02, -1.99740436e-02,\n",
              "        3.97995487e-03,  3.51808034e-02,  1.12893065e-06, -2.96681039e-02,\n",
              "        3.31372209e-03,  4.52590175e-02, -1.02975452e-02, -1.82640273e-02,\n",
              "        2.94346903e-02,  4.67889011e-02, -1.13698393e-02,  5.80632733e-03,\n",
              "        2.77804807e-02, -6.47760779e-02,  4.05465290e-02, -4.65951450e-02,\n",
              "       -1.94476265e-02,  4.50295508e-02, -6.79708365e-03,  1.82734150e-02,\n",
              "        3.53489295e-02,  7.36326631e-03,  5.46684973e-02, -1.66603383e-02,\n",
              "       -2.08493564e-02,  4.28835712e-02, -3.81197333e-02, -1.31100584e-02,\n",
              "        4.22775149e-02,  1.55433686e-02, -3.88556123e-02,  8.56082048e-03,\n",
              "        1.41788833e-02,  1.98665485e-02, -1.04739312e-02, -1.17933666e-02,\n",
              "       -8.70782044e-03,  9.12198890e-03,  8.17555338e-02, -5.32864816e-02,\n",
              "        1.82455697e-03,  7.86209777e-02, -2.25813501e-02,  9.42523591e-03,\n",
              "        8.67460389e-03,  7.40103126e-02,  3.34926210e-02,  3.19124050e-02,\n",
              "       -1.28743211e-02, -3.81855369e-02, -1.10528991e-02,  4.61380258e-02,\n",
              "        8.63736272e-02,  1.11512483e-04, -3.74345412e-03,  4.66652168e-03,\n",
              "       -2.58040205e-02, -3.44498977e-02,  2.09325850e-02,  4.30321246e-02,\n",
              "       -5.61892316e-02,  5.83361425e-02,  2.38928664e-02, -3.92165547e-03,\n",
              "       -7.51771359e-03,  4.27611694e-02,  2.33028643e-02,  2.10407767e-02,\n",
              "       -9.51134339e-02,  5.81102930e-02,  3.65525438e-03,  2.77683828e-02,\n",
              "        5.31641245e-02,  5.26584759e-02, -3.31831537e-02,  2.65112217e-03,\n",
              "        1.44148981e-02, -1.67627223e-02, -1.26627116e-02,  1.37924077e-02,\n",
              "        4.10271622e-02, -7.64983073e-02,  2.63342131e-02, -2.08287239e-02,\n",
              "        1.09824434e-01,  1.06059005e-02,  8.12818259e-02,  2.90532666e-03,\n",
              "        3.19452095e-03, -4.62139286e-02,  4.81083691e-02,  3.33666876e-02,\n",
              "       -7.40434006e-02,  3.92579027e-02, -6.73588514e-02,  6.42251922e-03,\n",
              "       -4.06005699e-03,  2.07635034e-02, -4.89067994e-02,  4.04711775e-02,\n",
              "       -2.46707294e-02, -1.27921486e-02, -1.09647000e-02, -3.63002392e-03,\n",
              "       -4.97300029e-02, -1.33056818e-02, -3.70889832e-03, -3.36208902e-02,\n",
              "       -7.77575700e-03, -7.68301636e-02,  5.40926382e-02,  4.88058180e-02,\n",
              "       -1.74219888e-02, -1.65455453e-02,  3.59181454e-03,  6.90352023e-02,\n",
              "        4.71512321e-03, -1.26558309e-02,  2.52107419e-02,  3.30085144e-03,\n",
              "       -1.13737108e-02,  1.29080797e-03,  7.51555935e-02,  1.11493496e-02,\n",
              "       -1.46704842e-04,  4.90482617e-03,  4.61101811e-03,  8.80310591e-03,\n",
              "       -1.04619814e-02,  4.02738415e-02, -1.23366974e-02, -4.78039645e-02,\n",
              "        3.51703577e-02, -2.92654522e-02, -8.56245460e-04,  8.16467684e-03,\n",
              "        1.61690507e-02,  6.76428229e-02, -2.16811635e-02,  3.09874509e-02,\n",
              "       -1.41054792e-02, -2.73514427e-02, -7.09630102e-02, -1.93403773e-02,\n",
              "       -2.37659495e-02, -6.21496998e-02,  3.01503576e-02, -1.82663985e-02,\n",
              "        5.51982746e-02, -1.47550821e-01, -1.26700960e-02, -1.90680362e-02,\n",
              "        1.91319026e-02,  2.94285901e-02, -3.05581540e-02,  4.33586724e-02,\n",
              "        9.30955447e-03,  3.08392197e-02,  2.17112992e-03,  1.48226647e-02,\n",
              "        4.54977676e-02,  4.27110419e-02, -3.98435146e-02, -1.52511466e-02,\n",
              "       -1.94266979e-02,  3.72498818e-02, -1.95477121e-02,  3.87302563e-02,\n",
              "       -9.13765430e-02, -4.88933697e-02,  4.88909259e-02,  4.23312820e-02,\n",
              "        5.09637892e-02,  2.64128819e-02,  2.33357698e-02,  3.31718363e-02,\n",
              "       -4.46830411e-03,  1.60025377e-02,  5.52554801e-02,  4.49121138e-03,\n",
              "        2.84356959e-02,  3.32972556e-02,  3.72630805e-02,  2.00425368e-02,\n",
              "        2.11206246e-02,  4.31058072e-02,  3.06163635e-02,  6.53548986e-02,\n",
              "       -1.43176103e-02, -3.78353223e-02, -2.22041886e-02, -2.74050096e-03,\n",
              "        1.59648508e-02, -5.59308007e-03, -6.61646016e-03,  6.75978092e-03,\n",
              "       -2.16615461e-02, -1.41671291e-02, -2.76313350e-02,  5.98066626e-03,\n",
              "       -6.09451253e-03,  4.69426140e-02,  3.55547927e-02,  3.63896303e-02,\n",
              "       -5.24221696e-02, -3.12451646e-02,  2.60458402e-02, -2.29876470e-02,\n",
              "       -2.83683296e-02,  5.78749646e-03,  1.41222961e-02,  1.33746322e-02,\n",
              "       -1.37376757e-02,  3.03238686e-02,  3.23375575e-02, -1.05478137e-03,\n",
              "        2.95915511e-02,  1.09752286e-02, -3.04981489e-02, -2.38167811e-02,\n",
              "        2.38121282e-02, -3.64390574e-02, -9.98332351e-03,  4.43181721e-03,\n",
              "       -1.09950714e-02,  2.94885300e-02, -3.28453630e-02, -4.60195616e-02,\n",
              "        1.50836175e-02, -4.13240353e-03,  3.15124840e-02, -2.67181173e-02,\n",
              "       -6.02374375e-02, -1.39076868e-02,  1.03692487e-01, -8.10513273e-02,\n",
              "       -2.91122124e-02, -9.94563382e-03,  1.10834383e-03, -3.27159911e-02,\n",
              "       -3.25359553e-02,  2.74739116e-02,  3.63001414e-02, -5.63345198e-03,\n",
              "        4.89847213e-02, -1.04845226e-01, -1.34887258e-02,  3.12322713e-02,\n",
              "       -2.92837503e-03, -1.46875037e-02, -3.22287679e-02, -1.31753953e-02,\n",
              "       -4.35166433e-03, -9.40242317e-03,  2.76161954e-02, -4.32524793e-02,\n",
              "        1.20133627e-02, -2.12431680e-02,  2.36682910e-02, -2.50131218e-03,\n",
              "        1.20762398e-03, -2.65609268e-02,  7.17408210e-03, -4.61846637e-03,\n",
              "       -1.35493407e-03, -4.81941644e-03, -3.07423919e-02,  4.61900644e-02,\n",
              "        1.23365419e-02,  3.90654355e-02,  2.10369825e-02, -3.00478656e-03,\n",
              "        1.44028543e-02,  5.45171387e-02,  3.59876975e-02, -2.70780772e-02,\n",
              "       -4.48497012e-02,  2.46601515e-02, -8.60215351e-03,  1.26290722e-02,\n",
              "        5.25187552e-02,  3.89408437e-03,  3.69827375e-02, -2.86736675e-02,\n",
              "       -2.98035499e-02,  2.92268135e-02, -3.65167446e-02,  3.58169340e-02,\n",
              "        8.17095221e-04, -3.05887852e-02, -2.57862508e-02,  3.51179298e-03,\n",
              "       -2.41773133e-03, -4.05476280e-02,  8.95450637e-03, -8.36791750e-03,\n",
              "        4.10353728e-02, -1.58277657e-02,  3.50902230e-02,  1.69090629e-02,\n",
              "       -4.25554439e-02, -2.96262652e-02,  6.75789360e-03, -1.80527230e-03,\n",
              "       -1.55876735e-02, -5.72725981e-02,  1.53824510e-02, -1.82370376e-02,\n",
              "        4.90377545e-02, -9.12105944e-03, -4.05679233e-02,  5.80667630e-02,\n",
              "       -4.10616733e-02, -2.33007800e-02, -3.89424302e-02, -6.29976541e-02,\n",
              "       -7.12197572e-02,  1.53308762e-02, -7.37312511e-02, -4.59899800e-03,\n",
              "       -4.30179909e-02, -2.64559891e-02, -4.46486771e-02,  4.94466685e-02,\n",
              "       -4.45805639e-02,  1.26819178e-01, -2.49200370e-02,  6.12713844e-02,\n",
              "       -4.03555818e-02, -4.04166579e-02, -2.64663231e-02,  3.10788639e-02,\n",
              "        1.68392211e-02,  5.66447197e-05, -3.66697647e-02,  3.16146016e-02,\n",
              "        6.98041031e-03,  4.20168340e-02, -5.95275685e-02,  2.90241614e-02,\n",
              "       -4.03717309e-02,  1.62778776e-02,  3.22919153e-02, -2.92728581e-02,\n",
              "       -2.25854162e-02, -1.03686368e-02, -4.33263183e-02, -3.50647327e-03,\n",
              "       -2.63618380e-02,  1.26325740e-02,  3.83293033e-02,  3.34319547e-02,\n",
              "        8.59161615e-02, -1.34809213e-02, -1.63911097e-03,  1.29020191e-03,\n",
              "        5.58988713e-02,  5.87842753e-03,  2.03488413e-02, -5.32118678e-02,\n",
              "       -7.23594241e-03,  2.26704236e-02, -5.09133153e-02, -5.20258024e-02,\n",
              "        3.22570056e-02, -4.20229472e-02, -2.11132653e-02,  9.34411120e-03,\n",
              "       -4.01426218e-02,  7.39343911e-02,  2.20230669e-02,  4.13768999e-02,\n",
              "        4.08285903e-03,  3.00270859e-02, -4.80292272e-03,  4.99603413e-02,\n",
              "        5.77701107e-02, -1.29084662e-02,  5.33529073e-02,  3.65054086e-02,\n",
              "        1.22918477e-02, -6.22223429e-02, -7.19806040e-03, -3.37446220e-02,\n",
              "        8.59312154e-03,  3.65823433e-02,  1.48071731e-02,  6.35442138e-02,\n",
              "       -3.98937650e-02, -1.03582060e-02, -2.99910903e-02,  3.12747955e-02,\n",
              "        4.72854599e-02,  1.05358623e-02,  5.31079546e-02, -3.06803710e-03,\n",
              "        4.21536788e-02,  2.13430990e-02,  6.48415163e-02,  2.65941843e-02,\n",
              "        2.42776610e-02,  4.34500873e-02, -2.14640051e-02,  4.04301174e-02,\n",
              "        8.25374853e-03,  4.96636853e-02,  1.02448836e-02, -1.66507792e-02,\n",
              "        2.68557537e-02, -8.58941972e-02,  4.02662670e-03, -3.78672732e-04,\n",
              "       -4.44614552e-02, -4.67344895e-02,  2.31352132e-02, -5.52996472e-02,\n",
              "        6.49335310e-02, -3.81719470e-02, -2.21030787e-02, -1.65499263e-02,\n",
              "       -4.42574769e-02, -8.07330608e-02, -1.15489131e-02, -3.50975208e-02,\n",
              "       -4.75228159e-03, -1.25235440e-02,  2.42044311e-02,  1.11183180e-02,\n",
              "        2.04765666e-02,  2.92655807e-02, -4.89243120e-02,  2.12337379e-03,\n",
              "        8.07589740e-02, -3.09637245e-02,  1.48316072e-02, -5.79456650e-02,\n",
              "       -4.91163582e-02, -6.29480109e-02, -1.56906173e-02,  1.82234868e-02,\n",
              "       -4.99448413e-03,  2.75493949e-03,  3.23238634e-02, -1.01477064e-01,\n",
              "       -3.61787267e-02,  1.80708710e-02,  2.20708363e-02, -9.52445436e-03,\n",
              "        5.77575751e-02,  2.75469273e-02,  2.22916901e-02, -2.11757049e-02,\n",
              "        2.45651789e-02,  1.15990229e-02,  3.48956026e-02, -1.00466628e-02,\n",
              "        7.52471620e-03, -3.39478329e-02, -1.58053767e-02, -1.41201550e-02,\n",
              "       -2.82496158e-02, -3.49009689e-03,  5.48969135e-02, -3.10039241e-02,\n",
              "        2.79385448e-02, -6.66010231e-02,  5.72240055e-02,  9.74831916e-03,\n",
              "       -1.64284501e-02,  2.25277543e-02,  9.48535278e-03,  8.82235840e-02,\n",
              "       -5.08227386e-02, -2.89341006e-02,  1.93692483e-02,  7.82270334e-04,\n",
              "        3.07308673e-03,  2.28661913e-02,  1.52689004e-02, -4.40667756e-02,\n",
              "        1.36753377e-02, -2.59806607e-02,  2.16572005e-02,  3.36081795e-02,\n",
              "       -4.19841036e-02,  1.92873515e-02,  1.69115942e-02, -2.00840160e-02,\n",
              "        1.94479283e-02, -1.92714334e-02,  2.52378210e-02,  1.34550678e-02,\n",
              "       -3.90541344e-03,  5.64939603e-02, -3.78387347e-02,  2.31051389e-02,\n",
              "       -4.58691642e-03, -3.23486030e-02, -4.01939303e-02,  1.80292111e-02,\n",
              "        8.38438049e-02,  2.58262511e-02, -1.42151099e-02,  7.59252682e-02,\n",
              "        1.49934040e-02, -2.94254925e-02,  3.81336957e-02, -4.53614490e-03,\n",
              "        7.94933271e-03, -1.04198698e-03,  2.48654708e-02,  3.97700630e-02,\n",
              "       -1.63448472e-02, -1.33981211e-02, -8.41811299e-03, -1.60885807e-02,\n",
              "        1.47864297e-02, -6.34544641e-02, -8.74011498e-03,  6.34483248e-02,\n",
              "       -3.08153778e-02,  1.56567385e-03,  4.72790673e-02, -4.30617854e-33,\n",
              "       -3.42884623e-02, -3.16151977e-02,  1.77999656e-03,  1.76025089e-02,\n",
              "        2.28891186e-02, -8.20210725e-02, -1.68632641e-02, -8.26236233e-03,\n",
              "       -4.11835387e-02, -2.38021482e-02,  3.59723829e-02, -2.33362727e-02,\n",
              "        6.86580967e-03,  8.26963224e-03, -1.69752184e-02, -5.63812219e-02,\n",
              "       -2.37119738e-02, -5.19604096e-03, -2.21280474e-02, -2.85965316e-02,\n",
              "       -2.72642765e-02,  4.43028519e-03, -1.50891626e-02,  6.49816096e-02,\n",
              "       -4.97685559e-02, -3.03249080e-02, -1.79746505e-02, -2.09756643e-02,\n",
              "        5.00211259e-03,  9.29962657e-03, -2.25533172e-02, -1.00868111e-02,\n",
              "       -2.17779316e-02, -5.42361289e-02,  6.57107821e-03, -5.80914691e-02,\n",
              "       -4.25788574e-02,  3.61707285e-02,  8.92194081e-03,  3.12297717e-02,\n",
              "       -2.69120038e-02, -7.62835890e-02, -1.09477965e-02, -3.72839882e-03,\n",
              "       -9.52003151e-03, -1.48315616e-02, -4.96080332e-02,  3.26402336e-02,\n",
              "        1.30547313e-02,  1.80289373e-02, -3.67452689e-02,  2.04631221e-02,\n",
              "       -3.33100674e-04,  4.92347404e-03,  8.64015594e-02, -1.35610681e-02,\n",
              "        2.51486264e-02, -1.94494501e-02,  4.77672704e-02,  6.27501588e-03,\n",
              "        4.09350805e-02, -7.09143505e-02, -1.11137694e-02, -2.38263477e-02,\n",
              "        5.28322067e-03, -2.59004980e-02,  2.02465318e-02,  2.97424272e-02,\n",
              "        8.40699077e-02,  7.04713315e-02, -6.16015773e-03,  4.32059430e-02,\n",
              "       -4.99660075e-02, -6.40361942e-03, -4.15396169e-02,  4.75697033e-02,\n",
              "       -5.89699764e-03, -6.11682981e-03,  4.24694940e-02,  1.27610927e-02,\n",
              "        8.88872240e-03,  2.13571433e-02,  1.80356167e-02,  3.35226022e-02,\n",
              "       -4.15968783e-02,  2.29367595e-02,  5.79517521e-03,  4.85735126e-02,\n",
              "       -1.32373988e-03,  2.89747231e-02, -2.95307394e-02, -3.53280222e-03,\n",
              "       -3.83869968e-02, -1.73558816e-04,  1.82156847e-03,  3.52642015e-02,\n",
              "       -1.41286393e-04, -6.52556354e-03, -2.32204851e-02, -3.33300373e-03,\n",
              "       -3.00855748e-02, -3.28381807e-02, -4.29938138e-02,  1.63000124e-03,\n",
              "        6.88058883e-02,  1.31749576e-02, -6.64762855e-02,  3.01644169e-02,\n",
              "        1.15278987e-02, -1.03291487e-02,  3.17534506e-02, -7.87285194e-02,\n",
              "        1.44578395e-02, -2.99436171e-02,  3.98629857e-03,  2.92744115e-02,\n",
              "        1.95408519e-02,  4.39280309e-02, -5.95712103e-03,  1.00736842e-02,\n",
              "        2.54933331e-02, -5.77613898e-02,  9.42087080e-03, -1.82853790e-03,\n",
              "        3.31713865e-03,  1.37807345e-02,  2.60276888e-02, -8.62784609e-02,\n",
              "       -3.63964736e-02,  4.63702076e-04, -4.47328435e-03, -1.84721574e-02,\n",
              "        1.77820567e-07,  2.78437324e-02,  9.38359834e-03, -2.62641739e-02,\n",
              "        8.78923833e-02, -1.49963517e-02, -7.27522820e-02, -4.26500924e-02,\n",
              "        1.20598506e-02, -8.93426314e-03,  7.85236806e-03,  4.38757576e-02,\n",
              "       -1.06105097e-02, -8.41745827e-03, -2.22663097e-02, -1.02370954e-03,\n",
              "       -3.37006748e-02,  2.25481652e-02,  6.24477863e-03,  2.19096823e-04,\n",
              "        2.33594645e-02, -2.86811106e-02,  6.85930029e-02, -1.16208829e-02,\n",
              "        1.12745576e-02,  1.37792500e-02, -7.85106122e-02,  4.25588945e-03,\n",
              "        5.19161485e-03,  2.11566547e-03, -4.75864764e-03,  1.85350403e-02,\n",
              "        4.28219475e-02, -2.51757316e-02, -6.44717962e-02,  5.49513251e-02,\n",
              "        1.92171633e-02, -1.75857376e-02, -5.34885861e-02,  5.33965044e-02,\n",
              "        2.18668673e-02, -5.16055617e-03,  1.36287780e-02,  6.11105002e-03,\n",
              "       -1.97141115e-02,  6.66049495e-02,  4.97450903e-02, -5.09199919e-04,\n",
              "        5.19615132e-03,  2.81512309e-02,  2.37044692e-02,  1.99914295e-02,\n",
              "       -4.28332202e-03,  3.60060334e-02, -9.17041488e-03,  3.47339781e-03,\n",
              "       -4.28864956e-02,  2.31120344e-02,  5.25029143e-03,  5.08626588e-02,\n",
              "       -6.08027354e-02,  6.93678623e-03, -9.45599228e-02, -8.08596015e-02,\n",
              "        2.74071191e-02,  8.04974139e-03, -4.01529446e-02, -3.48825231e-02,\n",
              "        6.48736793e-35,  1.77986287e-02, -4.34967391e-02, -5.77825122e-02,\n",
              "        5.36435395e-02, -1.46714672e-02, -4.29223590e-02,  1.43027038e-03,\n",
              "       -3.71298157e-02, -2.75526885e-02, -5.60498685e-02,  6.60458952e-03],\n",
              "      dtype=float32)"
            ]
          },
          "metadata": {},
          "execution_count": 49
        }
      ]
    },
    {
      "cell_type": "markdown",
      "source": [
        "However, we need to extract these floats by turning our array of arrays into a list of lists, which we will later iterate to populate our Elasticsearch index.\n",
        "\n",
        "Thus, let us create a list of lists called ```question_embeddings```, and then let us turn each single array of 768 floats into a list of floats, and append it to our ```question_embeddings``` list of lists.\n",
        "\n"
      ],
      "metadata": {
        "id": "2dojT7ozTojk"
      }
    },
    {
      "cell_type": "code",
      "source": [
        "question_embeddings = []\n",
        "\n",
        "for i in range(len(q_emb)):\n",
        "  question_embeddings.append(q_emb[i].tolist())"
      ],
      "metadata": {
        "id": "zoes3suVSOjX"
      },
      "execution_count": null,
      "outputs": []
    },
    {
      "cell_type": "code",
      "source": [
        "type(question_embeddings)"
      ],
      "metadata": {
        "colab": {
          "base_uri": "https://localhost:8080/"
        },
        "id": "1In-fSjpM3dM",
        "outputId": "45265cd7-f6d7-4d89-f52f-eb777ef948c3"
      },
      "execution_count": null,
      "outputs": [
        {
          "output_type": "execute_result",
          "data": {
            "text/plain": [
              "list"
            ]
          },
          "metadata": {},
          "execution_count": 51
        }
      ]
    },
    {
      "cell_type": "code",
      "source": [
        "type(question_embeddings[0])"
      ],
      "metadata": {
        "colab": {
          "base_uri": "https://localhost:8080/"
        },
        "id": "2LnFW-TpU5Rs",
        "outputId": "f1e9c5a5-2e97-4763-d8e4-0336b3079c2e"
      },
      "execution_count": null,
      "outputs": [
        {
          "output_type": "execute_result",
          "data": {
            "text/plain": [
              "list"
            ]
          },
          "metadata": {},
          "execution_count": 52
        }
      ]
    },
    {
      "cell_type": "code",
      "source": [
        "question_embeddings[0]"
      ],
      "metadata": {
        "colab": {
          "base_uri": "https://localhost:8080/"
        },
        "id": "kD7bBpVeTJYT",
        "outputId": "bed6aae4-8705-4a3b-8e57-9e4131aa1c66"
      },
      "execution_count": null,
      "outputs": [
        {
          "output_type": "execute_result",
          "data": {
            "text/plain": [
              "[-0.01773045025765896,\n",
              " 0.01513828244060278,\n",
              " -0.03280091658234596,\n",
              " 0.07061127573251724,\n",
              " -0.08740325272083282,\n",
              " 0.0006925475317984819,\n",
              " 0.02020035684108734,\n",
              " 0.025463711470365524,\n",
              " -0.02882205881178379,\n",
              " -0.002079293830320239,\n",
              " -0.02972179464995861,\n",
              " -0.037477582693099976,\n",
              " 0.019550662487745285,\n",
              " -0.07196933776140213,\n",
              " -0.012767172418534756,\n",
              " 0.005531013011932373,\n",
              " 0.017981944605708122,\n",
              " -0.005210142116993666,\n",
              " -0.054599013179540634,\n",
              " -0.03979997709393501,\n",
              " -0.08055846393108368,\n",
              " 0.008370622992515564,\n",
              " -0.07012952864170074,\n",
              " -0.008858328685164452,\n",
              " 0.0323801189661026,\n",
              " -0.034247588366270065,\n",
              " -0.03163223713636398,\n",
              " 0.006093189120292664,\n",
              " 0.04278789460659027,\n",
              " -0.008958350867033005,\n",
              " -0.044826846569776535,\n",
              " -0.01997404359281063,\n",
              " 0.003979954868555069,\n",
              " 0.03518080338835716,\n",
              " 1.1289306485195993e-06,\n",
              " -0.029668103903532028,\n",
              " 0.003313722088932991,\n",
              " 0.0452590174973011,\n",
              " -0.010297545231878757,\n",
              " -0.018264027312397957,\n",
              " 0.02943469025194645,\n",
              " 0.04678890109062195,\n",
              " -0.011369839310646057,\n",
              " 0.00580632733181119,\n",
              " 0.027780480682849884,\n",
              " -0.06477607786655426,\n",
              " 0.04054652899503708,\n",
              " -0.046595145016908646,\n",
              " -0.019447626546025276,\n",
              " 0.04502955079078674,\n",
              " -0.006797083653509617,\n",
              " 0.01827341504395008,\n",
              " 0.03534892946481705,\n",
              " 0.007363266311585903,\n",
              " 0.054668497294187546,\n",
              " -0.016660338267683983,\n",
              " -0.020849356427788734,\n",
              " 0.04288357123732567,\n",
              " -0.038119733333587646,\n",
              " -0.013110058382153511,\n",
              " 0.042277514934539795,\n",
              " 0.015543368645012379,\n",
              " -0.03885561227798462,\n",
              " 0.00856082048267126,\n",
              " 0.014178883284330368,\n",
              " 0.019866548478603363,\n",
              " -0.010473931208252907,\n",
              " -0.011793366633355618,\n",
              " -0.008707820437848568,\n",
              " 0.009121988900005817,\n",
              " 0.08175553381443024,\n",
              " -0.05328648164868355,\n",
              " 0.0018245569663122296,\n",
              " 0.07862097769975662,\n",
              " -0.022581350058317184,\n",
              " 0.009425235912203789,\n",
              " 0.008674603886902332,\n",
              " 0.07401031255722046,\n",
              " 0.033492621034383774,\n",
              " 0.03191240504384041,\n",
              " -0.012874321080744267,\n",
              " -0.03818553686141968,\n",
              " -0.011052899062633514,\n",
              " 0.04613802582025528,\n",
              " 0.08637362718582153,\n",
              " 0.00011151248327223584,\n",
              " -0.0037434541154652834,\n",
              " 0.004666521679610014,\n",
              " -0.02580402046442032,\n",
              " -0.034449897706508636,\n",
              " 0.02093258500099182,\n",
              " 0.043032124638557434,\n",
              " -0.05618923157453537,\n",
              " 0.05833614245057106,\n",
              " 0.02389286644756794,\n",
              " -0.003921655472368002,\n",
              " -0.007517713587731123,\n",
              " 0.042761169373989105,\n",
              " 0.023302864283323288,\n",
              " 0.0210407767444849,\n",
              " -0.09511343389749527,\n",
              " 0.05811029300093651,\n",
              " 0.0036552543751895428,\n",
              " 0.02776838280260563,\n",
              " 0.053164124488830566,\n",
              " 0.05265847593545914,\n",
              " -0.033183153718709946,\n",
              " 0.0026511221658438444,\n",
              " 0.014414898119866848,\n",
              " -0.01676272228360176,\n",
              " -0.012662711553275585,\n",
              " 0.01379240769892931,\n",
              " 0.04102716222405434,\n",
              " -0.07649830728769302,\n",
              " 0.026334213092923164,\n",
              " -0.020828723907470703,\n",
              " 0.10982443392276764,\n",
              " 0.010605900548398495,\n",
              " 0.08128182590007782,\n",
              " 0.0029053266625851393,\n",
              " 0.0031945209484547377,\n",
              " -0.04621392861008644,\n",
              " 0.04810836911201477,\n",
              " 0.03336668759584427,\n",
              " -0.0740434005856514,\n",
              " 0.03925790265202522,\n",
              " -0.06735885143280029,\n",
              " 0.006422519218176603,\n",
              " -0.004060056991875172,\n",
              " 0.02076350338757038,\n",
              " -0.04890679940581322,\n",
              " 0.04047117754817009,\n",
              " -0.024670729413628578,\n",
              " -0.012792148627340794,\n",
              " -0.010964700020849705,\n",
              " -0.003630023915320635,\n",
              " -0.049730002880096436,\n",
              " -0.013305681757628918,\n",
              " -0.0037088983226567507,\n",
              " -0.033620890229940414,\n",
              " -0.007775756996124983,\n",
              " -0.07683016359806061,\n",
              " 0.054092638194561005,\n",
              " 0.04880581796169281,\n",
              " -0.017421988770365715,\n",
              " -0.016545545309782028,\n",
              " 0.0035918145440518856,\n",
              " 0.06903520226478577,\n",
              " 0.00471512321382761,\n",
              " -0.012655830942094326,\n",
              " 0.02521074190735817,\n",
              " 0.0033008514437824488,\n",
              " -0.011373710818588734,\n",
              " 0.0012908079661428928,\n",
              " 0.0751555934548378,\n",
              " 0.011149349622428417,\n",
              " -0.00014670484233647585,\n",
              " 0.004904826171696186,\n",
              " 0.004611018113791943,\n",
              " 0.008803105913102627,\n",
              " -0.010461981408298016,\n",
              " 0.040273841470479965,\n",
              " -0.012336697429418564,\n",
              " -0.04780396446585655,\n",
              " 0.035170357674360275,\n",
              " -0.029265452176332474,\n",
              " -0.0008562454604543746,\n",
              " 0.00816467683762312,\n",
              " 0.016169050708413124,\n",
              " 0.06764282286167145,\n",
              " -0.02168116346001625,\n",
              " 0.03098745085299015,\n",
              " -0.0141054792329669,\n",
              " -0.027351442724466324,\n",
              " -0.07096301019191742,\n",
              " -0.019340377300977707,\n",
              " -0.02376594953238964,\n",
              " -0.06214969977736473,\n",
              " 0.030150357633829117,\n",
              " -0.018266398459672928,\n",
              " 0.05519827455282211,\n",
              " -0.1475508213043213,\n",
              " -0.012670096009969711,\n",
              " -0.01906803622841835,\n",
              " 0.01913190260529518,\n",
              " 0.029428590089082718,\n",
              " -0.030558153986930847,\n",
              " 0.04335867241024971,\n",
              " 0.009309554472565651,\n",
              " 0.0308392196893692,\n",
              " 0.002171129919588566,\n",
              " 0.01482266467064619,\n",
              " 0.04549776762723923,\n",
              " 0.042711041867733,\n",
              " -0.03984351456165314,\n",
              " -0.015251146629452705,\n",
              " -0.019426697865128517,\n",
              " 0.03724988177418709,\n",
              " -0.019547712057828903,\n",
              " 0.038730256259441376,\n",
              " -0.09137654304504395,\n",
              " -0.04889336973428726,\n",
              " 0.04889092594385147,\n",
              " 0.042331282049417496,\n",
              " 0.050963789224624634,\n",
              " 0.026412881910800934,\n",
              " 0.023335769772529602,\n",
              " 0.03317183628678322,\n",
              " -0.004468304105103016,\n",
              " 0.016002537682652473,\n",
              " 0.055255480110645294,\n",
              " 0.0044912113808095455,\n",
              " 0.02843569591641426,\n",
              " 0.033297255635261536,\n",
              " 0.03726308047771454,\n",
              " 0.02004253678023815,\n",
              " 0.021120624616742134,\n",
              " 0.04310580715537071,\n",
              " 0.030616363510489464,\n",
              " 0.06535489857196808,\n",
              " -0.014317610301077366,\n",
              " -0.03783532232046127,\n",
              " -0.022204188629984856,\n",
              " -0.0027405009604990482,\n",
              " 0.015964850783348083,\n",
              " -0.005593080073595047,\n",
              " -0.006616460159420967,\n",
              " 0.006759780924767256,\n",
              " -0.02166154608130455,\n",
              " -0.014167129062116146,\n",
              " -0.027631334960460663,\n",
              " 0.005980666261166334,\n",
              " -0.006094512529671192,\n",
              " 0.046942614018917084,\n",
              " 0.03555479273200035,\n",
              " 0.036389630287885666,\n",
              " -0.0524221695959568,\n",
              " -0.031245164573192596,\n",
              " 0.026045840233564377,\n",
              " -0.022987646982073784,\n",
              " -0.028368329629302025,\n",
              " 0.005787496455013752,\n",
              " 0.014122296124696732,\n",
              " 0.013374632224440575,\n",
              " -0.013737675733864307,\n",
              " 0.030323868617415428,\n",
              " 0.03233755752444267,\n",
              " -0.0010547813726589084,\n",
              " 0.029591551050543785,\n",
              " 0.010975228622555733,\n",
              " -0.030498148873448372,\n",
              " -0.023816781118512154,\n",
              " 0.023812128230929375,\n",
              " -0.03643905743956566,\n",
              " -0.009983323514461517,\n",
              " 0.004431817214936018,\n",
              " -0.01099507138133049,\n",
              " 0.02948853000998497,\n",
              " -0.03284536302089691,\n",
              " -0.04601956158876419,\n",
              " 0.01508361753076315,\n",
              " -0.004132403526455164,\n",
              " 0.031512483954429626,\n",
              " -0.02671811729669571,\n",
              " -0.06023743748664856,\n",
              " -0.013907686807215214,\n",
              " 0.10369248688220978,\n",
              " -0.08105132728815079,\n",
              " -0.029112212359905243,\n",
              " -0.009945633821189404,\n",
              " 0.0011083438294008374,\n",
              " -0.032715991139411926,\n",
              " -0.03253595530986786,\n",
              " 0.02747391164302826,\n",
              " 0.036300141364336014,\n",
              " -0.005633451975882053,\n",
              " 0.048984721302986145,\n",
              " -0.10484522581100464,\n",
              " -0.013488725759088993,\n",
              " 0.03123227134346962,\n",
              " -0.002928375033661723,\n",
              " -0.014687503688037395,\n",
              " -0.03222876787185669,\n",
              " -0.01317539531737566,\n",
              " -0.004351664334535599,\n",
              " -0.009402423165738583,\n",
              " 0.027616195380687714,\n",
              " -0.043252479285001755,\n",
              " 0.012013362720608711,\n",
              " -0.02124316804111004,\n",
              " 0.02366829104721546,\n",
              " -0.0025013121776282787,\n",
              " 0.0012076239800080657,\n",
              " -0.02656092680990696,\n",
              " 0.007174082100391388,\n",
              " -0.00461846636608243,\n",
              " -0.0013549340656027198,\n",
              " -0.00481941644102335,\n",
              " -0.03074239194393158,\n",
              " 0.046190064400434494,\n",
              " 0.012336541898548603,\n",
              " 0.03906543552875519,\n",
              " 0.021036982536315918,\n",
              " -0.0030047865584492683,\n",
              " 0.01440285425633192,\n",
              " 0.05451713874936104,\n",
              " 0.035987697541713715,\n",
              " -0.02707807719707489,\n",
              " -0.0448497012257576,\n",
              " 0.024660151451826096,\n",
              " -0.00860215350985527,\n",
              " 0.012629072181880474,\n",
              " 0.052518755197525024,\n",
              " 0.0038940843660384417,\n",
              " 0.036982737481594086,\n",
              " -0.028673667460680008,\n",
              " -0.029803549870848656,\n",
              " 0.029226813465356827,\n",
              " -0.03651674464344978,\n",
              " 0.03581693395972252,\n",
              " 0.00081709522055462,\n",
              " -0.03058878518640995,\n",
              " -0.025786250829696655,\n",
              " 0.003511792980134487,\n",
              " -0.0024177313316613436,\n",
              " -0.040547627955675125,\n",
              " 0.008954506367444992,\n",
              " -0.008367917500436306,\n",
              " 0.04103537276387215,\n",
              " -0.015827765688300133,\n",
              " 0.03509022295475006,\n",
              " 0.01690906286239624,\n",
              " -0.042555443942546844,\n",
              " -0.029626265168190002,\n",
              " 0.0067578935995697975,\n",
              " -0.0018052723025903106,\n",
              " -0.015587673522531986,\n",
              " -0.05727259814739227,\n",
              " 0.015382451005280018,\n",
              " -0.0182370375841856,\n",
              " 0.04903775453567505,\n",
              " -0.009121059440076351,\n",
              " -0.040567923337221146,\n",
              " 0.05806676298379898,\n",
              " -0.04106167331337929,\n",
              " -0.0233007799834013,\n",
              " -0.038942430168390274,\n",
              " -0.06299765408039093,\n",
              " -0.07121975719928741,\n",
              " 0.015330876223742962,\n",
              " -0.07373125106096268,\n",
              " -0.004598997998982668,\n",
              " -0.04301799088716507,\n",
              " -0.026455989107489586,\n",
              " -0.044648677110672,\n",
              " 0.04944666847586632,\n",
              " -0.04458056390285492,\n",
              " 0.1268191784620285,\n",
              " -0.024920037016272545,\n",
              " 0.06127138435840607,\n",
              " -0.040355581790208817,\n",
              " -0.0404166579246521,\n",
              " -0.02646632306277752,\n",
              " 0.031078863888978958,\n",
              " 0.016839221119880676,\n",
              " 5.664471973432228e-05,\n",
              " -0.036669764667749405,\n",
              " 0.031614601612091064,\n",
              " 0.006980410311371088,\n",
              " 0.042016834020614624,\n",
              " -0.05952756851911545,\n",
              " 0.029024161398410797,\n",
              " -0.04037173092365265,\n",
              " 0.016277877613902092,\n",
              " 0.03229191526770592,\n",
              " -0.029272858053445816,\n",
              " -0.022585416212677956,\n",
              " -0.010368636809289455,\n",
              " -0.04332631826400757,\n",
              " -0.0035064732655882835,\n",
              " -0.02636183798313141,\n",
              " 0.012632573954761028,\n",
              " 0.03832930326461792,\n",
              " 0.03343195468187332,\n",
              " 0.08591616153717041,\n",
              " -0.013480921275913715,\n",
              " -0.0016391109675168991,\n",
              " 0.0012902019079774618,\n",
              " 0.05589887127280235,\n",
              " 0.005878427531570196,\n",
              " 0.020348841324448586,\n",
              " -0.053211867809295654,\n",
              " -0.007235942408442497,\n",
              " 0.022670423611998558,\n",
              " -0.05091331526637077,\n",
              " -0.05202580243349075,\n",
              " 0.03225700557231903,\n",
              " -0.0420229472219944,\n",
              " -0.021113265305757523,\n",
              " 0.009344111196696758,\n",
              " -0.04014262184500694,\n",
              " 0.0739343911409378,\n",
              " 0.022023066878318787,\n",
              " 0.04137689992785454,\n",
              " 0.00408285902813077,\n",
              " 0.030027085915207863,\n",
              " -0.00480292271822691,\n",
              " 0.049960341304540634,\n",
              " 0.05777011066675186,\n",
              " -0.012908466160297394,\n",
              " 0.05335290729999542,\n",
              " 0.036505408585071564,\n",
              " 0.012291847728192806,\n",
              " -0.06222234293818474,\n",
              " -0.007198060397058725,\n",
              " -0.03374462202191353,\n",
              " 0.00859312154352665,\n",
              " 0.0365823432803154,\n",
              " 0.014807173050940037,\n",
              " 0.06354421377182007,\n",
              " -0.03989376500248909,\n",
              " -0.010358205996453762,\n",
              " -0.029991090297698975,\n",
              " 0.03127479553222656,\n",
              " 0.04728545993566513,\n",
              " 0.010535862296819687,\n",
              " 0.05310795456171036,\n",
              " -0.003068037098273635,\n",
              " 0.042153678834438324,\n",
              " 0.02134309895336628,\n",
              " 0.06484151631593704,\n",
              " 0.02659418433904648,\n",
              " 0.024277660995721817,\n",
              " 0.04345008730888367,\n",
              " -0.02146400511264801,\n",
              " 0.04043011739850044,\n",
              " 0.008253748528659344,\n",
              " 0.04966368526220322,\n",
              " 0.010244883596897125,\n",
              " -0.01665077917277813,\n",
              " 0.026855753734707832,\n",
              " -0.08589419722557068,\n",
              " 0.004026626702398062,\n",
              " -0.00037867273204028606,\n",
              " -0.0444614551961422,\n",
              " -0.046734489500522614,\n",
              " 0.023135213181376457,\n",
              " -0.05529964715242386,\n",
              " 0.06493353098630905,\n",
              " -0.03817194700241089,\n",
              " -0.02210307866334915,\n",
              " -0.01654992625117302,\n",
              " -0.044257476925849915,\n",
              " -0.08073306083679199,\n",
              " -0.011548913083970547,\n",
              " -0.03509752079844475,\n",
              " -0.004752281587570906,\n",
              " -0.012523544020950794,\n",
              " 0.024204431101679802,\n",
              " 0.01111831795424223,\n",
              " 0.02047656662762165,\n",
              " 0.02926558069884777,\n",
              " -0.04892431199550629,\n",
              " 0.002123373793438077,\n",
              " 0.0807589739561081,\n",
              " -0.030963724479079247,\n",
              " 0.014831607230007648,\n",
              " -0.05794566497206688,\n",
              " -0.049116358160972595,\n",
              " -0.06294801086187363,\n",
              " -0.015690617263317108,\n",
              " 0.018223486840724945,\n",
              " -0.004994484130293131,\n",
              " 0.0027549394872039557,\n",
              " 0.03232386335730553,\n",
              " -0.10147706419229507,\n",
              " -0.03617872670292854,\n",
              " 0.018070871010422707,\n",
              " 0.022070836275815964,\n",
              " -0.009524454362690449,\n",
              " 0.05775757506489754,\n",
              " 0.027546927332878113,\n",
              " 0.02229169011116028,\n",
              " -0.021175704896450043,\n",
              " 0.024565178900957108,\n",
              " 0.011599022895097733,\n",
              " 0.034895602613687515,\n",
              " -0.010046662762761116,\n",
              " 0.007524716202169657,\n",
              " -0.03394783288240433,\n",
              " -0.015805376693606377,\n",
              " -0.01412015501409769,\n",
              " -0.02824961580336094,\n",
              " -0.003490096889436245,\n",
              " 0.05489691346883774,\n",
              " -0.03100392408668995,\n",
              " 0.027938544750213623,\n",
              " -0.06660102307796478,\n",
              " 0.057224005460739136,\n",
              " 0.009748319163918495,\n",
              " -0.016428450122475624,\n",
              " 0.022527754306793213,\n",
              " 0.009485352784395218,\n",
              " 0.08822358399629593,\n",
              " -0.05082273855805397,\n",
              " -0.02893410064280033,\n",
              " 0.019369248300790787,\n",
              " 0.0007822703337296844,\n",
              " 0.0030730867292732,\n",
              " 0.02286619134247303,\n",
              " 0.0152689004316926,\n",
              " -0.04406677559018135,\n",
              " 0.01367533765733242,\n",
              " -0.025980660691857338,\n",
              " 0.021657200530171394,\n",
              " 0.03360817953944206,\n",
              " -0.04198410362005234,\n",
              " 0.0192873515188694,\n",
              " 0.016911594197154045,\n",
              " -0.020084016025066376,\n",
              " 0.01944792829453945,\n",
              " -0.019271433353424072,\n",
              " 0.02523782104253769,\n",
              " 0.01345506776124239,\n",
              " -0.0039054134394973516,\n",
              " 0.056493960320949554,\n",
              " -0.037838734686374664,\n",
              " 0.023105138912796974,\n",
              " -0.004586916416883469,\n",
              " -0.03234860301017761,\n",
              " -0.04019393026828766,\n",
              " 0.018029211089015007,\n",
              " 0.08384380489587784,\n",
              " 0.02582625113427639,\n",
              " -0.014215109869837761,\n",
              " 0.07592526823282242,\n",
              " 0.014993404038250446,\n",
              " -0.029425492510199547,\n",
              " 0.03813369572162628,\n",
              " -0.0045361449010670185,\n",
              " 0.00794933270663023,\n",
              " -0.0010419869795441628,\n",
              " 0.024865470826625824,\n",
              " 0.039770063012838364,\n",
              " -0.016344847157597542,\n",
              " -0.013398121111094952,\n",
              " -0.008418112993240356,\n",
              " -0.01608858071267605,\n",
              " 0.014786429703235626,\n",
              " -0.06345446407794952,\n",
              " -0.008740114979445934,\n",
              " 0.06344832479953766,\n",
              " -0.030815377831459045,\n",
              " 0.001565673854202032,\n",
              " 0.04727906733751297,\n",
              " -4.306178537133701e-33,\n",
              " -0.03428846225142479,\n",
              " -0.03161519765853882,\n",
              " 0.001779996557161212,\n",
              " 0.017602508887648582,\n",
              " 0.022889118641614914,\n",
              " -0.0820210725069046,\n",
              " -0.01686326414346695,\n",
              " -0.008262362331151962,\n",
              " -0.04118353873491287,\n",
              " -0.023802148178219795,\n",
              " 0.03597238287329674,\n",
              " -0.023336272686719894,\n",
              " 0.0068658096715807915,\n",
              " 0.00826963223516941,\n",
              " -0.016975218430161476,\n",
              " -0.0563812218606472,\n",
              " -0.023711973801255226,\n",
              " -0.005196040961891413,\n",
              " -0.022128047421574593,\n",
              " -0.028596531599760056,\n",
              " -0.027264276519417763,\n",
              " 0.0044302851893007755,\n",
              " -0.01508916262537241,\n",
              " 0.064981609582901,\n",
              " -0.04976855590939522,\n",
              " -0.0303249079734087,\n",
              " -0.017974650487303734,\n",
              " -0.020975664258003235,\n",
              " 0.005002112593501806,\n",
              " 0.00929962657392025,\n",
              " -0.02255331724882126,\n",
              " -0.010086811147630215,\n",
              " -0.021777931600809097,\n",
              " -0.05423612892627716,\n",
              " 0.006571078207343817,\n",
              " -0.05809146910905838,\n",
              " -0.04257885739207268,\n",
              " 0.036170728504657745,\n",
              " 0.008921940810978413,\n",
              " 0.031229771673679352,\n",
              " -0.026912003755569458,\n",
              " -0.07628358900547028,\n",
              " -0.010947796516120434,\n",
              " -0.003728398820385337,\n",
              " -0.0095200315117836,\n",
              " -0.014831561595201492,\n",
              " -0.049608033150434494,\n",
              " 0.032640233635902405,\n",
              " 0.01305473130196333,\n",
              " 0.01802893728017807,\n",
              " -0.03674526885151863,\n",
              " 0.0204631220549345,\n",
              " -0.00033310067374259233,\n",
              " 0.004923474043607712,\n",
              " 0.0864015594124794,\n",
              " -0.0135610681027174,\n",
              " 0.025148626416921616,\n",
              " -0.019449450075626373,\n",
              " 0.0477672703564167,\n",
              " 0.0062750158831477165,\n",
              " 0.040935080498456955,\n",
              " -0.07091435045003891,\n",
              " -0.011113769374787807,\n",
              " -0.023826347663998604,\n",
              " 0.005283220671117306,\n",
              " -0.025900498032569885,\n",
              " 0.020246531814336777,\n",
              " 0.029742427170276642,\n",
              " 0.08406990766525269,\n",
              " 0.07047133147716522,\n",
              " -0.006160157732665539,\n",
              " 0.04320594295859337,\n",
              " -0.049966007471084595,\n",
              " -0.006403619423508644,\n",
              " -0.041539616882801056,\n",
              " 0.04756970331072807,\n",
              " -0.0058969976380467415,\n",
              " -0.006116829812526703,\n",
              " 0.04246949404478073,\n",
              " 0.012761092744767666,\n",
              " 0.008888722397387028,\n",
              " 0.02135714329779148,\n",
              " 0.018035616725683212,\n",
              " 0.033522602170705795,\n",
              " -0.041596878319978714,\n",
              " 0.022936759516596794,\n",
              " 0.005795175209641457,\n",
              " 0.048573512583971024,\n",
              " -0.0013237398816272616,\n",
              " 0.02897472307085991,\n",
              " -0.029530739411711693,\n",
              " -0.0035328022204339504,\n",
              " -0.0383869968354702,\n",
              " -0.00017355881573166698,\n",
              " 0.0018215684685856104,\n",
              " 0.03526420146226883,\n",
              " -0.00014128639304544777,\n",
              " -0.006525563541799784,\n",
              " -0.02322048507630825,\n",
              " -0.0033330037258565426,\n",
              " -0.030085574835538864,\n",
              " -0.03283818066120148,\n",
              " -0.04299381375312805,\n",
              " 0.0016300012357532978,\n",
              " 0.06880588829517365,\n",
              " 0.01317495759576559,\n",
              " -0.06647628545761108,\n",
              " 0.030164416879415512,\n",
              " 0.011527898721396923,\n",
              " -0.010329148732125759,\n",
              " 0.03175345063209534,\n",
              " -0.07872851938009262,\n",
              " 0.014457839541137218,\n",
              " -0.029943617060780525,\n",
              " 0.003986298572272062,\n",
              " 0.029274411499500275,\n",
              " 0.019540851935744286,\n",
              " 0.043928030878305435,\n",
              " -0.005957121029496193,\n",
              " 0.01007368415594101,\n",
              " 0.025493333116173744,\n",
              " -0.05776138976216316,\n",
              " 0.009420870803296566,\n",
              " -0.0018285379046574235,\n",
              " 0.003317138645797968,\n",
              " 0.01378073450177908,\n",
              " 0.02602768875658512,\n",
              " -0.08627846091985703,\n",
              " -0.03639647364616394,\n",
              " 0.00046370207564905286,\n",
              " -0.004473284352570772,\n",
              " -0.018472157418727875,\n",
              " 1.7782056715986982e-07,\n",
              " 0.02784373238682747,\n",
              " 0.00938359834253788,\n",
              " -0.026264173910021782,\n",
              " 0.08789238333702087,\n",
              " -0.014996351674199104,\n",
              " -0.07275228202342987,\n",
              " -0.042650092393159866,\n",
              " 0.012059850618243217,\n",
              " -0.00893426313996315,\n",
              " 0.00785236805677414,\n",
              " 0.04387575760483742,\n",
              " -0.010610509663820267,\n",
              " -0.008417458273470402,\n",
              " -0.022266309708356857,\n",
              " -0.0010237095411866903,\n",
              " -0.03370067477226257,\n",
              " 0.022548165172338486,\n",
              " 0.006244778633117676,\n",
              " 0.00021909682254772633,\n",
              " 0.02335946448147297,\n",
              " -0.028681110590696335,\n",
              " 0.06859300285577774,\n",
              " -0.011620882898569107,\n",
              " 0.011274557560682297,\n",
              " 0.013779249973595142,\n",
              " -0.07851061224937439,\n",
              " 0.0042558894492685795,\n",
              " 0.005191614851355553,\n",
              " 0.0021156654693186283,\n",
              " -0.00475864764302969,\n",
              " 0.018535040318965912,\n",
              " 0.04282194748520851,\n",
              " -0.025175731629133224,\n",
              " -0.06447179615497589,\n",
              " 0.05495132505893707,\n",
              " 0.01921716332435608,\n",
              " -0.017585737630724907,\n",
              " -0.053488586097955704,\n",
              " 0.05339650437235832,\n",
              " 0.021866867318749428,\n",
              " -0.005160556174814701,\n",
              " 0.013628778047859669,\n",
              " 0.006111050024628639,\n",
              " -0.01971411146223545,\n",
              " 0.06660494953393936,\n",
              " 0.049745090305805206,\n",
              " -0.0005091999191790819,\n",
              " 0.005196151323616505,\n",
              " 0.02815123088657856,\n",
              " 0.023704469203948975,\n",
              " 0.019991429522633553,\n",
              " -0.004283322021365166,\n",
              " 0.036006033420562744,\n",
              " -0.009170414879918098,\n",
              " 0.003473397810012102,\n",
              " -0.04288649559020996,\n",
              " 0.023112034425139427,\n",
              " 0.005250291433185339,\n",
              " 0.05086265876889229,\n",
              " -0.06080273538827896,\n",
              " 0.006936786230653524,\n",
              " -0.0945599228143692,\n",
              " -0.08085960149765015,\n",
              " 0.027407119050621986,\n",
              " 0.008049741387367249,\n",
              " -0.04015294462442398,\n",
              " -0.034882523119449615,\n",
              " 6.487367929280336e-35,\n",
              " 0.01779862865805626,\n",
              " -0.043496739119291306,\n",
              " -0.05778251215815544,\n",
              " 0.05364353954792023,\n",
              " -0.014671467244625092,\n",
              " -0.042922358959913254,\n",
              " 0.0014302703784778714,\n",
              " -0.03712981566786766,\n",
              " -0.027552688494324684,\n",
              " -0.05604986846446991,\n",
              " 0.006604589521884918]"
            ]
          },
          "metadata": {},
          "execution_count": 53
        }
      ]
    },
    {
      "cell_type": "code",
      "source": [
        "question_embeddings[0][0]"
      ],
      "metadata": {
        "colab": {
          "base_uri": "https://localhost:8080/"
        },
        "id": "0rFa28NaNerq",
        "outputId": "bd20e338-a034-4a50-ba94-b5fbd246399a"
      },
      "execution_count": null,
      "outputs": [
        {
          "output_type": "execute_result",
          "data": {
            "text/plain": [
              "-0.01773045025765896"
            ]
          },
          "metadata": {},
          "execution_count": 54
        }
      ]
    },
    {
      "cell_type": "code",
      "source": [
        "type(question_embeddings[0][0])"
      ],
      "metadata": {
        "colab": {
          "base_uri": "https://localhost:8080/"
        },
        "id": "_IO168QYVuU7",
        "outputId": "bdcdfaa7-6c87-4799-f698-4270826fe233"
      },
      "execution_count": null,
      "outputs": [
        {
          "output_type": "execute_result",
          "data": {
            "text/plain": [
              "float"
            ]
          },
          "metadata": {},
          "execution_count": 55
        }
      ]
    },
    {
      "cell_type": "markdown",
      "source": [
        "<a name=\"s07\"></a>\n",
        "## 7. POPULATING THE ELASTICSEARCH INDEX"
      ],
      "metadata": {
        "id": "oB5F8odKWyph"
      }
    },
    {
      "cell_type": "markdown",
      "source": [
        "Now we are ready to populate our Elasticsearch index according to the mapping pattern that we created earlier:\n",
        "\n",
        "\n",
        "*   Embeddings\n",
        "*   Question\n",
        "*   Answer\n",
        "\n",
        "for each FAQ Q&A pair"
      ],
      "metadata": {
        "id": "3K_8KvUo_pV4"
      }
    },
    {
      "cell_type": "code",
      "source": [
        "# we now have three lists\n",
        "# 1) question_embeddings: a list of 69 lists each with 768 embeddings (floats)\n",
        "# 2) questions: a list of 69 questions (strings)\n",
        "# 3) answers: a list of 69 answers (strings)\n",
        "\n",
        "for i in range(len(questions)):\n",
        "\n",
        "  # get the corresponding embedding, Q text and A text for each Q&A pair\n",
        "  data = {\n",
        "      \"embedding\" : question_embeddings[i], \n",
        "      \"question\" : questions[i],\n",
        "      \"answer\" : answers[i]\n",
        "  }\n",
        "\n",
        "  # populate the Elasticsearch index\n",
        "  es.index(index=\"faq_index\", body=data)\n"
      ],
      "metadata": {
        "id": "BTg60f1n_ocG"
      },
      "execution_count": null,
      "outputs": []
    },
    {
      "cell_type": "markdown",
      "source": [
        "<a name=\"s08\"></a>\n",
        "## 8. THE ENCODE-AND-QUERY FUNCTION"
      ],
      "metadata": {
        "id": "lOF0IuP2YhMN"
      }
    },
    {
      "cell_type": "markdown",
      "source": [
        "We are now ready to build a function that \n",
        "* reads in the user question;\n",
        "* encodes it in the same way as we have previously encoded our FAQ questions;\n",
        "* then, by querying the Elasticsearch index, retrieves the FAQ question whose embedding is most similar to the embedding of the user question;\n",
        "* finally, it returns the corresponding answer that was stored with it."
      ],
      "metadata": {
        "id": "QJk4u62ZE-wV"
      }
    },
    {
      "cell_type": "markdown",
      "source": [
        "Let's make a first version of such a function for illustrative purposes.\n",
        "\n",
        "Let's set the query to return 5 results by setting the ```size``` parameter."
      ],
      "metadata": {
        "id": "o3IqS_ruZDzB"
      }
    },
    {
      "cell_type": "code",
      "source": [
        "ENCODER_BOOST = 10\n",
        "\n",
        "def encode_and_query_v1(user_question, size: int=5):\n",
        "\n",
        "  # generate the user question embedding\n",
        "  embedding = sentence_transformer.encode(user_question).tolist()\n",
        "\n",
        "  # query the Elasticsearch index\n",
        "  es_result = es.search(\n",
        "      index=\"faq_index\", # the index where we saved our embeddings, Qs and As\n",
        "      body={\n",
        "            \"from\": 0,\n",
        "            \"size\": size, # the num of expected query results\n",
        "            \"_source\": [\"question\", \"answer\"],\n",
        "            \"query\": {\n",
        "                \"script_score\": {\n",
        "                    \"query\": {\n",
        "                        \"match\": {\n",
        "                            \"question\": user_question\n",
        "                        }\n",
        "                    },\n",
        "                    \"script\": {\n",
        "                        \"source\": \"\"\"\n",
        "                            (cosineSimilarity(params.query_vector, \"embedding\") + 1.0)\n",
        "                            * params.encoder_boost + _score\n",
        "                        \"\"\",\n",
        "                        \"params\": {\n",
        "                            \"query_vector\": embedding,\n",
        "                            \"encoder_boost\": ENCODER_BOOST,\n",
        "                        },\n",
        "                    },\n",
        "                }\n",
        "            }\n",
        "      }\n",
        "  )\n",
        "\n",
        "  return es_result"
      ],
      "metadata": {
        "id": "cWW0P3BI_oeO"
      },
      "execution_count": null,
      "outputs": []
    },
    {
      "cell_type": "markdown",
      "source": [
        "Let's try it out and see what the return object looks like."
      ],
      "metadata": {
        "id": "j1_ivK9kZrk-"
      }
    },
    {
      "cell_type": "code",
      "source": [
        "encode_and_query_v1(\"Can I cancel my ticket?\")"
      ],
      "metadata": {
        "colab": {
          "base_uri": "https://localhost:8080/"
        },
        "id": "4SvHPKA6_ohW",
        "outputId": "642be3b5-844f-48ee-bf88-17fc64f6f8b5"
      },
      "execution_count": null,
      "outputs": [
        {
          "output_type": "execute_result",
          "data": {
            "text/plain": [
              "{'_shards': {'failed': 0, 'skipped': 0, 'successful': 1, 'total': 1},\n",
              " 'hits': {'hits': [{'_id': 'AtnRtIEB1vUWtH8XF8LA',\n",
              "    '_index': 'faq_index',\n",
              "    '_score': 27.60449,\n",
              "    '_source': {'answer': 'We don’t refund money for purchased tickets. Tickets are valid for twelve months after the date of purchase. If you can’t use your ticket on the date you reserved, you can easily book a new ticket on the date of your preference through our ticketshop. Choose the date and then the option \"I already have a valid entrance ticket\".',\n",
              "     'question': 'Can I cancel the ticket I bought?'},\n",
              "    '_type': '_doc'},\n",
              "   {'_id': 'NNnRtIEB1vUWtH8XG8LJ',\n",
              "    '_index': 'faq_index',\n",
              "    '_score': 21.453812,\n",
              "    '_source': {'answer': 'You can cancel or reschedule a tour from the first day of the previous month of the booking. For example, when you’ve booked your tour for the 14th of June, you can cancel or reschedule this until the first of May.',\n",
              "     'question': 'Can I cancel or reschedule a planned tour?'},\n",
              "    '_type': '_doc'},\n",
              "   {'_id': 'BNnRtIEB1vUWtH8XF8L4',\n",
              "    '_index': 'faq_index',\n",
              "    '_score': 20.900906,\n",
              "    '_source': {'answer': 'If you have questions about your ticket(s) that are not answered in this FAQ, email us at reserveringen@stedelijk.nl or call us during office hours: 020-5732911,\\nIf you have other questions, go to www.stedelijk.nl/bezoeken or email us at info@stedelijk.nl',\n",
              "     'question': 'I still have a question about my ticket'},\n",
              "    '_type': '_doc'},\n",
              "   {'_id': '-9nRtIEB1vUWtH8XF8Ei',\n",
              "    '_index': 'faq_index',\n",
              "    '_score': 20.51977,\n",
              "    '_source': {'answer': 'It is possible to book an online dayticket before you visit the museum. You can also buy a ticket directly at the register desk in the museum.\\nPlease read our info about your\\xa0visit & safety before you visit.',\n",
              "     'question': 'How can I buy a ticket? Can I buy my tickets online?'},\n",
              "    '_type': '_doc'},\n",
              "   {'_id': 'A9nRtIEB1vUWtH8XF8Lh',\n",
              "    '_index': 'faq_index',\n",
              "    '_score': 20.450771,\n",
              "    '_source': {'answer': 'Check your spam folder. If the ticket isn’t there, mail us at reserveringen@stedelijk.nl.',\n",
              "     'question': 'I haven’t received my ticket. What should I do?'},\n",
              "    '_type': '_doc'}],\n",
              "  'max_score': 27.60449,\n",
              "  'total': {'relation': 'eq', 'value': 40}},\n",
              " 'timed_out': False,\n",
              " 'took': 529}"
            ]
          },
          "metadata": {},
          "execution_count": 58
        }
      ]
    },
    {
      "cell_type": "code",
      "source": [
        "results = encode_and_query_v1(\"Can I cancel my ticket?\")"
      ],
      "metadata": {
        "id": "IggahpWoXBLT"
      },
      "execution_count": null,
      "outputs": []
    },
    {
      "cell_type": "code",
      "source": [
        "type(results)"
      ],
      "metadata": {
        "colab": {
          "base_uri": "https://localhost:8080/"
        },
        "id": "aFAzdVa_XBM6",
        "outputId": "bd1d6578-232a-4784-e5c2-e0cbd7f82aa6"
      },
      "execution_count": null,
      "outputs": [
        {
          "output_type": "execute_result",
          "data": {
            "text/plain": [
              "dict"
            ]
          },
          "metadata": {},
          "execution_count": 60
        }
      ]
    },
    {
      "cell_type": "markdown",
      "source": [
        "The object returned by the Elasticsearch query is a dict with four keys (```'_shards'```, ```'hits'```, ```'timed_out'``` and ```'took'```):\n",
        "\n",
        "```\n",
        "{\n",
        "  '_shards': {'failed': 0, 'skipped': 0, 'successful': 1, 'total': 1},\n",
        "  'hits: {\n",
        "    'hits': [WE ARE INTERESTED IN THIS LIST],\n",
        "    'max_score': 27.696018,\n",
        "    'total': {'relation': 'eq', 'value': 40}}\n",
        "    }\n",
        "  'timed_out': False,\n",
        "  'took': 429}\n",
        "}\n",
        "```"
      ],
      "metadata": {
        "id": "r1YWLAxoZ-JG"
      }
    },
    {
      "cell_type": "markdown",
      "source": [
        "In turn, the 'hits' key corresponds to a value which is also a dict. This dict features three keys: ```'hits'``` (yet again), ```'max_score'``` and ```'total'```. \n",
        "\n",
        "What we are interested in is this more embedded ```'hits'``` key, whose corresponding value is a list of all the matches returned by our query. In this case 5 hits (cf. the ```size``` parameter we set in our function)\n",
        "\n",
        "Let's zoom in:"
      ],
      "metadata": {
        "id": "at16jkdxbqtb"
      }
    },
    {
      "cell_type": "code",
      "source": [
        "results['hits']"
      ],
      "metadata": {
        "colab": {
          "base_uri": "https://localhost:8080/"
        },
        "id": "SoNR5mWdYGrf",
        "outputId": "649cf8f7-5e76-4610-a273-8c3c6dceecc5"
      },
      "execution_count": null,
      "outputs": [
        {
          "output_type": "execute_result",
          "data": {
            "text/plain": [
              "{'hits': [{'_id': 'AtnRtIEB1vUWtH8XF8LA',\n",
              "   '_index': 'faq_index',\n",
              "   '_score': 27.60449,\n",
              "   '_source': {'answer': 'We don’t refund money for purchased tickets. Tickets are valid for twelve months after the date of purchase. If you can’t use your ticket on the date you reserved, you can easily book a new ticket on the date of your preference through our ticketshop. Choose the date and then the option \"I already have a valid entrance ticket\".',\n",
              "    'question': 'Can I cancel the ticket I bought?'},\n",
              "   '_type': '_doc'},\n",
              "  {'_id': 'NNnRtIEB1vUWtH8XG8LJ',\n",
              "   '_index': 'faq_index',\n",
              "   '_score': 21.453812,\n",
              "   '_source': {'answer': 'You can cancel or reschedule a tour from the first day of the previous month of the booking. For example, when you’ve booked your tour for the 14th of June, you can cancel or reschedule this until the first of May.',\n",
              "    'question': 'Can I cancel or reschedule a planned tour?'},\n",
              "   '_type': '_doc'},\n",
              "  {'_id': 'BNnRtIEB1vUWtH8XF8L4',\n",
              "   '_index': 'faq_index',\n",
              "   '_score': 20.900906,\n",
              "   '_source': {'answer': 'If you have questions about your ticket(s) that are not answered in this FAQ, email us at reserveringen@stedelijk.nl or call us during office hours: 020-5732911,\\nIf you have other questions, go to www.stedelijk.nl/bezoeken or email us at info@stedelijk.nl',\n",
              "    'question': 'I still have a question about my ticket'},\n",
              "   '_type': '_doc'},\n",
              "  {'_id': '-9nRtIEB1vUWtH8XF8Ei',\n",
              "   '_index': 'faq_index',\n",
              "   '_score': 20.51977,\n",
              "   '_source': {'answer': 'It is possible to book an online dayticket before you visit the museum. You can also buy a ticket directly at the register desk in the museum.\\nPlease read our info about your\\xa0visit & safety before you visit.',\n",
              "    'question': 'How can I buy a ticket? Can I buy my tickets online?'},\n",
              "   '_type': '_doc'},\n",
              "  {'_id': 'A9nRtIEB1vUWtH8XF8Lh',\n",
              "   '_index': 'faq_index',\n",
              "   '_score': 20.450771,\n",
              "   '_source': {'answer': 'Check your spam folder. If the ticket isn’t there, mail us at reserveringen@stedelijk.nl.',\n",
              "    'question': 'I haven’t received my ticket. What should I do?'},\n",
              "   '_type': '_doc'}],\n",
              " 'max_score': 27.60449,\n",
              " 'total': {'relation': 'eq', 'value': 40}}"
            ]
          },
          "metadata": {},
          "execution_count": 61
        }
      ]
    },
    {
      "cell_type": "code",
      "source": [
        "type(results['hits'])"
      ],
      "metadata": {
        "colab": {
          "base_uri": "https://localhost:8080/"
        },
        "id": "BsKiyT0aYRL4",
        "outputId": "fb144c07-b386-46de-8403-0864382db89a"
      },
      "execution_count": null,
      "outputs": [
        {
          "output_type": "execute_result",
          "data": {
            "text/plain": [
              "dict"
            ]
          },
          "metadata": {},
          "execution_count": 62
        }
      ]
    },
    {
      "cell_type": "code",
      "source": [
        "type(results['hits']['hits'])"
      ],
      "metadata": {
        "colab": {
          "base_uri": "https://localhost:8080/"
        },
        "id": "5V1aC-IfYG4v",
        "outputId": "bc71652c-53ba-4041-b788-aaec8403dbb6"
      },
      "execution_count": null,
      "outputs": [
        {
          "output_type": "execute_result",
          "data": {
            "text/plain": [
              "list"
            ]
          },
          "metadata": {},
          "execution_count": 63
        }
      ]
    },
    {
      "cell_type": "code",
      "source": [
        "len(results['hits']['hits'])"
      ],
      "metadata": {
        "colab": {
          "base_uri": "https://localhost:8080/"
        },
        "id": "lz5d138feIzj",
        "outputId": "6fac70ef-3af0-4374-fc9e-2371281bc9c2"
      },
      "execution_count": null,
      "outputs": [
        {
          "output_type": "execute_result",
          "data": {
            "text/plain": [
              "5"
            ]
          },
          "metadata": {},
          "execution_count": 64
        }
      ]
    },
    {
      "cell_type": "code",
      "source": [
        "results['hits']['hits']"
      ],
      "metadata": {
        "colab": {
          "base_uri": "https://localhost:8080/"
        },
        "id": "LPnh_SS1YaDC",
        "outputId": "bf22452e-6d0c-4bb9-9f4c-2ef78e416e1e"
      },
      "execution_count": null,
      "outputs": [
        {
          "output_type": "execute_result",
          "data": {
            "text/plain": [
              "[{'_id': 'AtnRtIEB1vUWtH8XF8LA',\n",
              "  '_index': 'faq_index',\n",
              "  '_score': 27.60449,\n",
              "  '_source': {'answer': 'We don’t refund money for purchased tickets. Tickets are valid for twelve months after the date of purchase. If you can’t use your ticket on the date you reserved, you can easily book a new ticket on the date of your preference through our ticketshop. Choose the date and then the option \"I already have a valid entrance ticket\".',\n",
              "   'question': 'Can I cancel the ticket I bought?'},\n",
              "  '_type': '_doc'},\n",
              " {'_id': 'NNnRtIEB1vUWtH8XG8LJ',\n",
              "  '_index': 'faq_index',\n",
              "  '_score': 21.453812,\n",
              "  '_source': {'answer': 'You can cancel or reschedule a tour from the first day of the previous month of the booking. For example, when you’ve booked your tour for the 14th of June, you can cancel or reschedule this until the first of May.',\n",
              "   'question': 'Can I cancel or reschedule a planned tour?'},\n",
              "  '_type': '_doc'},\n",
              " {'_id': 'BNnRtIEB1vUWtH8XF8L4',\n",
              "  '_index': 'faq_index',\n",
              "  '_score': 20.900906,\n",
              "  '_source': {'answer': 'If you have questions about your ticket(s) that are not answered in this FAQ, email us at reserveringen@stedelijk.nl or call us during office hours: 020-5732911,\\nIf you have other questions, go to www.stedelijk.nl/bezoeken or email us at info@stedelijk.nl',\n",
              "   'question': 'I still have a question about my ticket'},\n",
              "  '_type': '_doc'},\n",
              " {'_id': '-9nRtIEB1vUWtH8XF8Ei',\n",
              "  '_index': 'faq_index',\n",
              "  '_score': 20.51977,\n",
              "  '_source': {'answer': 'It is possible to book an online dayticket before you visit the museum. You can also buy a ticket directly at the register desk in the museum.\\nPlease read our info about your\\xa0visit & safety before you visit.',\n",
              "   'question': 'How can I buy a ticket? Can I buy my tickets online?'},\n",
              "  '_type': '_doc'},\n",
              " {'_id': 'A9nRtIEB1vUWtH8XF8Lh',\n",
              "  '_index': 'faq_index',\n",
              "  '_score': 20.450771,\n",
              "  '_source': {'answer': 'Check your spam folder. If the ticket isn’t there, mail us at reserveringen@stedelijk.nl.',\n",
              "   'question': 'I haven’t received my ticket. What should I do?'},\n",
              "  '_type': '_doc'}]"
            ]
          },
          "metadata": {},
          "execution_count": 65
        }
      ]
    },
    {
      "cell_type": "markdown",
      "source": [
        "The hits, i.e. our query results, are orded by decreasing order according to the ```'_score'``` parameter (i.e. the result of the similarity score calculation).\n",
        "\n",
        "Let's grab the first 'hit' from this list, i.e. the one with the highest score."
      ],
      "metadata": {
        "id": "uMX0R_hyeOrb"
      }
    },
    {
      "cell_type": "code",
      "source": [
        "results['hits']['hits'][0]"
      ],
      "metadata": {
        "colab": {
          "base_uri": "https://localhost:8080/"
        },
        "id": "MEKvSwygYaEm",
        "outputId": "ec968c01-57aa-4af6-fa27-90924286be1f"
      },
      "execution_count": null,
      "outputs": [
        {
          "output_type": "execute_result",
          "data": {
            "text/plain": [
              "{'_id': 'AtnRtIEB1vUWtH8XF8LA',\n",
              " '_index': 'faq_index',\n",
              " '_score': 27.60449,\n",
              " '_source': {'answer': 'We don’t refund money for purchased tickets. Tickets are valid for twelve months after the date of purchase. If you can’t use your ticket on the date you reserved, you can easily book a new ticket on the date of your preference through our ticketshop. Choose the date and then the option \"I already have a valid entrance ticket\".',\n",
              "  'question': 'Can I cancel the ticket I bought?'},\n",
              " '_type': '_doc'}"
            ]
          },
          "metadata": {},
          "execution_count": 66
        }
      ]
    },
    {
      "cell_type": "markdown",
      "source": [
        "Now we can easily see that the item return is another dict, with the following structure:\n",
        "\n",
        "```\n",
        "{\n",
        "  '_id': ...,\n",
        "  '_index': ...,\n",
        "  '_score': ...,\n",
        "  '_source': ...,\n",
        "  '_type': ...\n",
        "}\n",
        "```\n",
        "\n",
        "The answer text that we are looking for is found in the value corresponding to the ```_source``` key.\n"
      ],
      "metadata": {
        "id": "_PD-junVeg4H"
      }
    },
    {
      "cell_type": "code",
      "source": [
        "results['hits']['hits'][0]['_source']"
      ],
      "metadata": {
        "colab": {
          "base_uri": "https://localhost:8080/"
        },
        "id": "tspLGrBFYaGA",
        "outputId": "f7435139-8f27-4abf-857e-f1032eedda7c"
      },
      "execution_count": null,
      "outputs": [
        {
          "output_type": "execute_result",
          "data": {
            "text/plain": [
              "{'answer': 'We don’t refund money for purchased tickets. Tickets are valid for twelve months after the date of purchase. If you can’t use your ticket on the date you reserved, you can easily book a new ticket on the date of your preference through our ticketshop. Choose the date and then the option \"I already have a valid entrance ticket\".',\n",
              " 'question': 'Can I cancel the ticket I bought?'}"
            ]
          },
          "metadata": {},
          "execution_count": 67
        }
      ]
    },
    {
      "cell_type": "markdown",
      "source": [
        "The above is also a dict featuring two keys: ```'answer'``` and ```'question'```.\n",
        "\n",
        "We can finally grab the raw text of the retrieved answer:"
      ],
      "metadata": {
        "id": "ZBbRdWzgfE8y"
      }
    },
    {
      "cell_type": "code",
      "source": [
        "results['hits']['hits'][0]['_source']['answer']"
      ],
      "metadata": {
        "colab": {
          "base_uri": "https://localhost:8080/",
          "height": 71
        },
        "id": "Xqrfm4LEYuZe",
        "outputId": "f5c587f6-ce9f-4345-eba2-ae6f4d7403da"
      },
      "execution_count": null,
      "outputs": [
        {
          "output_type": "execute_result",
          "data": {
            "text/plain": [
              "'We don’t refund money for purchased tickets. Tickets are valid for twelve months after the date of purchase. If you can’t use your ticket on the date you reserved, you can easily book a new ticket on the date of your preference through our ticketshop. Choose the date and then the option \"I already have a valid entrance ticket\".'"
            ],
            "application/vnd.google.colaboratory.intrinsic+json": {
              "type": "string"
            }
          },
          "metadata": {},
          "execution_count": 68
        }
      ]
    },
    {
      "cell_type": "markdown",
      "source": [
        "Let us rewrite our *encode_and_query* function so that it returns precisely the text of the top answer only.\n",
        "\n",
        "Since we will only want to output the top answer, we can also set the ```size``` parameter to 1, so that the query itself only returns the answer with the highest score."
      ],
      "metadata": {
        "id": "AkspQBJQfcmT"
      }
    },
    {
      "cell_type": "code",
      "source": [
        "ENCODER_BOOST = 10\n",
        "\n",
        "def encode_and_query_v2(user_question, size: int=1):\n",
        "\n",
        "  # generate the user question embedding\n",
        "  embedding = sentence_transformer.encode(user_question).tolist()\n",
        "\n",
        "  # es query\n",
        "  es_result = es.search(\n",
        "      index=\"faq_index\",\n",
        "      body={\n",
        "            \"from\": 0,\n",
        "            \"size\": size,\n",
        "            \"_source\": [\"question\", \"answer\"],\n",
        "            \"query\": {\n",
        "                \"script_score\": {\n",
        "                    \"query\": {\n",
        "                        \"match\": {\n",
        "                            \"question\": user_question\n",
        "                        }\n",
        "                    },\n",
        "                    \"script\": {\n",
        "                        \"source\": \"\"\"\n",
        "                            (cosineSimilarity(params.query_vector, \"embedding\") + 1.0)\n",
        "                            * params.encoder_boost + _score\n",
        "                        \"\"\",\n",
        "                        \"params\": {\n",
        "                            \"query_vector\": embedding,\n",
        "                            \"encoder_boost\": ENCODER_BOOST,\n",
        "                        },\n",
        "                    },\n",
        "                }\n",
        "            }\n",
        "      }\n",
        "  )\n",
        "\n",
        "  return es_result['hits']['hits'][0]['_source']['answer']"
      ],
      "metadata": {
        "id": "AcGx1LO0p7RM"
      },
      "execution_count": null,
      "outputs": []
    },
    {
      "cell_type": "code",
      "source": [
        "answ = encode_and_query_v2(\"Can I cancel my ticket?\")\n",
        "print(answ)"
      ],
      "metadata": {
        "colab": {
          "base_uri": "https://localhost:8080/"
        },
        "id": "7BfMBTW0ZLNk",
        "outputId": "84c36127-5120-49cd-f3aa-9ab659ecc555"
      },
      "execution_count": null,
      "outputs": [
        {
          "output_type": "stream",
          "name": "stdout",
          "text": [
            "We don’t refund money for purchased tickets. Tickets are valid for twelve months after the date of purchase. If you can’t use your ticket on the date you reserved, you can easily book a new ticket on the date of your preference through our ticketshop. Choose the date and then the option \"I already have a valid entrance ticket\".\n"
          ]
        }
      ]
    },
    {
      "cell_type": "code",
      "source": [
        "answ = encode_and_query_v2(\"What time can I organize a group visit?\")\n",
        "print(answ)"
      ],
      "metadata": {
        "colab": {
          "base_uri": "https://localhost:8080/"
        },
        "id": "JAWV2MIiKcw9",
        "outputId": "4e407ed5-ef64-4b71-f4b3-a34c248081e4"
      },
      "execution_count": null,
      "outputs": [
        {
          "output_type": "stream",
          "name": "stdout",
          "text": [
            "At present, we offer set timed tickets on Mondays, Tuesdays and Thursdays. You can choose from the following time slots:\n",
            "10.15 -11.45 am\n",
            "12.00 - 1.30 pm\n",
            "2.15 - 3.45 pm\n",
            "4.00 - 5.30 pm\n",
            "When you make a reservation, you will be shown the time slots that are available. If not enough slots are free, you can divide your group over different time slots.\n",
            "You can arrive at the group entrance at the Paulus Potterstraat about 10 minutes before the start of your visit and use the group cloakroom (if there is enough room).\n"
          ]
        }
      ]
    },
    {
      "cell_type": "markdown",
      "source": [
        "<a name=\"s09\"></a>\n",
        "## THE USER INTERFACE\n",
        "\n",
        "We shall use the ```gradio``` library to display a user interface in this notebook.\n",
        "\n",
        "\n"
      ],
      "metadata": {
        "id": "QjuNowIeY3iq"
      }
    },
    {
      "cell_type": "code",
      "source": [
        "!pip install gradio"
      ],
      "metadata": {
        "colab": {
          "base_uri": "https://localhost:8080/"
        },
        "id": "DIUzhe3-ZuOq",
        "outputId": "06a864d2-6ad1-4e64-bea6-7267bc55db43"
      },
      "execution_count": null,
      "outputs": [
        {
          "output_type": "stream",
          "name": "stdout",
          "text": [
            "Looking in indexes: https://pypi.org/simple, https://us-python.pkg.dev/colab-wheels/public/simple/\n",
            "Collecting gradio\n",
            "  Downloading gradio-3.0.21-py3-none-any.whl (5.1 MB)\n",
            "\u001b[K     |████████████████████████████████| 5.1 MB 5.1 MB/s \n",
            "\u001b[?25hCollecting markdown-it-py[linkify,plugins]\n",
            "  Downloading markdown_it_py-2.1.0-py3-none-any.whl (84 kB)\n",
            "\u001b[K     |████████████████████████████████| 84 kB 3.2 MB/s \n",
            "\u001b[?25hCollecting analytics-python\n",
            "  Downloading analytics_python-1.4.0-py2.py3-none-any.whl (15 kB)\n",
            "Collecting httpx\n",
            "  Downloading httpx-0.23.0-py3-none-any.whl (84 kB)\n",
            "\u001b[K     |████████████████████████████████| 84 kB 3.7 MB/s \n",
            "\u001b[?25hCollecting paramiko\n",
            "  Downloading paramiko-2.11.0-py2.py3-none-any.whl (212 kB)\n",
            "\u001b[K     |████████████████████████████████| 212 kB 38.3 MB/s \n",
            "\u001b[?25hCollecting fsspec\n",
            "  Downloading fsspec-2022.5.0-py3-none-any.whl (140 kB)\n",
            "\u001b[K     |████████████████████████████████| 140 kB 57.2 MB/s \n",
            "\u001b[?25hCollecting ffmpy\n",
            "  Downloading ffmpy-0.3.0.tar.gz (4.8 kB)\n",
            "Collecting python-multipart\n",
            "  Downloading python-multipart-0.0.5.tar.gz (32 kB)\n",
            "Collecting orjson\n",
            "  Downloading orjson-3.7.5-cp37-cp37m-manylinux_2_17_x86_64.manylinux2014_x86_64.whl (272 kB)\n",
            "\u001b[K     |████████████████████████████████| 272 kB 55.1 MB/s \n",
            "\u001b[?25hCollecting pycryptodome\n",
            "  Downloading pycryptodome-3.15.0-cp35-abi3-manylinux2010_x86_64.whl (2.3 MB)\n",
            "\u001b[K     |████████████████████████████████| 2.3 MB 43.2 MB/s \n",
            "\u001b[?25hRequirement already satisfied: pydantic in /usr/local/lib/python3.7/dist-packages (from gradio) (1.8.2)\n",
            "Collecting fastapi\n",
            "  Downloading fastapi-0.78.0-py3-none-any.whl (54 kB)\n",
            "\u001b[K     |████████████████████████████████| 54 kB 3.0 MB/s \n",
            "\u001b[?25hCollecting uvicorn\n",
            "  Downloading uvicorn-0.18.2-py3-none-any.whl (57 kB)\n",
            "\u001b[K     |████████████████████████████████| 57 kB 3.9 MB/s \n",
            "\u001b[?25hRequirement already satisfied: Jinja2 in /usr/local/lib/python3.7/dist-packages (from gradio) (2.11.3)\n",
            "Requirement already satisfied: requests in /usr/local/lib/python3.7/dist-packages (from gradio) (2.23.0)\n",
            "Requirement already satisfied: numpy in /usr/local/lib/python3.7/dist-packages (from gradio) (1.21.6)\n",
            "Requirement already satisfied: pillow in /usr/local/lib/python3.7/dist-packages (from gradio) (7.1.2)\n",
            "Collecting aiohttp\n",
            "  Downloading aiohttp-3.8.1-cp37-cp37m-manylinux_2_5_x86_64.manylinux1_x86_64.manylinux_2_12_x86_64.manylinux2010_x86_64.whl (1.1 MB)\n",
            "\u001b[K     |████████████████████████████████| 1.1 MB 41.4 MB/s \n",
            "\u001b[?25hRequirement already satisfied: pandas in /usr/local/lib/python3.7/dist-packages (from gradio) (1.3.5)\n",
            "Collecting pydub\n",
            "  Downloading pydub-0.25.1-py2.py3-none-any.whl (32 kB)\n",
            "Requirement already satisfied: matplotlib in /usr/local/lib/python3.7/dist-packages (from gradio) (3.2.2)\n",
            "Collecting multidict<7.0,>=4.5\n",
            "  Downloading multidict-6.0.2-cp37-cp37m-manylinux_2_17_x86_64.manylinux2014_x86_64.whl (94 kB)\n",
            "\u001b[K     |████████████████████████████████| 94 kB 3.5 MB/s \n",
            "\u001b[?25hCollecting async-timeout<5.0,>=4.0.0a3\n",
            "  Downloading async_timeout-4.0.2-py3-none-any.whl (5.8 kB)\n",
            "Collecting frozenlist>=1.1.1\n",
            "  Downloading frozenlist-1.3.0-cp37-cp37m-manylinux_2_5_x86_64.manylinux1_x86_64.manylinux_2_17_x86_64.manylinux2014_x86_64.whl (144 kB)\n",
            "\u001b[K     |████████████████████████████████| 144 kB 75.9 MB/s \n",
            "\u001b[?25hRequirement already satisfied: charset-normalizer<3.0,>=2.0 in /usr/local/lib/python3.7/dist-packages (from aiohttp->gradio) (2.0.12)\n",
            "Collecting asynctest==0.13.0\n",
            "  Downloading asynctest-0.13.0-py3-none-any.whl (26 kB)\n",
            "Collecting aiosignal>=1.1.2\n",
            "  Downloading aiosignal-1.2.0-py3-none-any.whl (8.2 kB)\n",
            "Requirement already satisfied: attrs>=17.3.0 in /usr/local/lib/python3.7/dist-packages (from aiohttp->gradio) (21.4.0)\n",
            "Collecting yarl<2.0,>=1.0\n",
            "  Downloading yarl-1.7.2-cp37-cp37m-manylinux_2_5_x86_64.manylinux1_x86_64.manylinux_2_12_x86_64.manylinux2010_x86_64.whl (271 kB)\n",
            "\u001b[K     |████████████████████████████████| 271 kB 69.3 MB/s \n",
            "\u001b[?25hRequirement already satisfied: typing-extensions>=3.7.4 in /usr/local/lib/python3.7/dist-packages (from aiohttp->gradio) (4.1.1)\n",
            "Requirement already satisfied: idna>=2.0 in /usr/local/lib/python3.7/dist-packages (from yarl<2.0,>=1.0->aiohttp->gradio) (2.10)\n",
            "Requirement already satisfied: python-dateutil>2.1 in /usr/local/lib/python3.7/dist-packages (from analytics-python->gradio) (2.8.2)\n",
            "Collecting backoff==1.10.0\n",
            "  Downloading backoff-1.10.0-py2.py3-none-any.whl (31 kB)\n",
            "Requirement already satisfied: six>=1.5 in /usr/local/lib/python3.7/dist-packages (from analytics-python->gradio) (1.15.0)\n",
            "Collecting monotonic>=1.5\n",
            "  Downloading monotonic-1.6-py2.py3-none-any.whl (8.2 kB)\n",
            "Requirement already satisfied: certifi>=2017.4.17 in /usr/local/lib/python3.7/dist-packages (from requests->gradio) (2022.6.15)\n",
            "Requirement already satisfied: urllib3!=1.25.0,!=1.25.1,<1.26,>=1.21.1 in /usr/local/lib/python3.7/dist-packages (from requests->gradio) (1.24.3)\n",
            "Requirement already satisfied: chardet<4,>=3.0.2 in /usr/local/lib/python3.7/dist-packages (from requests->gradio) (3.0.4)\n",
            "Collecting starlette==0.19.1\n",
            "  Downloading starlette-0.19.1-py3-none-any.whl (63 kB)\n",
            "\u001b[K     |████████████████████████████████| 63 kB 1.9 MB/s \n",
            "\u001b[?25hCollecting anyio<5,>=3.4.0\n",
            "  Downloading anyio-3.6.1-py3-none-any.whl (80 kB)\n",
            "\u001b[K     |████████████████████████████████| 80 kB 8.8 MB/s \n",
            "\u001b[?25hCollecting sniffio>=1.1\n",
            "  Downloading sniffio-1.2.0-py3-none-any.whl (10 kB)\n",
            "Collecting httpcore<0.16.0,>=0.15.0\n",
            "  Downloading httpcore-0.15.0-py3-none-any.whl (68 kB)\n",
            "\u001b[K     |████████████████████████████████| 68 kB 6.2 MB/s \n",
            "\u001b[?25hCollecting rfc3986[idna2008]<2,>=1.3\n",
            "  Downloading rfc3986-1.5.0-py2.py3-none-any.whl (31 kB)\n",
            "Collecting h11<0.13,>=0.11\n",
            "  Downloading h11-0.12.0-py3-none-any.whl (54 kB)\n",
            "\u001b[K     |████████████████████████████████| 54 kB 3.4 MB/s \n",
            "\u001b[?25hRequirement already satisfied: MarkupSafe>=0.23 in /usr/local/lib/python3.7/dist-packages (from Jinja2->gradio) (2.0.1)\n",
            "Collecting mdurl~=0.1\n",
            "  Downloading mdurl-0.1.1-py3-none-any.whl (10 kB)\n",
            "Collecting mdit-py-plugins\n",
            "  Downloading mdit_py_plugins-0.3.0-py3-none-any.whl (43 kB)\n",
            "\u001b[K     |████████████████████████████████| 43 kB 948 kB/s \n",
            "\u001b[?25hCollecting linkify-it-py~=1.0\n",
            "  Downloading linkify_it_py-1.0.3-py3-none-any.whl (19 kB)\n",
            "Collecting uc-micro-py\n",
            "  Downloading uc_micro_py-1.0.1-py3-none-any.whl (6.2 kB)\n",
            "Requirement already satisfied: pyparsing!=2.0.4,!=2.1.2,!=2.1.6,>=2.0.1 in /usr/local/lib/python3.7/dist-packages (from matplotlib->gradio) (3.0.9)\n",
            "Requirement already satisfied: cycler>=0.10 in /usr/local/lib/python3.7/dist-packages (from matplotlib->gradio) (0.11.0)\n",
            "Requirement already satisfied: kiwisolver>=1.0.1 in /usr/local/lib/python3.7/dist-packages (from matplotlib->gradio) (1.4.3)\n",
            "Requirement already satisfied: pytz>=2017.3 in /usr/local/lib/python3.7/dist-packages (from pandas->gradio) (2022.1)\n",
            "Collecting pynacl>=1.0.1\n",
            "  Downloading PyNaCl-1.5.0-cp36-abi3-manylinux_2_17_x86_64.manylinux2014_x86_64.manylinux_2_24_x86_64.whl (856 kB)\n",
            "\u001b[K     |████████████████████████████████| 856 kB 60.5 MB/s \n",
            "\u001b[?25hCollecting bcrypt>=3.1.3\n",
            "  Downloading bcrypt-3.2.2-cp36-abi3-manylinux_2_17_x86_64.manylinux2014_x86_64.manylinux_2_24_x86_64.whl (62 kB)\n",
            "\u001b[K     |████████████████████████████████| 62 kB 969 kB/s \n",
            "\u001b[?25hCollecting cryptography>=2.5\n",
            "  Downloading cryptography-37.0.2-cp36-abi3-manylinux_2_24_x86_64.whl (4.0 MB)\n",
            "\u001b[K     |████████████████████████████████| 4.0 MB 42.9 MB/s \n",
            "\u001b[?25hRequirement already satisfied: cffi>=1.1 in /usr/local/lib/python3.7/dist-packages (from bcrypt>=3.1.3->paramiko->gradio) (1.15.0)\n",
            "Requirement already satisfied: pycparser in /usr/local/lib/python3.7/dist-packages (from cffi>=1.1->bcrypt>=3.1.3->paramiko->gradio) (2.21)\n",
            "Requirement already satisfied: click>=7.0 in /usr/local/lib/python3.7/dist-packages (from uvicorn->gradio) (7.1.2)\n",
            "Building wheels for collected packages: ffmpy, python-multipart\n",
            "  Building wheel for ffmpy (setup.py) ... \u001b[?25l\u001b[?25hdone\n",
            "  Created wheel for ffmpy: filename=ffmpy-0.3.0-py3-none-any.whl size=4712 sha256=a4a363b7164724e46676a75e15cb94c845108a02ff6d6f8446d23532348713da\n",
            "  Stored in directory: /root/.cache/pip/wheels/13/e4/6c/e8059816e86796a597c6e6b0d4c880630f51a1fcfa0befd5e6\n",
            "  Building wheel for python-multipart (setup.py) ... \u001b[?25l\u001b[?25hdone\n",
            "  Created wheel for python-multipart: filename=python_multipart-0.0.5-py3-none-any.whl size=31678 sha256=dfe0f9f28780d5e99f75361029ed108e882e5bb5ec3d82ec004f364f2bfbe712\n",
            "  Stored in directory: /root/.cache/pip/wheels/2c/41/7c/bfd1c180534ffdcc0972f78c5758f89881602175d48a8bcd2c\n",
            "Successfully built ffmpy python-multipart\n",
            "Installing collected packages: sniffio, mdurl, uc-micro-py, rfc3986, multidict, markdown-it-py, h11, frozenlist, anyio, yarl, starlette, pynacl, monotonic, mdit-py-plugins, linkify-it-py, httpcore, cryptography, bcrypt, backoff, asynctest, async-timeout, aiosignal, uvicorn, python-multipart, pydub, pycryptodome, paramiko, orjson, httpx, fsspec, ffmpy, fastapi, analytics-python, aiohttp, gradio\n",
            "Successfully installed aiohttp-3.8.1 aiosignal-1.2.0 analytics-python-1.4.0 anyio-3.6.1 async-timeout-4.0.2 asynctest-0.13.0 backoff-1.10.0 bcrypt-3.2.2 cryptography-37.0.2 fastapi-0.78.0 ffmpy-0.3.0 frozenlist-1.3.0 fsspec-2022.5.0 gradio-3.0.21 h11-0.12.0 httpcore-0.15.0 httpx-0.23.0 linkify-it-py-1.0.3 markdown-it-py-2.1.0 mdit-py-plugins-0.3.0 mdurl-0.1.1 monotonic-1.6 multidict-6.0.2 orjson-3.7.5 paramiko-2.11.0 pycryptodome-3.15.0 pydub-0.25.1 pynacl-1.5.0 python-multipart-0.0.5 rfc3986-1.5.0 sniffio-1.2.0 starlette-0.19.1 uc-micro-py-1.0.1 uvicorn-0.18.2 yarl-1.7.2\n"
          ]
        }
      ]
    },
    {
      "cell_type": "markdown",
      "source": [
        "\n",
        "Gradio allows us to create a chatbot interface simply by setting the ```outputs=``` parameter to ```[\"chatbot\", \"state\"]```.\n",
        "\n",
        "The ```input=``` is set to feed our function two arguments:\n",
        "\n",
        "*   the ```\"text\"``` of the question submitted by the user (a string);\n",
        "*   the ```\"state\"```, which, if desired, can keep track of the conversation history.\n",
        "\n",
        "Thus, we need to rewrite our *embed_and_query*  function so that it can accept these two arguments.\n",
        "\n",
        "Gradio then expects our function to output the updated conversation history as a list of tuples, each containing the user question and the answer, updated at each iteration by appending the new tuple (question and answer) to the list.\n",
        "\n",
        "This system is intended to allow you to retrieve an answer not solely on the basis of the user question, but also on account of the preceding interaction. However, we are not going to use this feature here. Therefore, I will simply append a new tuple with user question and retrieved answer to the ```history``` list at each call, and return this list as required for the Gradio interface to work."
      ],
      "metadata": {
        "id": "bp7LsDLklk5Y"
      }
    },
    {
      "cell_type": "code",
      "source": [
        "ENCODER_BOOST = 10\n",
        "\n",
        "def encode_and_query(user_question, history=[], size: int=1):\n",
        "\n",
        "  # generate the user question embedding\n",
        "  embedding = sentence_transformer.encode(user_question).tolist()\n",
        "\n",
        "  # es query\n",
        "  es_result = es.search(\n",
        "      index=\"faq_index\", # the index where we stored embeddings, Qa & As\n",
        "      body={\n",
        "            \"from\": 0,\n",
        "            \"size\": size, # the number of expected query results\n",
        "            \"_source\": [\"question\", \"answer\"],\n",
        "            \"query\": {\n",
        "                \"script_score\": {\n",
        "                    \"query\": {\n",
        "                        \"match\": {\n",
        "                            \"question\": user_question\n",
        "                        }\n",
        "                    },\n",
        "                    \"script\": {\n",
        "                        \"source\": \"\"\"\n",
        "                            (cosineSimilarity(params.query_vector, \"embedding\") + 1.0)\n",
        "                            * params.encoder_boost + _score\n",
        "                        \"\"\",\n",
        "                        \"params\": {\n",
        "                            \"query_vector\": embedding,\n",
        "                            \"encoder_boost\": ENCODER_BOOST,\n",
        "                        },\n",
        "                    },\n",
        "                }\n",
        "            }\n",
        "      }\n",
        "  )\n",
        "\n",
        "  response = es_result['hits']['hits'][0]['_source']['answer']\n",
        "\n",
        "  # update conversation history\n",
        "  history.append((user_question, response))\n",
        "\n",
        "  return history, history"
      ],
      "metadata": {
        "id": "lrw3irYLjbeA"
      },
      "execution_count": null,
      "outputs": []
    },
    {
      "cell_type": "code",
      "source": [
        "import gradio as gr"
      ],
      "metadata": {
        "id": "sL-i405IZygD"
      },
      "execution_count": null,
      "outputs": []
    },
    {
      "cell_type": "code",
      "source": [
        "# In the basic \"chatbot\" type interface\n",
        "# the user messages will be displayed in Orange\n",
        "# and the chatbot responses in Grey\n",
        "\n",
        "# Note that the Textbox in which to enter the user question\n",
        "# will have a heading that corresponds \n",
        "# to the first argument of our function (i.e. \"user_question\")\n",
        "\n",
        "gr.Interface(fn=encode_and_query,\n",
        "             inputs=[\"text\", \"state\"],\n",
        "             outputs=[\"chatbot\", \"state\"], \n",
        "             allow_flagging=\"never\").launch()"
      ],
      "metadata": {
        "colab": {
          "base_uri": "https://localhost:8080/",
          "height": 646
        },
        "id": "Pez-fbPzY6hm",
        "outputId": "8c373692-ad16-4eae-9278-41a11acb08d0"
      },
      "execution_count": null,
      "outputs": [
        {
          "output_type": "stream",
          "name": "stdout",
          "text": [
            "Colab notebook detected. To show errors in colab notebook, set `debug=True` in `launch()`\n",
            "Running on public URL: https://10268.gradio.app\n",
            "\n",
            "This share link expires in 72 hours. For free permanent hosting, check out Spaces (https://huggingface.co/spaces)\n"
          ]
        },
        {
          "output_type": "display_data",
          "data": {
            "text/plain": [
              "<IPython.core.display.HTML object>"
            ],
            "text/html": [
              "<div><iframe src=\"https://10268.gradio.app\" width=\"900\" height=\"500\" allow=\"autoplay; camera; microphone;\" frameborder=\"0\" allowfullscreen></iframe></div>"
            ]
          },
          "metadata": {}
        },
        {
          "output_type": "execute_result",
          "data": {
            "text/plain": [
              "(<gradio.routes.App at 0x7f657b32bd50>,\n",
              " 'http://127.0.0.1:7860/',\n",
              " 'https://10268.gradio.app')"
            ]
          },
          "metadata": {},
          "execution_count": 75
        }
      ]
    },
    {
      "cell_type": "markdown",
      "source": [
        "The result should look like this:\n",
        "\n",
        "![Museum FAQ chatbot photo.png](data:image/png;base64,iVBORw0KGgoAAAANSUhEUgAABeYAAAHsCAYAAAC30X0rAAAAAXNSR0IArs4c6QAAAJZlWElmTU0AKgAAAAgABAEaAAUAAAABAAAAPgEbAAUAAAABAAAARgEoAAMAAAABAAIAAIdpAAQAAAABAAAATgAAAAAAAACQAAAAAQAAAJAAAAABAASShgAHAAAAEgAAAISgAQADAAAAAQABAACgAgAEAAAAAQAABeagAwAEAAAAAQAAAewAAAAAQVNDSUkAAABTY3JlZW5zaG90HUqDywAAAAlwSFlzAAAWJQAAFiUBSVIk8AAAAddpVFh0WE1MOmNvbS5hZG9iZS54bXAAAAAAADx4OnhtcG1ldGEgeG1sbnM6eD0iYWRvYmU6bnM6bWV0YS8iIHg6eG1wdGs9IlhNUCBDb3JlIDYuMC4wIj4KICAgPHJkZjpSREYgeG1sbnM6cmRmPSJodHRwOi8vd3d3LnczLm9yZy8xOTk5LzAyLzIyLXJkZi1zeW50YXgtbnMjIj4KICAgICAgPHJkZjpEZXNjcmlwdGlvbiByZGY6YWJvdXQ9IiIKICAgICAgICAgICAgeG1sbnM6ZXhpZj0iaHR0cDovL25zLmFkb2JlLmNvbS9leGlmLzEuMC8iPgogICAgICAgICA8ZXhpZjpQaXhlbFlEaW1lbnNpb24+NDkyPC9leGlmOlBpeGVsWURpbWVuc2lvbj4KICAgICAgICAgPGV4aWY6UGl4ZWxYRGltZW5zaW9uPjE1MTA8L2V4aWY6UGl4ZWxYRGltZW5zaW9uPgogICAgICAgICA8ZXhpZjpVc2VyQ29tbWVudD5TY3JlZW5zaG90PC9leGlmOlVzZXJDb21tZW50PgogICAgICA8L3JkZjpEZXNjcmlwdGlvbj4KICAgPC9yZGY6UkRGPgo8L3g6eG1wbWV0YT4KLW8XDwAAABxpRE9UAAAAAgAAAAAAAAD2AAAAKAAAAPYAAAD2AADr4+QQg44AAEAASURBVHgB7J0HfBTFF8ffFRJqQq9SBBULVlBRUFSsYO8Fe+/6t2LvvWNHBSs2xAKoKCoIAgqogAoiKL2XECCUu93/e3OZzd5ev9tL7pLffD5kd2dmp3xn79j7zZs3nu7du5uEAAIgAAIgAAIgAAIgAAIgAAIgAAIgAAIgAAIgAAIgAAIgUCkEPBDmK4UzKgEBEAABEAABEAABEAABEAABEAABEAABEAABEAABEAABRQDCPB4EEAABEAABEAABEAABEAABEAABEAABEAABEAABEAABEKhEAhDmKxE2qgIBEAABEAABEAABEAABEAABEAABEAABEAABEAABEAABCPN4BkAABEAABEAABEAABEAABEAABEAABEAABEAABEAABECgEglAmK9E2KgKBEAABEAABEAABEAABEAABEAABEAABEAABEAABEAABCDM4xkAARAAARAAARAAARAAARAAARAAARAAARAAARAAARAAgUokAGG+EmGjKhAAARAAARAAARAAARAAARAAARAAARAAARAAARAAARCAMI9nAARAAARAAARAAARAAARAAARAAARAAARAAARAAARAAAQqkQCE+UqEjapAAARAAARAAARAAARAAARAAARAAARAAARAAARAAARAAMI8ngEQAAEQAAEQAAEQAAEQAAEQAAEQAAEQAAEQAAEQAAEQqEQCEOYrETaqAgEQAAEQAAEQAAEQAAEQAAEQAAEQAAEQAAEQAAEQAIFKF+br1q1LPXv2pD322JO22357atWqFdWvX5+8Xi9GAwRAAARAAARAAARAAATyloBhGLR+/XpasmQJ/TN7Nv322680btw42rhxY171Ce/reTVcaCwIgAAIgAAIgAAIgECSBHLtfb3ShPmOHTvSySefQkf16QMRPsmHBdlAAARAAARAAARAAATym4C8/H85ciR9/PFHNHfu3JzuDN7Xc3p40DgQAAEQAAEQAAEQAIEsEKjK9/VKEeYvv+IKOv30M7KADkWCAAiAAAiAAAiAAAiAQH4QeP/9IfTSiy/mZGPxvp6Tw4JGgQAIgAAIgAAIgAAIVCKByn5fz6owL1Y3t/a/jTp37lyJCFEVCIAACIAACIAACIAACOQmgVmzZtEjDz+UM9bzeF/PzecErQIBEAABEAABEAABEKgaApX5vp41YX633XajBx96mIqKiqqGImoFARAAARAAARAAARAAgRwksG7dOrr9tv40bdq0Km0d3terFD8qBwEQAAEQAAEQAAEQyFEClfW+nhVhXixvnn1uAET5HH240CwQAAEQAAEQAAEQAIGqJSAv+9dec3WVWc7jfb1qxx+1gwAIgAAIgAAIgAAI5DaBynhfz4ow/+rA1+C+JrefLbQOBEAABEAABEAABECgignIMtlLLr6oSlqB9/UqwY5KQQAEQAAEQAAEQAAE8ohAtt/XXRfmsXFUHj1daCoIgAAIgAAIgAAIgECVEqjsDaaks3hfr9IhR+UgAAIgAAIgAAIgAAJ5RCCb7+uuCvOyJHbQ4DfzCC2aCgIgAAIgAAIgAAIgAAJVS+D8886tNJc2eF+v2rFG7SAAAiAAAiAAAiAAAvlHIFvv664K8zfffAv1Pfro/KOLFoMACIAACIAACIAACIBAFREYMXw4PfbYo5VSO97XKwUzKgEBEAABEAABEAABEKhGBLL1vu6aMF+3bl0aMfJL8nq91Qg7ugICIAACIAACIAACIAAC2SVgGAb17XMUbdy4MasV4X09q3hROAiAAAiAAAiAAAiAQDUlkK33ddeE+cMPP5xuv+POaoof3QIBEAABEAABEAABEACB7BF48IH7adSoUdmrgEvG+3pW8aJwEAABEAABEAABEACBakwgG+/rrgnzWBZbjZ88dA0EQAAEQAAEQAAEQCCrBLK1PNbeaLyv22ngHARAAARAAARAAARAAASSJ5CN93XXhPlXB75GnTt3Tr43yAkCIAACIAACIAACIAACIKAIzJo1iy65+KKs0sD7elbxonAQAAEQAAEQAAEQAIFqTCAb7+uuCfNfDB9BRUVF1Rg/ugYCIAACIAACIAACIAAC2SGwbt06OubovtkpvLzUnHhfN82s9hGFgwAIgAAIgAAIgAAIVFMCHk+Vdiwb7+uuCfPf/zAGG79W6eOBykEABEAABEAABEAABPKVgGwodfBBvbLa/Mp6Xzchvmd1HFE4CIAACIAACIAACIBAOAFPJYj22Xhfd02YHzP2x3AiWbqSF/0tW7bS1q0BCgSDFAwahJf/LMFGsSAAAiAAAiAAAiBQwwjIS73P5yW/z0e1avmpoKAWVcaLvmDudeABWaWd1fd1fkfXtvDW+3ogQMGAQUGedMD7elaHFoWDAAiAAAiAAAiAQI0hoN7XvV7y+b1Uyx/+vq5s6rMo0rv9vp43wnyQRfiyss20afOWGvOgoaMgAAIgAAIgAAIgAAJVT6B2YQHVqVPIgr0vq41x+0Xf2dhsCfNadA8Egvyuvpk2b97qrFqxk/d5BBAAARAAARAAARAAARBwm0BhYS2qXVhIfn/ofT1bhjVuv6/nhTC/YWOZEuX1oGnrJYHt8/rYhU7V+hjS7cIRBEAABEAABEAABEAgvwkYhskW3kESkVmv0tQ9EnG+Xt06+tL1o9sv+s4Gui3Ma0FejhvLNtGmTSEDGvkhVK9ubf5xVKB+HHnZogkBBDIhsH5DmbpdnisJ2fqxrQrHHxAAARAAARAAgZwmIC5l1Ls6e1PZzAbcm9mzig61axdQ3Tq1rXcFt98Z3H5fz2lhXqxqStdvVLAFcO3ahVSHAWfbWkkPJo4gAAIgAAIgAAIgAAI1m4BatcmC86ZNmxUIMQxpUL9uVt5H3X7Rd46cm8K8FuXlR5GIpsJJBPiGRfWokAV5t38EOfuC65pFQAvzdXlyTD9b+lizSKC3IAACIAACIAACTgLyPipG3Rs2blJJohvXr1cnK9bzbr+v56wwv5V9Uq5bt0H5o5QfQPUYqPgNQgABEAABEAABEAABEACByiYg76YbWICWF38RBItYgHb73dTtF30nI7eEeS3Ky55PYkQj17KSQCYssJLVSR3XbhDQwrwYacnnT/9zo2yUAQIgAAIgAAIgUD0IyGrXktINal9SeVeQd1PxuiJBrt0Ibr+v56QwLxY3a0vWq5f8Qt5wq0GDem6wQxkgAAIgAAIgAAIgAAIgkBGBUn7Zl+Wy8nLfsLi+q5bzbr/oOzvqhjCvRXmZoFjHLOS6YVF9qlvuYsRZJ65BwA0CWpivzf5jZWUGhHk3qKIMEAABEAABEKieBNasLaUyXu0q7wtFrCm76Xfe7ff1nBTm15aUKmskiPLV8wOCXoEACIAACIAACIBAPhPQ4ry85DcsbuBaV9x+0Xc2LFNhXovycixZt57d1xgQ5Z2QcZ0VAlqYLyzwK2Fei/NZqQyFggAIgAAIgAAI5D0BLc77fF4qZiMSbTGvj+l20O339ZwT5vVGr27/0EkXOO4DARAAARAAARAAARAAAScBbUji5oawbr/oO9vshjAvovxG9t+5iTfaEvc1xezSBwEEsk0gmjAvdWb64zrb7Ub5IAACIAACIAACVUdgxaq1yq1Nbd7/SFZ3yntDpu8Obr+v55QwLy5sZEZDQjEvDXbbb2fVPQqoGQRAAARAAARAAARAoDoREJ/zJex6UUKjhg1ccWnj9ou+k3cmwrwI8vJPu7ARi+XmTRvBp7wTMq6zQgDCfFawolAQAAEQAAEQqNYExOf8ytUlqo/apU2m4rzb7+s5Jcyv582jxPqmdu1CtXtutX460DkQAAEQAAEQAAEQAIG8JiBi4Sb2XylWOPV5c6lMg9sv+s72pC3MiyjPhYkwL32WHzmNeTJC3tkRQKAyCECYrwzKqAMEQAAEQAAEqh8Bcb+4gVd7FvAepvXr1QlZzUs309wM1u339ZwR5uVFf1X5LIZbVkfV73FCj0AABEAABEAABEAABHKFgH21Z5PGxTm3NNbJKV1hXlvLG4ZBa3mVgFgatWzeOOP+OtuHaxCIRQDCfCwyiAcBEAABEAABEIhHQFZ7Ll+5RmVpyN5Z9D416bq0qbbC/Ga2lC9li/latfzKKX88qEgDARAAARAAARAAARAAgVwgIFY4W7cGqAFbzBey5Xwmwe0XfWdbMhXmZWWr+Jevzz46i3gTLQQQqCwCEOYrizTqAQEQAAEQAIHqR0AMwTfzik/xMy8rXTNxZ+P2+3rOWMxrNzb1eFlBHSyLrX6fAvQIBEAABEAABEAABKohgTJ2ZbOB3bu44c7G7Rd9J+50hHmxlpcg1vLSzy08CdGkUVHGkxDOtuEaBOIRgDAfjw7SQAAEQAAEQAAE4hGQ94h1pRuogI3BRXcWq3kJ6VjNu/2+njPC/NqSUrWZFDZ9jfcoIQ0EQAAEQAAEQAAEQCCXCOhNYP1+HzUsbpBR09x+0Xc2Jl1hXruykR80waBBLZo1cmWzW2f7cA0CsQhAmI9FBvEgAAIgAAIgAAKJCOhNYH0+L8kmsNpiHsK8jZwsK5CX/saNinnmwmNLwSkIgAAIgAAIgAAIgAAI5CYBwzBp9ZoS9YIvfuYzCbkszIvFfMm6Dep9vVWLJmlZGGXCBvfWbAIQ5mv2+KP3IAACIAACIJAJAXmPXbp8tXp/LS6ql5Gfebff13PGYn7lqrWKcdMmDTNhjXtBAARAAARAAARAAARAoFIJuPUe6/aLvhNCJhbzeuNXn8+nLOadZeMaBLJJAMJ8NumibBAAARAAARCo/gQWL12pOpnpBrBuv69DmK/+zx56CAIgAAIgAAIgAAIgkEUC1V2YF1FeW8wLxtYtm2aRJooGgUgCEOYjmSAGBEAABEAABEAgeQJamNcW8+JnHq5sbPzc+kFjKxKnIAACIAACIAACIAACIJB1Am69x7ptgePseLoW89kS5mfP+Y/GT5xKy5eHLJic7U32uph9+x/Saz/avlOHZG9BvjwjAGE+zwYMzQUBEAABEACBHCMAYT7BgLj1gyZBNUgGARAAARAAARAAARAAAVcJuPUem3PCPO//ZDKpbAjzy5evosHvDqWiovpKUK9dWJj2mPzNAv+KFavo0gvPoOKizDbgTbsRGdy4tqSUSkrWUSPea6uoQf0MSsr81nnzFynrsXZtWyddGD8mNHb8zzTtj1m0ePEyartNK9pjt51o/333SrqMRBkhzCcihHQQAAEQAAEQAIF4BKIK83KDJ7V9Tt1+X4crm3ijhjQQAAEQAAEQAAEQAAEQSEAAwnwCQFGSx0+YwtbyU1wR07XIL1bz3fbaNUptuR31/sfDaRzzOK7voXTYIT2qrLGbNm+hG297WG2I9tzjdybVDpNV+UHvDKWpv/0Rkb/n/t3o9JP6RsSnEwFhPh1quAcEQAAEQAAEQEATgDCvScQ4uvWDJkbxiAYBEAABEAABEAABEACBrBBw6z3WbQscZ2dTdmWTRYt5LczffP0lzmamdf3Y069Sj+5dqcd+XdO6vypvGjj4A/p9+swqF+ZXrV5Ldz/4bErC/PdjJ9LQz75W+E49sQ/t1mVHmvLrdBr2xTcq7twzT6C9u+6WMV4I8xkjRAEgAAIgAAIgUKMJQJhPMPxu/aBJUA2SQQAEQAAEQAAEQAAEQMBVAm69x9Z0YV7E+lSWE/foXuEqJdvC/NZAgJYsWU6tWjWnWn6/q8/P0y8Mojlz5yctzIuV+uKly6lO7drUmN3fuBXmL1hMjz0zMCVh/s4HnqE1a0ro8N496dg+va2mvD90BI37aTJt06Yl3fq/S634dE8gzKdLDveBAAiAAAiAAAgIAQjzCZ4Dt37QJKgGySAAAiAAAiAAAiAAAiDgKgG33mNrujAv4noqwW5tny1hfsaff9OXo8bQPBatdWjP/tePOPRAtg7vrKPUccZfs+nVN96nwoJa9PiDt4alGYZJN/R/iIKGQddfeT5t22EbGvHV9/QdW5xvZhcyOni9XnXaky3/xQJdwu33Pkml6zfSvbdfS58O/4Z+/f1P5fdf0mSS4PSTj6Z9995dLq3w8JMv05KlK+jEYw+ngw7Y14qXk6+//ZFGfP0DbdexHV1z+bkkLmzufvAZKivbbJWr2yH5H7rnBqpfr66choUFC5fQo+Vjdv8d1ykf+TrDIvY1L22QcB+nZTqBAGFek8URBEAABEAABEAgHQIQ5hNQc+sHTYJqkAwCIAACIAACIAACIAACrhJw6z22pgvzmQxKNoR5Edpffu091SwRqps1bUwrVq62xOtLLziDdt1lB6vZv0ydTm+++0lUi3PZQPeam+5XeUWY78Si+EfDvqQf2apc0nTQgvj+vBpA+2e//pYHSSz2JU3yyrFRwyIS1zM6iDgvYr4OIuaXrFtPxx99KB16cLjf+k/Y9YxMCMgEw03XXcyC/Ca65a7Ho7ZDyoslzP8yZRq9+d4w3nC3Pj149w26auuo233FxWfRzjtuZ8WncwJhPh1quAcEQAAEQAAEQEATgDCvScQ4uvWDJkbxiAYBEAABEAABEAABEACBrBBw6z0Wwnz6w+O2MG+3+O68/bYkInwBW8IHAkF6ddD79OfMf1RjxU2LuGuRkKowr27iP1pEj7X5qxa4Jb/k6X3QfkqcX89W9I8+86pyJVOndiE9ev/NKl7y6TKTEeYlv4TJPLEwOMbEQihH+N9R342jz0eMjumuRru5OevUY2m/ffcMvznFKwjzKQJDdhAAARAAARAAgTACEObDcEReuPWDJrJkxIAACIAACIAACIAACIBA9gi49R4LYT79MXJbmP985GgaNXqcchXz2IO3hPmVF3H+lrseUy5oxBpdxG8J2RbmnVbxUufkX2fQ4HeGyildftGZtMtO26vzyhDmxeJ/zLifqfMOHenqS89W9dr/PPLUK7Rw0VLqe8RBdNThvexJKZ9XO2HeCBB53d2rIGWouAEEQAAEQKBmE6hh/xdBmE/wuLv1gyZBNUgGARAAARAAARAAARAAAVcJuPUeW9OFeRHXY4Ue3btSD5urFmc+t4X5J559jf6bv0j5Zz/5+COd1dEnn4+i78ZMsNzBSIZsC/Pn9zuJuu7ZJawta0tK6Y77nlJx0k7tT74yhPkhH31B4ydOVW5qxF2NMzzOG8mKb/4jeh9Ax/Q5xJmc0nXeCfNla8hc9S+Zq/8jWruAzHVLidYvI7OshGgT/wvyvgK8iS8CCIAACIAACFQZAY+HyFdAVLuYPHV4M/n6LchTxKsAG7YlT+MO5GmyLVGdRlXWPLcrhjCfgKhbP2gSVINkEAABEAABEAABEAABEHCVgFvvsTVdmB8/YUrMcWnbthW126Z1zHQ3hXnRS6+9+X7lc/2MU46hHuzv3RkmTPqV3v3wc+U65tnH7iAP/7itCmFe2nXT7Y9Q2abNYZMIlSHMj+RNcUfyJrId2rWhG6+9yImI7n14gPLJf8oJR1GvnvtEpKcSkQ/CvLnsTzIXTyNzyQwyl88kKl2WSheRFwRAAARAAARyi0ADFuqb70ieVl3I03p38rTYKbfal2JrIMwnAObWD5oE1SAZBEAABEAABEAABEAABFwl4NZ7bE0X5jMZFHeFeZOF+QeUMH/WaewffZ9I/+iTfvmd3n7/U9Xk5x6/iwX6qhPmxa3Ohg1ldMxRh9ARhx6g2lQZwrxYy4vVvGyKe3f/qyOGT7frkvNPo9267BiRnkpEzgrzpUvJ+G8imfMnkTlvElvCb02lW8gLAiAAAiAAAvlBgC3rPe334X/dycv/iEX7fAsQ5hOMmFs/aBJUg2QQAAEQAAEQAAEQAAEQcJWAW++xNVGYv/TCM6i4qEFG47F8+SretHQoHdJrP+q2164ZlaVvFqF//sIldOjB+7MP+cN0tHX8bMS39M1348M2PtWbp0qm55+828orJ4Zh0DU33a/irr/yfOrUsZ2VrkX0RJu/RnNlI/7ur7vlAVXWNZefSzts10Gd6zKj+Xf/5LOv6buxE8Pc8MhNuv1er5eee/xOVU68P3/NmkMvvPqOyvLUw7epzXF1/tL1G6j/3U+oy1uuv4TabtNKJ6V1zDVh3lw1l8w5Y8ic+yOZK2an1SfcBAIgAAIgAAL5SMDTbAfydDyAPJ0OZHc3HfOmCxDmEwyVWz9oElSDZBAAARAAARAAARAAARBwlYBb77E1SZjXYnrz5k3ZRU0rKiwsjDomXXbe3hLuN2/eojY7dWac8ecsKmFf626I/LrsYV98Q6N/+Inq1C6kR+67mXw+r05SIvstdz6m3MfIZMCJxx6u0mb9PZcGvPK2On/kvpuofr261j1///MfPffSm+raKcxrly8HH9idTjruCOsefXL9LQ/S1kCAognz37PAPpSFdglPPtSfObKvWA4PPfESLV6ynLrvswf1O+04FSd/ZILgyedeV77f27dtTTddd7GVNv2Pv+mVN4aoa6fQbmWynQSDQbrxtkdU2y44+2Taa49drNRx7Jbo/Y+HU716deiRe29mVz9WUlonOSPMs3saY9YoMv/+RvmQT6szuAkEQAAEQAAEqgEBEeU9OxxG3h35Pah+85zvEYT5BEPk1g+aBNUgGQRAAARAAARAAARAAARcJeDWe2xNEuZlAKb/+bey0l6xYlXM8Tj9lKMt3/IilE/5dUZE3qKi+tT7oP1p+04dItLSjZjHG78+zhvASthjt51YFD9ZifMibL/53jCrHTdecyF1aL+Nyrdy1Rq656Hn1Ln4pT/puCOVFfmMv2bTy6+9p+Llj1OYf3/oCBr302Rq3qwJ3XHzFcpvvZVZ8pcL8y14EuPCc0+h1i1DP37nzJ1Pz7LYL20SC3wpV4eBgz+g36fPpFp+P11/1fnUjkX4TTyxMXDQ+zRr9r8qm1OYLyvbRDfd8ahKu+T809n9TGddXMyjiO8iwosAf+fNV1H9+nVJNqS9/9HnSSZSxLWOuNjJNOSCMG+yIG/8NZLMBVMy7Q7uBwEQAAEQAIFqQ8DTtht5d+pDns6RKwxzqZMQ5hOMhls/aBJUg2QQIPnRsWDREuq0bTv+geUDERAAARAAARAAARDIiIBb77E1TZhPBXrJulJ65fUh1HXPLkqET+XedPNO/e0PeuPtj9XtYonegoXzZTyJIIKzhPPOOjHCdY62VJd0cQlTq5Zf5Rfhesvmrcq63CnM2y3VpZ7WrZpTk8aNVPlSjhbm5VyC+HQXMX7V6rXqupgnJu64+UqqU6e2upY/djczct2gfj0S9zISpHyxpncK85KmrfflXFYyrCvdQFdd2o9atmgmURFBRPgHH3tBrR6QSQApe8Ei9rvO7ZN23XbjFUq0j7gxxYiqFObNkkVkTvuEjOnD4EM+xXFDdhAAARAAgRpCwFeLvLudSJ5d+V9x65zsNIT5BMPi1g+aBNUguYYT2LR5M91x71Pqx4JYJd16w2U1nAi6DwIgAAIgAAIgkCkBt95jIczHHgnZZHQ5i+KXXXim5a4ldm73Uiazhf7Ir39QdetSRRjvc3gv2rvrbjrKOi5bvlK5rClZt96K67htW7rkvNPppdfeVS5k7Fb2kknc1DzPLnDEAl4HEfIfZRc6ErQw33P/bjSD3c2sLVmns/EqgfbU7/TjWchvaMXpk0+Hf0vffj9eXyq3PMcfcxi1bN6Mnn5hEG3bYRu64eoLrXQ5mcGrGF4d9IF6V9YJsTbA1emr15TQgJffohUrV+soatWyGV1z2bnUoEE9Ky6Tk6oS5s15E8n4/ePQxq6ZdAD3ggAIgAAIgEANIKA2h939ZN4kdt+c6y2E+QRD4tYPmgTVILmaE5AlxPMXLFYWQzt17hTR2//mLbT8e0riYw/cSn4/rOYjQCECBEAABEAABEAgaQJuvcdCmI+OfP7CxfT+R8Nd3dw1ek2xYzfyistly1ZSi+ZNqG7dOrEzcoppmrSMN6Rdv2EDtW0j/vNDft/j3sSJYgG/ksXt2uzXvk3rltY7qhbmtR93ybdq9RoW1tsqVzXxypV2L126QrW5ZYum8bJaaVu2bKWFbPUeNILUlC33GzUqttLinaxfv5GWLFuhXO3IxIKboSqEeeW2Zup7ZK6e52ZXUBYIgAAIgAAIVGsCnsYdyLvXmeTZ6aic6ieE+QTD4dYPmgTVILmaExg1+kf66pux1KhhEd1569URveXfSbwM+j0Sv6H7s+/PY/r0jsiDCBAAARAAARAAARBIhYBb77EQ5qNTH/TOUHYHs1lZy0fPUb1jtTAfbfPX6t3zit5VtjBv/PYhGZPfJioLuQuqaAnOQAAEQAAEQAAEEhKo04i83c4m7x6nJMxaWRkgzCcg7dYPmgTVILmaExj2+Sj68adfYgrz1bz76B4IgAAIgAAIgEAVEHDrPRbCfPTBE5/uJezLvDlbq9fEAGGeePVBmRr6wgK/8t0v/vsleDwedXTzj8FW8sakQUSBTW4Wi7JAAARAAARAoGYRqFWHvPucz9bzZ+REvyHMJxgGt37QJKgGydWcwFvvDaPfpv0JYb6ajzO6BwIgAAIgAAK5RMCt91gI87k0qrnTlpouzItroA0bQyK5XZjPiigvlvITBkKUz53HHy0BARAAARDIZwIizne/OCcs5yHMJ3iQ3PpBk6AalSxWNx9+MkL5f9xrjy7UZecdIm4b8+Mk3pxpETVp0oj6HnFwWLq8HE74+VeaMOlX5d/RNExq3ao5bdepg/J9Gc2P5Gr2BfnNd+No1ux/aV3perVBU/t2bejIw3pR4yh+Gz8b8S1bBq2jQw/uQU2bNOa6ptKkyb/TGt5caZ9uu9MJxx4e1qZ0LmRzp+9++ImWsN9JCdts05K67bUb7bHbTvTBx8NV3Ckn9FH+2tUF//li5Ghas7aEfUe2oEMP6aGjreOs2XNp0i+/qeszTz3O8o1pZeCTVFnIeH317Vj6a+Y/JJtLid/Ntm1a0q67dKZ9995DWcrIeCxYuISmz5jJL+5lypJmty6drWr3796VtuvYXl1rth07tCPZRMsZZHyn/vYHjftpMi1bsZICgSA1LG7AXHamA3vuQ/Xr1XXeovza//DjRDVWfY44SG1+JRz+5DaL33vZJKzrnl3U8xFxMyJAAARAAARAAATymoBb77EQ5vP6Mcha4/vf/QRt2rSZzj/7JNqty45ZqydXCw4GDSrj/otxfEGtCot5t4V58SlvjH8J7mty9UFAu0AABEAABPKTALu18fW4vMp9zkOYT/D4uPWDJkE1KnktC973PTxAnYu43OfwgyJue+zpV2kpb17UuHFDuuPmK610EW2ff/kt+pc3EY0W/H4/XXlJPxLRXYfFS5bRUwPeIMMwdJR1lGWYF557Kjk3Kr35jkdZEA7QaScfTZOnTqM5c+db9/TYryuddNyR1nU6JzJJ8OWoMVFvbVhcRMJIwj23XUNFRQ2sfHfe95QSvrfhjaz+d/UFVrw+EdFbJjUkPHzfTVRYEL7ZVaos1q/fQA898ZL6MaLrsB9lfG64+kJ64dV3SMqOFYSXcJOg2e680/Z0EbO3Bx5eentIyOreHq/P6/FmXzddfwkVNaivo9RxzLhJ9Nnwb9Wkwakn9qF33v8s6njLRMJpJ/UNuxcXIAACIAACIAAC+U3ArfdYCPP5/Ryg9dkhsHVrgDbzhrRer4c3u/VZrmzcFObNeRPJ+PF5MtfMy04nUCoIgAAIgAAI1GACakPYnleRp/2+VUYBwnwC9G79oElQjUrORJj/Zco0GvLRF6qc1q1a0AE99qbGDYtp9tz/2Pp8AtVha+7bb7mSahcWqjyr2Fr6URb5RWQXEb7vkQdT221a0fIVq+iLEaP5JXMLW5X76YG7/kcFBbWs5mvxWIRtySP3iiV7MYvkYuG/bYe2Vt5UT6b8OoPe/eAzdZuUuwsL1DIxsGLlavbPPlm1VZfppjCfDgsRyX/9/U/VnN133UlZncvFNLaMnzx1Ou24Qye65ILTlV95af/En39T7Rem3ffZQ3eDuvLKCD1ZotlGE+Y/GDrCsviXDWQP6LGP+hEwe848+oNXGEiQiYsbrr2IRKTXQQvz+lqO23Vqr9onFvMT2aJfh3tuvzZC2NdpOIIACIAACIAACOQfAbfeYyHM59/Yo8XZJyDW8mI17/d51O8m+f0iorxbwrxZsoiMMU+TOS9kXJT9HqEGEAABEAABEKh5BDztu5O31/XkKW5dJZ2HMJ8Au1s/aBJUo5IzEebfeu8T9mH+lyrnXhZYG9gsp8W6ewtbc4gVtw73PPiscl0jQvFtN12uRF2dtmbtOrr/kZDlvri0Obx3T51kWXVLhAjEN157cZhLGStjiifiRuaBx16w7rrq0nOo47YVIv+GDRvp5deH0KLFS1UeN4X5dFhoC30Rw+/qf7XVbjlZtnwlNWQ2dqv8h9m6XgR6YXbnreH59c2xhHlxFaRd+MiKgCsv7RdW9ndjJtDwL79TxXTq2I5XRpytiyS7MC8/Fi694AzafrsOVvqIr7+n0d//pK7POOUY2rvrblYaTkAABEAABEAABPKbgFvvsRDm8/s5QOvdJ2Cwy9CNZSH/8gW1wq3l3RLmjR8HkMG+5RFAAARAAARAAASyS8C752nkZcv5qggQ5hNQd+sHTYJqVHImwvwnn31N4yZMVuXcyFbTYjUfK4j7mRdefVsln8ruS7qzGxNn0EK/iOMikuugxWO5vuV/l1KL5k11UkZHcV8jbmwkHHnYgTwZcEBEeXYR2S1hPl0WDz3+ovLRLn7l72a3OnYRPqLhHJGJMP/Es69Z7nBiMZeJFJlQkWC3fLcL887JDskrkwiPPvWKnMbkrhLxBwRAAARAAARAIO8IuPUeC2E+74YeDc4yAXFhI65s2IuN2rtKDGDctJg3Z42i4LcPExmBLPcExYMACIAACIAACJCvFvl69ydP58MqHQaE+QTI3fpBk6AalZyJMD/nXxbbXwmJ7VLYIb32o14H7EsN6teLqHrk1z/Qt9+PV/Ei4tatUzsij1hhf/XNWOXaRPLooIV5p2Cv09M9PvvCYLWprdx/+01XqM1tnWVlQ5hPl4X9PhHnj+nTm/bea1e1jNXZbrlOV5iXvQNu6P+QKlImW2TSJVqwC/DnnHmici8k+ezxt95wGTVv1iTsdtnAtv/dj6u4nvt1oxOPOyIsHRcgAAIgAAIgAAL5S8Ct91gI8/n7DKDl7hPQm75KybX8IUFeC/MSl7HFfOlSFuUfIXPhFCkOAQRAAARAAARAoBIIeNp2I9+h/YnqN6+E2iqqgDBfwSLqmVs/aKIW7ojMRJiXokaNHsdievjGqbvu0pkOPbiH8h+vqxM/7uLPPZkgL5lPPMQPZnnQwnw0P+g6TzpH2fRW+u+sz15WNoT5dFmIa6A33x1Kf82aYzVR2t6je1fqfdB+YRvTSoZ0hfnS0vV0N7sdkrDHbjvTOWeeoM6df/6a9Q8NHPSBij6u76FqUkYuEgnzsvHvjbexNQ4HNzbvVQXhDwiAAAiAAAiAQE4QcOs9FsJ8TgwnGpEjBDaWbSZ5h2Z38hGbvmYsynMfjclvkTFhYI70Fs0AARAAARAAgZpDwLvfpeTt1q9SOwxhPgFut37QJKhGJWcqzEsh8xcspq+/HRsmGEu83Vf8oLc/pul/zJLomBbeKpH/NKhfN8wneraEefEvL37mi9g3vt1CX7dDjtkQ5jNhIW2SDWDFBc/SZSvkUgUR6C889xTeuHY7HZW2MC8b0z7IbnMkdN9nTzr1xD5WmfaTuf8uoOdfeUtF2ccawrydEs5BAARAAARAoGYRcOs9FsJ8zXpu0NvYBDbxatNAIKgyyKavPl/Iv7wI8vpf7LsTp5gr55Dx9T1krv4vcWbkAAEQAAEQAAEQcJWAp0lH8h5xN8mxsgKE+QSk3fpBk6AalWwX5sUVzdFHHRJx22NPv6pEYNnI9Y6br4xI1xFS1phxP9OYHyfpKLr4/NOUWDzs81H040+/qPj77rye6tera+VJdJItYf6Z5wfR/IWLM7aYb9O6Jd1wzYUR3fhsxLcWi4fvu8nyCZ8JC3slCxYuURMif878x4p++F6up7BAXadrMR8IBNSGu1KIbNp6+UVnWeXbT36ZMo2GfPSFijrt5KNp3267q3MI83ZKOAcBEAABEACBmkXArfdYCPM167lBb6MTcIryYoyj/2lLeX2MXkLiWGPSG2T8PChxRuQAARAAARAAARDICgHvvheSd5/zslJ2tEIhzEejYotz6weNrciYp2Vlm+j2e59U6SKsisDqDFrgTSTM6/tEMH76+TfU5d5dd6MzTjmGJvz8K330yUgVd+apx1I39o2ebMiWMP/O+5/S1N/+UM24+fpLqGWLZhFNimcxrzc/bVhcRHf1vzriXrsAbxfmM2ERUQlHjP7hJxrx1fcqqd8Zx9Neu++izvW4xWqfZIrF9rZ7nqBNmzar1Q0P3P0/KqhVS5Vp/6M365W4a684j9q3a6OSIczbKeEcBEAABEAABGoWAbfeYyHM16znBr0NJyA+5WWzV3FfI8HnJUuQF2FeW8pnKsqb65aSMaI/mSsrDH3CW4IrEAABEAABEACBbBPwNNuBfH15r8cGLbJdlSofwnwCzG79oElQjZX8v1sfVOfNmjam/jdebsXLybffjaeRo35QcU5hXtzA+P2+CN/msnnoLXc+xksuA9SpYzu68pKzyT4BIBuX3n3bNZYFuSo8zp9Y4nGcW5JK+mnSVPp42Jcqr/jFP//sk8Puk01Kn+fNbRctXqri7+E2FxU1sPIMeOlN+nfeQnX9wF3/o7p161hp/8yZRy+//p71Mm0X5tNlIRMerVo2i3AFtHjJMnri2ddU3X2PPJj9ze+vzp97cTD9N3+ROn/kvpupoCBSXI/FdtgXvMJhfGiFw5GHHUiH9z7A6pucrFi5WrnKkfP6vNnvfXdcJ6cqQJjXJHAEARAAARAAgZpHwK33WAjzNe/ZQY/Z17th0lb+DbV1a0DhYJfyLMhXiPIixNuF+UyZGdOHkfHDU5kWg/tBAARAAARAAAQyJOA9+Ebydjkuw1KSux3CfAJObv2gSVCNlawtqyVCXNn03L8brWThdfzEqTSBxWsd7ML85i1b6MHHXqSNG8vomD6H0D5dd6c6dWqzZccWGsvubL4cFdoQ9ljeFPSgA/ZVRdgFW7HiPvesEy0raxHBx02YTH//8y9dduFZamMjXW8s8Vinp3sUS5R7HnyGNnAfJOzH/tSPOryX6of4Txc3LeKeRwenMG+3iN95x+3oDF4JsHXrVvp9+l/02fBv9W3qaBfmJSJVFouXLGfxfSDVY/H/dF6BsOMOHZV/yXW8UesHHw+3/PvfeO3F1LpVaDdnab+4m5Fw2CE9LcFeJkz0JEIstuvXb6DHnhlIcpQg4nyvnvtSLbacn/PvPLXpq5Qj4aJzTyXZmFcHe99uveEyat6siU5SR2z+GoYDFyAAAiAAAiBQrQi49R4LYb5aPRboTAwCYtAkYry8HweCQZLfJzp4PCZ5bUK82y5spJ7g8FvJ/He8rhJHEAABEAABEACBKiLg6diTreYfrpTaIcwnwOzWD5oE1VjJdl/hVmT5iQjB27RpRbNmzyW7MC/C9YsD37EswiW75NUit74WFzENeHNVHUaNHkdffRMS7SVOXjBr+f1K0Nd5zut3Eu3WZUd9GdPdipUhg5NpM2bS4HeGJlWCU5hfs6aE7n/0+Zj3imugSZN/V+lOYV4iU2Hx/diJ9MXI0WF1OXl33LYtXXXpOVYesZYXq3lnkImXE489QkXHEuYlUSYlZH8BcWkTK9hd5+g8EOY1CRxBAARAAARAoOYRcOs9Nl+E+aIG9WreIKPHWSYggnzod5LdQl5bykvlmbqwkTLMpX9ScOiVbKYfMraROAQQAAEQAAEQAIEqIuArIN9Jz5OnxU5ZbwCE+QSI3fpBk6AaK5kNNdhdzfc0+vufrDg5EaH33DNPpCnsh/1z3sjULsxL+voNG1X8b9P+Um5rJE6H9m3b0IXnnRp1k1fZHParb8aGifFyn7i4OeLQA6hH927KRY4uK554rPNkchQB+/XBH4RNKsiLb6+e+6g2aet/pzAvdU7/Yxa9+e4nYRMUTZs0IvGjX1BQoKzcJV80YV7iU2EhVvNDP/3Scp8j90uQtu7NPvtPObEvn8uC14owavSPinVFDJGMzbVXnqeiErFdtWoNvT3kU7VJrr0MmRQ4gcX9vfYI+bO3pyUS5sUy6Ib+7DuLw4HM+PijD7PfjnMQAAEQAAEQAIE8JuDWeyyE+Tx+CND0NAiYasWwvMmL6G4X5O3nUrAboryUY0wdQsb4F+U074Jnm73I07Cdarcx49O8a3/eN7hWHfJ2Dhl6mStmkbnsr7zvEjoAAjWZgKdRe/K02VMhMP7jVVTrV9RkHFXad2/PK8m75+lZbwOE+QSI3fpBk6CaiGTxfb5o8TLysLjbvm3rCF/mETfYIsR6fOnylcpqvk3rluxmhZ0hxgmyZHPpsuVUsm49+X0+5TtdfJVXZVi3rpQWLFpKxexHvk3rFuqlV/zri599CdGEeYkXly5Llq5QExXttmlF9erVleikQ6osJP+y5Stozdp1JJMAzZo24bbGrk7Gdf7CxWppbMPiBsxa+hY7f7QUsZ5fxuMry2yLi4rUeLn1oyBafYgDARAAARAAARDITwJuvcfmizDftHGRej8SwwP5hwACqRLQ79RyjPdPytV5U60jWv7gyNvJnDM2WlLOx/nOfJM8TTqqdgae78Xm/xUugHK+8dWggZ5m25Pv9DdUT8z5P1PwsxuqQa/QBRBwn4CnZRfy9r6Vv6OCZHzzAJkrZrtfiQsl2sVg4/vHyZjxuQul5ncRnuY7kmf7Q9TYmUv/YLdvbMhcCf/XeDr1Il+fB7IOD8J8AsRu/aBJUE21SF7NEwLiZifV0H3vPZMSp0d8XbGSIJYwn2rdyA8CIAACIAACIAAC1ZWAW++x+SLMN2tSrAR5LcrrY3UdX/TLXQJaaLcf7eK81GZPc632jWso8MFFbBW53LUi7QV52u1Dvt63qCjjnx/I+HGAPTl07qtF/rPf4w56yVz4KwVZtIoWlAhfWJ/MJdMp+NU9KguE+WikKi8OwnzlsUZN+U3Ad9Y75GncXnXCXDqDgh9dnpMdgjBfMSzeA68h764nsmsKX0WknG3ZQMEv7yKZjMxqaNCC/KcNJKrTKKvVQJhPgNetHzQJqqkWyVN//4PeYVcrqYYnH77NesmNdy+E+Xh0kAYCIAACIAACIAAC4QTceo/NF2G+RbNGYcJ8OA1cgUBiAlp4l5xalNfn9qOcuxXMhVMoOOw6t4qLKMdTvA35zhkSimeXCIFBLHI4gmeHQ8l3xN2h2OBWCrzIlonOUKch+S/6QsUqn/gfXarOq0qY9/V7lzy1i8n4/UMyfnnL2dpqc52onxDmq81QoyNZJuA75WXytAy5/zUXTuXv3WuzXGN6xUOYZ25eP/lOftHh311WQtrcTfCeLIE3TiAqW5se6CTv8p3wLInLtmwGCPMJ6Lr1gyZBNdUiWSzmp/42I6W++Hmz2YMO2DepeyDMJ4UJmUAABEAABEAABEBAEXDrPTZfhPmWzRurfsNSHh+AdAk4hXl7OfY0e3ym58a0oWSMeSbTYuLe77/yeyV0kBGkwAsHReT19X2IPB0PsOKD7/Qjc80861pOvDsdRd5Db1Nxdp/4VSXM+68ey23xkPHXl2R8G9ozSzWumv1J1E8I89VswNGdrBHwFLUi7/6XsQsUk4LjX8hZ3+0Q5vkR8Ncm/3kfs6U6r4QsWUiGWMez6yHPDoeR70CeUOF4CeasURQcdb86z9Yfb6/rybtb5IS2m/VBmE9A060fNAmqQXISBCDMJwEJWUAABEAABEAABECgnIBb77H5Isy3atEEYw8CrhLIlhhvb6Qx9hm2+h5qj3L9XCzmxXJeQvCt01joWBxWh/+iz8OW6htT3iHjp1fC8vgOv5M8nQ9XccFPriZz0W/qvEqEeXa5479qjKq/WgvzSfQTwnzYY4oLEMh7AhDmy4dQNrbmjVeNnweFjaln+97kO/IeFWeu/o+C754dlu72hXf3k8krkwFZDBDmE8B16wdNgmqQnASBv2bNoV+mTFP+6E876WgqKKiVxF3IAgIgAAIgAAIgAAI1k4Bb77H5Isy3btk0bKBhOR+GAxcxCFSG+B6jahUdHH4rb2Q3Pl6WjNN8R9zDloa9VTnG2Gd5IoAtEXUQy8TLvwldyWZ64md+5T8UHHK+zqGOFf6ZTQo8f5C18V6YMD+gwure07iDckMgAr65bklYWTEv2DWNp203osAm9nU/lWhrWfSs4vdXrCk5ZCrMe4pbk6fNnmSuXcC+83n1dyobCvoKeEPCg4lWzyNz+czItrJVp6f1HkScz1zAvpDLSiLzxItJop9hwvy8SRT8/MZQibxvgKfjgUSbS3kS5Veekdkar6bye7g/rbqQp6g1mYt/V0wS35Q4h6dpJ6JGHXiDY55MYfcTEYHdJHm37UFqU0cW2rIaZExa7MwTUQ15TCYnZzWd6Thm0qG6jcnTfl8y//sp+vMj49zpILVHhez9kNLz62wXP2+yQSr5/ETLZ5GInimHek3Iy/tamCv+5u+ROcndzt85nmY7kKfpdqpOc9mfKfcjre+bZFonz2aH/chcNZc/47OSuYOIx8wrY7ZlY+gZY3/oqYQwYf67x8j4I+RCTJ7ZlNtS2CD0ma7XlPvwb+h7KtpnMJUGppJXPw9R/h+QFQwkroX4u0n5io/1fe+szzZhaa5bSsE3T3HmcPXas21P8h39sKtlOguDMO8k4rh26weNo1hcggAIgAAIgAAIgAAIgEBWCbj1HpuvwnxW4aJwEHCJQHDIBSxgzXaptOjFeNgNja/cDY2Io8GRd1gZ7S5qzAW/sDC+txJKnH7mlXjPIr6Iy4HXjrbuDxPmn+/Floz3kmfb/ZUYbWXatI6CH18R4R5H0j1NOpL3kFtYmNue7wk3vBKxXG3QuCkkaHs6skBy5H3sV8enJhCs8kl8D4dC8K0zlesDfR3t6OnUi0T88tRvHirLlsn853u1qaAtSp36Tn2VBd0deazmUpA36/WdNKDcX7VHpYu/ajWZIFcsRvmOfZKFRhak7WHrJgp+fU/CiZhU+hkmzM/9UU26+A7j8a0vE5WhtkkTjOmfkvHDk/bWhJ37+jzIQn7PcK7s+sj4dUjE6omwG20X3u4Xk3dvtl4Nsu9n3qdACYy7Hq/cUoSymTw2iyj4Pm92zGKl6udBPJHAvKzAkzLBz27giYFpVpSchJ7T/irOmPha1H0F/Bd+xqJoIy67jAKvHBF2v4yF96gHyNNwm7B4EQWNP4eH3Ek5J2VSHEfFsFNocir4Jq9McU5I8QSN/4pvVf3mkj/4M1Gx+ah8DnxnDlZpwaFXK3HXd/ANRDxZZQX+7AW/YpcePGnlKWpJ3mMeL9/MVI+zSca4F3nM3rduSeZEJsPUM2MfB7mRhWVjwitkTPskopiw9vIeGTKh4+3aj4itnK3APNXE2ehHrCjnidzj3ff88O8L/jzLhJ48B84JJetzyCKzTB76jrqPPCycy+SXFWJ831jPJ2cMfvswmewGSwcrTT+70q6uZxHxZtdW4M+DbIxt/h0aQyu+/MTb7WzydjuHGfD3ZFio+H6SaHMmu1+JscG2pNuF+eDX3L8Gzcvb0kCSQyFBW2RywHecfAdtp++w7lPuX6K4/8r0M+a/jCd4axWq7yBz+mdc/xNEDVqG6uVnIcD/P0hQe5ocfBNRQd1Qmv67eT0/v8/z53GEjol6lO9vX5/QBuXO/8+i3pBhpP07NsOiYt4OYT4mmlCCWz9oElSDZBAAARAAARAAARAAARBwlYBb77EQ5l0dFhQGAmEE1GasvClrVgNbTfovGamqEDc24s5GB98xj5ESttiy2pj0hrVkP/g+TxiwT18VCuqR/9Kv1Klz00S7ME8bVytBMXST4y+LfE6x1HvwjeTtcpwjo+OSRbbAwL4q0j6J4MhlXQbfZmGeBf1YwXfW2yxmdoiVrOLFelOJgrZcVj+5j2Kl6WnJVtdWsK0iEFbnfsiCapGV6jwxfhxAxm+cJ0ZIpZ9hopFY5iqxSwu14RXEqtd30vNs2b97eGbblWm3xLfFO0/tgqKsPhCxNlqQNBHUvD2v4OQobZW9EF5mt0nBLdbt3r3PIRFPJRi/vEkizjuD/xIWWkVIdW5gzJbG/vNZXHZM/NjvjxjzNMbRvrlo8K0zSHxjhwUlzI9WUfLZks+YDvZxVL60ZaIqWuDPUXD4LSx6PhWzP8FPrw9Zake73xEn4+478bnwCRlHHmPM0xHivL29ssJFfILHCkpkZ/dXzqCE7P0ucUZXXMsk4OvHhlnPW59DqXNTKU9ANavIbz+L9n3Dk3HiGkWC8f3jZMxgF17lIezZlYmPOJt9ioW2fAfYg5eFZm8XbqsOikkhX0U+3+Y/P/Dk3506Z8TR3pa436l8Z7S2kHzfn/sBfxZsQr6jFlmBEfzilrDYjD5jXJL/iu/UMymfJbXywi68b1ipNmqV/2vk/5x4wfj+SR6bT6NnEWt5cb1WPmGVyrMevcAkYnkC13/+0CQypp8FwnwCdm79oElQDZJBAARAAARAAARAAARAwFUCbr3HQph3dVhQGAiEEQi81Jtdt1QIkGGJLl6ErBlZPHOIlv6LhyuRQ9ydBL++l/wXhAQREY5FyJVgt1AU8d7u89cSynRbWUw1/hrJVqWjlTjj3Y/FVBZTJIj1p/k3W1WWB0uAZiFWrFANFmvFjYWXN/jzimBXLqQa2p0Di3Be3qRWXJF4dgxZRJviRmY6i64S2BWCWOjGC76jHyEPu01R1sDTh4VchGxcQ57dT+IN/k4qv5WF9jdOINqwyioqop9sASqCtVh3etjViRL5uL3+c1gQKxcLlaAtlqlla8nL7fUecjObw/pDYyDCcyyXEin0M0wg1a1f9heZ7P5CrNPFN7JYN6vAkwqB18MnQkJW3uzyhoOIjcbI29SEjKfFTiygPW5tshj86FJ2NcMuRuKEMEFR8gmjmV+TMfMr5aLI240tqh1CpTx3sseCh0U8ETetMZ/KlvrjX7Rqy0Q0tE8AiXsW2SzYZEYiSnt782oNdqkRePPUCrc2aY6jW8K87rRMgim3UzzZ4ONJrDCrcMlUyuPFnMy1C8nH/SBZAcJB3K4E3ztXncf742nemXynvMLPJK9A4SCCqjHpdSV4e/Y8lYVmXu1QHpSlOI+lDlGfuzljeWXGMLUaQvxy6z0p5B77vhRy7d3lmNDnQS5klcS3j5CsVlGrTY66v3w1Cn9EHM9BxOcwle+bJIV5aRLT4MkjXoEyk79PfIXkk89uudBs8sqU4IjbQtn4r6dhW/Kd/V7oWvoy9KqQ2xue3BG+nsbtVZrs22Eu5UkpWUlRusy633kS8TlKoS2yYsF/zvsVE6RcT5D3MZHn3budrGLhyTD5DuLg3Dg1k8+YlKeFeTlXgVcIGbO+5ufqF/VdJy7bfGfzfiflq1bkuyHIKzLU9+MOh4YmhdlqPjD4ZF1CxFFcyohrGQmywiv46f8i8rge4S9kd2/RV0m4VReE+QQk3fpBk6AaJIMACIAACIAACIAACICAqwTceo+FMO/qsKAwEKggwMKschljmhVxWTrznf5GyF0Mlx947RglhpDNEl5EUBHBtIBv31TPLmyGWdJzWWFCGQvZAbECFsv58uBldxxa4FNCjMOFg7iy0GKevkeO3t1OJG+v61WU+B4PfnSZlexh4d53xF3qOmUf89xnL7tXMaa8a5WnT3zHP60EZLk2Jg5ky+y3dFJ4P1lwDn7IQrXDr7y45PHucrS6RyYmxG2NPdg3LTR+Gcx1sAgaJyTTT6dA6my3iHBKVFLiK084DAiJ8FKtWAX7TnjNYTotAABAAElEQVQ21AJetaFWb9jbw1apyjqVJ1bEv7a48IkXwgRFngAKfnKNEiL1PXZRTeL0M6fTvTsfrYRyuZZJAJkM0CET0dB3xmDLrVCQN4qM8J0ublDs1vlpjqN7wnykSxqZiFLuZsqBRKxikFUBYkksEx8sDgdeOkyji3n0n/eR5WrEKdLKTWHiuWNCL+y5Y3bK/VD5htC6Qu+h/dkFUR91Kf7mg0POCyXZn0lZHTGYJ8Rsk2CSSU0QimsdLjvwIk9elodMvm/sz2c8i3mZvJS9GizXVFy3WlnAK0tU4AmRwOBTylvEnHpcQd69zlDXwa/uIXP2aCtNfcfKaiX5DPFKEbv7oopM4Wf2dqbaFnFZJq7LVJB2sksl+74DahKh3zuqPZJHxkTvBZDJZ0zKChPmZaWTCOwOv/FWHsfzJPerCVyZxI0xYSnf296DblBZZe+MwOs8cWT73IYSsvDX4+HNxsdmoeCKIiHMV7CIeubWD5qohSMSBEAABEAABEAABEAABLJEwK33WAjzWRogFAsClSjMew/6HwvSbAXOQSyGRdAWwVyEcwmBN1jkYHHMEhelbS8crNIsUd/mJ1gl8B+7UKYmGVhwsQdlec3+2SXEcmlhz2+di3h3JVvQSmCrT7sVZTKCdejG1P5aFvx8m1OotPdT3CyIuwVnUO5+WPhXqxJeOjRMENN5rYkP3nhU3DDEC8n00y6Qymam0cqs2LiXx/lVFkpZ1JIgorx22eGccNHtsp4HEcLk3jjBLihGdX+yfW/eI+AeVYLTJZKKZFHOf9WYUA2OMc9ENJRJHGEpIdqESajCir/pjqPFiovKyJVNjHH0X/1jqJFiVfxqufha0eyQMF+nEceET8DYslSc8qoM5d5HYuSzrlwHhX92JckSyPlcVtRo/+phz10U109yr3KpcskIPuHJApsQ6939FLaOvkZlEX/4xrgX1Ln9j3281SSDuIbhYP8cpvp9E/Z8xnFlE+3ZlbrV95FYmzvc5PjOGGT5cld+1Pl70h5Cex80jtifw57Hfh7WzihuhCRvrLb4L+VVDeWW/c5VCroOn6xI2O4gdWnyKofgyNvVuZ15yu6iuARLdOfzsD03VOmhP8olTPnKjohJDFu+iFNZxSJ9k1VUMjH6Tj9eKbIgIlu2IqzPXpYqgDCfAKxbP2gSVINkEAABEAABEAABEAABEHCVgFvvsRDmXR0WFAYCYQQqy5WNp/2+vCHpE6pubbmuNgdstw9bNbKF7csh4dIuzgQ/uFhZhVtCZRSr6jChTDb3c4hSIXGOLUY5OP1qq0j9hy1+vZ0PJ2mn2rBQ/COLCCOBfacHXjkydM5/kxGsrcxxTsTXvGxEKJtfiiWp8k8uFpscnMJxWD/FgtdpqWkXlcvWsPuI56LW7GNrbNkcUvyPi3gbLyTTz2QEUrsPebvFuCUYspArboaiBfEDrlzhRJmUceYPExQdwqfk9TTfkXynDVS3xXJD4b/yBzZB9rE7FfYvPjC0+kBusD+XqYqG9skhVTlb8xq/fcCrJtj9iNM6N4NxdE2YjyF0W2JsjEkScaeinmPuZGDAAaqrsf6Imxnf4XeqZHPJdLbkZhcnUYII6CKkSxB3TWJpLiGZ507yaVdZcq7b5Ov7EHnYJZUEWeEh+144g6fNHjxxGHK7ZBeYwz6HKX7fxHs+46Xptlmit22SQdJ8x/ImvO27q2zR9gzR95lr5rOgfJYuLuYx7bbYn122VFeTLVFqUS6MTntNpdi/hzL5jElhljAfY+JI8tj7Jtfmmnlq5ZByYyQRMYK45BL3SBKMaUNDmzXHyJuNaAjzGVIdM7Z8VjHNctz6QZNm9bgNBEAABEAABEAABEAABNIi4NZ7LIT5tPDjJhBIikA0ISepG1PNZLNA1z6otTArfo+DH10eKrFBC/Kf97E6V/6df3rZsmI2/5tAwS/Y17ItJBTK4mx4KcWIOO497A4WbXeQK1vJtlOHhWoygrXt7ohTz3YHk++Aqyyf3BEZOEL53GdXLDok6qf4KffJpq/JBhbvA68dGzd3Mv1MRiD1Hf8MTz50VXWFCfOXf8NqGu87kGTQwmqs7HbRzekqRO4RgV84SogtzPMqCbFKdlGYl/qUWxbx014+8SJxIsori2Fxr1S+0iOTccy6MF++uaZy4xFl9YJ9Y+OEY9X9Qp7sOC+EgVfPyCqaaCHMvZBtwiCZ507K853DPsWLt1FFB9mPv/hX9/EKGpksSTbY/dsn+hyKH37/FaNV0c6JwHjPZ7w03c5Ymwt7d+5L3t63huqcN5Hd4Nykb1F+9vUEiPH7R2TEmLCzbuCTdNviKW7NvD8ItYP3i5CNYaMG2/8FZN9cO5MNlrkiS5i3lRmtfuFh339A5eHJV/X/DW/sHC34eCJBJhRk4let5HJOAEe7ycU4CPMZwoQwnyFA3A4CIAACIAACIAACIJCXBCDM5+WwodE1jEBwyAXs43d2pfTaf/EI3ui1KOSKgV1h+K/6gev1sMXia+xPvUIQsdytsF9xY+yz5Dv5RdU+2QxWNoW1h0yEMhHsfGe9VWEZz1bo5r8/hTZVnT8ptJGqWM27KMzbLYVVP8pKyOBNJ8UNDLFY7jvpBRWdsjBv3wBSRCO2Go0XzJX/KHcP8fJkXZi3ub0QgS5uECthcXcUJyQSFKtSmFfNZvctvgOuIWWtXb7hqYpnC3SZmBLr3bCNPFMcx/wS5i9WqxCk/8afw8kY/ahC4fwj/srFb7kEu6ukZIV55S6nfDNky12Wbb8L9TlJILIGR/Qnc/E01YZMvm/iPZ/x0lTF/CeWMK/2cbjgE94oWdwIMSfeE8Pkjaw9jbdlf++y0ocnHLmPwbfPUitlVKY4f9Jti/3ZlVUIwbfYv3y0YLest62+cM1iPoEwL03ytNqVvAdczRM0O8qV1Upzxd+hSWLHiiRrNYitvdZNlXACYT5DyBDmMwSI20EABEAABEAABEAABPKSAIT5vBw2NLqGEQgOv5XF6PGV0mvfiQNIXERIkM0axZWNOmfLSpMtLHWwBEZ2cWNMfZe8+15Yni9k8arzyTETocxykcPlRLMmtSwwXRLmPY3ak6/f21xbuVD25V1KQJN+SPA07USyUaiEVIV5scS2/KOvX84bqZ6kysnkT9aF+YuGs5hYLL2lwPMHKfEwk/YmEhRdE+Z5416DV3I4Q0zh1JmRLYa9Xc8MWYyXu0uy3LlkMI7W54brs69MsKqPY82djNBtfR5iiJMpWcyz4O7VgvuiX9VGvVY7bSf2jU2NP0ewgP+ISk2mvZLRb1uVoa34fcc8Sp4O+6tylOg+d5w6T+ZPJt838Z7PeGm6XfGeL/vGzjq/deRJreDQK8lc9pcVFe8k7bbYn13Hd6a9vrDvOV7BICsZJIQJ82l8xqznMwlh3moPuzDziUDfWVyphQR6+Ww7N+f27nEqeVruwpPY/5AxWb7DKzdAmM+QN4T5DAHidhAAARAAARAAARAAgbwkAGE+L4cNja5hBIyxz7AoPbRSeu3d9wLy7nO+qkt8qKuNP3lTRbW5oq0FdoFGNmxVYr5tM1hb1rSFebvLEKfLCV2+JfQ4RCbxC+874u5QP2Z/R8GvQuf6vlhH6bswkGD88pbyb23PGyZYOcTKhIIgF6RXGiih+w3eaJc3080kJNPPZATSWK5s7EKy3hA4k/YmEhQzEuZtGxU7N+bVbbb4O3yA6/SIY+1iUu6cxHredo9VjkxYpDCO1p4NXFHUCbd6TUKbqXK685lPZhytz4MLwrzd7Ynsl6C+A6JYrot7JvmsShBRXsR5Ccm0V75fZINhFWx+x8O+X/77id1j8b4LSYaEn8M4kx/xns94abppMYV5cQ0jExB8NJf+ScQTc9RsO960ejmZ7P5HNtqmjat1MQmPmbTFPhESa0Nncbsj7nck2N2T2TcDT+czZj2fqQjz5TQ8HfYj3zGPhdq0ai4F3zu3PCU3DhDmMxwHCPMZAsTtIAACIAACIAACIAACeUkAwnxeDhsaXcMIVOZGdnYxTVwriJW3WHEGP7wknLrNz7yVz2ZZac+crlAWJsSsmE0iItlDyAJVBHe2onQK8+wGQbvXieuywV4gn/vEl/2OR6jYaMK8lzdm9e4S2nA0ZYt5Kf/Ie8mz/SGqfKfwqiJT/CPuHhL10z6mIgLKSghniCXMezr1Il8f9q8uQSZoBh6jjqGI1P8mEhQzEeY9rXdnN0PPhxpVupQCg8P9Z/tOfondY3QJpdtEdolQE0ss2AofZ7DcO4kIP+BAlZzuOHrZh73esNRkMTZo99vOKxP8/d4LuZLiWpzPRzLjaAmfLgjz0lH/BcOI6jVVfTZ+/1i5rVIX5X/E5Y9s1BrKEKCAbHpcLt6HtVfcMg0JTfhZ9/N3i/g79xS1VFFhQi/va+C/fBTHhyyklRsh3ucimZDu942UHe/5jJem2xVLmLf74Q+I738en0xCJm0Je3ZXz+OVG/3CmyKTQ7KHCE8iSAh+dGloMoHPM/mMSVnW8xlHmBdW5sLJYSu05F6SSbKLeQUPB1m95fSPrzYD5k2Ijb9GVtoKM9WY8j8Q5u000jiHMJ8GNNwCAiAAAiAAAiAAAiCQ9wQgzOf9EKIDNYCAuXAK+xq/rtJ6qtytsGimg/HLYLYcf11fWscKq+FQlMl+2IPs+sUZ0hbKCuqRcmWjCjQp+PX9ZM4ezRuEbkve7heTZ9seFVU5hHmqVYet00XYk2CSMf4lMn5lEVBcHbBffLEAjha8u59M3gOvDSXxZoOyka25ZAZvjNqNvL2uU/7F9X3pCPNKXOLNLqmwgSpGJg2Mr9hdjrSJmXva7c3i4FVqokEEsYQhiX6GCaQpCvNSf5igza6LgmwVLWMtAqzamJfbKxt1Bl4/jk2mA3GbnEhQzESYD43511x/SMw1ZnzOLi3eIm/bvcmz1xnkadSuom12YZ5dZSg/5+yyxlwwhV3gvBQaDxYCvV3PIi/fK8Fcu5B9gIfO0x1HtanwUfeF2sH8jDFPq/0SZDLIu+fpRPzM65ALwryyaD/+afVsSruUeC4ugvg58O5+UvnqknLevNeEiPc62J87Fcf7MwTHPKtEU/EbLm5ytKW9+JEPDD6Zn/sN+nZeuXOe5SJLnjUZS2Pq+6E8dRuTt9s5yqo7OOyaMBcwaX/fcM3xns94abrRMYV5drMi/tIlmPMmkfHDk2SWLtO3qc9SxUXis0zaEnp2mWNhfVWRbPQtq2HMlXNITbQcdhsr6LVDadzW4Oc3VjRIfd+k8RkrLyGRMG9Nxsp4Tx+mNnsl5iQuxryH3srf311UScaMz8j4/omKdvH3qf8SWalRPpHD1vTSr8oMEOYzpA1hPkOAuB0EQAAEQAAEQAAEQCAvCUCYz8thQ6NrGoGNayjw4UXK7UFldN2+GaPUF3z7TBYlF0RU7TuFLZDLhRJJNL57jIw/vojMd+abLKZ3VPGB53tFilBxXEv4+r0bLqg6SxchWCw7ncI85/Od9Q4Lx+2dd8Rsp8ookwEXcR/K/YpH3hzk+mTSwpO6j3ldGIuK/rNZnC+oq2P4aKoybRFqhYCIs4lCon7aBdJULeZ13T77Zpw60tFmY8o7LGq/YqVGO0kkKGYkzHOFdsv/iPpl42C2tFUCvU2YV2L5kfdY4rO6j4VBmSipCDwx9NW9amLIiktzHC3x1iqo4kS1T3z6swCaC8K8tCwklsrGryHRU+Kcwbk5tKTbnztn/rBr/gwH35FNTxeHRcuF3X+9legYGyenXBTmZZ8G/4WfO54pq0ehE+YgE3Syyba4j4kXEn2O5F7rObM961aZvNmuWp1RKyTAW/G2E2tPBVucnKbzGdNFJBLmvQffwCtKHBtIG/Kdy66kdOCVO2p/BtueJ84Nu6OtdtK3Z+sIYT5DshDmMwSI20EABEAABEAABEAABPKSAIT5vBw2NLoGEgiOvJ03IR1bKT33Hf0IWdbo0USd8lZ4u51N3v0qXNwEXmM3J2VrI9poF3X15o5hmcT/8pVsgc3BKbIRu1UQ9ySe4m3CbqENKyk48k5lVetpv29UYV7u8Z32qmWdrgswZ35NwW/K3bPoSNtRrOOVew4WRyuCyVa5M5UFvb/fO8qtQoTFvE28jtrPisKI2BWQjy2RPQ3b2mND52w9bPw8iIzfPoxMixKTqJ9Sh+9sdpHCweRNNGUzTWcQ380iwEpQotfq/9S59Ufcjhz7uLLojxBoWVA0Zn7F1t/sK5xFs3hBVjqI/3AJwVG8AmKWXtUQuitMmI/hW7xC3Cth1zpHh27Uf3nMlF/88okgHW2KmyXeXNMnKy14U1O7v3iVh0V231H3h1zdhAnynLq1jJ+1O6K6uUlnHFUfT34xzDpeLMJlr4bgp9eT/9wP+PloGfFZSGYcLTZsnR547VjdfeuY8LNo5Qw/UZMXvdnPu82iX+Xg7wdlyf7z4PAb+MouzJuLp6mJKE/T7cLzsUuT4Jd3suuSqeHxtiv1zMiqhYjJMv5MLvyVJ9oeDRP1E/YxzvdNvOczXppurl9vlhzle9N36qtqZYnOG/vIk0DsUz+eOJ9pW6RuWa3gZf/+1qoFq0HM9b+J6rvOirKfpPsZ4zKs55P96asVNvZyy8/FPZf38Lu4XS04xjEZJJtmi1s1594c/GyoFVxKwGeXU7Kx9voVUUrPXhSE+QzZQpjPECBuBwEQAAEQAAEQAAEQyEsCEObzctjQ6BpIwJg6hIzxLObV0OBp3llZ3ZsiYMoEBYulSQVxD8Pua8TVihI/F/+uBM+E98p9LNB7ilqTWbqERdlf1P0J70s1A1uuelrvQZ7aDchksUnEWdpUkmoprF+l2c9Ua2JRztO2q+IiqxTEzZKI3rkWZLJCxs/cym2U5yXBhIG9/eKeR/xVm4HN7Hblp+TGI9VxlPFidy6eFjuzqLworghrb1tVn3ta7kyepjuoVSPi2sdcMDnm5yJMmJ/HQu/nN6lJMm+nA9XRXPoHu4manlyXhBePiadhO5XfXP5X6HMs1vN5EHy8IkP2xGBYPCn4IPuYX8+rIkIrZjwy2cFcveyv33Iv49hYOptdlE1+PW324okP3piWV2epMbW5FIpVdyafsVhlhsXLmLNIL9/9smJLtYsnPGIG5ujhZ0tcBaWykW7M8lJMgDCfIjBndgjzTiK4BgEQAAEQAAEQAAEQqAkEIMzXhFFGH6sDAXPpn8riN5EP7+rQV/QBBEAg/wmECfMx9jbI/14m0QMWmJWlOFtzy8akxrcPR71JBGjfaa+pNLXC481To+ZDZG4SgDCf4bhAmM8QIG4HARAAARAAARAAARDISwIQ5vNy2NDoGkogOPxWtXFiDe0+ug0CIJBHBCDMhwbLziGe73NPp17k6xNysSXW4eLWCCF/CECYz3CsIMxnCBC3gwAIgAAIgAAIgAAI5CUBCPN5OWxodA0lYEwfRsYPT9XQ3qPbIAAC+UTALkjH2nQ4n/qTdlvFYv6qH/h29pcu+zGMeZqMv0fzvhgbQkVyunfP08i7/2XKJZVEBoecR+bKOaF0/M0LAhDmMxwmCPMZAsTtIAACIAACIAACIAACeUkAwnxeDhsaXVMJrFvKG3fexoLN7JpKAP0GARDIEwIQ5isGyssb53p3dmxUzHs0UHBzaHNq3pBWBfahrjZF/ie0GXZFCTjLdQIQ5jMcIQjzGQLE7SAAAiAAAiAAAiAAAnlJAMJ8Xg4bGl2DCRiT3iDj50E1mAC6DgIgkBcE6jUh/xnyXeUl44/PyZjwal40O1uN9HbtR969TieqXRxZhWykvHwmBUfewRvDlkamIybnCUCYz3CIIMxnCBC3gwAIgAAIgAAIgAAI5CUBCPN5OWxodA0mIO4NjK/vIXP1fzWYAroOAiAAAnlKgCcsPE06kaeopfoeN5fMIDKNPO0Mmq0JQJjXJNI8Vjdh3jRN2rJlK23dGqBAMEjBoEEShwACIAACIAACIAACIFD5BDweD/l87GPU56NatfxUUFCLJC4XAoT5XBgFtAEEUiNgTH6LrU8HpnYTcoMACIAACIAACGSFAIT5DLFWF2E+yCJ8Wdlm2rR5S4ZEcDsIgAAIgAAIgAAIgEA2CdQuLKA6dQpZsPdls5qEZUOYT4gIGUAg9wiULqPgtw+TuXBK7rUNLQIBEAABEACBGkYAwnyGA14dhPkNG8uUKK9RiCVWLb+PfF4PW2TpWN7k2X5REY0zEAABEAABEAABEAABlwnYVyzK4sWgYdLWQFCtbNRViThfr24dfVnpRwjzlY4cFYKAKwTMWaOUOE9GwJXyUAgIgAAIgAAIgEB6BCDMp8fNuiufhXmxki9dv5EC/CNPQp3aBbxE2keixScS4ROlqwLxBwRAAARAAARAAARAIGkCdjE+2k2SLg4Gt27llY6bQqsc/WxM0aB+3SqxnocwH22UEAcC+UHA+HEAGb99mB+NRStBAARAAARAoJoSgDCf4cDmqzC/NRCgdes2KP/xtfx+FuVrkZct5HWIJbzHitf34QgCIAACIAACIAACIJAZgVgCvT3eYAv6sk28LxC/08n7WVFRPV7x6M+s4hTvhjCfIjBkB4EcImCWLCJjzNNkzpuUQ61CU0AABEAABECgZhGAMJ/heOejMC+W8mtL1itRvrCwFtXhfxLsorv93JmmMuMPCIAACIAACIAACIBAVgnYhXipyH6tz8s2b6XN/E/e3RoW169Uy3kI81kdfhQOAlknYM6bSMaPz5O5Zl7W60IFIAACIAACIAACkQQgzEcySSkmH4X5tSWlyn2NFuW1CO88ahA6Xl/jCAIgAAIgAAIgAAIgUDkEtACva9PXctTnWpwXtzYNixvorFk/QpjPOmJUAAJZJ2D8NZKM8S8Rla3Nel2oAARAAARAAARAIJwAhPlwHilf5Zswrzd6laXO9eoWWFbyIr5rAV4fBYb9PGU4uAEEQAAEQAAEQAAEQCBjAlqAl4L0uV2Yl/MNG7cotzaVuSEshPmMhxYFgEBOEBBf88aEgUSBTTnRHjQCBEAABEAABGoKAQjzGY50Pgnz4sJmzdpS1eOi+nV4qbPXEt6jCfPxRPl4aRkixe0gAAIgAAIgAAIgUCMJaNE9Wud1mv1oPw8GDVq3vkzd2qhhg0pxaQNhPtpIIQ4E8pOAMfU9MiYNgjifn8OHVoMACIAACOQpAQjzGQ5cPgnz69dvpE2bt/BGr4VUu9CvRHktsEOYz/BBwO0gAAIgAAIgAAIgkCEBLbRHK0an2Y/O802bA7wh7GZ+zyug+vXrRivG1TgI867iRGEgUOUElOX85Lfh1qbKRwINAAEQAAEQqCkEIMxnONL5IszLD7dVq0tUb4sb1LWs5dMV5jPEhttBAARAAARAAARAAARSIGAX4eU2ubbHyblYzZeUblSlNmlcbK2MTKGalLJCmE8JFzKDQF4QEJ/z5tQhZK7+Ly/ai0aCAAiAAAiAQD4TgDCf4ejlizC/mS3lS9livqCgFtWvW6h6ra3k7UdJ0GK981zdhD8gAAIgAAIgAAIgAAKVSkAL8FKpPpej85+kr9+4mbZs2UoN2GK+kC3nsxkgzGeTLsoGgaojYM6bSMbvH5M5b1LVNQI1gwAIgAAIgEANIABhPsNBzhdhXruxqV+vNhXUqnBjE0uUt4vzGSLC7SAAAiAAAiAAAiAAAi4QsIvyUpxTmJfrLVsDtH7DpkpxZwNh3oVBRREgkKMEzJJFZE77hIzpw4iCW3O0lWgWCIAACIAACOQ3AQjzGY5fvgjza0tKKRAIUnFRPfKXb/qaiigPoT7DBwW3gwAIgAAIgAAIgECKBLQQb79Nx9mPcq7/BcSdzboN5Pf7qGFxA/utrp9DmHcdKQoEgZwjYM4aRcq9zYIpOdc2NAgEQAAEQAAE8p0AhPkMRzBfhHnxLy8/2Bo1rE9ej8fa+NUuzjvFd+d1hqhwOwiAAAiAAAiAAAiAQJoEtBAvt+tzLcbbjwa/761Zu16964mf+WwGCPPZpIuyQSCHCJQuI4MFevPvb8hc9W8ONQxNAQEQAAEQAIH8JgBhPsPxyxdhXv9watKoQVRRXjDYhXj7eYaIcDsIgAAIgAAIgAAIgIALBLQgL0Xpc7sor89XrSlVtTVt0tCFWmMXod8vM62n14EHxK7EhZSU39dlBQLXaxiG+icrECS0btlUHfEHBGoqAXPVXDLnjCFz7o9krphdUzGg3yAAAiAAAiDgGgEI8xmiTPlF31GfWz9oHMVGXOp6YgnzdiHefh5RECJAAARAAARAAARAAASqjIAW5KUBWoh3HiHMhw9Pyu/rEObDAeIKBJwESpeS8d9EMudPCm0QCx/0TkK4BgEQAAEQAIGkCECYTwpT7Ewpv+g7itKCeaaWRo5iIy51PSLMe73eMKt5yazFeH2MKAARIAACIAACIAACIAACOUFAi/P2oxbnxcobwnz4MKX8vg5hPhwgrkAgDgFz2Z9kLp5G5pIZZC6fScRubxBAAARAAARAAASSIwBhPjlOMXOl/KLvKEkL5pUlzDdtXBQmyosQbxfj7eeOpuISBEAABEAABEAABEAgBwhoQV6aogV5+3Hl6nWqlZX2fpmhyxy4ssmBhwpNAAE3CJStUT7ozdX/Ea1dQOa6pUTrl5FZVkK0if8Ft8iXlhs1oQwQAAEQAAEQqBYEIMxnOIwQ5jMEiNtBAARAAARAAARAAARSIgBhPiVclPL7OizmUwOM3CAAAiAAAiAAAiAAAjlJYPHSlapdxUX1lAcV5UVFYthQO5XgtiGNp3v37q5M1af8ou/odS5ZzMNa3jE4uAQBEAABEAABEACBHCWgxXm7pbw+h8V8+KCl/L4OYT4cIK5AAARAAARAAARAAATykgCE+QTDBmE+ASAkgwAIgAAIgAAIgAAIRBCAMB+BJGYEhPmYaJAAAiAAAiAAAiAAAiBQjQlAmE8wuBDmEwBCMgiAAAiAAAiAAAiAQAQBCPMRSGJGQJiPiQYJIAACIAACIAACIAAC1ZgAhPkEg1tVwrzyKVTuT0i7sNHHBE1GMgiAAAiAAAiAAAiAQBUTsAvz0hS5NgxDHeHKJnxwIMyH88AVCIAACIAACIAACIBAzSAAYT7BOEOYTwAIySAAAiAAAiAAAiAAAhEEIMxHIIkZAWE+JhokgAAIgAAIgAAIgAAIVGMCEOYTDG5VCPPaWl5byDuPCZqMZBAAARAAARAAARAAgSomEE2Y11bzsJgPHxwI8+E8cAUCIAACIAACIAACIFAzCECYTzDOEOYTAEIyCIAACIAACIAACIBABAEI8xFIYkZAmI+JBgkgAAIgAAIgAAIgAALVmACE+QSDC2E+ASAkgwAIgAAIgAAIgAAIRBCAMB+BJGYEhPmYaJAAAiAAAiAAAiAAAiBQjQlAmE8wuBDmEwBCMgiAAAiAAAiAAAiAQAQBCPMRSGJGQJiPiQYJIAACIAACIAACIAAC1ZgAhPkEgwthPgEgJIMACIAACIAACIAACEQQgDAfgSRmBIT5mGiQAAIgAAIgAAIgAAIgUI0JQJhPMLgQ5hMAQjIIgAAIgAAIgAAIgEAEAQjzEUhiRkCYj4kGCSAAAiAAAiAAAiAAAtWYAIT5BIMLYT4+oJl/z6EtW7ZSvbp1qFPH9vEzI9V1AmvXrqP5Cxercjtu247q16vreh0oEARAoPIILFy0hFavKVEV7tZlx8qrGDWBAAi4TgDCfPJIIcwnzwo5QQAEQAAEQAAEQAAEqg8BCPMJxhLCfHxAp55zlRKG9+m6Oz33+N3xMyPVdQKjx/xEt9/7hCp34ICHaNddIOS5DhkFVgsCv0//iz4cNpK269iOzjnjRPL5fDnZryefe40++nSkatuE0UPJ4/HkZDsrq1GGadJ/8xbS37PnUsPiIurQoS21bN60sqpHPSCQEQEI88njgzCfPCvkBAEQAAEQAAEQAAEQqD4EIMwnGMt8F+bHjJtEo74bp3p5Qb+To1q1z5u/iF4d/L7Kc9qJfSmalebaknX0+LMDVZ6Tjj2C9tqjizqHMK8wVNkfCPNVhh4V5xmBk866nBYtWaZa/cwjd1L3ffbMyR5AmA8NSzAYpNfe/JA++GQ4bdxYFjZWx/U9jK6+7FysEAqjgotcJABhPvlRgTCfPCvkBAEQAAEQAAEQAAEQqD4EIMwnGMt8F+bHTfiFbrz9YdXLm6+7hE489siIHn8wdDg9/cIbKv6Mk4+ha684PyLPL1Om0dU33aPin37kDtpvn73UeVUI86Wl6+muB59R9d/6v8uoRTW1nkymnxDm1WOAPyCQkMAFl99Mf876R+V76en7ac/dd0l4T1VkgDBPtI6/4++470n6ecrv1hDUZXdpdoH+iN4H0L23X2+l4wQEcpEAhPnkRwXCfPKskBMEQAAEQAAEQAAEQKD6EIAwn2As812YX7FyNR1z6kWql2Jl2P+GyyN6LMK9CPgStm3floYMejYiz7sffkYDXn5TxQ//6HVq2qSROq8KYX7egkV02rlXq/o/eHMAtW/bJqK91SEimX5CmK8OI40+VAYB8d3+3dgJ1KZ1SzrkwP1y1kUMhHmipctX0iVX96flK1bR9VdeQH2PPITq1C6kib/8Rk8NeM1a+fDeG89SR3ZtgwACuUoAwnzyIwNhPnlWyAkCIAACIAACIAACIFB9CECYTzCW+S7MS/eOOvF8WrO2hH0rt6d3Xns6rMfiLqDHYaeExY0c+gY1btQwLO7OB56ib9glTqOGxfTlJ4OstKoQ5mf8+TdddNWtqg3VWZhPpp8Q5q1HEScgUC0IQJgPDePKVatpGQv0u+y0Q9i4iv99YSThgTtvoEMP7hGWjgsQyCUCEOaTHw0I88mzQk4QAAEQAAEQAAEQAIHqQwDCfIKxrA7CvGwOKgKuhLFffUAFBbWsXv85czZdcMUtJG4CJIirgEfuvZkOOqC7lUdOtH/m3r32pwfvvtFK08J89733oGcevcuKX7BwCZWVbaL27dpQYWGBFR/vRNwXzF+wmCcFiqlly+bkjbHp4fiJU+iG2x5URWUqzIvwI6sK2rRuoSYd4rXPmSaTGrP++ZeaNm5EzZs1cSZTybpSWrxkOdWuXUDttmmd8maTyfQzljBftmkTzf13PrerKTVr2jiibdEiNm3eTAsXLaVAIEAd2m9DtQsLo2VLOU72MPD5vLRNm1ZR7121eq2yjG3ftrX1HEbN6EKkuAdavHS5Ggt5Nmv5/QlLzXQcE1YQJ8PKVWtoNfPZrlN78nq9ETllnOfMnU+tWzWPmEyLyJwgQguhhTzurVo2o3p16ya4IzJZ2rts+Qr1/CR7v3yOlvCYrC0p5WekpdrgM7Lk+DHpfN/ELzGUunrNWtU2+fw2aFA/mVtI7lm0eCkVFTVQn/tUN2+1C/MTv/vEqjOdtpSu30BL+DsoYATVhqnOCVer8CydyHfrmjUlEf8PyIauq1evoaXLVvL3bhG1atUi5ve9s2nijkjcEkm47cYr6Ng+hzqz4BoEcoYAhPnkhwLCfPKskBMEQAAEQAAEQAAEQKD6EIAwn2Asq4Mw/96Hn9NzLw9WPX3rlSdph+23tXqtXdRon/ETfp5Kpxzfh264JuT+RjKKuHPYsWere2TDvbNOPc66XwvzPffbm+67/ToayJvIfvXtWGWhrzOdccqxdNUlZ0cVpv+ZO4/e/eBTmvLbDCXO6nvkeOM1F9PJxx9lRX31zRh64+2PaCULOtrXsJ5QkEyyIuDV5x6y8kc7kR/JIngP/ewr+n3GX1Y5klfE9Xtvuy6q7+kXXn2bhn7+FfU94mDlWuGVN4aQWG7qdnz89guW8CwuaAa8/JblHki3o/dBPejW6y9NKPCl0k+7MD/45cfVZMDbQ4bR5F+n62pVvx5/oD913r6jFWc/kT689Pq79NGwkfZo2rnzdnTHLVcn7SrCYnT4wXTdlefTm+99Qp8OH2WNaxsW307gjYP7nXa8qmfs+J/pHR77aTNmWvUedVgvupkZ1ald24qTE9kH4ZVBQ1TcZ0NeiWAo4u5hx52j0k89oQ9dduFZ6lz/mTV7Lj3JLjDsdUmabGJ8xUX9qMvO4Va5kvZ/9q4D3ori/I703gWkKIhSRJogUhWpKk3sLdYkaowxMf8Yk2iiqabHGEuKRo2o2BVQioCiiIUq0qX3Jr0X/3Pmvu/y3X17d/dWHu+djx9vy8zOzp6ZnXvvmW/Ol2o7/uSBP5pPps0yzZs1NU88/GsUkWBz5i4wd/34V+7cr+6723Tv0jGeDiwe+N3Dpp6dSIGUFNr1WYsf6g1DPz/fyq+g/5QtW9YssZMu/7Z4vGeDO4uhfX/3wI8sSV9PTkXaos7/fPL5uP66XNSvdw9zx7evd4SunJOt1BeTUqjvy2+8Y15+bXRcYgT5IIt1/4+/a85oebpcVmiLdn16+KsJ4wXew7vv/Kbp1eOcQvlByC6379dP7r7d9OjayfzzqefN2AkfJFyP8eaOb33DlClTOuF66Z84OWHkcwlSNpI20Pbdu++8xbxin+fN0eMNxiexzh3b2THuB6aGJZL9DOPsq2++k4AB8ukxCscYozBWJTNNzE+d8Kp5xZb55qjU6oKJikf/9WxC/8D9ENj7O9+6zrRvc0ah22fyjmFy7fLr73BlPv/k38xXdoXWY3bMlHEI4+b9diyBoW8//Nh/4+OCO2n/4N3HexsWMwRt86e/xwKRez/PpCxuiUBRQYDEfPSWIDEfHSvmJAJEgAgQASJABIgAESg+CJCYD2nL4kDMz5w919z+g/vdk95/z3edXq889g/u/bUBGQ9C5MiRI+ZfluyDd+hLz/5DspjZc+abW+/6mTt+9C+/NB0tmSkmxDxI19KlS5uVq9dKUsL2mzdcafBf2x/+9i/zmiW7gwwk0vVXX+KyyCRCsvzJ9PElPzz477j754UISEmX7T8f/o1p16aVHLqtkGWYgGjapJEB+S0G4u1dS/TBw3/9hk3mJkseQjrIz0A6PvXY761Gf3Iv9lSeUxPzqJvECvC79/g3ny1EaB84cNAGB/5tQpBF77X/+PODplOHNt7ThY4FIxDEiEGACRA/e/gPPzeLlyw3//jns37Jrn+in2p77N/PmWdfiHkPj33jGVPdeiNr05JMV106yE4M3BxPXrZilbn6prvix347IEtBWoql044SXNRPMgrlzvx8nrn9+/e5Wzz0yx8nEM+6HW+89lJHVktd9BZpHW1b/Pjnv49PCul09K/Xn3/CdxJM55N9vSpDzukt3ut/WmwkpoSk6fpiAkeCqkq63upg0fo8JvGefPYlfSphH+T6N64elnBOxhuQuAsWLTVoWz/zG2+kfyI/CG/tyS5p6LuNrAY9ns/P0Ee8k3/oe39+5Mn4WIbxoLFdHSKTKt5ywshkqQuuO7d7Z4NJED/zqwvyrVm3wXzzjnuTjkHIg4kjLzmfyTuG1RaDLo9N5mJF1W/++GhC/5RJ1nfs5OqDdgIqmQG7US/9p9BkhuTftn2He5cxvqJv4nMKnzs0IlBUESAxH71lSMxHx4o5iQARIAJEgAgQASJABIoPAiTmQ9qyOBDzu3bvMX0HX+ee9IpLBpq7v3uL2z948KDpOSBGloN8BcF01z2/dGmjXv5PnDzWHopecleIMoERXq6DrbQAAvJN/Wym+cNf/+mSQLi88+p/E2RtxJMfBNM11su1+WlNHSHz6fTZ5ue/jmnha6IGsjPrNmw0EyZ95LzVUfC9d9/mZDOwD/37sECwkMABGYlgghf0Odec3qyJ2b13rxk9ZqLzxkc5XlkenNNkGY5xr2uvHGrzdrCSPXtNm9YtnYTFt777E0eMod4P/OQu0+2cjuZr+2+SDTopz+RdkYDytKXynJogRRm47603XW06ndXWHD502PzpkX/HvcRBVoO0FkN7o05CQoIIxQqF8jbI4nwrcYQ0kHyY8Bj+5F99pVSkLGy9GIGwvcESyadZjPH8XiIeGN52yzVuogeeyb/8/SNxMm+kJee0BE8mpCFIwpHvTHBVRfBjrFxAIMkFi5a4lQ0nnljLwINdDJIh6bRjtoh51APY3G4ny85q39p5xz/40N/j2Eg9QT5Dcmq/lSD69R8ejZPUv/3Fj0zv87pKtqRbrFLBRBUM/eZnP7rDdLb9ZoddIaPfB7Q/iFw9GeLtdyBJb7crD9q3PcPsstdjRQpWlMD8CFR4Z//10adc+gWWZMeKGkxWoe8/9Jcn3GQhEt948V8JHvuZjDe6fyYj5l2F7B9MrmBlR5vWLcxqK0vzwG8fjhPdWJnSsnkzyeomwxBAGzb4wj5utRFkoEBW33PfQ27SAvg++ehDppxd7YDJE6x6SGa6nsiTSl0gHXPLHT+Oe6Pf/s1rzYC+51lZqnLm409nulUZct+nHv+DWxUjx5m8Y5qYl/IgezZkYF9TpXIlU79eXVO7Vg0z5MpvuboBjz/86l43OXDo8CFXt7/840lz03WXm2GD+0sRCVvI3wBPmXz0m1xIuIAHRKAIIEBiPnojkJiPjhVzEgEiQASIABEgAkSACBQfBEjMh7RlcSDm8YjwGIZ3KSQ7/vOPh9xTQ1rjW3f+1O1PHDXcHLYe8yJZo4PqCbEJgu3V4Y+7/PJHE2W33XyNI2K1J+pv//SYeevtd132F//79ziJjhPw1p75+VxzTqf2Ulx8+/Rzr5gnrEwFzOtx+6Il9f5WQOqlqjEPLevdVrrFKyWBH893/t8DcemFCaOeS9DY1mQZSNNn/vknR7DFK2x3fvWHfzhCE+f8vGJ10EIE0EU5QRblOTVBipUOf/ndz+KSOigbxDriA8AG9OlpHrRSHGIgX1Fn2D3f/7a5ZMgFkuS2ixYvM9ff+kO3/6ff/MRKh5ydkO490BiBlLv/3jsTdOplUgTXoa7wnD/JxhIQ+9+Lr1v5jf+5wz//9mcJUi+ZkIbSR70rQXAjtDv+a/32dNsxW8Q86vn3P/7CkpknCjTmhZffMg8//nT8+JE/PmDO7tg2fqwDBcPLHJMsQYZJGXg4y8oOBIX2vhO6PfSEHsrV/Q796sc/uK2QlzM8o+EhDYPEDqR4YKvXrDOXfSMme+KNWYF0xDoYdvVtrm7XXDHEfO+2G3HambQlDlIdb3T/DCLmMbn4CzupVrHiUTklyEtBagiGyZ2hA/u5ffyBRBJkoPA+v/7CEwl9funyVeaam2OrNdDf/ca6eEEFO7qeqdblF7/5q5P2QVFoEy/Jrcd87wqjTN4xLzHvt2IBcjcDL4utZPGbnESfDPJ+xyqlR/8dGx++deNV5pbrr/BCx2MiUOQQIDEfvUlIzEfHijmJABEgAkSACBABIkAEig8CJOZD2rK4EPO/+/PjTjMZjztl/MuOAHnm+VfN4/8ZnkDWC7l4yeABTusb+YXUh5e5V2JEiDJIncDr3mvjJ35o7v/1X9zpR/5kyUTrkRvF5s5fZD0/73VZ4RV/8aCjXpRRCOso9/Dm0RIy0M0GcSWmyTJ4wsPLVxt02nsPiuma+5FOyLt7zx7TZ1Bs5UIUb88oz6kJ0mRlSuBer/TFbXfdZ2bNmedI8hefecQ3+KL0B5CgN153mX7kQvsaI+ljOhPIS5CYsMf/+qtCWv4SiBjp3jbPhDT82S//bCa8NwXF+k6YuISCP5m0o2AFghtEt9eiStn4taOeJPm2XRFx8zcuTyge5E/XPpe6c9CG1ysAEjIWHHw2/XNz548ecEcInokgml7bv/+AufjqWx1BDg9nSAhJsFzd7/79yG/dihHv9bo9r75ssLnrOze5LJCvgYwNTK/McScK/kh7e8eVTMYb3T+DiHm/vgtP/qFXfdvVzks6S50QpwOTiF7r0jsmxfXdW6+Px1fw5tHHup6p1EWvjPJbpSD3uNfKIElsAkwwSuwJwRz5UpWL0sR8sntDKq2vjVWCdwxj62N//WXo5KTUea2dYLykYIIROP/ZTkAmCw4u13BLBIoCAiTmo7cCifnoWDEnESACRIAIEAEiQASIQPFBgMR8SFsWF2L+rdHvmt/++TH3tOK5/r0fPei0xaFbLcEyhZwR73iQc+ddeJW77kd3fdtcOjTRq1pIKQRGhJev1z6bYQlA64kO8+pqu5MFf+C5C6/fOXMXOokRaJCLN6/XOzIKYa3LTraPAImYAJgzb6HTPIecCkgj2GNWSx+BQcXCyDLIotx4249cdhB3Pbv5e5ffcOv/uTw/v/d75qL+vaR4322U54xCkH77ez91cjbaQ1YTuQhCCrLXz35vZUWgH+43KePNrzHyEp/Iqydp/HT8Nfl2h5U2+cZVw+K3kH6JE6mShhojXI9JHvRjyBh5LZN2zBYx70d0b9y0xcmAoL54V/HOek1kQvykmLx5X3hlpAvAifNBntw6DsSrzz1mGlr9dZjG1K++yAMitlvf2GQOtNIhXQKD7AvkSED2Y4LGz7DKBnI48ELH6hKxTMaboP4ZlIZ763HQG8Pg+z/+pfn4s1mO4AbRrQ3e/70ujL1bCCw9oO+5Otl3P926zF+4xMa3iI1BkIS59Wb/d/rdSVPMfb/6s7u3Hocyecc0MY/74v5+pp8N7Q+5oCEX9YnLpvldg3OQRHtt5FiXrPthsvw8TwSKCgIk5qO3BIn56FgxJxEgAkSACBABIkAEiEDxQYDEfEhbFhdiXnvcQoP6vB6dTfd+MfLkbw/db7p07uCQQCBYBISFjX7lKbNly9a4nAkkcCCFoy2MKAvyEkY5IOCfHv5q3KNZly37Xg/VKIS1XOu3RTDF50a8Edde98vjDXiqCSU/0vnDqdNcEFW/svzO3XX7jeZqq6sfZFGeMwpB+h2rIz7D6olrYn7nzl2m39Drg26fkAbyHvIyQRaGEXTmf/LAH10RfsQ89LEHXxELIJlNYh43fGPUOKddruuP4Jc3XHuJgQeuWCbtmEtiXsuAJCPmZWVEFGL+7088bRDjATbi6UfMKSc3FAgStlrORgfIjdLvUNCFl9zkJtj0KgJMTiULjJpw84KDjye+Fj+dyXgT1D+D0nBzyKzIeOkl5jGWSPwE7ySF1tL3xk2IP5RnJ926YLJDtO6xAgIrIfxMyx5Bg/6Ga2KTPNki5nXAbu/9EdcEgXLxPmrDCiQE+UZsEj+77ps/MJg4jTJB6Hc9zxGBY4UAifnoyJOYj44VcxIBIkAEiAARIAJEgAgUHwRIzIe0ZXEh5g8eOmR69o9p8oLoht7ztbd83z39+Lf+Z6pWqez2d9rAjaIzD13xXbv2xLWV33vnhQT9ZFyQCVGmPTxRFghS6FUjWGglq+8s0gXZJOZfHznO/P6vT+B2zkBewbsdhBDqI56kqRLzIPvvuf8hVyYIcB24tOBWCZvLh12U1KteMuaSmN+2fYe5YNiN7lbwSvbzHpd6YIugnl75FJ2O/TBC8VgS86gf4gu89tZY8+pbY+IrI3AeEyQIPgp960za8Xgi5h9+7L8GXvMwWUHjDjx/JEAzTmuJnajEPOSdsAoFgYARbBQmKziwj5U2QYZxACttxDIZb4L6Z1Aa7h1EzG/btsNNXmJVA7zA77z1BtPIrixA/Iyn/veyq3oymRt5Lr1Nty6670JyDCS2n2mJIS1RlQ9iXuqDyYERr41yq2jkHLbJVhXIahBdX30d94lAUUWAxHz0liExHx0r5iQCRIAIEAEiQASIABEoPgiQmA9py+JCzOMxhRCDrMR59j+CXEJf2Cu/IAQjPCmPfH3EIOie9njVkKVLlIHMuuS62x1pB2IY+vM6+ORm66k/6PJb3K2yRcxPmznHfPeHMbkdyNT8/sF7TNWqVeKPM/H9qeanD8Y8ulMl5rUm/j0/uNVAoz9TyyUxf8Rqkncr0CTv06u7+c3Pf5hpdfNGzL/96lOmVs0aCfUNIk4TMtqDvfv2mbHvTjZ/f+KZOEEvci6ZtKO8N35BZlGHoNUjYUR3tj3mdTwFb1/XeGmS+OVnHzWNG53kksPqi0x6kg9BTIVgx4ocrMwBiT1h5HNGB4vW9/bbT3e8QVn6WbyrXoLScG1Y/9LvKvJrwyQoCOdy5crq00n3062L7rveMVPfTI9z91kCf1ABga+J+VTfMS1lE+Qxr+uBfVw34tXRBiszxN61faJK5Upy6LYIIrx79x7TwU4QNrMxHGhE4HhBgMR89JYiMR8dK+YkAkSACBABIkAEiAARKD4IkJgPacviRMxDbgGyCyDCz+/ZxWn2QscbsiHahKBBsNDKlSo5Eu2SIReYe74fC36o86ZLlE35eLr54U9/44qC9jQmC7QFEfNaHgJBNjWhr8vw7j/6r//FCaAxrz1tatSolpBFE1ZesjKMLNthpWH6F0jDpOIdm1ABz0GU54xCkPpJ2eBWQiSDIB310n8cUeqpQkqHYRhl4jEvgYpRoeeferiQ5IUO2uqVGkn2EMtXrDZX3fQ9lywBezNpR4nZADwnjhpe6LYffzrTfP/emKa6N95CWDtmm5jXklXJ8Dp06LBdtXKbgSc4bPKYEXFyOay+yA8y9cHfPYxdF8NAVlzI+ILzTz76kGndKlEeC+eTWbrjDcoL6p9Babg2iJhHrIrLr78D2cxPfni72bp1u1m1dr1pblf+4NlatWjmVmO4DBH+pFsX3XcxJj7777/4BkhFm6BtYFqeLJN3LF1iXuB4c/R4gwDlMEit9T6vqyRxSwSOawRIzEdvPhLz0bFiTiJABIgAESACRIAIEIHigwCJ+ZC2LE7EvCbTQM4juOqffvNT06NrpwQUNIEIkhGkp/as1JnTJco0EeNHzI8eM9F59ONeXu/PMZZUeqCA8AuSbND1xP4vfvNXM3bCB+40AkoCAzGQkH/6+7/j2sepEvMoB/rpIJ9hv7fyG+dZL+FMLMpz6jb16lvLvZMR86+88Y57ZuS7+rLB5q7v3CSXpLUNIxQzIeY1yfvTH1r97IFH9bMRYPOe+x5ygYxRcS/RDNmMUxo3SFgdgXw6MCc0rh/4yV04nXY7/uaPj5qR70xwZXh121evWWe+dedP4wGNjzUxj/7e/+Lr4ysG/AJqatknrADBShAx3e8esitPetmJPm0YM77xrbvNmnUb3OkX/vuwi3GAA2iFQzMchhU7Tz76e1OmTGl3HPYn3fEG5Qb1z6A0XBtEzIsOPyYyocOfqWVSFz0G/eq+u02/3j0SqrPEYn9tAfYI8P2KDegrKxYyeceiEvOfTJtlOnVoU2ii4vMvFrgVXaisnz7+nLkLzKIvl1sJti6FVsskPCAPiEARQ4DEfPQGITEfHSvmJAJEgAgQASJABIgAESg+CJCYD2nL4kTMgxy87Bsxz0557LFvPGOqV6sqh26rJSgk4X/W+9JPhzxdomzm7Lnm9h/c74pHEM6f33unOal+XbNy9VozfMSb5q2335VbFyLmQdKA5ISBDLv37ttNk1MamXWWBGxotZ2TGfSe//XfF1wyyNtbrr/CVKxY0SxYtMT87bGnDAhcsXSIeZCQ37zj3jj5eudtN5iLB/Vzqw5AhH4xf6GTBYKufRTSPspzaoI0VWIexPT//fS3BhI/sIEDzjcILAp9fEjdrFq11upAjzaVK1c0d3wrcVWF4KS3YYRiJsQ8ggSD6IVhQgVkMOICfD43humsOfPiVdHE/LIVq8zVN93lrvnBd292cQwQTwFSStBYh5cw7BeWlL/QkvOwdNtRT3SgT993zx2mQoXyZtqMOebhx5+O9wvc41gT86iDDhYKTH/5sx/YWAKtrNTPfjN67CQDHXoYCNx//v03pk7tWu4Yf3S/w/F1V15shg0ZYOrXreMCOv/aymSBgIdBEgtBRrU98eRwF/QZ56A/j3f4tNOaOA/vr7ZuM6PHTDKfzfjc/O3395tSpUrFL013vEEBQf0zKA3XBhHzTz77kvn30y8im3nkjw+YM1s3j8fiENLbJUb8k0ldvBNAP/7BbY6cL1umTWgkPwAAQABJREFUjHvP7//1X+KTMY//9VemQ7vW8Vql+46hgCjE/Nvj3jO/fOjvbjLm+3fcbFq3PN2twMCKg7/840m3MgtlvTr8cdfnsA/Tmvg6gHUslX+JQNFGgMR89PYhMR8dK+YkAkSACBABIkAEiAARKD4IkJgPacviRMzjB2KfwdfFiZlkuvGARGROBJ4Px73s69WaLlF24MBBc8Ot/2dAnPpZ3RNrm11WUxiet16PeZDGV91wpyPxvdd+MHaEKVvWX8t5xao15kp7XTKD9+7CxUtdcjrEPC7EPW66/Z44xjgnqxOwD4tKLkV5Tk2QpkrMoy579+4zd/34lwYeq2KySkKOsR318n8SiFmdJvthhGImxDzuIZ7/cj+9hcc7SElMrmhiXq86kPzoWyLPgnNo93/YGAc63kA67Yj+2te+X8nse7fdaHXtn3bJRYGYR0XGT/zQgKxNZui7kJtpYMl5bbrf6fPefcQv+NX9d/tKqugAtHKdt+95cUp3vEH5Qf0zKA3XBhHzGDMwlgUZJh/gvX5h/16mRvVECS3vdZnUBWVhTL3FThBi7Exmf33oPjdJ5U1P5x1DGVGI+T/87V82+PKYhFt6x0YErMUqKG1e/f4xr1sZshAM9fXcJwLHEgES89HRJzEfHauoOY8c+dpObp8QNTvzEQEiQASIABEgAkQgLwjwO0oizCTmE/EodFSciHk8HHTdoe8OC5Ivefw/w+PexEESDfBGBhHUo+vZVhbnJ65c/QdE6Te/e6875SXZ4Cn54EMPJ3iqg5iDbMYtN1xhfvKLP5iPP5tViJhHYfDGvfsnv04gWHF++JN/M82anoxdX4O29i8feiTBexkewddfc4n1GO9tevS/3F3nJeY1ifjxxNd8y5aTS5evMn9//L+u7nJOtiCerr96mJVWaSinArdhzzl5yqfmnvsfcmX89/E/Oj1rb4ESbDPZhABWSDzyxDMJqxSkDATJhTY45CfCLAwjTcz7aYtDWunCS2JyOoh7gPgH2qCz/rMH/2S0dzyIvcuHXWRuvO4y8+Bv/+akijQxj+vXrd9o/mlXSgArL1kJ4vhn//cdX339dNoR3r0/tKsQ8CxiwP3WW64xCIDae9C1rg7edyGsHbXGPFZiXHvFUCk+vpV3scvZ7a2n+c/j58N2EFvh0X89G5edkfwo5wffvcW3r2piHhJAkIjCu6Vt6MB+9vqb497jOg37IKwgA/P08FcLtQveSfS7AX3PS5gQlGdMZ7wJ6p9BaajrkSNHTLe+l2E3YeIHxwcPHTK3f/++hHEM5/0Mk6H/sRMdFcqX90t25zKpixQK73cQ/PpdQRoCE0OyqnuXjpI1YZvuO7Zt+w5zwbAbXVkoH58tfoYJwCeeet7MmPVFQjLGffRptLl3lYGeUO3csZ35+x9jAbwTCuABESiiCJCYj94wJOajY4WcBw8est81dpjtO3aZHfZ73K5de8xuOyG7d+9+s//AAXPg4EH32WU/amlEgAgQASJABIgAEShSCJxg/QawMr6cdaotX66cVbIob5UmKpoqVSqZalbhoHq1KtbBtZp1ui1TpOqdq8qQmA9BtrgR8yGPm/dkJ5li5Wu2b9/pJHVObtygEDGTrFKQh1ljgyxu3LzFVKxQwTRt0sjJxiTLL+fhrQ+yZ9++fU4+R0t0SJ5sbBHAdt36DZaAjHnNNzipbiFt5Sj3Sfc5o5St88DjG17nkLipUrmyadSwfiCBqK/N1z5Ijg02GClki0DKQ8IoquHatZakX79hk9Wpru5IytKlw7XNU21HeFdj0mmLlWSBtn2u+lfU546SD+/hypVrDGRkTrAfkI2sJBQkjZKZJuYlgOhOGwB54ZfL3Icr3uOoXs0gtlda2SSQu/hQ9osHkKweReE8JouAx5lnNDcPWjkgrEI5ZJ8JhkmvpctWmuEvvRmfRPRO+uXyGdZv3Gw22v9Hvj7i3hcQ817i23v/TN4xb1nJjjGmLV+52hJKO538GCSQggzSUxs2bXZyalraKOgaphGBooAAifnorUBiPhgrfLfYsOkrs2nzVrtKaZvZbJ0V8L2NRgSIABEgAkSACBCB4ohAlcqVTJ1aNSyfUsNyEzVNvRNrpcWnHQ/YkJgPaSUS8yEAMZkIEIESh4Am5pNJKJUEUDAxeOl133GPOuKZR3xXFyDx3UlTzH2/+rPLlyyQtkvkHyJABIoVAiTmozcniXl/rNau32RXtG20jh6bzSbr8EEjAkSACBABIkAEiEBJRODE2jWtY20dG4+srmlQ/8RiBQGJ+ZDmJDEfAhCTiQARKHEIkJiPNbnGwS+QtnSMV98cY/748L/c4RMP/9ogODCNCBCB4o8AifnobUxi/ihWkKRZuXq9WbVmg/2//mgC94gAESACRIAIEAEiQARMY6vu0LhhPauCUN9J4BzvkJCYD2lBEvMhADGZCBCBEoeAJqRLssf8Civ/c+WNd7r2h247Avw2tjI+pSCaZ+2g1fgdPXaSeegvT7hjBIH9z2O/j6e7k/xDBIhAsUWAxHz0piUxD/mzPWaZ/VxZvmItveOjdx3mJAJEgAgQASJABEooAvCib3JKA9P05IamqtWnP16NxHxIy5GYDwGIyUSACJQ4BEjMx5ocpNuv//ioGT1mYrwPIJBp29YtrM78YTNv4ZfxwLYI/nvv3bebGjaIDY0IEIGSgQCJ+ejtXJKJ+X37D5gly1abpctX27hJX0UHjTmJABEgAkSACBABIkAETF0bH+9UG3OyWdNGNk5iueMOERLzIU1GYj4EICYTASJQ4hD4Yt4i8+SzL7nn/uGdt9hAwSeVOAzkgY8cOWLeGD3evPza22bZilVy2m1B0rc7s5Xp17uHuah/r4Q0HhABIlD8ESAxH72NSyoxv2LVOrNoyQonXRMdLeYkAkSACBABIkAEiAAR8CIAaZvmzU6xsd+OL36CxLy3JT3HJOY9gPCQCBABIkAEfBHYtn2H2WKD8+3Zu9c0bFDf1KpZwzcfTxIBIlAyECAxH72dSxoxv8vK1ixYvNz933/gQHSgmJMIEAEiQASIABEgAkQgKQLly5UzLU9v4v5XOU7kbUjMJ23OWAKJ+RCAmEwEiAARIAJEgAgQASJQCAES84UgSXqiJBHzq9duMHMXLDXY0ogAESACRIAIEAEiQASyj0CjBvVM65anGmyLupGYD2khEvMhADGZCBABIkAEiAARIAJEoBACJOYLQZL0REkh5ucvWmZJ+SVm+45dSbFgAhEgAkSACBABIkAEiEDmCFSvVsWS881Mq+ZNMy8shyWQmA8Bl8R8CEBMJgJEgAgQASJABIgAESiEAIn5QpAkPVHciflDhw6Z2XMXm8/tf8QmoREBIkAEiAARIAJEgAjkHoFSpUqZtq1PN+3s/zJlyuT+hmncgcR8CGgk5kMAYjIRIAJEgAgQASJABIhAIQRIzBeCJOmJ4kzM79mzz5Lyi8y8hUuTPj8TiAARIAJEgAgQASJABHKHwBktTrXkfHNTqVKF3N0kzZJJzIcAR2I+BCAmEwEiQASIABEgAkSACBRCgMR8IUiSniiuxPzuPXvNzM8XmIVfrkj67EwgAkSACBABIkAEiAARyD0CLU47xXRo29JUrlQx9zdL4Q4k5kPAIjEfAhCTiQARIAJEgAgQASJABAohQGK+ECRJTxRHYh6e8jM+n09SPmmrM4EIEAEiQASIABEgAvlFAOT8WW1bFSnPeRLzIX2AxHwIQEwmAkSACBABIkAEiAARKIQAiflCkCQ9UdyIeWjKfzZzHuVrkrY4E4gAESACRIAIEAEicGwQgKzN2R3OKDKa8yTmQ/oBifkQgJhMBIgAESACRIAIEAEiUAgBEvOFIEl6orgR89Nnzzez5ixM+rxMIAJEgAgQASJABIgAETh2CLRv08J0bNfq2FVA3ZnEvALDb/dYEPMnnHCCQeRgbGHerV89eY4IEAEiQASIABEgAkSg6CDgR8wfOXLE4Pzmr3a4itapXSOnFc7W99jzzu2Z03oWJ2J+/qJl5uNpcwzamkYEiAARIAJEgAgQASJQ9BAA59qlUxvTqnnTY145EvMhTZCtHzQhtzHx+9Sq5oh4EvNhiDGdCBABIkAEiAARIAJFFwES89HbprgQ86vXbnCk/PYdu6I/PHMSASJABIgAESACRIAI5B2B6tWqOHK+UYN6eb+3viGJeY2Gz36cMM+xR9OWr7Y7D6raNatZb/kTHDkPT3n5j6qJ57xPNXmKCBABIkAEiAARIAJEoAghoIl57Mv/I0e+Nlu27nDf62rXqp7TGmfreyw95sObadeuPWbKp7MNyHkaESACRIAIEAEiQASIQNFHAKR8987tTJUqlY5ZZUnMh0CfrR80Ibcx27bvNIcOHTY1qlcxZcuUjhPyJObDkGM6ESACRIAIEAEiQASKHgLJiPmD9vvetu27bMCp0vZ7X9WcVjxb32NJzIc30zQb7HX23EXhGZmDCBABIkAEiAARIAJEoMgg0K51c9PJBoM9VkZiPgT5bP2gCbmNgZfNvv0HTNUqFU2F8uVIzIcBxnQiQASIABEgAkSACBRhBJIR8/i+t3PXXvd9L9feOdn6HktiPrijrVi1znwwdabZf+BAcEamEgEiQASIABEgAkSACBQpBMqXK2d6du1gTml80jGpF4n5ENiz9YMm5DZmv/uRtseUK1fWVK9ayZeYRxmUswlDkulEgAgQASJABIgAETi2CAgpj1qIhI1st+/cYw4cOGidMSqZ8tYZI5eWre+xJOaTtxImWj6YOsOsXL0+eSamEAEiQASIABEgAkSACBRZBE5uVN+S82c5x5l8V5LEfAji2fpBE3Ib96MNOvOw2jWrmtKlE+Vs5HoS84IEt0SACBABIkAEiAARKJoIJCPmDx8+bPXld7pKQ18+19/rsvU9lsR88n42d8FSG/D18+QZmEIEiAARIAJEgAgQASJQ5BHo0qmtad3y1LzXk8R8COTZ+kETchuXLHI2lSqWN1UqV4x7zSNRfrjJNkp5zEMEiAARIAJEgAgQASKQfwSEmNdb7O/avdfs2bs/LzI2eOpsfY8lMe/fh3ZaKcr3PpxmNm7+yj8DzxIBIkAEiAARIAJEgAgcFwjUrVPL9OrRya1qzWeFScyHoJ2tHzQht3HJ8KLaui3mRVUTQWDLlomT85qQ1/tRymUeIkAEiAARIAJEgAgQgfwgIGQ87oZ9+X/w4CGz1QZ9hdWsEVsd6Q5y+Cdb32NJzPs30ufzFpvPZsz1T+RZIkAEiAARIAJEgAgQgeMKgbPPam3annF6XutMYj4E7mz9oAm5TTx59569Zq/1pAIpD3IeJLwQ8bJFZr0fv5g7RIAIEAEiQASIABEgAscMAS8pj4oIMQ9SHuR8RbsysnKlinmpY7a+x5KYL9xc+M4+4f1PzaYtWwsnHsMzzZo0MmVtzKq9e/cZBKWlpYZApUoVzMmNYsHfNmzcYp2mdqRWgE/uGtWqmvr167iUVTYWAfpOptag/ommWrUqGGDMgsXLMy2O1xcRBE6xfa+i7YOHDx02i5euzHmt8j1e1DuxlmlxWhNTo3pVc8g6Ja6379isOQvNkSNHcv6svAERIAJEIAoCJ9auafqc1zlv39VRJxLzIS2TrR80IbdJSN62fac5ZD+MK9iAYNU8gWB1RpLzGg3uEwEiQASIABEgAkTg2CEQRMrvsAFfESS0TJnSjpDIVy2z9T2WxHzhFpu/aJn56NPZhROO8ZmbrhliSpUqZfYfOGCee+ntY1ybwrdH3YoyCde82Sk2+FsHV/GFX64wH348s/BDpHimc8czTZtWp7mrpnwyK4FIr2uJyp5dOrgJvPenTLcxKGIxx5C5fr06psc57c3hw0fMpA8/M/iNKHbJoN525U01d/jkc2/I6bS25e1ETt9eXayUaiUzffY88+XSVWmVw4syR+Dayy9yHAA+T54a/mbmBdoSWjVvatqd2dxs37HLjJs01fUnKTif40WHti3NWfa/154dMcpNWnvP85gIEAEicKwQ6Na5nRs783V/EvMhSGfrB03IbRKSIWmzzXpV4QO5QoVypnrVyi5diHjZ6ov8zul07hMBIkAEiAARIAJEgAhkFwFNxkvJck6223fuNvv2HXCrHWvY1ZClS5eWrDnfZut7LIn5wk01btLHZtWa9YUTMjgjBFqqRXw6/QuzdMUad1k+ibao9ezYvpWBJ3A1+5sG/R/E/O49+2wMhK1ucgOTVkXF8k3MXzq4T3yybuOmr8zIsZPjUFw+tJ/DDCfWbdhs3h7/YTwtm8R8l05tbLC7Zq5sOIc98+LI+H24k18EckHMy5iAJ5k2a56Z/cWi+ENJWq4n8jD5g2cTzgJjAPragQMHzYg3xsXrU5x3MCnZ8KQT7SOeYFav3eC4nrDnrVqlsjnt1Mambp2abnXBkmWrXKyasOuYnj4CVapUMi3tqg5MfOK9WL1mg1lpP+vRX0uqlS1Txq4kq28a2/9l7Gf41u073Io8+Y4Zhkv9urVN01Maus8zTBBiNR9Wy8j3ZLkeqiEn2QnpIEM7rF2/KShLVtIaN6xv+p/fJStlRSmExHwIStLZ6tSuEZIzu8kHDx0yO3bsdp0VHbSqHSDKWi8r+TCTbXbvytKIABEgAkSACBABIkAE0kVAfmRge9D+eEBwUMjX4HtbtWqV7Xe5MukWndZ12foeS2I+EX78KHzn3SmJJ7NwpAnSVIqbt3CpmfrZ5+6SfBFtUepXunQpM3jAuaZ2reS/o0DQfWi9yBcvOSrbgd89Qy7s5W4xbuLUvMoF5ZuYH3zBuZZ0q+We1duvLr7ofItddZcGIm+sxUIsm8R8+zNbGEyewECU/u+l0XIbbvOMQC6I+RuuGuxWa+FRPp42x8xdsCT+VPkaL7BiBCtHYFj58dqoiYVIuXilitkOVr60OO0Uc6olJkHOwz6wK3EW2RU5QXZRvx6+JOUyOwk78YPPgi49btPOaHGqwcoKkK8jXh+b1+dA21zQp5sv5vhO94mdANfvTl4rd4xuhol0kNOQTvOzr7buMO9MmGKdT/b7JRtMcgy0/RirsbyGNh5jr91gJ6TF8I6c3/NsOUy6fclO5uH7da7twr7dkz57tu9NYj4E0Wz9oAm5jW8yPOfR4WR2rlLFCqZSpfJulkouIEEvSHBLBIgAESACRIAIEIFjg4AQ8rg7dHP37Nlv9liNbxjka0A05tNT3t3Y/snW91gS84JobPvZzLnm87mLE09m4Qh6z218Ao4JOYtbbPnqqNSJ3PKL+V+aL60nJSxfRJvcO2iriWXkwzsB3fZKNsZCTasxXc560Yq98ta7TmoDx40a1DUDendzSWMnfmS9SzdKtpxv803MY2w4u0NrR1J+MuMLO3bExg08KFYYdGp/hlthAFJoryI/sknMYwLlnI5tLHlS0XlTa6Ik54DzBgkI5IKYB6mGcQVerghWrT+v8jVe9Ox6lmne7GT3rDM+X2Bm2v8lwYZceJ6BXrXXplgZtAVWDi2ZDbITmtDjF8MEP5w1xeBx/O77n8hhsdmea/vJ6QX9JFOJrlRAASl/+dC+hQjkI5aQL2UdK8Q+mGonVJYET6hI3uN9izgQ6L/aoQT8JLDSHOSu3XvMS2+MTxhX8Oy4Ht8B8Pkihol4mZySc8NfeSdO7GPlFhwUwuzlN8ebHXY1aq6tbevT3edzru+D8knMh6CcrR80IbcJTJaAsJIJS8HwRRaDM5aSlCp1dLCQPNwSASJABIgAESACRIAI5B6BI0e+dmQ8fjjD23S//S+Wz0Cvck+9zdb3WBLzR1HFD9PR4z7Mqxf3jVcPdhM70Bp/+oW3jlbGZy9fRJvPrRNO4cc36gLDj3H8kN61OzHoaYc2La13ZAsDLXdor4s1t96l0F2HFXdiXp451W02iflU7838uUMgF8R8UG3zNV70Pe8cc0rjWFDl0VaSab2VZioJNuQCS8xbGRqvBRHzemLSeY5b72B4JMP7+LLBfeNE56sjJyTEnfDe43g8HtC7q52Yreeqnk9i/txudkLg1NjEEeRrPp0+101247MLEiy9une0n197zCtvTShEQB+POEepc4UK5c2VF/d3ziVbvtpm3p38qdllnYZBymMCu1vntnGS/f2PpheKTXLlsP7xiQ7ETvnUTjyvXbfJXX92hzPcZCECl+vPfkxSgwyHTZ46w2y1Hvl+hvL0BKNfnmycw6TawP498uJYQ2I+pMWy9YMm5DahyfgRsHfvfhc4LDQzMxABIkAEiAARIAJEgAgcMwQqlC9nQMofCy95/dDZ+h5LYv4oql65kaMpudtLi5i3uu3PvXw0+GsDq21coVw5s2bdxoTJo2S1xo9veOrXqlndkT+bNm9N6YcwSA6QHbBlK9eaifZHvZ/B0QiTWtpA2J/VLhYkMgoxj/cM3qUgruCRDw3bKAZnp7on1jbYQioGWvfQcz6vW0d3eVjwV3i0Q4YGk3HoF/i95mdBwV/98kc5dyyIeXj343kPW7JqjV3FAOnVdAwelHUs4VGjWlUba2CPkzLw9oGwctE/4QkOZzVoQEetC8ZmSIuUthNHeBdSjW8Asqpxw3qOMNpsyapMrLZ9tyDztH3HTrOx4P265rILTUV7D5BOYcFfQRrVrFnNIDaBDgycSp2OBTE/atwH7j0NqyfUAhra1TMg8f1kK7DCA/2xlO1P+KxLBwNgDSIY8UL8+gL6apPGDWw/3ev6aSZkYOezbBDoMwqCQAd4zGsy//XREw3kQsQanlTXya3geOXq9Wb8ex9LUuRtJv0GY20TO8GClVvbbL/1M0wslC5V2o2JUd9LKUc/exRiPhtjSaVKFczVl1zgqoDJ7xdeG2P2e+KelLfjxiE73iE9HUt3vJJ75bOfyj2xxXcAvB86LoWkYzUXgkrDEDAc5LyYnlzH5zFWxHkN77esLJU0vbJmuP3+4vdOSt58bfMlZ0NiPqRFs/WDJuQ2kZPxYQBvLHx5wVJpDA6ZfEBEvjEzEgEiQASIABEgAkSACBRCAD+48OMQqxhBMoIowrmiYNn6Hkti/mhr4gcqAijm09Ih5iF78sboSVYftqsl16sl9El4v40c+0FSIrld6+bOk907sYQApCDKo5ATLWzwvB5d2juYQOK88fakUMi6d25n8IPeu9RdLsTvn2dHjJJDt4UnLoLS6XcO8gNz5i0202b6txOe60KrJVzPBqTTBoIdus9CniUj5kGOnWc9KEGWaAN5N9qSjl4SMYiYh7Y7NN5hkz+aYRYvPaq1j2DA3SwmsI8skTdfSV8EEfMYh+CtWN5OxMDen2K9GQukjtwJzx8EOUR5MD+JDEgsdT+nfYKUBvLiNykkdlKRduhzbmfnOa3bC2Vh4mfMhI/MgYNHVxzhPEzkQEC8jp001fTv1cUFZoylxv6CwAH2ychZkECQR8K7oA0eyZM+/MyRnPq8tAv6Olap4J2AJ6eWX0I/m2yxXbJ8tb40dB+TP93OblcIT2AP0hREoR8xD8w6tGlhWlkdbkwwaENdEATaTwNb8EN+kP2aO/Aj5rFaBe8hzKtJ704W/NGEFaQsdu4qLC3R0vbhrlaaItk7/eyLo9ykiujgo/4LFi03A/p0jXvberHAJCMmz9Cm2jA+YGxGzA2v6T6OflLRXovxBoSrGPoQJhAxzmGSb4AdOyHHoQ0Yz7HSYelYFGIeYxPGexjqA3LSa4IVvLn/+3zwCipcm26/kfsAT7QL3h9MRorh3Zk9d5GZNWeha99+vc5xk2W6rTF5AMkd3efker0dNrC3xbpK0n6yYdMWM8p+ZmlLZyzR18u+JpghsQSppUxM3rd0xqui0E+jPjvebbxDMG8MFC1j551cCiq/n9WzP9kGXYVFmZgJKitbabp/ZKtMv3JIzPuhos5l6weNKpK7RIAIEAEiQASIABEgAkQg5whk63ssifmjTTXh/U/N8lVrj57Iw146xDxIG5gmSXRVQT69bSUlvAYPOPwQTWYgi563mrBhRAvI4euvHBQvBsvY58wLJrT0j/L4hWpHSFI5NbB/T1PfQ65LGrZeskDSLh3cpxDhJml660fM17We+YPsfb3EslwHgvStt98zWGovFkTMB6V1bGdJe0vEwrwEaRAxr5/Pj2iXeskWntsXDzzfHULPH5MvYo0tSYLgf0EWJMuhrxs0oKdd2ZA4GaLT99oYBC9ZySOJryZp8qzS54KwR5/Gqglt5cqWNVcM6xefqNBpsv/J9Dnmi/lHg6LqdsG7cpL1sk9mI6zUCCQeolgUPFGOl4zGJNAVBbISQffxTuAgr+CH/SjEPPo4gjbDoOMMGSo/O0rqHzTPJQkYrFe/+JUhxLyUhVUM8ILH+CEGr9oXXh3jDvG+Iyhqsj6ATAiE7SXndR/HRKGO2yH3wRbk/jjrhY6Ju2RjJ4JdQpIjVYtCzNexKyiGXtTLFY3JNEyqee3CPjYgpZ2cgAF3LZ/nzZtJv5E2gYQLJkGS4YF3rlf3Tm5CyXt/HPuNo958IuHkPS/H3snddMcSKU9v9Xj59Asjk05Y62uC9uV9S2e8Kgr9NOjZdJqemMMEjZ4Il74DBwF8X4hqElsh6qRT1HIzyYcVM33O65xJEZGuJTEfAlO2ftCE3IbJRIAIEAEiQASIABEgAkQgqwhk63ssiflYs4C0eW3URKc1m9WGCiksHWJeigSpBQ/Utes3Ok9beD+LeUkd7eUOcvQDq/EKGRrIMsE7EYQZDAQ7iPYwu2xIX1O9WpV4NnjUfmqDTy63ZfoZvIWhx9zy9CZxj2iQU/Cmhu3YuSseCFZrVoMUfXfyJ05eAWX0tzrF4lH81pj349ejjAss4QaPdxh+/KP8eQuWOu/c9lbvHsSYmJdQgvfsMEtgC0E164uFbon/CeYE08lq5p5hPZlhW7ftcP1EytEkL/R0oasrFpSWDjEPT/7TmjZ2xSeTEJB7y1aTQV5iHgERq1WNtSHkCuCRvG//fnOq7UddO7V1pOCI18dKUUm3GndMsHxsifAVth9g1QJWBcjqA7Tly1b2QCaWUKAQXVI4JocQfHmFnSAD0d/17LZxItf7zFjNdMXQ/nHSEJM1WJmAMuC53sOuBEB7ok5YjSH31e0i98Ukx+IlK90KqR7Wq1zI4yiTHygDOA+xpKsEk4RHLbyv0b+bntzAyUJI3/IS87heZG5AlqMPrbLeyBUqlHMTacARBgkOLWGFcxq/KMQ8rpF7YR+kuFdyoomtL8YE2CKLCcYKP4OHNaQw9DuNVSmYuEJdZbWBEHlSBsYfvJsg6tEm8LzGuznYBqMU/JA2ffZ8t3LjTBs0Eh68Yl7Na93HJQ8mXOAJjomb7ue0KyQ9B0IaYx3GHbR3ZRu0GuZ9v6W8sG0UYh7jc68enVxR02fNNxhjvAYvZXlW7/jmzYtjactU+423TfBufm5XImEcxwqaKpUrJdwObTZ34RInLdXOrgKCpA0M7Rfm2Y/4A8AX46gEG8UEixjaCrjDMhlLpDy9vfHqIe6d1iQyJKsaWqks9FO8p6mYft9wXSrjVVHop2HPikkxWa2AvJiMHv7S2/HVTvicxGQHTI+NOF/Lrs5CW+pA5i5jwR+ZJEFfmr9oqZWas5N0ZcrYmD7b3Hi3yo7fMkbr63K5j36ONpXxPlf3IjEfgmy2ftCE3IbJRIAIEAEiQASIABEgAkQgqwhk63ssiflYs0DLeeTYyVltoyiFpUvMw6tzjPV+Fs893EuT5eOsLMgqq88NAyF4g5VQAOmFH9ojXhtbiIy7+tILnOcktNThWRhm+EF9+cX94qSr5IeH53wrjzDTSiD4/cjWpLufxjy8l+E1C9uzx3rTWk1gbZCnuNZqdYNAgA74m9aDHab1mXGsnx/HsC5WdqO1JflgXmL+8qH94lIOkz74zCxdscblkz+9LVEJghWmAzNqkjeXxLyWFoDMzIu2DaNoPGsyyEvMCznnR64BX/z3a0PBBFsQswjqCENeyJ5A9kcM5PmVwwbE+wlI989mzpXkBGIZRM8EKzei+zQmYdA3hdRGe4v+OwjVFgWyLEut5MykD6fFy8XOqTaw4/k9z3bn0B9nWKIXptsMdYbMDgglMXhuY8UGDATuiNfHSVLSLTzeodMP804g4Bz67VUWhzJlShfymEc64ihAgsU7sYU2gMcxYiXA8D7gvRDTRGFUYv4su1oDsjkwSCjBE1+b9paFRz1I3yDT77Sfxrz0M5SB4JsjXhtXqO/qYJJLLGn/nsebXE8selfX6D6Oe3glaXRsCaR7V9uAqMWYAgNp+MyL4eOfy6z+RCHmIWsFGSXYB1Nn+spEdWhrY3DY/zDvBIQ76fmTbr/RbQIN/nGTPo6XjL523RUD48eYuMGktdZmvw59skAqCJN33uDf8YvVjkwi4JSflEmmY4m6VXz3lusudvuQeJtlpeogwSYyYEjAWIOJMO87EC/As6Pft1THq6LQTz2P4w4hsQP5qMo2rgPaHmMODO/q2IlTEya/dfBiyByVtuNZq9ObunHNXWT/4B2a8umsQgFjr7pkQHwCTPLqLfoXPluTEfs6bzb3sYIIkwS5NBLzIehm6wdNyG2YTASIABEgAkSACBABIkAEsopAtr7HkpiPNQu8ZScn8QzNasN5CkuHmAf57ScvAe9i8ezW5BTIaJDSMHjxIs1rmjQCMYUf12EG0hV62qc3Ozn+Y16uwfXwwPbqYmsSz4+YBykv0iLQrofMgdcGX2B/SFsPf42DloDwI2lRRvNmp5ieXTu44jQxDykHkL+wZB6zOoigltPQJG+uiHmsFIC2MQxEMkgykL9RTJNBXmJeEyV+kxFRyteSQ34kL8rQBDkkbZ4vkC5Bmia6vMQy0mH9rO48Yg3AdBwIyCnB0xGYYDJJE/ous/0jWtqYyIJMCUy3mW5Ll1jwR4hLv9gHOh/2NbGLOkA73E+CRCQ9kAfPGtW0DBQIVBCpYkH4yTOAYHvOer2KQev8hqsGuXfWm4Y8fl7Gcq3fVr/TYcQ8pFH0JAjKgzc1+iIMbYnVDSDfvSaThzj/np2EEY983cd1O+vrhaDFpNb/fKR5wkhjXZbffhRiXk8k+Y19KFdPwM2YvcBOcC7wu12kc0H95mjf8P8sucaOh5gogvl9Huh30tsnk1UuDONMxxLvfUEw33ztUHcaE87euCo6P/qkn/ybzoP9oPdN8mps9HhVFPqp1FFvm9oJzN4FE5hyHni9aCck91m5Gm16ggxjY5CnuVdCTH/eYMJz2/ZdblUQgtDLShl8b3h11ITI8mG6bunun9v1LPcdJt3ro1xHYj4EpWz9oAm5DZOJABEgAkSACBABIkAEiEBWEcjW91gS87FmgWwCPMDybekR84lEm9S5TavTHOmIY60Lq4kzSCj4BXKsbz3VIUkBG23Js/XKg9idDPiDH+dnd2htTj/15ATPOVziJWt1XfzIKU3egHzzM2jlw8tPE5yatBtvdaQhj+G1ZMS8lpjAc2s5Gl2GyFAgHSQ8TJO8uSDmIV0inta4H4ItwlMzqmkyyEvM67qjvG07dlqv8gVm2YrE1QJB99LtNdzqDXuJHLlWiEDdZkiLQnQhWCmClsLgUQ6vek26wcPyk2lzXLr3D8hQeKlrPXX93N42k+uF9Pd6Z0u63mrpF6wWwGoGP4tKzENjvKnVPoaEDaQWNPkVFI/AO7EhmPuR73oC7K13rCTUlpiklF55gkk13C/M9DsdRMwnI8UhzwSZJphfIFC5v17xot/BoD4u1x7Fwp+I1quN/Ly5pZxk2yjEvJ44ffc9+x6vLvwe60lUSIMh0HVUS6XfHMXD/7NEZEdwb0jVYMJEm5bc+eBj6/1vJYzCTI8Vfhjr9HTGEu/99YSrpCHWBD4bMU5h3D+321nx1Th+k0ZynWzTHa9wfVHop/Icelundg0XRwDjDCYZhSTHWI33DJOX2Id549SgX0y1Y8TiJStsH/nanNPxzPiqNKRhEkwm+SErhXdg4ZfLzXoVKwRSZ5CRk4mgBXYVD2Kb5MsQ6wXScrk0EvMh6GbrB03IbZhMBIgAESACRIAIEAEiQASyikC2vseSmI81CwLxQfc435ZNYh7e8vjhC9PEPLyt4XUd1aJIKCQrC5MDkMoAGSoGIlUkOjSJ50fMi4ezXBu2FYJHX5csyF8yYh7SEZCQiGog/UH+w4JI3qC0qBrzO632s0ik4H4gzSdaqZ2oFkYGad16KROekNCbjjJRpXGXtpBy9FZLXzz9wltxj+goRBcmjQYWyBuBQAaRDEwgHxPVtMZ0ULtIed+wUh7lrKxDFGK+XWsbVNnqZ8O8siBSHrZhxDxkTlq3aJZAxOvrse/1Qg3CL4h81UFgdZ0RDBhBbGEI7BhFVkK/00HEvN8EAe6jpXWCVi7pCRpo0EOCCBbWx5HnKBb+xLwmooP6McrysyjE/JmtmlniMrZyyS+QL8pFcG6QnzA9broTSf6k02+O4uFPzA8b2NvUqlnN3dGPmNeTJNki5jMdS7zwQP4KzymG+BOLl66UQ7fVEyFRxtag900K9huvkFYU+qnUMWiLfor+LJI2ehJMr+iAV/0bVlrMq9OvJ/2i9mGtXY8J4lffmhBUxaym6YnBrBasCiMxr8Dw283WDxq/snmOCBABIkAEiAARIAJEgAjkCoFsfY8lMR9roSjecrloy3wQ8xdfdL6pXau6qz68Vr+2/4JsvPXm3KA82oLy+qWBlAexg+CQsJVWemN8gYaxJvH8iHnxVMZ1IPKCDKQpglfCopA6kNzBsnWYJhtAbEHKB4YyDx0+5PaT/Zm/cJkLTIn0IJI3KC0qMe9XhyhBIeW6KGQQdKrPsVJH3skb6DKPHPuBxSS5rJG0l9cTXu4vW+0Nq6UxohBdCB6JfgOTWBAIPAwvZxjufeDgQbef7A8kkd55t7CUTTKP+XSJeQTRxcSWnwUR872sx3izgsC+uBZSRSAK16zfZJrY55fYCNki5nEPaRN4tkoAT3mPomrroxz9TqdDzOv3D57XIHr9DCty4OEM05I1Ufr4USL62BHzkGOCzAlMxzxwJwr+QGoLE4gwSFZJUNSC5EKbdPvNUTyKDjGf6VhSCBx7QiSMQB5Dv9zPJA/GCMinBVm64xXKLAr9NOjZdJqe+NRje+OG9Uz/82MxRebZWDI6iK9cr8drLeUj6cm211t5LcSu0eNRsrzZPK/j2mSzXF0WiXmNhs8+Xj50NKdrVCoW5MAnG08RASJABIgAESACRIAIEIEigwCWDH+1dbvzaBLCNd3KkZiPIQcPLXhq5dvyQcxrreFkEgrZfm7IcAwqCKCJ4IFCoGsSz4+YF/IS9fFKcwTVUQePhP6+n8Z3Mo95TdhDtzqZhI7f/YPI96C0VIh5kHMImCqEiPb+9quTPheFDJL8kDGAFAE8CMVwXwRsTWa6vZLhjmuFCNQkD85HIbo6tLEBMdvFVjQss1I2Ez1SNkHyMbiH14LaRfKmQsxrsgpSSJCC8jPByouB9qTGxBnIQayUENPe2Nkk5vVKEcQYwGTAxVZSAjbz8wVmhv0fxfQ7nQ4xr9+/IK1vjcMiK52BAKqwKH1c+p+OS6GfLR8e8zWqVTWXDunjbqs9/nU9Lr6ol51EreFO6ZUlOo/sZ9JvjuJRdIh5eT/wfOmMJYKL3spEEwJlP/viKJ0U3xcsEMAWgWyDLN3xCmUWhX4a9GzeNK0J/9Ib49yYVMUGiEUwbxgm7/G+ew0rLTAxD8MqRKxGjGLXXYEg1+Vc1nRWrUS5h18e/V76pWfjHIn5EBQxcwbNo+rVq7jZmZDsTCYCRIAIEAEiQASIABEgAsccAfzI3G4DZ8EzGUuAMzES8zH0oso2ZIK137X5IOZ1YFftve5XnyjnsMQdAT0l+KLfNTogptb31iSe3zJ3CeyKMhGMF9IWUWzQgHMNPL9h02bOc1I+3uuSEfNVq1S2sij9XPZ9+w+44J3ea5MdB5G8QWlRiXnUB5rl8FrXz5gsiK+3nlHIIO81mmhOFgxXrhlygZVJqhOTSdLySZKObaMGdc2A3t3cKS++UYiuy4f2tasvqrjrtca6kG5IwMQPJoCiWFC7yPWpEPPQSIb3OQzcAlYE+JkQj15iXktN+U0QakI6m8S8DgK7cfNX1jt7p2lh9fxh/xsxOnQVgjyjfqfTIeb1+4d+/owlUIGR1yBdJLJOIOVBzsOi9HEhX48lMY+6SmBdv36CcfVGK70Cje9ksj8oQyyTfnMUjzwS8yqgrB/xmulYIrjorQ4o+/roidahYYdOTohVEeWzMZPxqij0U/3w6G9+75nk0ZNVIywxv6tgslBWNiR7V7U0TNTPcASSx3iOOkWRD5M6ZmOrx+9slOdXBol5P1TUOXQufDmobGd+0CA0IkAEiAARIAJEgAgQASJQ1BGAx+xu691VoXw5U8VqLWdiJOZj6IV5J2aCcdC1+SDmMYGDH71iI8dOdpIgcpzqdtCAnpYEr2222FUb71jvYD/vdARKRXA9mA4i2a1zO9OqeVN33k+2QgfSBHk1/JW348Hj3EVJ/ujJB3gdI3gglsSL4Yf/0At7uaCxOLfQSmZ8qCQzdPDYVJbfB5G8QWlRifkXXrOE854Y4YzJDtQTxB0IlZffHJ/gWS3PqrdBZBA0u9daqRQhXOS68nZcgSY8DGkgZZKZbi8QNSDIdX8A0QJCFZ6WMK/8gSa6IDXh1Ss+pZGVsekVk7HBM4P0BnED693zbNPUThDBoshQuIz2T1C7SJ5UiHlcoycJ9OSBlId6nm/fCSHDsBpETK/28GKAd3eo9aKGVycsm8Q8yhM96CMW2/32cwUBGFPVeM6UmEc99PunxwukwbQ8Bt5rxJEQUjGoj8euPrpi41gT87rPejXPdawCPwzkWWSbSb85FsS8DrALWSmMPdoyHUt0WbKvSeJNm218ijHvS5Lb6rFAT/YkZFIHmYxXue6nCP6Lz9zFVk4rLHg73qc+53a2K7Hm+QYYxnhzyeDebrxCzJFnRxxdbaDfdwQLnzkncWWNxgirFOBIguDdmPCFNJpf8HldJiTUoF2fL8N3A0yY5dJIzIegu9+S8lgmhgjE0KmjEQEiQASIABEgAkSACBCBoo4AJAfwYwnegyDRMjES88YSuF9boudNS/RkgmR61+aDmEfNtBwICK1ZXyxyP8jRj+Cg1L5NC6dtDK19BNhMZtAhh6emGEjSdRs2mdVrNzqiBb+p2p5xetyLGvleeetdJ5OB/RanNTE9urTHruvD702ZZgNmbjCQvhEyQXuGg5z/wHrOQ8IE9cYKEcitwEv7+VfGxMl3EJ7fuHJgfBU0vKexhB5kDEjRs89q7Say3I3tHy8xX9/eHyQlyoHBexL64yDFQY7C2x4YYTJh2qx5Lg/+tLHP2tmWDfOSaZr08WqZRyXmvZ6lWo8b4wCwDbJkZBACfCLQJzCdv2iZ6wuQcgAhA51rBAeFaS3+ZPfRnq7oT9KmdWrXsGT02XEvZ0woQhIBbSqmSRycg/TB7DmLrPPcfnNGy2a238a0/5E2ffb8hIC0GPsuH9rPyh+URbIjfCZO/sxstsQO2rHhSXVdX0GdNCEX1C6uIPsnVWJek6ooY868L80X8780FSqUM21anW5OO/WoPBAw18T8hX27mwb1T3S3xmTXhPc/cUFXT7UkG4JsQndZLBViXms2ayJbysIW7xHaT5v3HjrNb1+Taul4zKNM6DwDB3n/lth+ANLwkCX1zrABcUXKCHm9Ex/J+jjyih0lorOjMY9xqE6B5AzugfZFf4OtWLUuHuwafR6yNWKIu4E+C0M/gGwWxjbo5+O9EwuScpE8mfSbo3jkz2N+QO+udvVMPVd9TMBhxRTG12rVKhuJmZPJWCK4eLdakgWBjt/7cLpbDYIJYkwUw9AW/7MSaBgrgiyT8SqX/VSvUEP9wzzV9UQiiHCMu0uWrXa4oC8iSDE+92Cr124wYydOdfv4g3EXK4QwQQybPmt+fIXaeTYGhMTKEIkx/dyYAFxq77Ns5Rr3uY/3ofs57d377wqzfyAFJt8F5Fwut3iMm6+9OJe3sN+NNrvyq9u+jqDE+O/QK8Aw6s2z/X39hC5dumTla+/7kwtrGkV9KOTDC4jZdVjNGlUNlnPRiAARIAJEgAgQASJABIhAUUUAXqmQHIBBX16IjHTrm+0v+t56pPx93X4/xw8FeEXi//Ydu12RDerX8Rad1WMvAZrVwgMKyxcxjyqAQAaRrA2/h3QfAjH4xuhJOkuhfZCI8GLWhGGhTAUnEAgTATHFcC88M36Yeg1eeUKM6IC13nxy7JVO0VrVkkdv0Z/kvl5iHvm05Ipc58XHu8y+UqUK5upLLpDsjmSDBjosiABOl5hHuRK0E/tekhLntGlSBJMn0PWHdbeEVMuClQuSH6SJkC04BwL91VETCnnUS37Zok2HWW3ymjWqyalCW3gqv2xJee1Nj0xeoqvQhQUnEAh1otVB9xomlUB0wtEuyNCn0bdhQe0iZaRKzOM6aC/LygApR28FX/QpTcyD0L2gT0zqR+eXfbSDkGRe0lzj543JICtbpBwEeMU74DXdn1A3vSrBm9fvOBvEPMqVySK/e8g57+QMzifr43INtkeJ6OwQ8+fb1RqQ84pi3s+Ws9q1Sphw8paBgJpYWRJmmfSbo3jkj5j3mwTCM8JZ9rmX33aPm8lYkgwvaJ5jtZSM/X75xtng5CDtw0y/b0F5/carXPZTHVgY9cJqBAl27VdPTJDgvYW3eJBhxRRiXnjH7ZanN3GEerJrMWZhRZfIi+mgxsmuwXmM8cAu3yYBgHN1XxLzEZAVORvMMgV9kEYoilmIABEgAkSACBABIkAEiEBOEYBX6z7rhZcNGRtUlMR8rLm85ElOG1EVLp5r+CGbTJtasos+cbLgn1pD3UtaSxnwuIYHr98PcgRexHJ+v6Xmcr1s4dAEaQ54upYr8FiWNJB7qCMCSq63AeK8BskCEFuaBEYeHZgWBA2CnYIs9xrIRZD9U6d9nuB9jXz1bX0G2OuEyJRrIc/xzvgp5spLBrj7eiVVJB8IjnO7nuW7EgVa+R99OjvBAxbXIWAmSBeY1tPX3u3w3odXolgQMa8nJfz6JZ5xoPXuh3knCqR82WIFAyQkYPDkfdd6Y4tBk79X906+cljwdnzrnffjxIpck2yL9oIHL/qD1+DZP9oGCUSf8Jomuj6dMdd0sv3TS6B56+0tA7/hL+jT3XcFPGSNILXwxfwl8cuC2kUyiR58GL6SH1tg0M9OWIFg1ob+CskHTOKc0eJUR46DJNcGKSZ4haMMMVy3dPkaM+XTWXEpKi8xH9RXQByf171jHM9knqgaj1QkgaSempgHiSeOj5IeNm5JPmyxugWyF96JFmAxy66k8Mpm4JqgPo50mBDRycZO/Q77vXOxUo7+zYSYRykg59u1Pj3eNjiHZ8Q7gJU3US3dfhPWJgjeCUIb5p3wwblOHc6w9W+OXfOBlQTDSqIo1vXstu4d8ObV90h3LPGWqY+xEgiTyegr2kA4f2RXRi2NSAZnMl7lup8iTgriNcCiBLLFd0i8uwg27P28RF/ESo/x733inJk1ZrKP8aWb9XaXFUtyftfuPQYr73QAa6ThsxwrFCpXqpjQ75GG9xKrR7zyRkjLh5GYzxDllD1wfO6nvY4YBNYHIJ4iAkSACBABIkAEiAARKBIISNBXVCZbqz1JzMeaNgoZUyQ6QRYqAeID0i3VCwIHb7ZyL/AmBqGejoHkh/dmJatPDVIuSApHygcRUL9uHVPT1mH/wYNuubxoqUsebOGVDw99xFJA/19nPQG9P/h1ftlH/ob167qgqctXrS1E4Eu+ZFuQUnXrWDkXi9WOnbvMho1fubKC8gMDPH8UciGImE92j1ydR38ASQ+CBhMLa9dvjOu4p3pPyBw0tO2FGG6I5Yb2AkmUzDTRJe8gPGvR5nCgAzmEcqIYCB/0a9QBnpqYaII3br4NEwuoP4g4yDx5A04mq0+5smVNQ0tegeiCBJN4+CfLH+U82hYyKygbwVJlRYq+FnI5ra1sECyKzra+Nlf76APoj5i8w8QO3ql0x6dc1TEb5UIaDCvfMmnvXPSbbDxbsjJACJ9sY0eUL1/WxcqBbBgmpr2W6ljivd7vGNIpJ9U70RLDJzi5Ib/JQr/r5Fw2xyspM5tbmVBBMOeRYyZHLhpjDtoEn+Vr1uEzNrZSMUoBeFfRjzEJClkm8KthhrERcmlo95Wr16X9eRN2n6jpJOajIpUkXzaIeRQNj4C9e/e7mSLohdGIABEgAkSACBABIkAEiEBRQwC6rPghU7Fieed1lI36kZiPoSikYDYwZRlEIAwBHQQ3qnRFWJnHY7omurTX7PH4LMdjnbHyBbI9IOSwOgCrdoojAX48tg3rXPQQKMrjFSbGoaePybhpNj4DVs3RoiFAYj4aTklzZYuYxw3khw5mi6ramTQaESACRIAIEAEiQASIABEoKgjstJ6sWHYNT+NsOpKQmI+1MIn5otLTS0Y9Bg84Nx5gFbrv0H8viVaUia6S0B5aksUbvLgkPD+fkQikgkBRHa9OaXyS6Q15OLtaB98Th1vNfk6wRW9ZEvPRsfLNmU1iHksutm3f5TowyXlfuHmSCBABIkAEiAARIAJE4BggIKQ8PKFqVK9ivRtLZ60WJOZjUJKYz1qXYkFJEKhjpTkQIBVL+FucdkpcTxyBD4+F5EqSaub1dFEluvIKQp5v1qn9Gc4RsZbtizLJCy7kfy+9HUmGIs/V5e2IQJFBoKiOVxKsGs7GkLA5YOXhaNERIDEfHSvfnNkk5nED6Bbu2LHbkfPwRoI2HnQNaUSACBABIkAEiAARIAJEIN8I4LvpbqvPDPkakPLVqlXO+ndTEvOxViUxn+/eXfLuh4CtCNyqbfNX28ybb7+nT5Wo/aJKdBXnRrj+qkEJnyMI9Pj66ElOQaA4PzefjQhkikBRHa8QBBjc5RQbyJaWOgIk5lPHLOGKbBPzKByzxQgoJAEoKlQobypWKJdVz6SEh+ABESACRIAIEAEiQASIABFQCOD76N59B8y+ffvdWTiMVLXBLLPpKS+3IzEfQ4LEvPQIbnOFwKWD+8Q9lCEzAFL+7fEfxn935uq+Rbnc87p1NI0a1jMgh194dUxRrmqxqduVw/qbCuXLu2CNCKo6+4tFZtuOncXm+fggRCBXCHC8yhWyx7ZcEvMZ4p8LYl6qJAFh5bhs2TKmnNWfxw+j0qVKu0jOksYtESACRIAIEAEiQASIABFIF4EjR742h48cdgTdAasPevDgoXhR2Qz0Gi9U7ZCYj4FBYl51Cu7mDAFoAEM2dW/BpFvObsSCiQARIAJEgAgQgVAESMyHQhScIZfEPO7svJX27jf79h8IrghTiQARIAJEgAgQASJABIhAFhGoUL6cASmfCy95XU0S8zE0SMzrXsF9IkAEiAARIAJEgAgUfwRIzGfYxrkm5qV6WGoo3kuH7NLiw4ePMMqxgMMtESACRIAIEAEiQASIQEYIQD++dOlSpowN6iqrNHEuH0ZiPoYyifl89DbegwgQASJABIgAESACRQcBEvMZtkW+iPkMq8nLiQARIAJEgAgQASJABIhAkUSAxHysWUjMF8nuyUoRASJABIgAESACRCBnCJCYzxBaEvMZAsjLiQARIAJEgAgQASJABEo0AiTmY81PYr5EvwZ8eCJABIgAESACRKAEIkBiPsNGJzGfIYC8nAgQASJABIgAESACRKBEI0BiPtb8JOZL9GvAhycCRIAIEAEiQARKIAIk5jNsdBLzGQLIy4kAESACRIAIEAEiQARKNAIk5mPNT2K+RL8GfHgiQASIABEgAkSgBCJAYj7DRicxnyGAvJwIEAEiQASIABEgAkSgRCNAYj7W/CTmS/RrwIcnAkSACBABIkAESqgd4oMAACuLSURBVCACJOYzbHQS8xkCyMuJABEgAkSACBABIkAESjQCJOZjzU9ivkS/Bnx4IkAEiAARIAJEoAQiQGI+w0YnMZ8hgLycCBABIkAEiAARIAJEoEQjQGI+1vwk5kv0a8CHJwJEgAgQASJABEogAiTmM2x0EvMZAsjLiQARIAJEgAgQASJABEo0AiTmY81PYr5EvwZ8eCJABIgAESACRKAEIkBiPsNGJzGfIYC8nAgQASJABIgAESACRKBEI0BiPtb8JOZL9GvAhycCRIAIEAEiQARKIAIk5jNsdBLzGQLIy4kAESACRIAIEAEiQARKNAIk5mPNT2K+RL8GfHgiQASIABEgAkSgBCJAYj7DRicxnyGAvJwIEAEiQASIABEgAkSgRCNAYj7W/EWFmK9UqYI5udFJrlIbNm4xW7ftKNH9kw+fPgIN6p9oqlWr4gpYsGhZ+gUdoyvr1K5h6tSu6e6+bPlqs//AwWNUk+P/tmXLlDHNTm3sHmTLlm1m05atx+yhalSraurXr+Puv2r1erN7z9681CWXGLCv5qUJeRMikBMESMxnCCuJ+QwB5OVEgAgQASJABIgAESACJRoBEvOx5i8qxHzzZqeYnl07uEot/HKF+fDjmSW6f/Lh00fgkkG9Tc0a1VwBTw1/03z99dfpF3YMrux/fhfTuGF9d+e3x39o1m3YnNdatGre1LQ7s7nZvmOXGTdpqjl8+Ehe75/Nm9WuWd1cPPB8V+TqtRvN2IkfZbP4lMrq3PFM06bVae6aKZ/MMgsWL0/p+nQzh2HQs0sH06hhPbNsxRrz8bQ5Kd3mWPfVlCrLzESACCQgQGI+AY7UD0jMp44ZryACRIAIEAEiQASIABEgAoIAifkYEiTmpUdwW1wQIDGfWUvedM0QU6pUKVfItFnzzOwvFmVW4DG8OoyUzmfViiIxf6JdmTHkwvPiMLz0xjizc9ee+HHYDon5MISYTgSKLgIk5jNsGxLzGQLIy4kAESACRIAIEAEiQARKNAIk5mPNT2K+RL8GxfLhScxn1qw3XDXYlClT2hUCD+q5C5ZkVmAOr75sSF9Tvnw5M3f+EjPri4WF7kRi3pggDKpVrWwuH9ovjtsLr40xe/bsix+H7ZCYD0OI6USgaCJwwgnG3HztxTmt3Nr1sdVe1atVdpO9mPC1tzUGN0/Bsv19/YQuXbpkZR0difkUWpFZiQARIAJEgAgQASJABIiAB4Fsf9H3FG9S/r5u5TbwQ+HIkSPu//Ydu12RDQo0ib3lZ+uYxHy2kGQ5RQUBEvOZtQQ0+tuccbrZun2H+WzG3CItBSQen4uXrDSTp84o9OBBpHShzDk+URQ95vHIZ7Q41ZzS+CSzZNlqs2jJipRQIDGfElzMTASKDAKlS5cyN149JKf1ITGfU3hZOBEgAkSACBABIkAEiAAROL4RIDEfaz8S88d3P2btCyNAYr4wJsXxzAnW6/Lma4e6RyMxn7yFczk5QWI+Oe5MIQJFGYGKFcqbay67MKdVJDGfU3hZOBEgAkSACBABIkAEiAAROL4RIDEfa79jQcyXL1fW1D2xtsF29doNZt/+A+a0Uxub87p1dJUKC/4K6YqG1qv30OHDZp1dKn3w0KGcdMaqVSqZunVqmcN2FcMaGzgyk/tAy7lmzWpm46avzLbtO3NS36BCK1jM6terY0rbpeRr1m10mAfll7SqVSqbk+x123fucnVPJZBq6dKlTdNTGrjn3bxlmxSZ9jYqhlGIeUi11KlVw1SrVsVs2rzVbN22I7Re8DCsY9uxRrWqZveePWaDbcuDBzPre1UqVzT17Ltw6NBhs9q2y2Hbp/v16mJObpS/4K8INPv110dckNl0A73WqF7VnFinpllvA9VG1SjHNXj2Xbv3mLXrN6XsmQ/srhw2wLVbNGJ+gw3+OtXlR1ue0ugks//AQbN+4+ZIAW7Rn+udWMtUsePCho1bXHDc0E6jMmiP+Q8/nmUWfrncpVawBFljG3x169YdZvNX0d4TPDvGplL2OfBuBY0p2SLmM+2rmYwlCsbAXUzW1LKBn2vbd3vHrt2unVIZswILZyIRKEYI4HPs0iF9cvpEJOZzCi8LJwJEgAgQASJABIgAESACxzcCJOZj7ZdPYh7E1oV9upl6dWsndB6QY4u+XGHlM05z5/2I+ZqWbOnZpYOpVbO6AammbfuOXWbk2MlmvyX4YSBnbrx6sNM0xbnnXn5bZ4/vg2i64uL+Lv96S7SNHveBS2vWpJHpfk57U7ZsmXhe7Byw9fxk+heR5B5Qhw5tWphWViYCpLi2I1a26FNbTph2d6bPgXtWqljBDOjdzeJWTVfBEcGTPvzMrFy9PuE8Dpqc3MB0PutMU9niU8o+h7ZlK9aYiR98pk+5fQSQBHH+lSUX33znPTOwXw87+VIrnu+dd6c48jV+IsJOuhgGEfPlypY1vc892zQ8qW5CDUDeoQ/g2fbt25+QhoM+53Z2ch+okzaQ+mMmfGQOHDyoT4fuoz/3twQ8SF5t23bsNLt3743X7+3xHzrCXPJcfekFrk0xIfDsiFFyOr5teXoT13dxYsbnC8xM+1+sY/tWpv2ZLRz5//QLI023zu1Mi9NOiQd6xTv4wcczXTBQtCXsqeFvJhDm0s6YyHh99CTTu+fZjlTGuy22/8ABM2rMBwbP4meYeGjUoG78vn55cG7C5E/N8pVrCyWDUD/f3rdUqRPcu1sogz3x8pvjzY6duxP01VesWufeuV7dO5lKlSokXDZ/0TLz0aezE87pg77nneMmS3T74z2eM2+xmTZzns6adF8T8+99OM29X21bN3cTlHIRypw8ZbpZsny1nErYNjjpRDeBifdaG/oDAvXOW7hUn3b7YcS8xBTYs3efeeHVMYWuT7evoqBUxpJGDerZsaqruz8mD/Fe+Rk+JzA+wXRw4nM6tjFntDy10JiFiaJJ9r3etGWrX3E8RwRKJAKYcL/Ifk7n0kjM5xJdlk0EiAARIAJEgAgQASJABI5zBEjMxxown8T8pYP7GHjJhpmXmAdJDsIxyEAGPvfSUQIenmDwCIN5yU0pp0unNqZ1y2bucOpnnztSC97DkGcIsimWwFtgibxkhiXiIPwlgGayfCACQQgGWbrPgTJBQl8xrJ8l/hInBvT9Ppk+x3xhA2eKRWmj1Xb1wNiJiaSZkOF7Lam9yxJh8J7W5iV4dZrffiYYSl1Qrve+lw/ta6pVreJ3S3fO249wctCAns6zO9lFey2h+ZIlguH1HsVAqiLgZlj/QFneviskKjzrQa57DXrhXc9u607PnrsogTTWxDBI+7Patky4XIjwIPwkDc+KiSovwS0F+k0cYELt4ovOTxgDUE4yHECmLrUTQV47vdnJ5tyuZ3lPJxy/8ta7zqNdk9Kok3eyTV/kfRckbWD/nqa+ZzJR0rDFqh/xxNfnvfsaf7wn6OPJbMQb49x7pNNRBxBpenJAp2NfxjF9XmPg9+7edM2Q2CSmZwxFGZn01VTHEjyXTKhiguLp599KmBSSZ9LlDn/lHTeRFuUzApMOmHygEQEiYMxpTe0qxe4dcwoFifmcwsvCiQARIAJEgAgQASJABIjA8Y0AiflY++WLmL/AesqLlzIC3H65bJWZt2CpqVK5kmnftoWTFZEe5SXmhYgDWbPUBihcvmqtkx+BZ3unDmfEPW+1PISWxoFMBjy2vXb1Jdb72HrOwlsaJCfqpYnbL5euch6Z+/bvN6fae3Xt1NZJX4x4fay3qELH0G4F8Qav3QWLl5tV1jO9QoVyplP7M+IrBoK8+aXAdJ8DJOgVQ/vHiVOQh5M/mhGXDephJztKWVkbSJfA8xrPDhMZFZCYmDRYuWa9I75A+OK/mJfkEsJW0oEp7rnIBuXEigFgkKqli6GuiybmQWyCZIXh+eAdDo9sSBadYydpTraTMl4yWPdbYPWxnchYYa/Bqg94nAu5ismIly0ZLDgme1aQ0JBfkVUUmAjAe7B0+RpTt24tc3aH1vE0lJErYl7qt+Wr7WbuwiXOaxvtjWdMhh+u0Wk4xgQBZGSWWAK9npVWgVe+EMfwCtee32e1a+VWkeC6HVYa6a0xsVUuII4HDTg3TtCPm/Sxk43aYmVd0E5ewzvbpHEDt0ID7wcMUi4yyQXJKdQJpklpd8L+gef0wsUrrOTOboPJOXiEw0CWP2+JXm3wlEdgVBja+N3JnxhghhUF/a13t7TjW2Ped2OSvta7r4l5SYMXP+qK97WHXREkEwc4/+77n0g2Nz4OtqtSZAULPMqnz57vJkfOtJOLLZs3jed9/6PpBmOXmMYgFWI+076azlgi16DuH0+bU2hVEVZmgLyHwRP+JTuBAbvJxhoQbDDBgvEGedvaIMZnWg/7ZXYFwnt2JQKNCBCBGALt7Yq+jnZMzqWRmM8luiybCBABIkAEiAARIAJEgAgc5wiQmI81YD6IeRDyIDjFxk2aalat2SCHbqu9173EPDK0s5IPIN68kiHaQ3jj5q/MSEv2iYHAATnj530JXedrCwKfQY4ExBpMvEdBsP7XemxqA+GI/2HkK66BFnVF6xntleLA9ddeflFcvuKF16wX555gL850ngMkH2RKYEstKTXJkqTaTj2loZMDwbmZcxaaGZbkg8HLvmXzJubzuYvdsf5zYZ/uBlIasOmz5ptZXyyMJ2vCFqQ88MxUVz5dDHVdNDHf+azWVi7pdFfnOfO+NJ/O+CJef+ygr4BoFtPSGmjzl94Yb7Xl90qyI1NBsgs5D8w+mzk3nu6309N6eje3Ht8wkOAv2vZHjAUx9I9hA8+Pk8W5JObx/MDBa8nwQz6dBu/jN6ycDQhtse52skJIYpDDIInFhg3s7SSV0D/g6SzSU0iHpj5IWRikYeDtH2aYmOvVo5PLFkVjHhm9/RaTUzdA9sriDtPjoZZ6wDuKd1UbYl1gDEGbQRv+zbff08mF9jUxj/4EqZZ1VpNfTE8cQXd/xOsx0hnpVw7r7yYxsb/ETmp6SeYWpzWxxH57JLt+9fQLR8eudIn5TPtqOmMJVlTBIx4GiTKsfNCmx/sZs61U05wF7l1Bv4RBYum1URP1Je49xbtGIwJE4CgCWHUEp4dcGon5XKLLsokAESACRIAIEAEiQASIwHGOAIn5WANqIipXTaoJXT+SGPdt3uwU07NrB1cFP2I+Wd1ArIFMh+2y2tzamx3BZMWj1is/A8/1dmc2d9dpz96rLhlgKleq6M57vafdySz86WelcuCdDYN38CrrlR5k6TzH9VcOct63IACxGgBkqNdEFmXtOruiYELhFQXe/LJyAeex4uF95YGqCVvI/ADvXFoQhroumpiHNnnfXue4asHb9vXRE309sqXeWsIEk0J+GuR6ggOSNs/7aHRLedhed8XA+KQMPKLhGe01SClBUgmWK2Lej/SUeiTDD+k6DeSvl/CEJzl06GEIBDvaauSLyaQXJiKG+8R9uOW6i11WvA94L8IsVWI+WT/X0ijPvTTarYrBvSEbA3Ie9sbbk5ynvDtQfwZfcK4Lwoo4Gbg2yDQx7yc5g2sFI6wUkBgCGI8wLsHwPuO8F3ekSfwB7OsxLV1iPtO+inoks6CxRE9CiFSNlAMppNq1qrvDZ18c5VZW6M8A4IK2CgqGK2VxSwRKMgKD7SolHQcmF1iQmM8Fqt4yfb7cebPwmAgQASJQJBAo8IIpEnXJsBLwyoFXD7Z4LGxpRIAIEIHjGQEQhvhaiS08m/0IxFw8H4n5GKr5IOY1YTT+vY99A45GJebh6Q5CrnHDeqaWlaCA1yqIGZgms3CsCS0QNa+OnIDTzqABDwkTEF3aM16TZ8iIAJbwzETQ03QNXuZNrfQG5E8g3SNyFSjPT67Be59UnwPfDW620g4weDN/YiUh/Axe9ZCrgNwOgmV6Dd6rwBr1r16tivOml+8d8PQFaSyWSNiOtMThUc9zyZPJNhUMdV00MY/7C/GJfbT9l1YaCV7ufgFfRUoHeb0EIc6JSZkYu3C/IBPyGXmSvXv5IOaTEcOoVxB+QWm4tny5sm7yAftbtm53HvXYh12HlSL2fYWu/DMvJurj4zzSYckmQVyi+pMqMe8n44Li9AQMxgghdXX7g+j2M0zuQQonStvrsWXKJ7N85Z1kQg0Es3i9ay3oDZu2mFFjP/CripPlkZgZkHLBPWDpEvOZ9lVdyVTGEjwDVlDBECAbYyQMYw/eNWy947nul8gL+TKsCIHsEI0IEIFEBPA9BO+M/i6SmCM7RyTms4Nj3n4YZam6LIYIEAEikDIC8gMz5QvzfAFIh9KlYoR8nm/N2xEBIkAE8ooACI7DRyxJb0mzXBqJ+Ri6ycjBbGIvntkoE97bfqRtGDEPYgeByurUqpG0al5iHhkTvGGtly7kMyCx8I0rB7py/PTncR+QYdpQ9ufzFptZVvYlqkFvu3WLZoE/fpMFnPTeI5XnwIQDJh6imldbu6mVuTmn45nxlQN+5QQR814y3O/6qOfSwVCTdN66wNsWRGzZMmUSqgA5o/emTHOTFJKg+23QeyKEM67z8yKX8iB5A7IXlsxrHGn5IOaTEcO4fxB+QWm4VmuAe4l5/Vw6HgSu01rukISBNEyYZYuYv7CvlWiqH5No0sS8bv+wuiA9qI8gPQox/w27oqKcndzQxLzW5k8m2YPym1vpqp52sg0GDXpI5cDSIeaz0Vdx73TGEvw2kyCw+j3RnxHeCU0QjFipIQG/cW8Y4gJMnfa572RwLAf/EoGShwBidPQ5r3POH5zEfCYQw1Op4Hr8MEK0dQRQOXzoiP2RdIRkfSbY8loiQASOKQL4olcaBHeZUu4HGb74CjHv/M5telGzUpaMR52lnlK/Bev2mXFf7DBTv9xt5q7Za1Z9dcDs2HvYeptKDm6JABEgAkUTATusmWoVS5vGtcqZ1g0rmq6nVTb9z6xmWp5UIaHCMYL+iCXoczOwkZiPwR1GJiU0SpoHmuBKdj8tbaC9PXHLalUrW7Kwj9MKxjGI/ZVWox7BRfH/SktCYwLbj5jXwVNFV7z9mTbomSXNYWMnTnVluAP1B/rmCAgKaQ5tCEg50nqs+k0u6Hy9LLnfTJH7kA6B1/0a68nZxAaTFM/WqMR8Ks8B7/bLhvR11XG/5w4e1FUrtA+vUgmOq71zkRHEGOqNCQwQ+IMKgqfmg5hPF8Mo5PFZbVuaVjZgpvYYxIqd961n9FL7vDDxXgaGQZ7w2rManuDwCPczTXZ6NcR1fi3TAykYSMKIybuE/odJLq9pDW7otEOvXSwKMYy8QfgFpeHaIGIepOmwwb3jeu7QSgd5D4khrCaBaSLWnQj4k2tiXtofVUCQ3iADkY6AyEEWBX8/Yh5jFcYs2KIvV7igxX73Of3Uk8253c5ySVq2J1NiPt2+mu5YggfQQWBFRkhkg/A+SrBuLw4g7zvYd7tK5ZgcmaRHXYUh+bklAsUZAS3ll8vnJDGfJroY5GD4MrFv/37rURL8JS7N2/AyIkAEiECRQaB8+bKmQvnybik3KuUlwI9lRcuULhVfni/1ePrDLebJ9zebDxfvklPcEgEiQASKBQI9Tq9ibjmvjrmxR4ygkYeC5/yhHARuIzEfQzgZUS74Z2OrNYO1hrMuW3tDejXmNUGmpQ3kepES8SPmkUeCp4oGuJCLychNKRdbSOfAe1x70EP6xC84qlx3Zqtm9pqYFAOcnEAsQdNcrPNZZ9ogpKe5w6jEPDJHfQ58lxEpGwQrffG1sXLrwC2I00uHxAIv4nfhxA8+SwheW6tmNRuYNBZkMdfEfCYYSvviYb0e814A4NHb9ey28QCucEiDdjUMQXorWIkVWLJ+izTpf2EEPvKKPEiyvoo82rM8mca8V4IJ18GKMjGP+mnPeBxrQzDZV9+aUCjAs86j93NNzOv2D+tHul7J9tMl5vWkpfe90/fS48qiJZbAnzrTJadDzOPCTPpqJmMJ7q2DwCKA9oTJn8bfs01bbLDud95HtqSGlTHdz2mfMLGKcVAHb056MROIQDFHQK8SyuWjkphPEV0h5LHFB+K+fUdnhLHMr4xdGlTWRqkvBZLIftGDT70VVHCe9fAvjfnYx/YsreXOhG+lkpJfjiNsMX+Ay8TkOMkW8w3x7HZHjpNkV8919CnkVv5bKUlS5TiVrVzrg0dIMe555Llka4sLukzulput3FlKl+MkW88DoB/CcTl22vazhGNP+xXkkzsVxW2s/raiBSbHqWzl2qg98mj+3O8ValV74mj7STsmbhOHiUIl2EoDr1TOR3tOYA7PyxjJc9gtE5UrK1QoZypVrBAn5o8lQQ/84HGE8VbstenbzAOvrzVzVu+VU9wSASJABIolAm0aVTQPDGtgLul4VLIEnqwgUfHdIFtGYj6GZD6I+UE2yBg80GHw4IUnr9eSEfNalgWe3SC5vSbEaDKyUwdPhZY6vMnxOb9y9XoDzfsoBk37/ud3dVm3btthXhs1MellkFQQT3sQjdCp16YJtFSI+VSeQzyrcV948uI3XpjB0xSe5LBZXyw002fNT7gkn8R8JhimQszjAdEXrri4n9P/xzGCwn61dYcZcoFtxzqxFRNe73PkgzVqUNcM6N3N7Ufx9tbtgr4IfX+vBRHz111hddrLxSYL/N5daJ7DGxLmrXMUYhjXBeEXlIZrgzzmEScAgaBhXy5d5b53V7GyS3if8C4uWb4q4bu5yxjwRxPzWNWBiSSvhZHSyK9JKi1lIx7ayDN56gwDGZlMLAr+fh7zVatUdv0T98bn4DN24gi/abwmcTNwHqQ8yHlYGAYyfmJVwHMvve2uwZ9M+momY4lUQCZ04TQ6btJUF4wXae9/NN31H8kXtNVjpqyYCsrPNCJQ3BHAd5OB/Xu4sTrXz0piPgWEZVDHgLdr91432ONyeJHiQ7+0JeNTtlT4NMs74XPlKP0UjY6TOuG6wh9LKVbAlwAMuIMUL1nkOMlWns8lq+dNkt3neeRG6W6D7iQIBmwTHqCgveQ5km1tVfVd0615bq6TmsVKF4I81hFlIiB4K/XCF3l5h+RcUdu65kM72Yq5VrY74Hvj5+1O7DnkfKEMcmXAVp7a3UEOcrKNP0ey2qRQfRA9h6xmLLyjYPgxgaWPCIQGAy75NtyyjK2HvvdtT680/3xvU76rwvsRASJABI4pArf2OtE8cePJ8Trg8/ZQFsl5EvMxaP3IvTjoWdrR0jHwIEcgTR1DAL83hl7YywVRxC21x7wmxP2I+VOtx/P5Pc92NU1GzFeqVMFcfckFLg9IQARrhI0cO9ls3PSV25c/0GmGbAu0ibXp4JRIG/HGOJ2csC+EEk5qog/H+I4x9KJecS3kVIj5VJ6jt8UE3uAwP9xcguePJrH8iHkEi21h8YF5PXfDCFtIxqAfgFicPXdx/Denpwrxw0wwTFYXrH5Af5m3cGn8PrJzQZ9upuFJdd3h2IkfWXmjjabJyVaH99zO7hzqjQmO/bb/iuG7GshQkc1AuQiqGmSa7PViiOsg23TxRefHJXa8HvOXD+1r81Rxt/DKMJ1Ur44jmeU7ZFEj5gf0/n/2ri1Wq6MKT6IQBKkglx6hIKE9XOVWoC0CsU1DSkRrrK1QH4yvxqgvvvnsmy9qjI9eYi/0FqxCEUovIr1QKRQwBVooF+EgtgSDttVacH2z9zf/mtmzb/8+5z9H3Cs5Z25rrVlrZvb8e6+ZWbNKFjKuj7qcKmqzvDIs9mHRD3D5H/80j2zZmUEtM0qDIM8wr/sftpIHHtuW66YoU3Eko1vDPFjpC7Rjp4Y+Le6xcBoBgLkVrl74jVrWBnmG+SZjtclcYpWQf/oSWM7boW7EXbyw314UC5dCGuaJu6rVtyyxWdo/P9x9LV44R+bGS9H5QPNo420LXEstgGdl5bKFPVGpNcxXbGZO1niJxfFKpGEQ+pjsGh0lL435BrARsmM+X8DUAikNQQOkRC16mGZ+EEqyBlAQkjBdJyStEpBZARvpJmtYZQcx7YVCq8nISrjbfKZ7E2pJKEEnxLizL5CpAkz7oTYkq+5Nm6s3enRXS0ePpN86aRrEs6HtYN2hrmq2m8voeYS9yYqdmJJhpUvHp8sngcpPEBWBn8GCGqGgNgC8xOFDCy97GIvYnUefo/y4acC+Fik+2LlT/tylD8zGn57IdVuz7qarZn3/VXPrjKtmzqSrZtJYY+xSKocJO6RQAtVBwNNJ8rH0uqCIIfAUaDInj8dYIeuoJpR8nfTIg/o0CxvXhGV8PMYZTklGAT+PIsDzylTCPiiSzkXPLVBMEE3xKvELSL1khI9XzkRFuUrl0fwYLwhL+ZXI5YolglUw8CuEknIrT8qncPi4iuO1uWKJDBqfqvoVVKjlKhYs1QsEChy95Nlqkgwsir7z3kfMsUujzMsDY8z2t8aanadkAosA3Nts/tZsM23CKFtqF1TFQDIY0Brmk1bshWEev6W4bJUXbmL39vN79hlcuAnj8cqbFzqXIZBKG+b1Ra0oey71AT5xwnizfMkCM/OGPmRbyDPMo1Bfnop0DHfG9D7rRgTvavBJfEgue8XGJbhlWLtqmZma7voPfeCDnwZt6IMP7V3Pv2z9s8+edYO5TfzWsx1AU8cwD/wqegAPCwn3fWmdbLRKnh0YLp/5wyv2Uk30B4zQcNGDdnhy+/Mg8QxhyP+97FLFwsV02el824rFBsYsQmhUzjOGEx8XrvalfsTDy2aJo8MmbQg/+PRZri8SRXvA8A2f2S/sPWjvFkBbwE3RmtuW2ndAzDE/f+A3ThS9ax5tggtiz8j9BpMnTTB3rFlp3xmBDJ0ekcUaGHCLQLv4AB4WgXCRJS4lnnvTLLN00RzPjWFomNcLLpAHJz6w2DW3f5aZJ3/6vXWkGeY/v26NweIBYO+rfzZvnDht9UYaz1xdwHP09U1fcGR7Xz1sDr9+3EyVUw5vy+kaLKaUGaVBrMdauJCmT/ugb3fLzvm3xLUK5IW7FTxDOFXx4GPbvcVGJ5SKNDHMh4su8M//ipw++o9sLlogF0zfvCQ56YLqwotR9d0Gl/5+2S4WKrGci5hwx3yTsaqN6nXnEsqGscxLYJkXzjvIh8sajH30D9yM4TTGv+VeDZzQwDNKd1Rbd+w25y+8Y1lh3HAexmJabLGOdbZh2wLXUgvo+W6o9WoN8xVamD9+mMBwhA7p0bKTYRwuysh8SAlDfrdFQvyORrIL2VDEhI4VMpfpOiFpKQnTkbAOW2HXRL9I7RWyKCBRma4YUmBLnlXAFjOboeBa7mE6zackwxNSb9bOdBJi7OKHuzhM+zHFIydR1+rN9EgMs/1FfeW5s/0l7ZBEXDsw7cLSJ7R3mvu9x35Jxx/6o6NORfHJkTowXSdMaHGvBnZjYjzhw63XO+exYxAXvQJglF//wzeirmu+ecsV851VV8y8ydAxAKe2RNJxEWAEyQgPjeF1iBTkoruKNbXqWMm2D1wOnk+VVhR5QjW545chVhmaQGUz6opdhCU5IfAUaDInT0RuRZJENaEq1NmOnyrPRDWBKsxkZzIUso4GeDrpqaULNH0YB54CTeb08xgrZB1NCe14lHzNR6PlD9AUKyDUSU8MXeBVECSAJ6DRu+KTsIm+cKRFSaAr8gqCRIqn2yvA6PCLFqTFwofziKdXSFNRLi1PwO/IxdHmx/s/YX72Wsd9DWuBa5vt3+t3xvkPZRE13BVH3Dpha5hPWqsXhnnUpP0kx/oJi+O4wBWgDfNIw/WMNgojTwNpYQD61ebEP7guRzy8iBCGredkcUADdlZih6UGGGq5YI58fDs9/rtdmR31mgZGb+zAzgPw4DtGXcN8FT1YLwxyMEZzswHzw3DL1mftJZxYBMFFpnknpnVbhAayMsP8pnvuMuPGdi5k/PWj25xRNpQH6SZtGO4IxGIODODY3c52j9WJvHDs4Z3wyxvucKcsYnTY3PGoGOX1bvoYHvNuX7PCwA1LHnA8ozw0zKMN0ZZ5AJcwXKwaaYZ57XomT348G+grGNlxYXIZhAtVxP/jSwekL082NsyDH04wwGd5EYRtHcNtYpgHPy4cxngzb99rr5sDh44y6UJtiH733ffNQ090LqrN2zEP4m7HapO5xAktkfBOAixEYYxriI0B2gWIB3sXXEcBMAfATQ9BX5TLvDZsW+BabIEqc8hg6t0a5ktaExMVACF+8PBxg8lz3LgxkssvpTC0JKqc6S5C/f0WVhNJx77jImjed3E9qWoK5NVESVSNJeysPiST0NMvTAvbpLcU/yGPligQ6O9++FLFknSqF/UJw1QvyR4G/eo1IPWrE7rniAaNelUOKTZ7l5VwPBaF/rQgHKgXQx9BWLNn80LW3jzM6BPWTnGZz7QKtbj/kjs2YJzHRymMAPggAzC0iSH4B/44qURY+4OjmZ3yy6ddNT/acMWsngmt8cf2JVUsBJ6ARvfIdEGCGv+f4nkTVsrXI0jr8/J0IqgvSHYwcws6KIhVksdT2Kd3qbS+weKnHyhXRyyCegtA8ylUo0ft5aqRiHv+C+Qvm+EHS7+u5Io0qOMjOtliZBSBJojguWKJdNNejl54O3kicmeq1oSqUGc7fqo8E9UEqlBnOz5dyJXhY8yec2PMd5+dYvb9Fe+kHcDO+d3fn+syPhDjDX6Xm0BrmE9ar1eGedTWJ7tl7xI/7aFxFD7Yn9q5x2wUgyOM4KFLENwBgx3XWDTXgJ33uBRw2aK5lVxkfOP+u53ROdwZS75wj3H76hUGvq9DwMWBuHSwir92uG3BLlb9/gCD64mTZ82evQecYaiuYR4yVdGDssPNynrx6x1b2MBO6/2HjthdxsTHLlMYw7iblPm4cHHHsy+Ze794p92NHxrmtfEyNqaw4IFLVrnIAV5nzvoGNtbFsNs2xHiBsW50elqAJxzQF5+VxZf+2TPdOGBd6Btc6AvDZgigwy5D7vbW5fiWxk5c7JivA1g8gC94PT4wp2E3/kG5g4EuWjDe0PYaID9OcGhafM8fPvKmvcOBl3aGxuLlS+dbd0LghRMrb8riVAyK+rKoDLywuAZDLwCnRbDoQ8CYuv/e9ZmxxXIdYrc7LuuE3/4iwJxwt7jB4skQ4mLXNHyRY9xjYQ9w6syAeVpOr4SgffrH5gW0M+6XwH0CIWDcoK4X/3Sw9LRElfbnhbPoz1889GRYnT1htFZcSoWLbZDjwKFj9nnOEEkGxv38dNER4wyX2RI4n+SdZOl2rHY7l1AuhHrXfl6bAA/zy0p5nvjMI4+Aueqpp/d47wzaNRB+Q3DBbAttC1zrLaDngV7o2hrmS1oZkzH+sFqKHzv4Vb5uvHr5jHwoOfsPv7tUKKyKivPtQU5OVsgMpuuEpKVgTEtINsxiOie0+pCNhFX0I+vBCSkYuTFdMQwUQF/L+4RrBxZ7IYtz9KUkwxNS77R2Cp52bKJfdzvmh0ef4lqprQslgv6j2h19mZ9BkArSDich07lhsUxNSqkHeTDtwoj4FJthrthWTXLKrUEK0vbIDUmb4L0nxnm84OLoI/y54oVcf/wQezBDGOVZR8yn/MZFV8yD930oH7RBrXZgSB6aIQpsnxwEVywR1+BRRmlmDh+SdAZqp9lZ5oWuYi/XJVwx5JLckmpzERwf4WH5lDHSBE6aTsQVS6RJe2k+lRR0BB1ZENPZTfSL8qnS8JowJg/FDfCYnQmBp0CTOf1qyKWfjyhZUJ+qOolqASRHJz1+uiDDRGUE9WXIMhmKVkdTvEr6eYJqJipeh58iy0QjfDI4yCjWU+7oNl/b9imz+eh4j1r7nMdvIYzzTaA1zCetFzOiNmnXKrQwek/vm2pdTZw8c67UoEWekz85wUyceJ39jjl1esDdEcPyohC/sXSLUOWSTuDDSD9J6sRuy3PnL9Q+qYGNT9PFmAejIdz2wFDZFOrqwfqw0xquZODiBgsLMFbBfUoMUMe0vilmPNy+iLvTswMXbJvHcOvkwfUHDOYA7NjFt2gZNGlD+DPHfQKn/zKQ2X2N0wQzxA0SFgrODvzN+igvkwVtN13aBSfMMYYGcBeBuDpqAnCJc/2USSLfZSsH5rYqgO/3aX2T5Rv+4+a89OVgjK0q9TbBwT0PeK/G3U47nnnRwOc/T4piMQXuh9gnqKfqohXGK9zXwKUMmm+o2gMLC3guMH9BB/Q/3AEPB0BXzE0Yv1gcwimDsrGD8YsTN1iQgxuhutDNWG06l2DOx50cACzkYUGvCLDoi+ce892Fty/aeTeGD7lw38RFuXME/utbaFvgWm8BXPp65+du8U6uDbXOrWG+oIUxYeOPLmyACn/KH5UfGv9DiR9yeWFBJWERv7+Yz3ROiB9UmSudODbdSXqfc0Qj6zDN/OIwR5BoTawhDFUNJeyonxcKeRGZ4t6DKCVhVUynIQVPJcZ4wo+bH4o+gu7yqZ80G/IJbEWmR2Lo6xXqmaRpoKO+qQVQ1Bl5Gga9mfYT+yseOjWsOuRA9ZiuE7Knm7dPaa2CgPnE4blImq/S1BNuEt5Pdz7RpQ36Fn9DAXip5u7BJ/ZdMl/5yXGvGhjlH/5qngEKCijI6KMzFF4mmoOXyc5kZDglGSmenQgkJ5cMBUUQEOqkN3x0QRk/Kc9Fzy0ImKZ4g6VfJT6ewoE8adLywYAX+QrRK+qp+UT51eGTyhWXnAoUlvoTlqCi+ijUkUsYdMtHV2PbJ5dRKqUmiAjuiiViJ64q/Er4FA+EYrmcPII22PpVkGvT1qxx/vFv32juWZ64u8G7LFxrdAutYT5pueEwzHfbZ03obl2+yHxm/o2WRbiTuAnfXtP+L+uBi1RxoSae3V8+/NteN11b3zC2AE7LbBAf84Dtu16wiz0xcXAHA/yTA44dPyU+3ffH0Nq8/5MW0C6ytmwTl1tyd0ALbQu0LVC/BXCXz+IF/fUJG1CMVMP8fwEAAP//qQFVNQAAQABJREFU7H0HnF5Hde9sk7S7Ki6SLMtFtoV7700uEFpoARKqwXEoAUMIAUIK4SV578EvLy+BBAwGYwLGYAwOEAgEXnAIruCCjbHBveMmWZJtWW212t13ztz7n3tm7swt335bjM+A98yZOed/ytzv253zjebrOeGEEyZMF9rlV1zZGcrEhGEHJohu3LTFbNs2aubOHTCD8+aZHoHIMsw3p5AECPg2FLqwDD5CAYsp8AlK4RbxELzHE0ZMDdDdoTELiLMBDRy2LOJIUcSVz3cnjk5RED/0wWeUn8eeniIQ8D7N143k7Pisig9xxalbL5qmKLPnrwg3iwdx5ZQS4gsWTzAjAElQ6k5Tg3WYA+8odSbnvkMiEzZjHVB4V09hDZLgR+j9cfv2MTNnzoCZPzxon1H2xgYH4W5QekD6B/pNLyeN2mEfvtXc8tAWh3z08glz3TtGad4NBR32uKK5B5DkkM6oOCIP8OSw1ZcDUaB8MCEnhx1eBzhQcXiug5kEZTnRpJrzpzJRubJUrMMT86VuAxyrk5Crw5NqXlhyogQiBlhONKnWSb7s80h4EkfAZxPeQMAEipKdTHxdwSEHGsXnORrEBzZ3SOJhyqMsV9Em+/oPoaU/0TBkIkNlwTf0a5zkjrt4L3PD6nlO+dDdB83NHznI8jy/fXR7x+/Lp516isOdik7rv9cpHs7g+Pi4/e+pDZusW8uXLZ4K9xzmv3zl267/m9oZnDfXvP53X2x/13J+v/S179kcP9PifabG0dfXa377t042uyzd2ab82htuMb+87Z5nWvrV30lk4PijDzWHHLjSIvzrdy41G57O3t9CyOeecqzZZ8Vudvin199sbr3j3lBE+WdJBvam5+B59Dxwe/Kpp803v/ujZ0nkGqZmoLsZWLp4J3P6qmPMgvlD3QWuQXvksbVWYtHCYdPb22v/4+1D23pKt/9e75npwjwXNPk//oP0yac22iQtXDDf9PXZ9Fi+0Q/suyAMPkHJpKsHuYId6SbE7Tigo/s+TDpahQSEOurACscwVANv4yN4j5KuVAMUvAA/NRSWgQ4+QT3H88K3iyfk8zgJ2qLlcrA0G6lf4Ec81RSVZf7AgPWLNj0rWNgr97CKmHHLRwPWOxJwrzOsT+52Ng4BoVC8QmkQFqoorHc/H1VW6+JLhgF3oxQWMZnx/D65ZeuIHdxh0fzsFwkl0H6IBNEu0TlUmOd2wVXrzB98/n7bx4+r3j5qTt6TfIKbklqh0gBUA5rL2QeGppJqPFHVAsWALTSTE4UI9xr50+Q5y+01wvNd8DmJQ3Ylni+Ycyxf0ax+U5wGcUp/ouI1eXfT1MEbRYX72YNSIdCt+DryK5IAh0M+22keqGpSISLnpqnTSb6cPmE7fyJ+l0xLRTEphx2emC91pUJpUrwP1Mg51UBOsl5YcsIpRzosJ5pUy+O7+pEhs+rrewohY774tr3MWauyAt82Lsx32Lr9h37ohhbmw4xMLz80NM+ceuJRZmxs3Oy+fKn9Pc4e3Pyru8z1P//V9DozCWu/CXEctP8+5sRjD7N/U1997S/MHXffP4mMqOozMQO7L9/FvOh5J1rX+e/rK35yo3n40TVunzVAfwufdNzh5jl772Fl+HDMhV//npt/JsasPrfPwF57LrfPAB+M2nWX4kPp/7j0KvPY6qzI1x5VNTQDz+4MnHDMYebgA/aZ9iRoYT6RchTmt45sM5s3bzUD/f1m/vxBr+6AfVUdhQnIgc9oaWdFw5BMUSBgHnyEtoT36hgE7/EEL7eFDaxHHKob6sRheFJ22KuDYDqkeVxAqfNweuf9fHRUOM8dblQnmd7gXL0TZuvXi/KRB+I+CEBgoI1fP7A6ddRfvfz1xM8fmbTPWxEOwmr+8rduAwkxgG9DoVv/CqhCHaH3St7Q86Z43tw5FE/3C/O9dBS+v6/POnzKR+8wV92VfWjKA2cfO27Offko9SricAFQxz0vFi7xgxUqmvfAklxS3BmOg7lp6lS4L56cBjgExP5VNmc4LuWm2a+meBEoiVMdYK7sFHwwOWzzxANVTSoIOTnscGxHCMW6gb1J4UTsTRbPPo/kt8Txwgj89+aYCRQl67krJ0ogYiCwV1IrDQhd2c3lpi0+2A78x7CjEb/cnOw0jLNRfN5CSCOu/64f7WI+c/OOjl+173xz5V/tb/ntY2N04KQuLqfqdbQwn6XjN/XE/GEH72uOPfJgb83ve/AR899XXOeNzXbmNyEOPin3ihefZi67+mf25Otsz7n61/0M8N/Qv/eK55uFC4Y9cP5bm/8em0uFWLTNW7aaH1x6tXlyw9MYUvosycDLXnSK2WVJ9sE7Qr7ymp+bO+9+AKxSzYBmoEUG9tx9mTmFDilwLWO6mxbmIxnHqV8+BbqJr7GhE0aDg3NpgeaSdMsNjdyPYT9VQWP7sgrxtt7k/tch1s0jaSQHhzEUxGunIQYKL0I+HwfU9FA4DGvg4xSF8SxunCTP00B/KGXz4DMKZAq3g/WC9vRQxFesW3Z1TjFe5l0lsVS4m/mIS6tIA9ZNSqf1Drygrm7oCQgFXwATFZSmbJt8PhAPEME7ijhIwHMf404QAhEK8CgFACbBT5hROq3DV37xifZhus6GN5bcunVqnp/Bgf4+i3v7o1vNgX/pn+C77b2j5oCdx9ki/cd+VbXCb0+qNFwa8MQLJpfD+2FSjSeqWqAoWS8sOVGHR/NJ8eREAJrLdSu+RjhewIE/OWtxSE7iRSUbxilxoubb4DT1K+pwNjiV8UXN1sTnpqlTer+PATqF2KR4LtvgRaCcGdeJCMmhhJwctuvPA1VNKkTk3DR1GudL4Dh9GnP+RB9MoWTM7esHzIFfyq5AwMRtf3ewOWDXefZfgfJ7dSfvy1qYz7L5m1yYP+KQ7AOcJ57aYO69/2Hzq9ufedencGH+NyEOvHaVPnszwH9Hn3rSUWavPZbTv9jP/qaW2eDDg/fTh2dXX3uTHNb+sygDLzj9BLN82RLDH7qvXfcEvWffax56ZPWzKAMaqmagexmYO2cOFeWPNCv22LV7oC2QtDAfSRYXgPAf3+nGp0Dn0x1D2UnN0k6JELBRakojRlNDNeawb0fhJVZXCL2CKYyD74zCQWiDb0jhsFUvCttePOQo4oS4Rcc46Upr8GRmqPQEDiLTiK+O+vEiDqCAnw0U0cIXb51s+Cjkoy5BGnmBggsD/Dpzrx9XuECkoEAPeYx3j8IbIIJ3lDpwM0Wr3w4cEplAPG0pvGtPa60jPnhXqwBBuud3Ytxs3brNbh74hA+vL/5r72lZg58VLvoz5icvXWPee9GvndALVo6bH/4+nZaXD6CbjXVkYGJeDttl4YGqJhUicm6aOnhgImLFUMKexHHPTaFV7jkFf0oOu/jw/PmiPicVaUaynjpPVDWpSHKSLeF4AwnQwF4JTw4kIOxwLmefn8AvTy2w580xE9iTrBeOnCiBiIFALmALweREIcK9RvF5jvr6jsvtNcJzSpFOBCciVcprVIYGG/nTID6LQ3ISL2qzJu9umjqTef3Ddgu/XvitFebSB4uTlp84Yw/zxy9YSiFN2MMm/D7atmlhPsvYb2phvu3zoPKaAc3A9GVg0cL5ZodFC+whwdWPr9N/STF9qVdLmgHNwLMkA4cfvJ855sjse5lmImQtzEeyjqI8n5jnL5Nifgf6hdjD3yjoNlqkiP2doHIfJ4Yr1SIuiCEYxBD4NhS68Ag80RoYbx9I6k3iE+hT0IXDgAafoAggD5TXEvtj3pj6fBBfHi8sRbKHqVlDs3gQVzNafpBnTTjlx5OWuVi/fL3wXFoKAYrBLph4LqAYe+F6lhB/91dceBP3opvuIwyP1nqAxFVQD9Ax/Oxt3jJC69Nj8KUl3O+kAORARYfx+Q5FXpU3fOY+87Vr17vZj714u3n/SWPEy/gC1lvOQM4hhR2Wo5YUT05keu5nLmffj7qAZ3EoIInnbMlO7r8ckv1WOF4CJUrRl/5ExRvmq5VfhflSz5mjjnv9l6TEQIt8Ca1y1xn2p+SwzU+NvfSDl+E6POpMJj6J496ZfNd9zimkhxvFB3XGizRpphGeVCA8yXrPo5yI2HVDLCeaVHP+eMBCWHalIo1L1lMP7EkI25eK1Tgfv3Fn84ErdnEIrz9+J3Px2Xtb0/wvmzp5X9bCfJZOLcy7x0o7mgHNgGZAM6AZ0AxoBp7xGeDv9TiZvreDD2PPVNPCfCTzXADi/+QXv/Kn1FmTGyPsqNrSiFEMAT7kMR5Qr35BbliedAMxjwd0dygsAQ18Q+o5jEJyHgfiCWkQHyxjFcDPDEXcuXUsUL4C/FzxhriSkqpFyeVmJo5mVhGto9RBfSijiBfjJQEyhJVLUfiCefDdpy6OlFcV7iPuUjhw07oPCxgE34ZCt30+aq1AAPGDb0j5+zi4TcUXwPJrBndqHvbhW80tD22xtvjHVW/dRl/6ytfYoEmHMRaheH1aSvOsFm0JPDns1jcKkA9KhYicm6aOe6Aicm6IFSKtI5zI8+RwyEa343MvlIj/bkg6QIOS9dyVE0450mE50aSai88DFsKyKxVpPGALycBeMZH3AkXJem7IiRKIGAjsSbUpi89zVPgiu7kj8nUWVQv8lxC23wYnasBHbORPAxw8AI3wfBc8zuqTPYnjCYRMOl/2S2Av2cspHLr7oLn5I9kpoBEtzLu8dNLRwnwnWVMdzYBmQDOgGdAMaAY0A7MvA/wvkk445lD64vviQMtMeKmF+UjWUZTHiXkW2ZEL89ifCYp9VNW+TIhbsYjJFkP5xhQG21Js+GAxgIvGg30iKOkGah4P6KmhsAx08AmKgHKaFcTzfS8Vvnze3w83qovBjRmiCA/ms3gQV5y6B9kF2N0nFL50QrGK0AXvKHXgdpxCgBBsWE6zUIy9kKNPMPICbyZPhTdxL+C+oHFBxCd8auRurQcCGIAhLWwCDSOb8sI8Tszz/ZidnMwEnqT8bKMwv+O7bjJPbuYT8llb82cjZsl88oYd8lppwJv138loCgFJajVKAwEO2NyeFEf6WuOQon2Bk6LEg6kpw/MM+AzecKRfvkTOJR32pSWOlyeItcEJ8gUIjzJeRZuS+Jr6FU1A5qxLQ43/6QeljIM30Ip0ZA9eRED60xgnEp/DIRt2eibiq/HLhi8djeTDDQX+SzUXX8Se00dHKmKMaGk4sCdEH9/SZ5ael90XzsM7DPWZJ849wkpoYV4kqoOuFuY7SJqqaAY0A5oBzYBmQDOgGZhlGeBaBRflD9xv7xn3TAvzkSXgAhAX5WVhnk+A5jtHodFggyU3UhCvoF6dguQ8nizH4IRDXejGLNQ5LOYDhy2LOFI0iKsLQUwCAvEDAnxGmxS+UafAyXggYRz8bKT164UT8AUtVcobV5KnPgP+6uWvJ34OybR9aqmDdQGtdh+a8B18Gwpd6wGYRrSNFcSHeJrF18iNpNDmLdmJ+akuzPf9wQ10p33hxtjfbjF801ixsNR3CSjkyj2Z0fJsgUdyLoEROTcknHJj1HFmXEfORvoJOTk8mfiiOEhgxB03JBVpULKeupxwypEOy4km1Vx8HrAQlt1cMfj9Y/2TYuUBb9YPiKZK/kBcTmAsRllOtJJaaUAIR7qN4puBfEm/Im77iYwKZIMSJxpG03zlchIvapblKpozR52oP6FuHR7jEFAjvyoMNvCL3x/7Pnmwc5DfH8e+eLTltTDv0tJRRwvzHaVNlTQDmgHNgGZAM6AZ0AzMqgwccej+5ujDD5wVPmlhPlwG2jDxnqdcmF/g9mXYLoGGENW821GRGBDaUmEBcBgCn1O7/xPwcj8Y7g8hBqjpoXAY1sDHKQrj2cYWJ8LzfS4FlM2D9/e/MxMf4mpGEV8b6p4jLGgzU9MihVWEMTyPGHc8DTj3sVCWYoIQwLd+3cA6gMG3p/AbmuAdjbiLuEBr3Qd4lDpLNIt42tIosB1sjR4o4CobrzDPyBz8ZBo9KGwKJ+Z7zrrBQ5v4n8W1Nt4ECrHST08gOeFJ0TsJ8RSD9wZKQzzstdKAN1swuVwOC/gCT04UWqWe9wKi2aT5Nng5Dh4rz2gbnCBfHg6YpMOZwFTGBxc8WhOfnLb5qfG/vLCetWKacNwbhC/icwl7zi/X8dVKXEJODs+G+Er+IBA5gbEYZTnRpJqLz3aEUKwrFWlesp56YK8EJRXrcDzgElI2ENiT8KTe889FYZ7lJy4QhXkeaPm+rHfMc9KM0cJ8lgf9qRnQDGgGNAOaAc2AZuCZmoGD9t/HHEtf9trf3z8rQtDCfLgMeQGoXJifmhPzqDtgo2d58inYX3k8XG6ybYNsc1plGRYFDQJAYRwOY9qjiI9gYvE293UqJBE/sMFntFnBPI+LNr0sP5sbooOP3jphfTxKGigggaJAHPIYL1FY6z4txUMmxNOaPW9ePOlwfEUA1VqAYAWlKdvgGfh6CutJShN2GQjKoicFIRCh9W4kJaIn5lmanZpMoweTQ0kW5v92cx5wyohMhJCRwy5hYr7UlQqlSfHGTXLu9RCRc0OMF2nOTBucyPPkcMhGt+NzL5CI/25IOkCDkvXclRNOOdJhOdGkmovPAxbCsisVaVyynnpgT0LYvlSsw/GAS0jZQGBPwncrPs+yNOBNBEwuV/sLO/A/QHGJboTTIF/dwsED0AivFFQxYPXJb4lTzIpew7xPEq/nE4cIm+SWFua9fHTKaGG+08ypnmZAM6AZ0AxoBjQDmoGZz8D+z1lhjjrsQDM0NG/mnck90MJ8uBS0EeItU7kwX5yYh0qDbSNEBZUbMiC0pc3hvH1dsF9MWRXo09BFPmAKfE4RQL5xjhfG830wFcLsPEFZ7TxeICNe8LORxuPDvwTIC/15wa+4KgeRgc6eyILV7KAwDgSKyYYHvg1FPiafn1qrJGCXJ+Kuq9PCjRSFu1Fa6wEsV9AosB1sgg7t2HLM3Il5KsxziwVQmrADiR8MQK0rOJQh+/4V4FkD+JHbA1ui0hGalCyeH6sjJ0ogxQDeT6VfxazotcEjtaR4ckLY4m4u18ivQFWy0x4fjLP/Fc2loUYOebA0gidx3BtKRM4NJex1hOM9cJkFh0Ose0NwxiMdqVA1TXKN46vxy5qpsetcYTnRpJqLL2JPqGRdqSgmS8OBPSEaxZH6nhtyogDRwnyRi272tDDfzWwqlmZAM6AZ0AxoBjQDmoHpywAX5Y887AAzPDQ4fUYbWNLCfJgk2tjzFqdUmKdv63UHBLEhIurVAcCTvtwmCfHUdjv0ogVfZSm0HOFlIQT+C7Em8cFZqIGfGRrkAwHkK9Kk8I04GtUFZiZIZzWINvI84i541DlIA4GBxh5s7wmGOWQGfPcp4gEyeEcj7iMM0FI4ALPuOyQaRTxtKQDb01rriA/e1SpAUNBWbsEAlMA3o/xuWWSvx8zciflNCCCjzn3quAfDF/E5p5Aeds+PL+JzEgeZERKlaR6oalKB5CTrwcuJOjwxL9VcfB6wEJZdqUjjkvXUeaKqSUWSk2wJxxtIgAb2uoUncTzLyQlPygUW/L618XqSgf/eHDO5vUY4DfLVLRz4OVk8l07qNH7dwniEWn8oD9KviJjLa3lBfOnJ4kxzfD2fPNTzX0/Me+nomNHCfMepU0XNgGZAM6AZ0AxoBjQDM5YBvr7m8IP3m1Un5ZEMLcwjE6C08eK9U6kwv2hBLuF2VsRj41tHAS42iBiqgfP2lUK9Sg3QU0NhGejgEzQIICuM5/tk2nj7vL9/brQvhxszRFHoh3nwVRTPTXHiHdp4jsBPP8UqwjJ4R6mDdYlTCBCCDcdpYqABhfXu56PWG7gvKF7miBe8o5XuwiKEwLeh0C3nAyiQAJ+kmCCFSS8PjAo6awrzwqesmwcuC2vldJIoy1U07/2M5JLiSHRSIDPSyJ+oo4GTuT2JF0jkBqOjbnBK4iP/G/lVEadLZ00+7YI0xHEvaBd9pFNjT+Yrol0MuQCKIe7JYet2jT1PwYeyXLfwJE4JOGLXDQX+SxwXX8X6eDgROYnn/HJKkU6gIFkPXk5EYNwQy4km1SaDJ3EEvP+AeBMBkwPI1xn50/MJLcwHieoKq4X5rqRRQTQDmgHNgGZAM6AZ0AxMSwZ6e3vNYQfvS0X5fWfNnfJh4FqYDzNCGxve4pQK87P+xDwCkTs87BQFRSEBG3xvI5colJM61DxxMsnWZlfz40eBHAGAr6KIB1kDPxsoooMvbl1owPpLAqg3ZTRyYh4VZQiCT1JYm/qMIL4kLcWHwCso3Lc0iVwBgLhBPcBKBtYgBD5JxUTj5YFboDDWiMIghMHHaXZCHobo/YL+V3AzeGL+bzYWDz5CiVKOq6K5F1SNHN4/w3fAUtrqcOBLQq41nlQANtHScGlACMsuy4km1ezCywEhV+om5OSwwyspiwGpQMOSxYNopeWEUC91AznJdozXRb9qf+Gyw1VNBkRyAVtoJicKEe418sdLnK/vuNxet/Dk67bSPNutaK1wKg1lRiYbn1sW6rhfCBX+B+9HPZ88zBPWE/NeOjpmtDDfcepUUTOgGdAMaAY0A5oBzcC0ZmAR1XEPPmClOXC/vafVbltjWpgPM0YbKd4LlQrz3T4x7zZcZAz7O6LevjDFk4pURwiAAT81FJaBDj6nCAAegs9pVhBHnPEPAoA8PfHAWme0KPBj34xCeJq6BS9ttGc+4mA1sYoFJQG4DYrnN+MhQPm04dQiQlBQrEX381HrDdwXFPElaaW7sAgh8G0odMv5aIPS8XLALCjcidCZOzFPhXleIPs+Q12ZGM9PnmjScoBJ40VwouaTDvvSjfxpsFBIUCM83wWPs/pB3j0BMG3i6wKeM0edynQ4QTjqUzfNOLlfvkTAsUJFm2y+nD9kw8ZVYw/rbGnEr27hRXEqE587E/g/KZyIvSheJA9uSCq4wcj7SUJOqGTdQE6ynrtyogQiBliOmhSvwNHCfJaubv/Uwny3M6p4mgHNgGZAM6AZ0AxoBrqfgd2X70JF+X0M09netDAfrhBtnHnPExbm+ZMWb/9DMiEfQjXjscOCNPiGFIUVq14UurFx8+oA5DDELXrIEwaPz2xD3PACfEaLQni68I36SfmqGGDOHoro4FF5vRAn6kKkkQdYxJc/iQjcPZnhExrysDp1FPE5WriPMEq05D7cthRI8Bl8GwpdAIOvp22seO6SYnJ54AZovRtCAh5hCHwzWn0CvqL+Q+bC+Hhgy5YR68iihcOG/8kY/8dyNng70+EPemFwRHPnDFiAnrNu8IAm/uZp4iMJLKWBB6qaVIjIuWnquAWNyLkhp5CNSNZzV0445UiH5USTahZPDgi5UjeQk2zJr5KyGJCKNCzZEo43IDBklwFEK+HJASFX6gZyAVuIJycKEdvL5bxfoDTBw14rDXizLkGNcBrkq1s4WLhGeEFIkrX65LfEkfOlfk2+GuPl61NeEN9irV81OG6aOo1f/74LHtet+KRfwkDPOYcLjpblgqMtP7JttKP35dNOPcXD6zZz+RVXtoOk/HHo4d/ry5ctbofTUloL8y0TpuKaAc2AZkAzoBnQDGgGpjEDc+fMMQfsu5f9b/78oWm03LkpLcyHuUv8ob/DIvry10aFHyGG/WlIScTto3zxum0lSU+2wTJwwCcoNo65x01OvKOcEO5bMQ7Ls5E2K/zjA5CMFs/F7IuwtKo0gHVJUfeY23AEAhR8AVpGxJ2i3Vtp4U3cKuKDV0KhsfuV7grAuAewXEHTBlqjt1ZI2+5sBg5k2jN2Yp6vsrGN/aloeD+zlOSS4ogrKZAZkTh4/D3zDXHwG0HieThgmvhDjjTCiToMQxm1OF3Ac2mo8R95SC2MxHEvaN9ln6uxN9n4nD9k1aazxt6UxBdZx6hfETk/WcQF/k8KJ2JP4lnbgb2oPwJH6oth/y+qEogYCOyV8OSAUCt1A7mALcSTE4WI7eVy8nXrxQdxlqtqvr2eT2phvipbnc5pYb7TzKmeZkAzoBnQDGgGNAOaganNwJ67LzP7rVxhVuyx69Qa6jK6FubDhNLGiLc24Qmc2In5ULUzHhspaINvSL2NHArGeV2GNnZe3QE8mZLosBzdB2Jy2ig8yw0igNzjRoVzUrUoVLhh+dncEK2j1EG9KaPpE/NOEAViKIJ3FBmY+hV2cZBJWPNoKb5CsJn7sICYwLeh0IVn4OtprRUSsHEQlEWvVYCgoPVuCAkYwBD4ZjQ7MY/3A3q90P+QlRSFJUsDMzN7Yp48wvtF7eteOi4iksNuAcV8qSsVSpNIbEu/qnAwV2MXYvad0DHCHxpz8WGlhVypm7Anhx1eSVkMSAUalqznhpwQ6qUuy4km1Zw/HrAQll2pSOOS9dTlhNQP+7mcfR4DPE+U5apaYC9gC83kRCHCvUb+eAH7+o7L7TXCc0qRTlMcqLJ8RbP+kP/Sr6j4NOXLmaGO+wUXdSgf7G58emK+Ktedz2lhvvPcqaZmQDOgGdAMaAY0A5qBqcjA0sU7mX322t2s3Ht3M2/unKkwMaWYWpgP00sbOt4ahYV5d2IeGz7ouY0XDWA/iH2t4GP7RSHm1QEAPT00CMDzRASQj8cL4/k+GOLkuEXN+emJozMrWBdox+PDBx4o9GcrV7pKxpU0gTb9FKsJy+AdpQ7qAynqwrBhQpMQPR7jTSi8yfIGrhNaa40Ewrj8eBBHBa10rNaDCuBy/ECDSfBJionGChF3oNsV6js0cyfm+SobbvCHacB66Q/kMunIz1wO7/tJteSEj9ktHMTZCM93wePwBihxPAEw0xyfM0cdb93gD6gTxIBP3TTjEBDHWdlq5iebL+cPOWHjqrGHdbY04rjDo05X4pN+VSY+dybw3/nTCU7EXhQvkgc3JBXcYOltITIghGV3iuKTbnphywnpR9jP5eTr1sPJ5LUwH+atO7wW5ruTR0XRDGgGNAOaAc2AZkAzMNkMLNl5R7PXiuVm7z13MwueIdfWxGLWwnyYFdro8JYnLMzzifmsYeMERfANKTZSVp12UuBzdctiOEVJV1qDJ5F9GaamkUrPioJ2FmfBVxXA4ezsiAfexKlbL5q2/tJAVrBHnQR8QV0BhQopo3TX61MbnjZjY2MWYf78QTM8NEx9mce47akYlVaRf4+SAOo/oCichTzGfT9rLZC4ZzHC+4htuFrrQiAZz6TcgwF4Db4z2uSEu+cuzEzGPHQjdMvWGbpj/q835N4gQKailYZLA0JYditwbGLb4GAlBL5Ud3hivtSVCjQpWQ9eTpRAxEAgJ9mO8broV/D70cYrvM8S4A0EjAwo8MuTDOTyuYmxUTOxeT2ZGbcjPXPou2bm0fvzBCXHyw/A4jiYLWgu1yi+qKECinvuFxHhVoqz3YrWCqfSUGZksvG5dHJcZI/xKlvNfOP4YCSBx8M2fOo09iuSL4cj8GA6SqVCRMBNZ371nHOEJ6R3zHvp6JjRwnzHqVNFzYBmQDOgGdAMaAY0A13JwB67LTN77LaL4atrhocGu4I5kyBamA+zTxs33tvECvPYf2F7laIhZHd5t/Mi2JQHYtzbiKIwHuzjSdwTI2Rppbv+dxcNBX6ggq+iLm9YUCi7fLqBKe+seXydOee8L5lrrrvR2vro33zQHHvUYbTX5zX018Guarbf9tfLW7+IgIvLIhBqHbWmp+SHfK6iXnTiPjwFIHhLYRGD4NtQ6JYNtEGx2q0VyDbMgsKdjigcgDL4jGaFfhii9wv6Xw/9z6d4LjEO3pjNM/Xlr3WFeYTraB63feOjQZkGJ8Od5EQm5aapU3o/8YByhhUqWuyNOCruDEdnC7fZLxJJmm2DQ0DsX2WrmZ9sfNJdG5ccqHIsISeHHV6BM/70Y2bTZR8329febQeHn/sBM2fFSVlOC7Gi5/Bcp5iL9lhONKnm/LEdIRTrQnHcjD+92mx74DrT09tvBvY41vQuoC/CdB8kBPZKUMAJ5ErDpYESUjYQyEnWC0tOJKDsMMtRk+Id45Bio9d/ZjL+UzrSLb8CHM9wYM+bk0wmp4V5mZPu9bUw371cKpJmQDOgGdAMaAY0A5qBphng0/G7Lltsdtt1qVm+bElTtWeEnBbmw2WijRpvaWKF+UwUGyMogm9IsRG06uWNoVe3wHRISVdagyezg0rP8EFAOzo74oh7gegw69aLBrZt22buu//X5p77HjCPrV5rHl+7zixdsrPZffkyc9AB+9KbyFLT29tLkrSgvIJUyFuzZq351HkXmmuuzwvzf/2n5hhXmM/lYGwaKOJzNHOzeN7AC4pwktTz2yHTKOJrSz3ASqa1tdYKwjzCEEP13XYGUSDHO0DGg2tA25mLA1YENXMn5p/KvCrFxwNVTSoIOTls11UOCLlSN7An1VrjRB6oKF7JCTEgFaqGE3JCJeuynGhSzXNXTgj5UrcCz8rSEz6yiQrjd5rtj/3KjG9cYya2bjC9i3YzfTuuMP27HGT6FtIX++B9Fb9fk+YDe1F/ikDGN1Bh/vJ/Kgrzp3Nh/sS8MF/IlWDcQG6v0p+mOCRXE9/45nVm8zWfN6MPZb9P5ux1ohk87izTO2+R8yjr5A5JvECikItO5NOEgw+kKsNIJsAHl/5E8drgBPnyLeUc41U0608THGC0wINKlCbilMM2P9X2ej51pIeuJ+a9dHTMaGG+49SpomZAM6AZ0AxoBjQDmoHGGZg/PGQW77SDWbzzDmbJ4h3NLkt2Mn19fY31n0mCWpgPV4s2YrzViRXmw/1nuG8M+RC6Ozx2ZkADn1NsJPNSKk6O44h1xuf7ewrI57NxIE9PPLDWGUV8CLvgi6tjcBc8aLkgDNudRTxCBfmbf3m7+fo3v2t+ccttACvRM173SvPSFz2X3lR2dnOpE/Nc7LDe0LLa5440PB7jwfLbdbaSQqF1ARzudZYPaDOFexgDn6RiAq+3WvcBHqUAxCT4NhS6xQlxjLRBwfrVxoO0g8JYyGO8FYXHUAKfURT+qynWNcsHkJjO2Je//nVemJfOcN++MTCl/6L5S06wtmi5XCM8oVbqtsGJOuwjFm98ifgg3jBOGR9UPVqD46ap417AHkDAsEKijW83o4/cYrZc9wUz9sSDCSFj5u7/QjP3kN8xfYuWJ2WK9a+wZ7VdAJbLTswHhXkqdttk2+Vph1dy0JmjTif5cvrs0oQZW3uv2fjjjxku0HPrXbDMzD/9/fQhxp6W5x/8wcb2tXeZibHtpnfOkOlbsq/p6Z+bzXt4LMwDVU0qCDk57PLU4Hm2C1WFgzlpAGMxGvgv1Vr7RQry9RENJ7BXckk6QJOS9fDkRAlEDOT2pLjA0cK8SFUXu1qY72IyFUozoBnQDGgGNAOagWdlBnjrw4dW5wwMmLlz5pjBwbn2Spr5dE/8wvnDhq8S33GHhWZgoP9ZkR8tzIfLTBsv3uOUC/N87zd2PIJ6G7Wi0I0Nl50mcY8SUmwfBdTQpenlA8/geO5xk8I34mhUZ5je4ErWgmj9dbLrhgI/6iakgcCIbnx6o/n3H/zIXPCVfy1hxwaOP+YI89YzX2dW0JdT8AcFXJj/FF9lc/3PrfhHvRPzMYTqMcQDKfCO+u5H4iVNt4DUZ0U0O+6QaDQUbMoDsD2ttY744F2tAgQFbeUWDEAJfDOaFcChWxT+q7QhbWmVYGo5PIDuMjN2Yv5/PJkIhBMkWilfckDIlboJOTnsXh8lZTEgFWhYslgvKy0nhHqpG8hJtmO8Lvrl/X7Mcb0Y2OFIGx8zow9eZzZddY6Z2LY5IuAP9Q4vNsOnvMeeoDe9FacoGvlTJM4W5i//5+DE/AnZWx+//7XE870WHH7PSjwxXXQT+coFxjc+bjb/9HNm9NFb7MjAHseYoePfYnoHd8wlqHi/7j6z8TIu3q83A7sdaYZO+sPIiXqIkz2kAzSfyoh84LyJYJpx8nxFxIqh6vj8X1iklRSfCr8iCZBm7HTSoTxEqVBE7XpumjqTyVeO0/Opoxw0d/TEvJcOZTQDmgHNgGZAM6AZ0AxoBjQDsyIDWpgPl4E2xrynKRfm8eWvoUJbHjsv6IFPUGzY8wqOf8K9+CAAYnJf32hfBzdmiKLQD/Pgqyg2rMUJeGhHNs6YmgK6efMW853vX2q+cOElHvpJxx9tTjjuSLPzjjuYDRs3mR9f/hNz3Q2/cDIf/JN3mNNXnWjmzOk3q9dQYf5z4o55LswffTjVQigWt9HP43ILijhTFKYwD37yNPGUFvVFEoCboKXCDtwChVshj3GP1npA0gBK0QIQaBgBn6SYgBXwbSiMdURhCMrg4zR+8h314PgHAUC2NA4LgBKdsRPzXJjHcpcC8AYCJg9QvnEGEhkrExEVyMVIDg9+1B/o1uC5acYjHeajzQlGZ6MvzLhkPpo0lM3HftFE8RJ+yWEbV8weFY/X3282/fgfzNhTjzh0LjIPrDje9AwMmvFN68y2u39s5SAw7+BXmHlHvMb0zOEP0VNNOhCRcdNZZ/zpR+kqm1hhnp3nFvjv9GnKxVe5gBbFfyHlQ0yieGI+7NKX1HLOtj3wU3oM+8zAXifQVT/LCId8yP3Zvvp2s/Hyj9MVQRvrC/O18cEB6SjGYjTPlxT30iMnYvoYy+Xk69bDkXLox2hgT7IenpyI4WCM5ahJ8Y5xSLFRfJ6BzH7+UwvzXjqU0QxoBjQDmgHNgGZAM6AZ0AzMygxoYT5cFtoI8Z6qXJjPT8yjMIGdl7dxShTKsb8CJXy5bwtdmFleeoZ44HjBVxbO8wBQn5rZeKqtYzld1NSB3xmNn5gf277dXEvF9r/96D85A0ccdpB5y5tfa/ZduTfdfVXcJb9t26j5+c2/Muf9y0XmeaefZF75shcZvi+L21SdmHfxkA1s2y0txVcIIG5fgb3MGwCsAAaTlkjAsyx46GIefJkCHTPgk1RMJOOB2RSFsUYUBiEMvhnFiflMOl4o99wEbGfmsjce6E4BnbkT80/40SBPjrqOL1fiWE40qWYXQg4IuVI3ISeHHV5JWQxIharhhJxQybosJ5pUc/7giRNypa5UFJOl4dKAEJbdXI7fkCe2m5Hb/9Pelc4SPXTdyvCq99gvMs3uks/0JsZGzfaHb7RyfYufQyfD32p6h/maMOG/NC+Gm/4GLp2YP+39dMc8n5hnMG7SQDYS/ynigx+gngLLVbXAXsCWNQM8yu/oIzfZDxs4f+7E/NyFXtriOFGHfVHv7yGaCsw3zpf7xUwAlWZLBiL+EID0y5fIOcapNJTJSZyoeA2OnLb6Nf7XPV8OjzruF14RYM+njy4Y6umJeS8dymgGNAOaAc2AZkAzoBnQDGgGZkUGtDAfLgNtvHivUy7Mz/CJ+XyjmhXE830mbcR83t9/RveNYbwzzOdhFdtPGsBJ+BR1G2i3EUWkoFMf1ONr15vzvnCRufyqa60xLsq/++1nmj3pippeXhcahTdMx8bHzSOPPGYWLFhgdli0wP2L/FYn5nPEjRs3myeefNKsf+Ipw3dwLV2y2Bb6e3r4wwC2jAYPMp6flQ0bNponn9pg1j3xpJk3d47ZZeliurtrUf6ltNBLU8T1NP1LgNWrHzebtmyhb8Xexey0045Z3CSAZQH1EgEASWHOdxejAZWKUGhLC8jWaFAABPg2FLodURiCMviMxk/Io+APmj0l/K8ysne7DMtmEXBxeCgm6cydmA8K8/Df0Tww+4ZDg4iTqddKA96sU2yEg+cygJCsxSE5iSfnXT/psJOwncniODPUcS9g34TP1eSrg/j46potP7vQFufZ1px9VpmhE/7Q9MxbkOVJOkD44xtXk6+9pnf+knymIu8t4ysV5um+dluYnxgju4+bMfpyWL46p4/ucu+dzx8K8HtwVfPzNTG61X6h7fim9fShwk6md2gn+iCC/9YQcmxr8xNm/OnVZoKu+OG79HuHdqCY+b5FIcdmXXzUdy9onsgbnajf9sC1ZtOV59gBV5ifR4V52aI4FXl1uk38aYoTkZuUX4QnXx8R+FI+XVzoSAdoTLIenpyAboyynGgltdKAEJbdXC6Ir+dTWpiXWdK+ZkAzoBnQDGgGNAOaAc2AZmA2ZkAL8+Gq0MaGtzhhYX7hgmFXp8D+CzSEmF4eG7fcqt2YwTMqvBHPBW5UgsH7FNOZ/PT6385aEC3CKvbHebxIgx8n4svzg7yUKsfwCXkEn1F+Nvhqmr/+yMfdxF998I/MySceY/pbfkt0eGL+I3SVzbFHHWaLYtY6BWzdJEvr1z9hLrvyWnPhxd+kL9nc6mxz5/W/93L6Ytnn2SK9H86E2URX7tx6+13mBz+8zFx9zc88PWZe9PzTzGtf9RKz2/Jdra28omNze/udd5u///hnzaOr15gz3/Bq8xL68tqbbrnVfP6Cr5u169ZbrEMO2t+8791vMbvvtmsJu7ReJIGsRikU2lBYBSD4KAUwJsE3o1nhG7pZYRtmG9FmZuIFHxiA+a5QOJSBNSvsI+6MyhXdunXEAi1aOGw/7OEvdGG38wcrM9LJT3pBs6dz5wxY7Z6zbvBQJj6cPYveoGUQH1PR5LCX10BOqGRdqUgjki3heAMlpAJPTEk8O1waEMKym8vZNz4aT6rxRFULFCXrhSMn6vBovla8EHCF+Tt+aIHnPOe5Zui4PzA9c6lg3Sg+ei63baTi/pfNyJ3/ZTHmHfwyuubm9XQNzrzc2czeOBXWN10hrqpZ9W76IOAUel6ze+ptYd7O32P1hk58h/Vj602XmLEnf51jZaR/yX5m8Kg3mv6l+zl9O0M+b1/9K3uvO8fGX1Y779BXme2P/dJsufFie9c7gHqoQD507Jn0rwOOIxf66Vqah83WX/672XbvlRCxdM7K08zgYa+mDwMWE88LkzWbuxu/akbu+m87MO/QV5KtV9p7+jf/9Hwz+nD2XSaQD2nfwuVm+LQ/Kb5I1y0Lddzvy1BL8qxQ0ez6kb9MK5sz7EvJYfs8dogDVIdHncnEJ3HcbzgYiVGn4E/KYRef7fhyJU4qFpM9nz6mYKinJ+a9dCijGdAMaAY0A5oBzYBmQDOgGZgVGdDCfLgMtGHkLU5YmOdvBc6a3ABhwyQoNp55JQKFYVSQMz6vL5AaxCWFS0AFPxsp4mtDs0KCzOPsiUx6ZfNPAyiMg986stX867e+b778tW9Zx0856Vhz9tvONEsW70jrKRDcRh8rWaZrHl9LX/56IX35640WK/blr4x5z30Pmi/SF8xeL+6qD7PGXyz7trNeb/bcfTn53GNGR7ebW269w3zla/9mfkm0qh1L99q/8y1vpOL68mJ56Bm+7Y57zN//02fMo4+tMScce6RZSifs//0/LvWgXv7bzzdnvvF3zcIFeI3IaZEPV7Ao54FeCaSUGpd4fr9KK4rWWkHYA6AYat+tdqBZYdzPFnyw7lXD+4qIJ6QA7IDO2FU2XJhHHFG/ZWKiAtmgfSOmLotHWw2Om6aOe/1HgfLBpKFsXv5imEx8HfkVMehwyD07XeO/97qO5MHhUSfP18T2EbP1lm+ZrTdlX6jdM2+RGT71vWZg+WGZjIRx+tKfFoX5p6kwL++Q58L8SirMGyrMU3xF4T4rzEvTsX527c677RUx9ktobXqoMP/YrVSY/0dbIO9bSB+AUkzb19wegyC7fWaYvpCVsTZf+0WvcC8V5ux9shk85k3eF7cmC/Ojm83mn3RQmHcG80TL10fk8ah44eRIcsFoSLIenpxwTkQ6LCdaUi05IZSp2yg+z1Ff33G5vUZ4TinSieBEpPxEFgJamC9yoT3NgGZAM6AZ0AxoBjQDmgHNwGzNgBbmw5WhjRRvhcLCvDwxD5Um2zPITh3FhjO3YDeC8IwKFMSnroRJjU+dr5NHRrSOUgf1r4wiXowXAojXVlyiFQHkDX6GfDa+jk6uf5bui8c1Nme96ffMq1/+YjNv3lwoNqZNTszzafVzz/+yue5nNzlcLpLvvdcetmB+2ZXXuPFXkR9vfO3v2CL51pER870f/Jc5/4KvufkdFi00p606wZ48vv7nN5v77i9OfZ71pteYV72MTnPO41Ol9Dqg1MkT8w4k6Lzt919vXvHS5xPmnGDGLxcgm5XULSxBVQqK+ZLVqgEYgAz4ZjQrnCOu7MR4nZuwZOWamYGBjHoAYLpD4Q7QmnwwgIUprsIpMjBzJ+bXUQjwA9EQRYCOcqeqOcG4kJt2nbicGw3kJOu5KyeccqTDcqJJtdIDJuRKXalIkwFbiAf2iom8FyhKttP46I1n9JGbzaa8kG0N0XUxg4e/xsx5zul05QufEq9u2Yn5rxQn5g+iE/NHvo5uf8GJ+Uw/OxH/CbN97d12YNiemF9FjxIV5qnx9THZifpyYb5vpxV0snwPOoV+oy24WwX60bfjCjN8yntM3w67EUdJoHi2r+bC/Mc8Och3TMnH+WRnYE++roSu0GFTI3QNEJ+Ypy/G5WZPzB9CJ+ZHN5nsxHzxO8QKBD+yE/PvpS+MpQ9oo63meeBfGu4XMgEkxXnCe0Ci1rJCeZbDavEaPDeddCi37wQT/sBtkkOccUmBVyEw2XxJd206/fh6zj3WM64n5r10KKMZ0AxoBjQDmgHNgGZAM6AZmBUZ0MJ8uAy0UeKtTViYb31iPt9wxQvjdq/u9nXY34GGLs0mHvtI+BSPr/oDgWJD3mBjDkPTRGP7XKwL6EMPP2I+ds7nza9uu9N69Vd/9h6z6oRjTF8/FXM4QaggQAF8hNadmN+4abO55FvfM1/7xnetLb425q1nvtYcsN9K+oLZPvuc3nHXvfaDgtvuuJvur19o/uID7zJH0p33/EHEgw89Ys75zAVmAf2Lj9956QvM/vuutHfLs5eb6J74b333P+2JegY//JADzXvf9Raz227LbEGFXwm3ixPz1gH6serEY80Zr3ul2WvF7mb76JjZNjpqhocGrT3IFBT5wAj4NhS6RSEcI21QXN0Cj11TCmNdodUeNymMh257blXDZ4WyFADGPcB2zIyemLeucgIqGt7ALCW5pLhMZB1ejhPNXxscArDvHxX20g5nSlMSX1O/IgmQ4dvpZMLzoDOFiW1Pmy0/v8SM3PofpWTMPfAlZi4V6Pt22oveauN3uk9s2xS5yoYK87jKJvcrOxHfrjDP18jMO+QVVJTPCu8TdBp95I5LbUEczg4efYaZd8CLqUpPVy/RmsQK83NWnko4L6ci+K5UOKd/JXDr983Wm78JCEv5Q4ihY95s+nc9hD5UmGtxNl39WXeKfu4BLzKDR3Bc2YfCtjD/c77K5sdWH4V5vhbH/l4a22a20hfrbvl59mHtwG5HmKET3y5O3Qfrk+fJPnZu/SLr7HnNjFQss4V4YK+YyHsVOJ4bgVwJBwOBPanWSXzyfcTzR9qLTkAgp7kjjfACVY/1cXo+rYV5Lz3KaAY0A5oBzYBmQDOgGdAMaAZmYQa0MB8uCm2MeGsTFub5xPz0tGCnaDdqtLHLaZNCOPx0dWEMzELqwiPfsC+G3xnFCfiClj7RiBS8S4WBLsZ+z30PmH/45/PMvflp8//9Pz5gjqOrYOyJfMSRorS8Mj7+8tdPf+5LdJVNdvcv3zF/DN0xj9PId1LR/R8/eb558NcPm92XLzPve8/bzMEH7Gcx8oyZ7WPj5qqfXGf+7mPn2ijPOoNO8L/ixWbuXCrkjG03jz66xizeeUczODhI8/x8FY2vyPmHT5xnT85zUf8vqah/+KEHZrHQ4tx+J11lk98xz1p8//3Zb3uTWU6+oNzgUfH4Is64IIF5ioJnQ40bDEIBfDOaFcLxtBSF/6Q2JjozF6YfKF2jzQr7iDOjWAg8c54ziLch3bp1m1Wf9jvm/2ot2cUD5UUQMByIaLG47LScEPKlbgVeaxzy374hkmLSfGAv6o/Ig8QRwxUGAsTcnsTxJJITnpSz1yi+zNHxLU/SdTZUnM/vmg8A7dU2cw9+henf5QA64E6FaRGfLczfIE/MvzR+Yp7vmL+SC/PZifjhk99lv2zWOzEv5gePfL3hYnjPAL+XFm1i6wazmb6wdtu9V9lBvnZn6KR3mN7BneyaZoX5j1MBfrOdn3fYq6hw/9vZvfl2ZMKMPfGg2UjX6vApfW59O+9t79bv33kf4jg4gqIvi9168zfM1tt+YHlbWD/hbWSHvgyW5/mLc+neendi/pDfsafme3qpMM8Q9PugVJhnfbpaJ2v5eudcibhf2CQn8l2SSz3A8nGx+jX2Ujgw6PDYHwJk/ypbYr4jnEgCHA450Sg+OCsVMUZUDjfCkwrkwrnHCTCCuyD7MtiRbaPZE8U5a9FOO5WveZq6dvkVV7YDp/XmiMO/15cvq/9XNe0MqbRmQDOgGdAMaAY0A5oBzYBmYOoyoIX5MLeJP/QXcWGeNjFZYTzb/+FqFOwHHSVMf3sUGpk9vCv0k0vZvq8ogBfxIe6M5pI2H/5G2CLMaHDIO5wA7yh13DqRu16dwfIQcAlBx9KJiXEqVt9r/s/Hz7XXyHAx+0N/+kdUzKbikD29yZbQ6vMRXmUj75jnO+J/cOlldAf9lyzga1/9UvO633uFWTA85D1fbOVu+rDgH/MPC/jLXN965uvo9PyCbHngRkA3b9liC/L/cuHX3en/D9Pp/5OOP9qexudnI7zKhgv3q046jr7klk+qBoBJPp0PrAskwCdpcqIDd2C0FYUDUAKfURTG8Q4A3qeYzQrjXhYBF4eHYjWF7hRQuFdQer+g/4GfuRPzfJUNNfuCZkr/IbE87lpyIpNw09TBG4XTjXVYoaJ5bzAklxR3huNgbpo60big5gQx4FM3zTgExP5VNqcQl3LTbfAiUBJHBMj3zW9/5Be22Bx+2SpQ5ux1AhXdX599YekExcRhjdCJ+SaFeb5j/gpRmF+VF+bdHfN0lY0ozPMXo87Z8/gsd3CA6fiYGbnnMntdDLN80n3+c99P19rsxWx2x/zlVJinwrmdO/0D2Yl/8UCMb15P98B/1ow++kurM3jUG6h4/6Ls1L0doR9UWB+560dm8/UX2pH+XQ6k++jPJkz6AIBaqTDPX/5KxfnixPzo5Arz4QvLrRsZ955LOWFdS/xgOdFKaqUBISy7udxkX/8Osg2eU4p0IjgRqeyNwUtgVKrt+5sW5uNp1FHNgGZAM6AZ0AxoBjQDmgHNwGzKgBbmw9WgjR1vpcITONN2Yh6FnHwDjMJ5tiHzC+TpwnkY1Ozh822qcwjhYtzxNJDVjfBBQcG7CoArLGFDm6Iwh3nwndHwxPz/+vD77Yn53t5er2wBax51cWXxVJ2Y37h5s/nq179tvvmd7HTkS174XHP8sUdQUZyvJXAZo36PWbN2rbno698xa9ett1/S+u4/PNMsXcKnxgq5jRs3m3sfeNAW4fl+fHm/PDLx5+97J91Bf7wozBcn5vfbdx/zp+/9Q7OCvly2QHWrkdVlkhPWTelOoQjjSBT4RhQGIQw+TlEghyMZDy5SKCdYuGVpHBYAzShcnQKK+NrQIELfq5bxzuyJeXZdOuyHYjk37ToRITnEcqJJNTwYdlpOCPlStw6vDY5wIKkW2Iv6k8ARw7V5dbi5PelPxzikaH8hEKGT4vxlqSO/+h7dP/8LZw2d/sUr6YT62VQI34OG6HXMV9nYwvyPrMi8g/IT8/JkPcGPbwgK7yefHTkx/8niRP1p76XC/AmZWRkX+SlPxfNd9sOnvc8M0BU03Lavvo3umM9OzBeF+RUuPn5sJ0bo1D192eu2B6+zOoNHcmH+hVSY5+/uQF7p6rD7fmI2/eQ8K8On6fle/N4FS4mnuPkDCbqmxjsxbwvzdKUOt3EU5r9u2ezE/VuLE/PeL2ASyc1aYe8HT8gEeJMF0y08Zy7pUG7TCRY+yJ6bpo77+0EKhP0ae5ONz/lDdm06a+y1eX+j+LQwH66n8poBzYBmQDOgGdAMaAY0A5qB2cnNbfQAAEAASURBVJcBLcyHa0IbLd4ahYX5NifmAdlg2wrRGaMo/Bf7SxTC07TYkIcRhvz0hxXb59r9N7mCfS/246CoL2Q8EIQCBHL6wK8fMR8/53zDd7pz+9CfvtucctKxVMxGwdwO04/6fFSdmH/qqafN+V+62PzwR+3+efdhdFf8+//obWb5rkttXevJDRvMFVdeay665Nvmyac2wLko/fP3nR0U5u92V9lwYf6DVJjfc3e+Wxl5akJhqpyPJtrQwvq5tHoTZCPFp81jpgWFx1ABn9FmBXFkL/sgAEhefBj04aFYTaHbBQrzgAJf0FlyYt5eZQMvmRYeytFS377xVYm3waEVZLzKVjNfvBEXz3MUr41fBJAUT05kVuW0e0CjDuWDUiEi56ap496AI3JuiBVEo5PpY088YO90H7nzv8SEMXz3+9CxZ9L1MPQvhVKFebqnXbaOC/OcC69RYX7tvWbTj//R8BU8fBXOfDpdP7D7UVYqWZi3C5MBTYxsNJuvu8Bsu/+ndsCemN8fJ+bzxE1sTxTmd7E6Nu4bg8L8oXRivpcK8+zzGBfmf+jfMX+CKMxnrtBPt1DZSMA6MeF/MSZ7gaJk7fMEWTmBsRhlOdGkmns+PWAhLLu5Yrde/8hXIzzpR9jvrl9amA/zq7xmQDOgGdAMaAY0A5oBzYBmYPZlQAvz4ZrQxoq3RmFhPn1iHjvDHAiFlXyjVhS+04Vu1CdwAj50aTbxiNZR6hT+c10KcWK8ECjiw8Y5RREx5sFPPXVxkSlrHe4Lfv0TT5jPfP4ic8XV11qH3vT6V5nfe+VL6A73eVk9A24CwCJh0LfAX/766c9d6N8xfyTdMU+6Tzy5wZx/wVfNjy77CZQb0ROOPdJkJ+Z3Ng898pj54pf/1Vz10+s9XS6yn0xX1iyi626+9//+29x9z/12/s9wYr63j57gCXOHuGPenpj/YyrM77G8VLfxwCsZxA8h8M1oVviG+QYn3GGGqLcczcxF1lMAdqULRzKwJoX9PBKKxy/s23EUhuAb4NtQ6HZAt47M0B3zH3o8ssBVAciEkFzAFpo8UdUCRcnaBw66cgJjMZrbk+IeDnRyObApiudB4nmyyQlPyiWoEV6gKlmrTwFJHDnv+jV+TYyZ7Y/fZQvZY+vutVq9gzvaU+r9S/fLrnS54SJ77QtPzjvoJWbeEa+lL1Cl92jR+D73TVeKE/F06n7OypNJgr7Im1o2f47Zvu4eyw+fyifm+Soby4ofeWH+so+Jwvx7zcBueWF+DZ+Y/yd7x3zv8M5mPl9ls+MK0uc4s2YL89d/qSjM0/U87iob5Is+mLAn5n/6OavkTszPX0I8vR/wBxL2xPxldp6vseEvqi0V5m/KT8wvP9wMeYX5urxbM/n65etoLaV+FPFFJRo/D9AO8KS79nUiB6ATowk5OezwYvoYkwoYIyqHHY7tCKFYlxVFmxQO/Yb4DD2roukd8yIZ2tUMaAY0A5oBzYBmQDOgGdAMzJIMaGE+XAjaKPJeqHlhPgSYWh6Fb1gB34ZCN69kFews6MX2oX7hn7ym/a3cz9siiVN0nULQF6AosUFO0epEbNm61Xzj375vvvy1f7OCJ59wDBXC30xfsJrd8yu14Q3GwINWXWWzYeNG88ULLzHf/+GPrTrfHX/icUeZ/v6saATMkA7Rl7yu3HuF2TY6Sj5+y/z7f1xqRfg+/DNe90p71c2SxTtRHnsNf8hw3he+ai678hor419lY7w75uVVNrCJOBrTxoJkAcsDYyGP8Va02oEmhXG4AeqZr4aPFGyEdhRQzHfQhTtQLeJDenHivaCYKQr/cIwoCoQWUPC5oZm7yoYK89zkGwPczmaCn8gM04o2WTxpxvpTY8+r6EX8cnjUwRthRKwYStjrCCeSUIdDFrsdX+kNoIjK9mhtRh+7xWziK2Lo7nZuw6e8x8zZ+yTit9C99FSYvxNX2XBh/nVUmA9OzIeFeXuVDRXm6cQ7N3ui/ioqzOPLYVOFeevLr8wm+vJW/oLX7CobOjHvXWUzicI8CvhcmL+fr7JpWZjvk1fZ8Il5UZg/kU7Mz6Uvf/WWN/Hc2KyIH/b1Qbx8DsR0xYQn5eQa4QWqHps70gjHC9hDcUy3cJCgyeK5PFOnwetfC/NuJbWjGdAMaAY0A5oBzYBmQDOgGZi1GdDCfLg0tHHivU/zwjx2ShkQCuQoEIGvpqgn0Yk33rjN4mb3lbSfRdSOp4Fsn5g+MV9sJLEhTlEkAPPgu08RB5DBO+riQnx0GwAVR669/ibzP//un6Fm/uqD9KWpJx5t+umkud+AhFHwGa06Mc9Fzm9+5/vmwou/ZZVf86qXmje85uVmeGgIYCXq0Glh+Kqd//tP55lHV6+hL4JdaK+hOeLwg+mOej4Nn9Vh1q1/0nzui0VhvtGJebpj3raOlgeW4Tr4ZjQrLOP5a3di3lpsZgYGMgpXp4CiUA5o8FU0WzkZCLRpQewLkng5jXVKUaFu9cB3QGfuxPyahLecCNFKeZEDQq7UDeQki7xaHZ6oalKR5CRbwvEGEqCBPYnnaSQnPKno8+NJNMRBYLHnsYTnDWQMnYifGB8vvrQUD2Zgfuyph+nLW/+Zrrd50OoNnfh2M3fl6WZi+1a6Y/6r7sT83Oc81wwe8ybTM0DvnUgr0ewqG3Ei/qR35nfM85db07wt3H8qODF/XIbBQIhvLP/y12u/YPV66QT7/FP/hL7gdU+S6aH78W+lE/NZ0T47Mc9fDLvCytofhMOn3e1VNg9kH5IO4sR8L1+Rljd7lc1PzSbvxPy7TO98vmOeTPEd83QafuTuyyzPp+XnHUwn5l1hfnt2lU3pxPxCK+9+uDxTB/lyk7LjBOVg0XfTjJPnq5iN9Fihotl8i7wnxZ1hH0wO27jkgC/qcwk5OezwfE2fkwr+jOXctOtEhOQQy4km1cifns/k34eQi+iJeZEr7WoGNAOaAc2AZkAzoBnQDGgGZkkGtDAfLgRvkGmseWE+BJhavijwY5+LQniaYkNcXCUDH+1OEsysoG7fTd5gn4v9PCgKBSHvFCDQMa1Pxeo1a81n/+Uic/U1P7PCxxx5qHnn295k9thtV0o3e5417JPHKbB7733A3HP/g+bUk44z8+jaG5aqOjHPHwBcc+3Pzf/6+09YsOes3Mu8711vNSv3WZHZiC5fZpGf359ee6PT/a3TTzJvP+uNZscduAADxZ6OT8wjriY0y0SxnsI8VZI8d+I8ALpCqw1WFcSLE+SZI8ii51Y1fHV8UUAPvTVT7w69b9D/ZNzy+Sg57F6ghIwXIPwmOmMn5j/UsDAfZtCLhyY5YdEmMxkVyAYniyfN2LwmHcqdkAoRv9w0dbBeEbFiqMaejK9QivScYX9ODqfiG8/uUR995CYzSNfP9C7I7k/3gZij62PW3GVPzI9vecJO26tmVhxvJsa2ma03fcNsvfV7dnxgj2PN0Ilvoy85Fe9/FAt/oeymKz9lxjevz/T5Kpt9+MQ8F+Z7qDD/mJ33r7Lhwjw7zy3L1/jmJ+iLW79gRh+60Y7O2fM4M3T8H9j77lmktjBPQlxU33w93zEfFOb5u0syM0Q5NxWFeXuVTVCY966yCQrzux6aXWUzuIP1u/wDhvMZZu26CWqn5EQuGyU5XlI8ORGg5XL2eaSppBpPVLVAMWALzeREIcK9Rv4ggb6qz+X2GuH5mpLTwrzMhvY1A5oBzYBmQDOgGdAMaAY0A7MzA1qYD9eFNkK8JSoV5ufzSbvsRDsK3AXN92P5PCCbbL8gO10U20vYs/s+chTjTQr/bmfuCj2IFBToIY/xqaMuDjIB6x4lAbgNGhcUAJ67mYXtY9vNT665wXz0Hz7lZvlu9ze/4dVm7xV70BfBZoUdzuy2bdvNzb+81Xzxom/Yu9z/5N1vMc877SQzd84cw1/+Wr5j/lDykb02dNr9cfPp875krr/xZsu/4HmrzJlkY8mSxZ7bXPhfv/4JMzIyanalL30dHxs3P7nuRvPR/3uO1Tv2qMPMu9/x+2bZUrqLOE/Ixk2b7P31n/n8l60M/7An5k8+nvynU/WEecdd9xRf/vqcfcyfvvft+Ze/QqU24yRYrEBWAIYuCsLi+fOkI+PtzEUAYHtqqCxwhwXvFC/z4wo7cK+TeKHbBQrzgAKfojN2Yv4vVxdphLOWsqdVTUZCcpLFY2vV5UQdXrdwyAH7Bh3geebb+NUUzzMQMLk96VcgkbEN/ZI4nG/6QHH04ZvMpqvPpUL106Zv4a5m8OgzTD8VkEvX0FAxfcuNF5tt915pTfYuWEan1P/Y9O28F1XCqQB9B13ZcsNXsrmhncwwnWDvX7KS+CwP29febTZf83kz9uSvrQz/GLYn5vmOeXr/JrHsKhs+MZ/dYz/vQLoS5+CXm555C0iGHaZXPBXDt97+n2brzd8iPmt8b/vcfU4lEf49QO6sphPzl3+iuGP+tPf5J+YZxxbm6Y55d2L+ddkd83xiHum0H1pQYf6a8y1u/857m+GTxYl5LszfdElwYp78xYl5Ptl/31V0Mv+LVr9v0W5Wv29R/q+g7Kj8wYYrml2/LJ/ubT4qjgACPDls0xnMR7F4MCHXGk8qCGNy2PmVrbeQinQDvyaFE7En8az1wF7gUc9nT/RG9MS8lw5lNAOaAc2AZkAzoBnQDGgGNAOzIgNamA+XgTaavNUpFeYXDIeSXeGbFMKLDwCyDwZQECgoXIls5DA1TVTuG7GftQVwsu/xJBgWxjNeIIQCbuePOFN06oIV3plNGzeZb3znB+arl3zHM/j8555sjjriULNowXzz1NMb7f3t1/3sJidz1BGHmHe//Uyz++67mnXrnrAn7/FFsu96+5vN0aS767Kltjg+Rh8AXH/jLeb/fPxcs2XLVovBJ+df/YoXm31X7m3mDPTbL4m9+Ze3mYu/8e/mt19wujnjta80w8OD5le3323+7h8/bdauy06DvvJlLzTPf+4qM394yPz6oUfMd+lLX6VfDM6F+dNXHW96qTDPRcHbm3z5a2oZMI7IQx7jrShWAErgM9qsMF7UuVgLzboHOAyCb0OhOwW07AZOvOPdoJDABwGYiVKvMEoZ8HgKoIAr1CvimrHC/IeoMB9rNp4grpicF6gQKMXPA1VNKkTk3DR13PtbRM4NJex1hBN5ATocMuheAM54pCMVqqZr5JyqL8fFaS5w46Q7xHropPvc/Z5v+nbYww5xMX3kzv8yE1s3QMTMO+zV9EWnVITmL3ildR995Bd05zsVw+laG259O+5h5u7/ItMzZ5iuvrnfjNz2n24OIK4wXzoxnxXmWY6vopl7wIvthwZclN9271Vm9NFbAGEG9jjGDB33+4a/jNa+gCjE7MR8UJjfaUX2+rKaNYV5oLsT86Iwv4oK88N0lQ0/5vYqm4rCPOflMboL/8pzKPYRizp35Sn0rwToQwS6Pmhsw2NmgL4QttedoPfXB26UaS4Xe//whFmuqrXBiTzPIXQjfxrg4P2hEV7ohOCtPi8UxVlpNs+DtSv0w24Nnhbmw4QprxnQDGgGNAOaAc2AZkAzoBmYfRnQwny4JrTR4S1RWJhfQCfmwwJ5ig8hZxMvt3t2X8j7Q+wTLcWVOBgvBBBvsaPEzjKkiBjj4KeeJuMj09abIhwXt9sgh+6GvHXft/DUhg3mG9/+gbnkW9mVCXURHnzgvuadb30TFdX3ss/TRiru85fIfvt7P3Sqr3nVS+gu+VfYu+TZ2sjWEfOfP7rCnHv+l51MqjNIV+R86IN/ZI4+/BDDXx574UXfdF8em9KR49N1Yj7LYrMT8/AP61daL6xTinoAYKaGNvlgAK+faOEcBRu45z9uWSEvFSfGodsF2tb8jBXm//KxmmhlJCQqWS9vPFHVpCLJSbaE4w0kQAN7JTw5kICww7kcnp+kWnIiAG+DF6h6bGAvYAvRYoKL3SN0Ap1Pfjdtc/Y6ke6Qf3NeUM7yPr7lSbPlOroa5sHrmsJkJ+bpy2Pdl7/yVTZXfdqdmK8D4mt3hk98h+lf/BzCYD+o0ZpsX3Nb5MT8ntl8/nNiZCNdZXOhf2J+/xfSJwF0Yh6Niuf2KhvvxPzZxR3z9CW42R3zl1sNPt1vP6zozb/8lUbttTuUl9FHs3+FBWim/AHIfCr09y/ZlznxfNP64A8FqVDq8zpWNPt8Mi7jkVxSnCcqBNx0EiB3wgnGnZLT1ly38CRw3HQ2GtiTas6fijw4aKnoBk3PZ+lZFk1PzItkaFczoBnQDGgGNAOaAc2AZkAzMEsyoIX5cCFow8hbnLAwv7BLJ+axL4XZZ82JeUoq9vUhdfvvcCMKQV+AUoeNaooiu5gH355iuwtN8I5SZ+vIVnPdDTebiy/5trn3/uJaBOiAvvZ3X2Ze/uLfomtodqYIyDf6P185c8NNt9grcXAi/lS6Suadbz3D7LxTfuKSBLdtGzXX3/ALc/4FF9svcwVmSM+me+5PW3WCvUuen7VfP/yI+TJ9eewVV5eLU7svX2be+LpX0qn99eZfLsyKYM+cE/NuBSgFWGcU+uso6k2ZnJfDOCwU4hQAcAN8F2i9O+kT8zIvznH3BpQjW54ctSwF4PEYD2hFXDNamK/Mv8xkRQCx+D3xGhw3TR33/uUBBIxTCMZz1k23wYtD2VGsP9PK5gz7UnLY5rtDHKA6POrIfNH3a2x//E4qMv+rvQYG4jE67/DfNfP2e6HpGVyYPcdWiPAoRr4bfvPVn6GT4I+WVLl4Pnjka83o6tvolP6/2fnsxDwXM+lfDFF843SCHIX5XroOZ2D5YfYOeJzCl6BczB469vfpZD4V3DkWbjY95AfZKF9l07AwjzvmGZLy0qowT/+CwF69g6tsrD90XdBjt9kvkJX/4sD6Sz/4tP/cvVfRBwKUA9dY0S54NiJZMSwWwGn6HalIM5L1cKDFAlVNApBcwBaayYlChHuTff07tNxeIzynFOlEcCJSqcC1MB9Nlg5qBjQDmgHNgGZAM6AZ0AxoBmZVBrQwHy4HbaR4KxQW5vnE/Gxodp9HG1i3zaQO6hkZxYn3gkKg/Yn3qY8YccASeEdL8ZFkvoFH3OAdBZiVc0iFohNEJaCOArCacmH97vsesPfIP752vVlHd74v22Wp2Y3ufD/owP3MrrsssVfEeNbIvdHRUfPL2+40P6U74W+/4x7D98hzcX7RIrrHOHB/49ObzK133GXuuud+up9+rZ1fRtferNx7T7Mf3QG/aOECWm62UDT2i/FvI73H6M76ZeTHfs/Z2xy4/76Gn+vHVq81jz622ppatnSx2W05f4Et62dfDnv/gw+bMbqbeKC/3+xNdviKnsCtSh6e2LjbKCJRAJgCihPugAZfRfEAFifeoU0OxwoxiCNFhbpNJPgu0PbprtHAGxBWHHxOR0a2Wa8XLRw2vb299j8OO3+gOo+I8NmzuXOyk789Z93gYU38ZV54jblvJeWEp+ozNg4aSoonJ3wcADTCC1Q9NrAXsIVocqIQ4V4jf/Cg+qo+l9vrFp7FIbtMZaM71bmozoXtsaceoi9jXUM18wHDRXK+X71/l4PoGpfFxfMlcWwYE3RC/Em6t/5GKvTfRfqrTd9Oe5mBXQ40/csOMj0Dg/aO+TEa59c137Xet3C57fOvCT7Fvn3d3XQ3/IjppStw+havpDvlN9M1OTfbDw4mtj5l5ft3Pdj0L90/u0ZH+m/TRD5sXEfX5zxgJiieHjoBzzi98xZJSbpaZpsZI1vjZJNb33y6zmzH3cktUSCnO/jH6BT/2FMPk8S4tde/80p7PY9VIny+D5//tQDHw9fu9POVOfld91aGf4xPmLGNj9n7/MfW3We2r7/fDCyjGOjDiv6l+1F+dyYdTiBavt72ucYYUTmc51vMRrpSoWq6Rs6pspxoUs35YztCKNaVimJeDjs8MV/qSgUxWRouDQhh2Q3kJOuFJScK/Z7z+PsSiqYn5otcaE8zoBnQDGgGNAOaAc2AZkAzMFsyoIX5cCVoY89bnLAwjxPzOOEONfBV1G5wCbcojEPb21lhcEap3N5hH4oCeJyShp0gt6GQdTDQgCLk7uejFE/oDdwXtNb9SndhEULg21DolvPRBsVbDsTdGgC+dEphEPrg47SqII5COLICCmRL47CRAhJJhwAh7wF3xpTdKZ9wL+LCCX44EqG28Ei+WGCa93iM19DOQrFaiAcQ4EFn7sR8+US057DNU54vOB+lHElFa4WD9RN4SJSjriOEYt2EnBy25nigqkkFIVcaLg0IYdkN7Ek1508kDxLC9qWimCwNB/aEaNYNFCTruSEnSiBiIJCTbMd4BN8VHHIg9voX3meGvIGAkY4EfnmSgZw3J5hG/niJE8qym9vrFl6r1630I+hLnMowpilfzgx18AeacFkL8yIZ2tUMaAY0A5oBzYBmQDOgGdAMzNIMaGE+XBjaePFeJyzM/yacmC82bthRpmiYlKnj3b6STFhvsL8MeYyXFCAoKHWLBgWMgG9DoYt8gS9ToGIGfJJighQQvysYw1xIAY5x8I0oDHZGs8J5vK4EdzwKM/ANfBsK3SmgxQcBqNOjcJ6mkCwoHKPIY4UkLyEkG/JC3b75gO+AIq1QBV9FIZu5BUmMgs+pV5hCvAWdsRPzf/EIOYzEwvcY5ThEC8LLTmw3xRFyEkfA+68UbyJgZH5pqhIvUPXYQFGywt0KAx5a9Hn2JKQBbyJgcrnY68OTZLkGzXsOST6plpzIjLTC8RIYd7JRfBU4eZqyvJMc41W2mvluxef5RQ7VmE0+Xw6HMGwa6oCkQiQRbpo6kcJ0WSNhT+I0fh+JrKPDmWR8JRxEkvAf08EbR895dCWRaHpiXiRDu5oBzYBmQDOgGdAMaAY0A5qBWZIBLcyHC0EbWd76hIX58MR8sd8tTsLjRHxIXcGotHGMbOxCf6aYx/4PZlxcNIB9M9wGdftWT0Ao+AKYqKA0Zdvk81GKh3CBGqWkgLhAqxVyV5OktQcRDwEOj8H75Q7MVtJO3IE5AIPvCoVDGUVhHJGBr6JwI+qeDw/YagrALlCYBxT4gqLgj+cSfEExE6X2BUroFpAy4PEYDyiciSYMk81oEUfUO/q+hRm6yuYv6MS8jY88rIxTRhCJ2U0zTp7fiFgxxAoVzb2hMh7JJcV5IiIgh+10EiB3QipE/HLT1GkcX1O/InIlFwL/nT8IXw6UlMVAQk4Od5Kvkj5MygmMxSjLiSbVnD9N8xSRk3jWTGlAGJfdXC72fiHF0g9oLhXYk6znrpzwDAQMy1FLiicnMj33M5drFJ/nqEPIOoG9gA2EiWWBijbZ138I3TI+LcyHCVReM6AZ0AxoBjQDmgHNgGZAMzD7MqCF+XBNaOPDW62wMN+tE/Nyn2e3hzSA+khGUejHeCGAgr8r4EDRFXTCDWfIh8F2n0/GR6bi8WJCULgFBauJwZIFoYh4QwpdjIOvp62ttVao98GXgAGMgm9Gs4I3dPElqX5dBFkCLaRJrpkZH9ADANMtCocyvKqCfnhlDHj3euLnDIUPuAf4NhS6XaBtzGbrBQ0YB5+gNl7EDUq6Vjzk83FAR+gIfUkxt2m/Y96emCfDWD8ZrvUIP5ITEMhpLtcIL1D12MBewBaiyYlChHuN/MmeBF8x5NrE1wBPPkehKY9nuxVN4lSarcmXm6ZO13AIiP2rbDXzUxFfdYC5ty4hvvdy2Oapxv90BT3DdXiu49srcYE9qeb8qVzAHFEqCiNy2OGJ+VJXKojJ0nBpQAjLbiAnWS8sOSH1wz7LiSbVXHwFcM/nThHC9PhecLTl+X2apewfn55ENXPaqT5etXT72cuvuLKdEr2eOAXh3+vLl9H3TmjTDGgGNAOaAc2AZkAzoBnQDDxDMqCF+XChEn/oc2G+KIxDqdgAYWSmaWyfhvp9irp9fbixg4IvQCEi7hTtXhYQDxDBO0od6ya8chP5uOCTbgM8SpsApPKA8QIYaBgB35g2FiQLofmQhxOtaLUDzQrjVCCIuGfdkBPwt47Cf8iB7wKFO4ACX9DipHu00O9FSg6iMIdxyxN6AVisG+IJKZzpgMIMVMG3odCN0Zm9yoY94kgqGvLPtLLJjAhBOWzXpUMcQDo86rj3W0zGqFPwJ0vDpQFf3nEsJ5pUc/HhARRypa5UFJNy2OGJ+VJXKtCkZD035EQJRAywnGhSbTJ4XcEhB2Kvf+Fu7fPsJYgUpV8lHC9gb9YxjfxpgANHuoVncfJ8OWdjnWC9QxGJUxlGMpE+4mTjc2ao0/j177vgcUF8Pef5hXQtzHvZUkYzoBnQDGgGNAOaAc2AZkAzMCsyoIX5cBloY8N7pfAETtdOzGP/RTbsvhC8o+kT88XGDTvKFEVQmAfffcq5Yito4B11cYl9Z+6W24fCTVCAWR5IGATfhkI3NIDxggIVI+CTlCZSHwy4wjjMpiiMNaLwBMLgm9GscI76TbsT89ZiMzMwUF9XQhgdUnwQAHXwVTR/5dHy4MtWoU0LFCu0pNYtNQ64DijSC1XwzSkkEwgo3HiFM8QNSroWJuTzcUBH6IydmP/zh/NlRfxMq1ogF7CFZnKiELG9XC72/HiSLFfVAnuSxfNm1eVEBV4jfzzgBFhurxFeAkL63QingV8WJ3hOo+anKV/ODHXcL7ioQ/kgK1S0bsXn+UX2kmadYNwpN02dxvFVrGNHeBHXJI77xRuRc0NOwY3Yjhy2bvNAVZMKQk4OO5yKPDjVwF7HOBmgnph3idWOZkAzoBnQDGgGNAOaAc2AZmDWZkAL8+HS0EaY90KxwnxxYh4bLNAQZOb42D4O+2dQ7FtDPhsvIVAwiLMp7V78td6QgI0DXtYqCN8Qjhgqd5sAAihFC9RO0KBt0ScDAKBJ0WoHqgriKISHWfLcqYbPC8akIeUAAGDwXaDSDOB9ihPzeJXUaHiFNkKyPOIJeYwHdBJx1XjnpRVxwlzIY1zSmTsxT4V5bi5A6rg3uGwq/pMVKpq3XiSXFHeG42BuOgmQ6znBepzG8UVWTpqx03IgbjobDfyXaq1xmvpV54/AKfkDXTmBsRidxvis+TZ+UZze+wUBBO5GBoIgA3uSFWnMcLyBAAds7oDEwZSlyQlPytmbyvg8iw396tbrH7Ybxdcg7w390sI8Eq9UM6AZ0AxoBjQDmgHNgGZAMzB7M6CF+XBtaMPDW7ZYYZ5F3X6I+nb7RMKoj2QUJ94LGghAs4LS1DQ1bE9hrj4+ksS+MUpLiHUKkXl4AwPg62lr66X1i7gDN0DhRshjvJLCw85oVvh2ZYyiDplyG2bgE/g2FLpdoTCcgTUr5ONkP064I/GgwjHAt6FQj8BhqimFWciDb05rJN0LlOT8Nx7Bk/UqGDjXAa2C5fTN3In5h/JopIc0JFlvfeVERSJsvgOcqDjjNWi1eG38ooAkXtR8jV/e80QASfE2fuU4Xr7hXA2Om6YOnm+oRqlTiM4W698GLwLlzLTBiSTA4ZANO80DVU0qROTcNHUa56sGx/2Cj8i5IWfYjdiOHHbxRfLgaxEnFQPWU2e5qtYGxwNOgAb2JHwn8cnXa9R8YK/klXSAJiXr4WUTPeef6iHoVTZeOpTRDGgGNAOaAc2AZkAzoBnQDMyKDGhhPlwG2jjxliZVmA/FJ8tjXwUcVyehAez7sN8Gxb454wnBdoQCBBpTWPd2dhicFEV8SQr3Ba11u9KjpCXSQnx1NG2gNToUYB18FYV5uAm+IwpDUAYfp/FCOfb/KIxnWFH34rAAiFO41gUK84ACX9DyCffiJD/iQ2QR6hVWaN7jyWphqHjc4AzgwHdAY/CATVGYwTz4jAIxH3VvQDSON5xaSroWpsfM2In5P0dhHtGxQ5GGcB1NyDlVJ+hGbEcO28TKAV/U5wJ7Uq01TmRFo3i+Bz4nFWhGsh68nPARfC6Qk2zHeMKCxLPDpQEhLLu5XOz1KsVsAryBgAnsSXYy8UmcwGLGskCD1ig+z9EEaO6QxItK1vjlvZ8QQFI8t5cWyKxLf6JhtMEhAImXjC9qKPeHiJ0mu3ifjOJgMJmAHK8NTsQvGT5N93xOC/PIvFLNgGZAM6AZ0AxoBjQDmgHNwGzNgBbmw5WhjRrvbVKFeW+fSRufMl9srEpX37iNGzZUKRo6NXV8sI8r4iGT1rsinGLfmXIbClYTPpcsALmCQheGwNfT1tZaK9T7UC3RziAK5aiYZTy4OIX9jpfDAwAzNRTxtaH5k0kORZ6PdunNEtjF0CZjPoumBqH8hkNpIE1vnAKSMIgvki5MpShgMA8+RWfsxPyf/Tr6ONQvsIyEopSsly85gWzEKMtRk+Id42BdAzxrAD+kIYzFaC5nnxOaz90sSyYnMtHYc1YGyQ14gUelvMJoVLxhfNKvuKV8dCbiC9Yx6l8iTjls81Pjv/fgRQw5POrgfSMiVgwl7HWEE1lgh0MWux1f7PdDEVjekw7QkGQ9d+VECUQMsJxoUs3F5wELYdmVijQuWU89sCchqN9z/mneiJ6Y99KhjGZAM6AZ0AxoBjQDmgHNgGZgVmRAC/PhMtAGn7c6qcJ8KD5ZvrTfogHsl1PU7Tex0bOC5Al4XwATFRRReDs+DLaiiAdK4B1FfCQAd8M4a90HeJTCEibBt6HQLeejDQriq40HZkDT5jHTgsJjqIDPaLOCOOoCOFEOLKKAwxD4KgrZMF6MT4LCLCDAF7R8Yj5/EmmZEB8ci1BZ2HQPLlkrDACuoHCmC7TKTMRb61a1WSDmUrLA6eIj5KpxGCD5mTsxT4V52RCWXC85X+o7BX9GDtsE80BVkwoROTftOhEhORTYk2rOH6y81Av7UlHMyWGHJ+ZLXakgJuWww+nArxIObMgJjMUoy4km1TrxSz4/0XACe8J01pUO0IhkPTw5UQIRA7k9Kd4xDik2is8zIHyR3dyhRnhSL+hb/cCvQCRjZQKiArkYycF9UE+8IQ4WTsbn4YBhvIo2JfGl86WF+Yq10CnNgGZAM6AZ0AxoBjQDmgHNwCzJgBbmw4WgjRNvrcLC/PzhQSqYU+GON1alnR52fKAh6NTx8AYWwDtKnbC+BvcxDt5RgNlwgIRB8G0odNvnp9YKCdg4yITnbq0iFOBbUwpgyINvRrNCOOozWSEYWUlRWJp0fDAAwC5QFPYBBb6K4vVTFMKhTQ7Kwgf8bUsB1wXabFWxnkyhAePgc4rCDOTAe5R0rXgiH4DugAbewItKCjNYBvAxum3bqB1etHDY9Pb22v9Yz75IYwpNxyg/7PvcOQNWo+esGzzNiT970OMdY/NKnAzcTXInOeFJOblGeIFqjK3FgRL7V9EsTvCcRMUbxlnrVw2Om6aO+wUTdSgfZIWK1q34OvIr8sQ7HPLZTtf4X/d8OTzqTCZfEqf0izyWX6fgT8rhRvFBnRUjTeLZ6YScUw0UJOsth5xwypFOYE+qufg84AgGD0nFMlsoBfaKibxXgeO5EciVcDAQ2AvUej5/OgQt1RPzXjqU0QxoBjQDmgHNgGZAM6AZ0AzMigxoYT5cBioE8N4mLMwvmD8USkZ5uS/Cvg/77RR1+2go+ANkBzu2pjTqWkeDpXhCb0jAxoXxWgXhBsIRQ8UGGINNAAEECt2QL9DboHpobRTL5gE1CVrtQFVBHIVwuAXqOVMNH08gAKKAmOyMlt0pn3gv4pqiE++IC7SzUKwW4gEE+DYUulGKQiYKSeDb0Chws8Hpusqm7w9uMOOctLyNffBB08vrU2oys2JSDtt1lQNCrtQVRnlOqrXGiTxQUbySE2JAKsT8gWggh+ESZTnRpFq347NmpAFht9TN5exzTJNJNZ6oaoGiZL3lkBN1eDSfFE9OBKC53KTjAyzjUZPmvfiy6UwA/Qj13jdyvIiYbygqkA02ii/qqA/ayi9f1eNa4TT1iyzk6fdseYxcGDEhh625OiCpIHCoOz7RY/o+f5ob5PfHsS8ebXl+n2b4th+YnnbqKQ5vKjqXX3FlO1haP85A+Pf68mWL2+GotGZAM6AZ0AxoBjQDmgHNgGZgBjOghfkw+Yk/9PnEfHGiDRu0FAUo5sF3n8ptGax5lATCDwRq6/yem7CAQfBtKHThGfgybYNq0Uihux8MlH3yR+AhRsE3o1nhHGWMdifmrcVmZmCgQYEAcXRGiw8CaB0IouBRQC9TSBYUtgnBFkosUDGNxyZFhXp9QQTCcYr0YhZ8cwrJBIJXCEK8ISVdC4Nx8DkFdAcU3rWhbcxM14n5Hd91k3ly85hzbc0fPWSWDBEfC8xKyQmnFumwHLWkeHIi03M/c7nY8+xkuFOHJ+eD58HDAcPyFc17/kguKS7t1uHlOOReGa8NzmyNr6lfkQTI8O10MuF5kqVCJO9umjr4xR4RK4YS9jrCma3xCb9cXJQBMVz/OkPGgnyV8OQAdGI0IVca5oGqFihItia+x7cOmKVfWeXAdxjqM0+ce4TltTDv0qIdzYBmQDOgGdAMaAY0A5oBzcCMZ0AL8+ESUOGC9z7hCZzUiXnskwDj6h40YPdNJID9Myg2jCHvFCDQMYU3k6eIL0kr4ku6X+kWLEEIfBsKXW/nagfboGD9bByAbAIA2bJ5zEyC+g6gEI7CA/gqCuNR93x4wFZTAHaBwjygwBcUhX7UXcAXFDNR6hVKKQMeT1YLQ4U6nIkmDJPNaAwesCnaDDmXwhsQAgHfhrYwiHigMl0n5g/78K3mloe2wKy56ozHzMm7jTjedeCgjN9NxjpOITYpno8aOafNcqJJNbvgckDIlboJOTns8ErKYkAqJIYdDp5IIVfqMp5oEt5TD+SEit8N5Ep4csDX9LlALmALWZ6oaoGiZEvxeQMJ0NxeV3DInn2uyZTE8yzn9ryxGFPnF3Rq8OTrrDIdSYdhKKON4qs0lOPl9iSeb0nIRSeywSmJL1jHqPmafLlp7mTt6tWLzKrvHgXWHLr7oLn5IwdZXgvzLi3a0QxoBjQDmgHNgGZAM6AZ0AzMeAa0MB8uAW28eGuDwvyGpzfT3nfCDA/NowI7bwC729x+imDt9pIGbME+5DFeUoAgKASItw18GwrdJhteyHZoTbgV/6CCcOEGqG+yhoMBiIHvjGYFb78OArdAYcnyMINB8FUUsiEgxidFYTgDqSrgh1fEgC/MRxwEfBtaAE6618Zs6H3G1yB4hRnSiPIUhoRBVKFBjLegEhZwIQUcxsE3oogHwuAb0Al6AY/yFQlEFy4YmpI75ucMDNj3xzd85j7ztWvXw0vzseeuN+8/ZoPjy508czYOmmU22pITmbSXBxpKiuf20gICL8eJLlgbHAJg/ypbzXzj+GCkW3iJOOWwzU+NvegLD74SdXjUcb9wxHypm7DXEU5kgR0OGXbxReSifkXkJJ7VSfjv8AIFyXrwcsIpRzqBPan2GxOfSEwpPqRETmAsRvN8JcWTEwFYLife3z7+yz3MB67d18m9/vidzMVn723fIraN6lU2LjHa0QxoBjQDmgHNgGZAM6AZ0AzMcAa0MB9ZAC7EozC/ceMWMzY+bgbnzTP9/b1Z3QP7Mmw0scEHLVWSPQWyGPIRJzocwjYO6uAdpY51E16AF7TkXit3nSVY6IDC+zJtjd5aoWxzciNwACjgM4rCOCpG4H2KWdyhDiyigMMQ+DYUul2gMAso8AUtTraj0B/S8utDPICi8FD7nEINzoQ8xlvQIo5KL92ysHx1A2Iu5RVGyeEmPAy49x8M1FNYb0NTqPy+OTq63fTRl77Onz9YFObZry40xh8Y6Ke75HvMJy9dY9570a8d6gv22mJ++JrVji93ZIRiVg7b54MHqppUEHJy2OHYjhCKdaUizUvWU5cTMRyMsZxoUq0Tv+zzR3gSR8BnE95AwASKkp1MfJPGyd1sFJ/naBAf2NyhRnjQiVCrT/YkTkSsYkF8aYkTDUMm0lf1uUh8vkDOsVxFaxwfMLqFVxOnm66xl34hZA5LnEbvxwl7HeH4C/zCHxxhLn14JyTSfOKMPcwfv+D/t3e3MbdldWHA9zz3/c5wGV5Eh2Jrpo4Xq06xNBbTsWgTJwLjh1qM0DQRItBCo35pUF5MTBRQ0i9iCi3QiF8qRmqTOgxmmlSoQ/qSEMm0FG7HTptWmZYXZe7cuXPfp3vt8/z3WfucfV6f87LP2b8T5q699l7rv9b6rece7vnfffd5Ufns+cH79DI3mnjGfM3pgAABAgQIECBAgMDKBCTmWyjzxPzlZ65WyaZTJ09USaGW5gudis9b0SnqdVkexOe5SeX0hGREmjhCeSE+wE0qo29cj/rsMkafWMb6YhYTG0aDlnL2NKa0WGzASJBHImRQj1p72Rh8seEGASPA4vzRc2I5XM+gSdQXKYfBywlG4idOHmW9EeMI5dGHnxGhkViK9Y+W5QLyMCtYT4TIw8aPx2gZbZcq6/WVvavA5YiT3oji/OH7yc3y21hv3rxZvU+ePXNqLYn548eOFceOHRRfeuJK8Z3v+EJjiV/8qT8tXvq8a+Nvb41WuWDjwkjlsF38fE/sli5Me7XEaW0+cYBm67nmEz8Rza6NWr3P5bhTm8+YV305xSkDpbhTXzOur2Ve5YQmDpsuTAGoL5cHq17fTKeWedXziWmnE/O88o5Z+/x0NdyseHmHCXGq0xPaZV0GhyPj5d3q+bQ4tMZpadcab6xzdiLvUJ7Oq43w+YWs+9jhSLu8unS82fP60pNniu/8xPc3ZvPF931X8dK7Tpfv0beKG+X7tMR8g0eFAAECBAgQIECAwNYEJOZb6FNiPpLzV65eK65cuVYmg44VKdlU5R3iA1VVxietMlCjHufnKWMSETjqi5czRysbVPmFlunWeYeYxqRy6rRmziBGnlIOB4hocSbq08poe+TtiEBHKmOmESTqg3K+hHjkB6bcMd8MGx3ay5hK7G/UV1DOnsb4HfPDxFhMKCsjURcZkqpeTnT2QMOwR1hXDBMhoj6tjLaxiqi3lxHp8Gqsd5EyAte/gePE7DJGX6ScFPXGjRvlvzR6tjh9+mRx+tTJKjGfkj/LJIDaxkjvyQfl3fgnjh+rLv/Aey4Ujzx2qW761pc9VXzwh79W1xsH9QLrg8bl8cqEdvnpaoPTiWmvvENLu/pyfdDSKD810i6vNn7g8gt5/9Hj1C575d3q9TUCZ43zw7xjeT6vNrqPjJeHqI7zjrPiNAKPRRqcGBlvJHxzohNCVKcPO7a9/zS6jQ3QuDqsLBJv2Gv8aJE4c3h1bn2HK87nNY6QnUkeU15VnNJhZrwZ+1hfLg+mstYN2ydVX05xDufV3vLwbOow5XW4vrd99juKD33xJXXD++65o/jDd52v6tdv3Kz+Regy78vumK9JHRAgQIAAAQIECBBYmYDEfAtlnphPd4A+VT7OJr3OnjldJobSp7DhKz5XxZmo12V5EJ+3oqw/yMUHutEyglVlHamsjTact94IOLUSo0WjqE8sywvVumJ2ExtGg4jcUs8uTT6cZ4DJLoNEeDMdM7n14PN7xR4TWmb46LuGMhL7ETrq08rxn6PoXZZHWV9AZuEWPYzho1/U5y9ntGwkZsoJt9ZnOMTklihnzK6Vf6FhYoDoVK+vPFHtT9kg3ogmlWPvMxFsfINjuPSemRI+6fWc8jE26S8yUxJ91Yn5FD/966X0+tgjXy/e+NH/VR3HL4+8/svll8Beiep4WXskh/JyWkDrq15Z69X6ZBWvrE1sPvFCHaI6WGheza6N2kJxpgIMwh41Xr78+PlrTHi0kncYvVbW68vlQfz8tjQbnkodWl5LxWnxquOUY2xtfdm8xuYTa88vxLm2MrXLXnm3en3ZeFnT5mHeMbsydnpkvKzp4HCkQ15tTCO/MBYkOzEyXt5tofVFyMN4eZy4VJUTLzRa1T/Yc72fjHRtVJ8tPvv/7izue/CvN87+xpu+rXjDfS+ozsUXdEvMN4hUCBAgQIAAAQIECGxNQGK+hT4S86lMifln0uNsyqRTer7xICkUnwijjCCj9Ti/fJl/rIvojbJsEPmJKOuEU6NhOYeoT51OjBiNor5IGX3HB1wkStU7OsT0o75IGdNZqoyBonPUB2UkwOODddSbZVxt3vE+rlOO0Qw/Xz2mtoZyfDpxx3v8OEV9WMaV1rKReCgFGvUJ6491tYLFxfnK8fW0zrKxDRG5ffiIeNiqWk+0jPXNKsu+VZjDdjHgHOXI6I15Z7NonI+wcT3qS5WHE7hxeBdmupv9TPkvi1JiPpLyyySA2uYS78sn03Pmy6R/et377v9W/Jc/GfzFaaq//JuvFv/57/9p+Rz6VGt7hVgqW1715fqgpVF+aqRdXm0A5xfy/qPHqV32yrtV8fITWbuxw5F2I9Vh83Rh2mukY149yvpWEqecQNv7R2M5+UCNCyOVw3ZzxRvpmlfj938eJ79eH885rzxOwzsCzRkn3gHyeBGiUaZ4U15rWd/IPrYOP2Od9eUZ8w+HqmwZKI9T/4GqpV19asJ4S8Vp2eA6TjlgdXnCeIfzKf/BUvF9/+b7is997Tn1DL/nJWeKR3/5r1T19N1J18rvAYn35rrRnAfumJ8TSjMCBAgQIECAAAECCwhIzLdgpQRQesUXwKZHNDx9+Wp17szplHQaJIXSibbPTdXnufJafI6Kz3dR1gny+Bw2WlYjxS8xwmg9zs9TRt8YKOrj5TzRIkpVZh0WXl8EGp/GlDPZgDMhY4BhOUiYt+xbOWK0isGregwXJ6M+rYy2owHj/ArL4V8AxPyHCfLRL1WNerQcljGhcsJ54ibmP6uM7isop7FOmkYMO7g+I0IjsVT2aK2XEfMwzQGiNlcZYaJx1KeV0TbWG/W5yggcjev1lSeqgGWD+I06qax/J4zOYLQ+YEqGcbf87WdPlV+SPUicR/J8lYn5tKwULyXn0+t3P/eN4u/++v+ojuOXnzh/qfj4jx5+EWx45GU0rMp0YdrrsGPlWLab2HziAM3geZxxzsMBWi8048QPaB5vpMWgOnHCh5fL6/XPQXlqYvNVrS8mOSNefbk8mMpRN4zAzbK+nOKUgZLX1NeM65X3vHFaJl7Pp5xEdXnGeLHPkzamjlcezL2+GfOqfOrAU7XGfmDybvX6WsYbi5p3zC7mp+t42fWxw7xDeTGvNqaRXxgLkp1I7bJX3q2eTyNw1rjt8DDeWJxom1+Ic23lYbv89385jdf9u+8pfvt/fnOjw7/66b9c/NjL76zOpaR8/Pl2mfdlifkGrQoBAgQIECBAgACBlQhIzE9gjLszIzn/zJX0JbA3qzs10yNtmp/4IsgiH9CiT7OMj2VxNup1WR5Un7/LBvG5MD6PR1knMmI6o2UEby1jpLgY9UXK6BsDR72pFlenlosMG4FiuNF6nF+ojAlEp6gPymFifFpCPNbdvGO+ihjh2sNHx+ll9F1BOXs6sc7Dn78y8xEJ/yjjSmvZSCSUG9SolwuICeRlrGsF+5mHjXCzyhh+rjJP3MVvyFll/IaNdnMNNGi09vWMziUGjPNl/Xr5F5fp/fLEifJu+fIvLlNCftWPsamHK8dJY508caIcI+1cUfzDj/3v4p9/+qvRpCpTcv5fPvCV8s75NOHsFfOvy5HrWdPBYd1w7Ep1or5cHsy1fyPj1f3LaNUPYn6ifcjB2Qnt8tNHiTcWJ+aSLkx75R3Ldnk1fqNV3fMLs+Jl18e6jZ3IGueHh+2q35/l+Ynd0oVpr5GOebWxvogxZ7x8XtG1UeYDNS40K3mcifNpvdCME0BzxRvp2qgezjuP07gelVWtb8549XDlwVSOumEEbpb15RSnDJTWOfU143rldBhngXndeva24u99+ruL3368mZT/Bz/4TcU/e8NfrGaUvv/j2vXr5TTL/6dOc13iJTG/BJouBAgQIECAAAECBGYISMxPAIrEfCojOf/05SvVlxseLx/XcOrkyeEHuvgAVZX1J7UycuPCAvUJk5rj9MzRywbV58eYzcwO0TAr55jHsEkMEGeiPl8Zd7gPeg8S27NUY6Slt6MRICqrKSORH9GivkgZfaufr0h4xMn5WKckpiLQcuXiw0ePGC/qE8pG4qLc4Vh/1Xy0XsZM54/willEiKhPK6Nt/JxGfa6yXl/ZOn6AI+EzqYz3mbheDzQ+g5h3NIn6ImX0TWV61FdK+KQk+e1n03dwNJPyyyaA8jHy43hfTuOl5Hy8Rr8INp1Pj7X5tb/91eJvvrjlmfO1c7nycaYIW5a5THY6DuvLKU4ZKMWd+ppxfS3zKic0cdh0YQpAfbk8WPX6Zjq1zKueT0w7PzEt4IR2+elquHRi2ivvkLUbOz12ImucH46Ml3er59PikIeojvOO2cX8dB0vuz52mHcoL+bVxjTyC2NBshMj7fLq0vFWOK/q99tIvGz2U37jHLbKFzQrTmPBjVHqylzzacb57FfuLH72P54vH19zrg6TDvIvfE31lJRP79US80nDiwABAgQIECBAgEB3BCTmJ+1F+QEpfeTKE/PpOcrpzvn02Skl50+fKpPzI6/8Y1p8fGqUZYMqv1H2q85nHeq8R6NDNMzKkTGb1SxgnXCZFXD0ejNiXpsnerQfXd/c04kAS5Uxw+gc9fayPSEe+Yj2vwiIyFXZHjYCtJcRINijvoJy9nQm3+Heesd7lSiIiZZlW+Iguzw5kbOCxZUhZq9vOE5Ma3im7WgkYqx3kTLCzjdgtK7KkdEXWl8j0LyVmQOWDeKNaFJ5+Bv5xs1b1V9apmbpTvn0nthIzKc5pYurfJX7kpaQ3pePl8+xT2Om15e/cb34kX/yWON589WF8pe3/tUni5/5a08WL33+tTiVlSla9hrzyU9k7cYOR9rl1cbPRbow7ZV3LNvl1bE4jRMTguYBVhCv+n0xEqcx8sh4jWt55bDdXPHyfqPHi8SZw2uu+cwRJzZuVfGqOOW4qZz6mnE9jzN1GYeu1TpaBqwvlwcri9OB9dXrKtdcrSs/0eJQn5rQLj9dx6s7tRzkHaZdfrb40pN3FB/4wrcWH/rSS8YapufK//4/vqd48Z2Dv7xMf3a9Uf4lapWUT62XfF92x/wYtRMECBAgQIAAAQIEjiwgMT+FMO7OzJPz6bENV69erz4fpyTUyZMnimOHX0TY/CAXgfMPWvEJdlYZfaNd1GeXM0eLBmWo+nNiDDNvOXsaWYtswOps1OcrB4nzyE+1J8ob046wMYOoL1JG3zWUw78IiHzGeKI8EuRRRsthPSZWrrwt8dMAKduO1rPuk/Iu0WTRchHmwbSiR4wU9cMyEkmNRFese1JZxsrDROglyjzMKOOk+hLDDLvEeuuBy4NJCfI4Hxtc1yNczDDqTZa4OquM3tEuvR/eLJPyqUxDnjp1ojiRPVc+7shc9d3yMY/8fTl//03J+Z/4p48Xjzx2KZo2yh/+S5eLH/m2y8XfuOuZ4jued714weny0WTVo25iZY3mI5XDDan2p7xU789Is1m/oer9Tft6GGc0RKOeBprymjvexAk3g+fra145rM2IU18uD8Z+HtsCpg5TXqtaXz6vKcMNL9UdhqfSUX662r8Z8290yEK1xpnnB2JkvCPFaRmvNV4277HDvEObT3QYaRenx8qRdnm1Md38wliQ7ERql73Guo2dyBrnh4ft8t8fjflE25Hx4nRdjoyXVxvx8gvl9x2Vj6r5+tUTxX+/eLb4T195bvH7f/KC4t9++QV11Pwg3Sn/2//o7jopfzN94eu14SNsjvK+LDGfSzsmQIAAAQIECBAgsBoBifkZjnkSKB5pk+4+ulp+0En/LDi9TpRfRDhITKXE8TDfEp+zGmXZIPIVUdYJmkbDLFAaJL3i+qA24deZM8gCRcDRchg6osWZqE8s48LcHVqmE31XUsaEBmUkxiPDEvXpZbQelI1pNcM3G46yRr0RYLWV2dMZ/4uA4Q9WTDArIzEWP9ltiYmsedUslhRVQMDOAAAiFElEQVTno75EGeuJrlGfVkbb+cqRSLHeRcr5BqpaxWjRJeqLlNF3qXLmQGWDeGOK8vCNJ3VNCfn0Pphe6XEyp8q/mBy7U77sd5TkTxV8xi/xvpyapS+CTX9JGq+2Z87HNSUBAgT2VSB/pnxaY3qvTl/4ml7xF6ZVZclfJOaXhNONAAECBAgQIECAwBQBifkpOOlSSgBFmT7kpHok6K9du1F+8eHN6nr65dixg+q/6nEOVXIqJYsG/etGMw5S68hnzlVmHUbyaJMDzZjD9MvZgIvNtFrZIAE+X/66Wn8MF5OK+rQy2gZg1FdSxsCDYNMT+nGHf7McTqNlghF+kXIY8MhHiww7OvtBfUaEuRLe5TLyMLGq0QHj/AJlHjbCjZYRLs5Hfa4y1heNo75IGX3r31/1ibGDedYT64hyLMiUE5EAT38JGe+FqfmJ8hEyJ08OEuLp/S4lfaJM1zeRmE/jxPzyO+fT+d/93DeKX/zXX259tE267kWAAIF9EUiPrvnFv/Pi4sdefme9pNE75dOFo74vS8zXvA4IECBAgAABAgQIrExAYn4OykhIpTJPzqd6uoM0Pd7mxo3BXaRzhNOEAAECOylw/PhB9a+D0l9C5sn4TSblA270fTndOX+8fKRO/vrYI18v/sVnvjbx8TZ5W8cECBDYJYH02JqfeuULizfc13yszY3yz6TpTvlVvy9LzO/ST4e5EiBAgAABAgQI7IqAxPycO5UngfIE/fC4qL5c61Z61EOZsE/ny/95ESBAYCcF0r/AqZLv6W74MhGfvmw1nYtkT56Yjzsxo9zUgkfflw/KCaZHi6U55q8vPXGlePi/Xiz+wx8/XXzhT58p/s+fXSsuPnOzfK/OWzkmQIBA9wTKp4YV584cK771+SeL7/oLZ4rv//bbi/u/+1zx0rtONyabbhy5Xibk059B03txvB9H2Wi8REVifgk0XQgQIECAAAECBAjMENj7xPwffPozY0maGSYTL48mgQbJ90jCD8tBAIn5iZAuECDQeYGUhB88D2uQoI9ET1tZtRx02Pi62t6X0x39x48drx4ttvEJGZAAAQIbFEj/cvPGzRvVv+DM35/TFFaVlE9J/x/6wVeudVWf+fd/uFj8dANM2SMeL/nkxaer/i/+lhcuFkdrAgQIECBAgAABAlsU2PvE/O89+Mni3LlzKyPOk0Ap6GhyPs7FgNE+6koCBAh0XSBP5sRxnvDJz6W1RH1b64r32bxMx+nvCtLd88cOjpXl4A7Sbc91W0bGJUBg9wXS+1r6L33vx81b5b/6qb77aPiXp2mF8R4X5SpWffHixeJHH3jNKkJNjCExP5HGBQIECBAgQIAAgT0W2PvE/Ic/8tHi/PnzK9/CPAGUgg/qw7vk4/rKBxaQAAECGxKIxE7cPT+sV7fT1wmgDU1n5jDxvtssvS/PhNOAAIGdERi+D6cpjz+yJq6vckEXLlwo3vLmN60y5FgsifkxEicIECBAgAABAgR6ILD3ifm3v/3nitc88MB6tvLwn9FG8EgGpXp+HNeVBAgQ2CWBPMHTOE6L2NKja2b6eV+eSaQBAQK7K9B4L87ehwdPHxv8pemqV/fJBx8s3v/+X1112EY8ifkGhwoBAgQIECBAgEBPBPY+MX///fcX73r3L6x9OyXi105sAAIEtiyQJ4S2PJW5hve+PBeTRgQI7LDAJt6X3/PLv1Q8/PDDa1WSmF8rr+AECBAgQIAAAQIdFdj7xPzZs2eLTz70qZV9AexS+1jewelFgACBnRDI7sDcifkuO0nvy8vK6UeAwKYFtvi+nJ5j/5pXv6q4fPnyWlctMb9WXsEJECBAgAABAgQ6KrD3ifnkvtbH2XR0Y02LAAECBAgQIECAwFEENvEYmzQ/ifmj7JK+BAgQIECAAAECuyrQi8T83XffXfzGx35zV/fIvAkQIECAAAECBAhsXOCNb/jJ4vHHH1/7uBLzayc2AAECBAgQIECAQAcFepGYT+5vfdvbite97vUd3AJTIkCAAAECBAgQINAtgY9//LeKD33wgxuZlMT8RpgNQoAAAQIECBAg0DGB3iTmk/uHP/LR4vz58x3bAtMhQIAAAQIECBAg0B2BCxcuFG9585s2NiGJ+Y1RG4gAAQIECBAgQKBDAr1KzKdH2vzaB369OHfuXIe2wFQIECBAgAABAgQIdEPg4sWLxc/+zE9v5BE2sWKJ+ZBQEiBAgAABAgQI9EmgV4n5tLH33ntv8Z73vk9yvk8/5dZKgAABAgQIECAwUyAl5d/1zncUjz766My2q2wgMb9KTbEIECBAgAABAgR2RaB3ifm0MenO+Z9/xzs91mZXfkrNkwABAgQIECBAYK0C6fE1v/K+9270TvlYkMR8SCgJECBAgAABAgT6JNDLxHxssC+EDQklAQIECBAgQIBAXwU2+UWvbcYS820qzhEgQIAAAQIECOy7QK8T82lz093zr33tjxevevWri4ODg33fb+sjQIAAAQIECBAgUNy6dav41EMPFZ/4xO9s5S75fAsk5nMNxwQIECBAgAABAn0R6H1iPjb67NmzxX333Ve87GXfW3z7PfcUd911V3HHHXdI1geQkgABAgQIECBAYCcFUhL+0qVLxRNPPFH88WOPFZ///B8VjzzySHH58uVOrEdivhPbYBIECBAgQIAAAQIbFpCY3zC44QgQIECAAAECBAgQGApIzA8tHBEgQIAAAQIECPRHQGK+P3ttpQQIECBAgAABAgQ6JyAx37ktMSECBAgQIECAAIENCEjMbwDZEAQIECBAgAABAgQItAtIzLe7OEuAAAECBAgQILDfAhLz+72/VkeAAAECBAgQIECg0wIS853eHpMjQIAAAQIECBBYk4DE/JpghSVAgAABAgQIECBAYLaAxPxsIy0IECBAgAABAgT2T0Bifv/21IoIECBAgAABAgQI7IyAxPzObJWJEiBAgAABAgQIrFBAYn6FmEIRIECAAAECBAgQILCYgMT8Yl5aEyBAgAABAgQI7IeAxPx+7KNVECBAgAABAgQIENhJAYn5ndw2kyZAgAABAgQIEDiigMT8EQF1J0CAAAECBAgQIEBgeQGJ+eXt9CRAgAABAgQIENhdAYn53d07MydAgAABAgQIECCw8wIS8zu/hRZAgAABAgQIECCwhIDE/BJouhAgQIAAAQIECBAgsBoBifnVOIpCgAABAgQIECCwWwIS87u1X2ZLgAABAgQIECBAYK8EJOb3ajsthgABAgQIECBAYE4Bifk5oTQjQIAAAQIECBAgQGD1AhLzqzcVkQABAgQIECBAoPsCEvPd3yMzJECAAAECBAgQILC3AhLze7u1FkaAAAECBAgQIDBFQGJ+Co5LBAgQIECAAAECBAisV0Bifr2+ohMgQIAAAQIECHRTQGK+m/tiVgQIECBAgAABAgR6ISAx34tttkgCBAgQIECAAIERAYn5ERBVAgQIECBAgAABAgQ2JyAxvzlrIxEgQIAAAQIECHRHQGK+O3thJgQIECBAgAABAgR6JyAx37stt2ACBAgQIECAAIFSQGLejwEBAgQIECBAgAABAlsTkJjfGr2BCRAgQIAAAQIEtiggMb9FfEMTIECAAAECBAgQ6LuAxHzffwKsnwABAgQIECDQTwGJ+X7uu1UTIECAAAECBAgQ6ISAxHwntsEkCBAgQIAAAQIENiwgMb9hcMMRIECAAAECBAgQIDAUkJgfWjgiQIAAAQIECBDoj4DEfH/22koJECBAgAABAgQIdE5AYr5zW2JCBAgQIECAAAECGxCQmN8AsiEIECBAgAABAgQIEGgXkJhvd3GWAAECBAgQIEBgvwUk5vd7f62OAAECBAgQIECAQKcFJOY7vT0mR4AAAQIECBAgsCYBifk1wQpLgAABAgQIECBAgMBsAYn52UZaECBAgAABAgQI7J+AxPz+7akVESBAgAABAgQIENgZAYn5ndkqEyVAgAABAgQIEFihgMT8CjGFIkCAAAECBAgQIEBgMQGJ+cW8tCZAgAABAgQIENgPAYn5/dhHqyBAgAABAgQIECCwkwIS8zu5bSZNgAABAgQIECBwRAGJ+SMC6k6AAAECBAgQIECAwPICEvPL2+lJgAABAgQIECCwuwIS87u7d2ZOgAABAgQIECBAYOcFJOZ3fgstgAABAgQIECBAYAkBifkl0HQhQIAAAQIECBAgQGA1AhLzq3EUhQABAgQIECBAYLcEJOZ3a7/MlgABAgQIECBAgMBeCUjM79V2WgwBAgQIECBAgMCcAhLzc0JpRoAAAQIECBAgQIDA6gUk5ldvKiIBAgQIECBAgED3BSTmu79HZkiAAAECBAgQIEBgbwUk5vd2ay2MAAECBAgQIEBgioDE/BQclwgQIECAAAECBAgQWK+AxPx6fUUnQIAAAQIECBDopoDEfDf3xawIECBAgAABAgQI9EJAYr4X22yRBAgQIECAAAECIwIS8yMgqgQIECBAgAABAgQIbE5AYn5z1kYiQIAAAQIECBDojoDEfHf2wkwIECBAgAABAgQI9E5AYr53W27BBAgQIECAAAECpYDEvB8DAgQIECBAgAABAgS2JiAxvzV6AxMgQIAAAQIECGxRQGJ+i/iGJkCAAAECBAgQINB3AYn5vv8EWD8BAgQIECBAoJ8CEvP93HerJkCAAAECBAgQINAJAYn5TmyDSRAgQIAAAQIECGxYQGJ+w+CGI0CAAAECBAgQIEBgKCAxP7RwRIAAAQIECBAg0B8Bifn+7LWVEiBAgAABAgQIEOicgMR857bEhAgQIECAAAECBDYgIDG/AWRDECBAgAABAgQIECDQLiAx3+7iLAECBAgQIECAwH4LSMzv9/5aHQECBAgQIECAAIFOC0jMd3p7TI4AAQIECBAgQGBNAhLza4IVlgABAgQIECBAgACB2QIS87ONtCBAgAABAgQIENg/AYn5/dtTKyJAgAABAgQIECCwMwIS8zuzVSZKgAABAgQIECCwQgGJ+RViCkWAAAECBAgQIECAwGICEvOLeWlNgAABAgQIECCwHwIS8/uxj1ZBgAABAgQIECBAYCcFJOZ3cttMmgABAgQIECBA4IgCEvNHBNSdAAECBAgQIECAAIHlBSTml7fTkwABAgQIECBAYHcFJOZ3d+/MnAABAgQIECBAgMDOC0jM7/wWWgABAgQIECBAgMASAhLzS6DpQoAAAQIECBAgQIDAagQk5lfjKAoBAgQIECBAgMBuCUjM79Z+mS0BAgQIECBAgACBvRKQmN+r7bQYAgQIECBAgACBOQUk5ueE0owAAQIECBAgQIAAgdULSMyv3lREAgQIECBAgACB7gtIzHd/j8yQAAECBAgQIECAwN4KSMzv7dZaGAECBAgQIECAwBQBifkpOC4RIECAAAECBAgQILBeAYn59fqKToAAAQIECBAg0E0Biflu7otZESBAgAABAgQIEOiFgMR8L7bZIgkQIECAAAECBEYEJOZHQFQJECBAgAABAgQIENicgMT85qyNRIAAAQIECBAg0B0Bifnu7IWZECBAgAABAgQIEOidgMR877bcggkQIECAAAECBEoBiXk/BgQIECBAgAABAgQIbE1AYn5r9AYmQIAAAQIECBDYooDE/BbxDU2AAAECBAgQIECg7wIS833/CbB+AgQIECBAgEA/BSTm+7nvVk2AAAECBAgQIECgEwIS853YBpMgQIAAAQIECBDYsIDE/IbBDUeAAAECBAgQIECAwFBAYn5o4YgAAQIECBAgQKA/AhLz/dlrKyVAgAABAgQIECDQOQGJ+c5tiQkRIECAAAECBAhsQEBifgPIhiBAgAABAgQIECBAoF1AYr7dxVkCBAgQIECAAIH9FpCY3+/9tToCBAgQIECAAAECnRaQmO/09pgcAQIECBAgQIDAmgQk5tcEKywBAgQIECBAgAABArMFJOZnG2lBgAABAgQIECCwfwIS8/u3p1ZEgAABAgQIECBAYGcEJOZ3ZqtMlAABAgQIECBAYIUCEvMrxBSKAAECBAgQIECAAIHFBCTmF/PSmgABAgQIECBAYD8EJOb3Yx+tggABAgQIECBAgMBOCkjM7+S2mTQBAgQIECBAgMARBSTmjwioOwECBAgQIECAAAECywtIzC9vpycBAgQIECBAgMDuCkjM7+7emTkBAgQIECBAgACBnReQmN/5LbQAAgQIECBAgACBJQQk5pdA04UAAQIECBAgQIAAgdUISMyvxlEUAgQIECBAgACB3RKQmN+t/TJbAgQIECBAgAABAnslIDG/V9tpMQQIECBAgAABAnMKSMzPCaUZAQIECBAgQIAAAQKrF5CYX72piAQIECBAgAABAt0XkJjv/h6ZIQECBAgQIECAAIG9FZCY39uttTACBAgQIECAAIEpAhLzU3BcIkCAAAECBAgQIEBgvQIS8+v1FZ0AAQIECBAgQKCbAhLz3dwXsyJAgAABAgQIECDQCwGJ+V5ss0USIECAAAECBAiMCEjMj4CoEiBAgAABAgQIECCwOQGJ+c1ZG4kAAQIECBAgQKA7AhLz3dkLMyFAgAABAgQIECDQO4GjJuYvPnW5ePbZZ4tvedHzi4ODg975WTABAgQIECBAgMDuCdy6dav4v1/5s+K2224rzj3nbPXn2PRn2dvSUspzi7xe+bd+YJHmM9ve9opXvOLZma00IECAAAECBAgQIEBgpwUWTsyXq02J+PRhJv136dIzxc2yfOHzn1ucPHlipy1MngABAgQIECBAoB8C165dL772Z08Wx8pk/B13nBkm5hdMyictifl+/MxYJQECBAgQIECAAIGVChw1MX/5mavF9es3yjuNbi/uuP3MSucmGAECBAgQIECAAIF1CFx6+pni4lNPFydOHC/OnjklMb8OZDEJECBAgAABAgQIEJgssGxiPu6av3L1WnHlyrXiVHm3/AvKu+a9CBAgQIAAAQIECHRd4Ovl3fJXy7vmT58+WZw+dbJKzKfH2qT/Fn25Y35RMe0JECBAgAABAgQIECiOmpi/efNm8VT5OJv0etELn1ccP36MKgECBAgQIECAAIHOCty4cbP4ytf+vJrfc8rH2Bw7dkxivrO7ZWIECBAgQIAAAQIE9lTgKIn5dNd8Ssw/kx5nU37Auf3s6eK55+7YUynLIkCAAAECBAgQ2AeBJy9eKp6+fKU4Ud5QcqZ8jE1KzMfd8u6Y34cdtgYCBAgQIECAAAECOyCwbGI+LS2+APbGjRvlh5ur1Wp9CewObLopEiBAgAABAgR6KhBf+pqWf/vZU+W/9jxeP18+nZOYTwpeBAgQIECAAAECBAisXWCZxHyaVLpbPp4znxL0z1xJXwJ7s/oCrW96wZ1rn7cBCBAgQIAAAQIECCwq8NWvf6P8M+uN8s+s5d3yp5tf+rpMUj6N7xnzi+6C9gQIECBAgAABAgQILPWM+cQWifk8OZ/+SfCtW89WH3Ked+dz6BIgQIAAAQIECBDojMCff+Op6maSg4PbqkcwHhwcNJ4tLzHfma0yEQIECBAgQIAAAQL7L7DsHfNlZr54tuTJE/Ppi7TSnfPlJcn5/f/RsUICBAgQIECAwM4IRFL+ttsGf049Xj5fvpGYTytJF5d4uWN+CTRdCBAgQIAAAQIECPRdYOnEfAnXdtf89fJ581evXq+S8ydOHC+e+5zbi5MnT/Sd2foJECBAgAABAgS2IJCeKf/kU09Xj69JefdTp06UX/o6fK58uks+/lt2ehLzy8rpR4AAAQIECBAgQKDHAkdJzCe2tuR8unP+avkhKD3WJr1uP3u6/O9M+eVax6q6XwgQIECAAAECBAisUyD9efTpy8+U/12phkmPrzlV3iwydqf8YWL+KHORmD+Knr4ECBAgQIAAAQIEeiqwisR8ootH2kSZvhD22rUbxfXyQ1G80oehU6dOFifLO+njQ1FcUxIgQIAAAQIECBBYViD92TMl46+VX+x69eq16iaRiHWivDnk5MnmXfLpMTbxTPkoo/2ipcT8omLaEyBAgAABAgQIECCw9Je/5nQpGZ9ekZTPy5s3b5XJ+RvlB6VbeRfHBAgQIECAAAECBNYqcPz4QfXYmmPHBkn4SMZHmQY/alI+xZCYTwpeBAgQIECAAAECBAgsJHDUO+ZjsDw5nyfmh8dFcePmzeJWmai/lb44tvoveisJECBAgAABAgQILC+Qnh+fkuwH6b8yEX/82LGyXlRf8JrOV9cO75KPZHyUy4866Ckxf1RB/QkQIECAAAECBAj0UGBViflEN5qcHyTfIwk/LAfMqd5DcEsmQIAAAQIECBBYuUBKwpep+SpuJOInlVXLQYeq/VF/kZg/qqD+BAgQIECAAAECBHoosMrEfOLLk/NRzxP0cS6V6RXtBzW/EiBAgAABAgQIEFhMIL/zPY5Hk/IpYn5tsRGmt5aYn+7jKgECBAgQIECAAAECLQKrTszHEJFwb5bDu+TjfLRXEiBAgAABAgQIEDiKwDDxnqIMHl9THR3eHR/XjzJGW1+J+TYV5wgQIECAAAECBAgQmCqwrsR8NWh6jnw2ep6Mz4+zJg4JECBAgAABAgQILCWQJ94bxynaCh9dMzo5iflREXUCBAgQIECAAAECBGYKrDUxn40uEZ9hOCRAgAABAgQIEFi7QJ6cX+dgEvPr1BWbAAECBAgQIECAwJ4KbCoxP5XPt8BO5XGRAAECBAgQIEBggsAa74SfMOLYaYn5MRInCBAgQIAAAQIECBCYJdCJxPysSbpOgAABAgQIECBAoKMCEvMd3RjTIkCAAAECBAgQINBlAYn5Lu+OuREgQIAAAQIECHRdQGK+6ztkfgQIECBAgAABAgQ6KCAx38FNMSUCBAgQIECAAIGdEZCY35mtMlECBAgQIECAAAEC3RGQmO/OXpgJAQIECBAgQIDA7glIzO/enpkxAQIECBAgQIAAga0LSMxvfQtMgAABAgQIECBAYIcFJOZ3ePNMnQABAgQIECBAgMC2BCTmtyVvXAIECBAgQIAAgX0QkJjfh120BgIECBAgQIAAAQIbFpCY3zC44QgQIECAAAECBPZKQGJ+r7bTYggQIECAAAECBAhsRkBifjPORiFAgAABAgQIENhPAYn5/dxXqyJAgAABAgQIECCwVgGJ+bXyCk6AAAECBAgQILDnAhLze77BlkeAAAECBAgQIEBgHQIS8+tQFZMAAQIECBAgQKAvAhLzfdlp6yRAgAABAgQIECCwQgGJ+RViCkWAAAECBAgQINA7AYn53m25BRMgQIAAAQIECBA4uoDE/NENRSBAgAABAgQIEOivgMR8f/feygkQIECAAAECBAgsLSAxvzSdjgQIECBAgAABAgQKiXk/BAQIECBAgAABAgQILCwgMb8wmQ4ECBAgQIAAAQIEagGJ+ZrCAQECBAgQIECAAAEC8wpIzM8rpR0BAgQIECBAgACBcQGJ+XETZwgQIECAAAECBAgQmCEgMT8DyGUCBAgQIECAAAECUwQk5qfguESAAAECBAgQIECAQLuAxHy7i7MECBAgQIAAAQIE5hGQmJ9HSRsCBAgQIECAAAECBBoCEvMNDhUCBAgQIECAAAECCwlIzC/EpTEBAgQIECBAgAABAkngDz79meLg4AAGAQIECBAgQIAAAQILCty6dav4oR985YK9pje/7RWveMWz05u4SoAAAQIECBAgQIDArgv83oOfLM6dO7fryzB/AgQIECBAgAABAhsXuHjxYvGjD7xmpeNKzK+UUzACBAgQIECAAAEC3RT48Ec+Wpw/f76bkzMrAgQIECBAgAABAh0WuHDhQvGWN79ppTOUmF8pp2AECBAgQIAAAQIEuinw9rf/XPGaBx7o5uTMigABAgQIECBAgECHBT754IPF+9//qyudocT8SjkFI0CAAAECBAgQINBNgfvvv79417t/oZuTMysCBAgQIECAAAECHRZ4zy//UvHwww+vdIYS8yvlFIwAAQIECBAgQIBANwXOnj1bfPKhT/kC2G5uj1kRIECAAAECBAh0VCB98etrXv2q4vLlyyudocT8SjkFI0CAAAECBAgQINBdAY+z6e7emBkBAgQIECBAgEA3BdbxGJu0Uon5bu63WREgQIAAAQIECBBYucDdd99d/MbHfnPlcQUkQIAAAQIECBAgsK8Cb3zDTxaPP/74ypcnMb9yUgEJECBAgAABAgQIdFfgrW97W/G6172+uxM0MwIECBAgQIAAAQIdEfj4x3+r+NAHP7iW2UjMr4VVUAIECBAgQIAAAQLdFfjwRz5anD9/vrsTNDMCBAgQIECAAAECWxa4cOFC8ZY3v2lts5CYXxutwAQIECBAgAABAgS6KZAeafNrH/j14ty5c92coFkRIECAAAECBAgQ2KLAxYsXi5/9mZ9eyyNsYlkS8yGhJECAAAECBAgQINAjgXvvvbd4z3vfJznfoz23VAIECBAgQIAAgdkCKSn/rne+o3j00UdnNz5CC4n5I+DpSoAAAQIECBAgQGCXBdKd8z//jnd6rM0ub6K5EyBAgAABAgQIrEwgPb7mV9733rXeKR+TlZgPCSUBAgQIECBAgACBngr4QtiebrxlEyBAgAABAgQI1ALr/KLXepDsQGI+w3BIgAABAgQIECBAoK8C6e751772x4tXvfrVxcHBQV8ZrJsAAQIECBAgQKBHArdu3So+9dBDxSc+8TsbuUs+p5WYzzUcEyBAgAABAgQIEOi5wNmzZ4v77ruveNnLvrf49nvuKe66667ijjvukKzv+c+F5RMgQIAAAQIEdl0gJeEvXbpUPPHEE8UfP/ZY8fnP/1HxyCOPFJcvX97K0iTmt8JuUAIECBAgQIAAAQIECBAgQIAAAQIECBDoq4DEfF933roJECBAgAABAgQIECBAgAABAgQIECBAYCsCEvNbYTcoAQIECBAgQIAAAQIECBAgQIAAAQIECPRVQGK+rztv3QQIECBAgAABAgQIECBAgAABAgQIECCwFQGJ+a2wG5QAAQIECBAgQIAAAQIECBAgQIAAAQIE+iogMd/XnbduAgQIECBAgAABAgQIECBAgAABAgQIENiKgMT8VtgNSoAAAQIECBAgQIAAAQIECBAgQIAAAQJ9FZCY7+vOWzcBAgQIECBAgAABAgQIECBAgAABAgQIbEVAYn4r7AYlQIAAAQIECBAgQIAAAQIECBAgQIAAgb4KSMz3deetmwABAgQIECBAgAABAgQIECBAgAABAgS2IiAxvxV2gxIgQIAAAQIECBAgQIAAAQIECBAgQIBAXwUk5vu689ZNgAABAgQIECBAgAABAgQIECBAgAABAlsRkJjfCrtBCRAgQIAAAQIECBAgQIAAAQIECBAgQKCvAhLzfd156yZAgAABAgQIECBAgAABAgQIECBAgACBrQhIzG+F3aAECBAgQIAAAQIECBAgQIAAAQIECBAg0FcBifm+7rx1EyBAgAABAgQIECBAgAABAgQIECBAgMBWBCTmt8JuUAIECBAgQIAAAQIECBAgQIAAAQIECBDoq4DEfF933roJECBAgAABAgQIECBAgAABAgQIECBAYCsCEvNbYTcoAQIECBAgQIAAAQIECBAgQIAAAQIECPRVQGK+rztv3QQIECBAgAABAgQIECBAgAABAgQIECCwFYH/D9utsGmgiO5mAAAAAElFTkSuQmCC)"
      ],
      "metadata": {
        "id": "PxuiZ-Q-I6b1"
      }
    }
  ]
}